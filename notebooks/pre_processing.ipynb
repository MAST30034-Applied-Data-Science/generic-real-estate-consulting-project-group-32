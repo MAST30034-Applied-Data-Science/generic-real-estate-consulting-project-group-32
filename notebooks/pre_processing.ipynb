{
 "cells": [
  {
   "cell_type": "markdown",
   "id": "8386bc36-3e4d-4368-84ae-553330373525",
   "metadata": {},
   "source": [
    "# Pre-processing"
   ]
  },
  {
   "cell_type": "code",
   "execution_count": null,
   "id": "9dcbd68c-cbd6-4a31-98cb-da48ff800923",
   "metadata": {},
   "outputs": [],
   "source": [
    "from IPython.display import display\n",
    "import pandas as pd\n",
    "import re\n",
    "\n",
    "\n",
    "RAW_DIR = \"../data/raw/scrape_2022-09-02_04-12-25-567025.json\"\n",
    "SAVE_DIR = \"../data/curated/\"\n",
    "\n",
    "PATTERN_PRICE = r\"\\$?\\s*(\\d[\\d\\.,]+)(([\\s\\/]*((per[\\s\\/]week)|(weekly)|(p[\\/.]*w[k\\.]*)|(wk)|(a week)|(w)|(week)|(p\\/week)|(per weekly)|(per wk))\\b)|$)\"\n",
    "PATTERN_BED = r\"(\\d+) beds?\"\n",
    "PATTERN_BATH = r\"(\\d+) baths?\"\n",
    "PATTERN_CAR = r\"(\\d+) parking\"\n",
    "PATTERN_BOND = r\"bond \\$?(\\d+)\"\n",
    "PATTERN_INTERNAL_AREA = r\"internal area ([\\d\\.]+)m\"\n",
    "PATTERN_LAND_AREA = r\"land area ([\\d\\.]+)m\"\n",
    "PATTERN_LAST_SOLD = r\"last sold in (\\d{4})\"\n",
    "PATTERN_OTHER_SOLD = r\"(\\d+) other\"\n",
    "PATTERN_FIRST_LISTED = r\"first listed on (\\d+ \\w+),\"\n",
    "PATTERN_POSTCODE = r\"vic (\\d{4})\"\n",
    "PATTERN_PERCENTAGE = r\"(\\d+\\.?\\d*)\"\n",
    "PATTERN_PERFOMANCE_PRICE = r\"(\\d+\\.?\\d*[mk]?)\"\n",
    "PATTERN_INT = r\"(\\d+)\"\n",
    "PATTERN_RANGE = r\"(\\d+ to \\d+)|(\\d+\\+)\"\n",
    "\n",
    "FUNC_NONE = lambda x: x\n",
    "FUNC_STR_TO_NUM = lambda x: float(x.replace(\",\", \"\"))\n",
    "FUNC_PRICE_CONVERT = lambda x: (float(x[0:-1])*1000000 if x[-1] in \"mM\"\n",
    "                                else float(x[0:-1])*1000 if x[-1] in \"kK\"\n",
    "                                else float(x))\n",
    "FUNC_PERCENTAGE = lambda x:float(x) / 100\n",
    "\n",
    "\n",
    "def pattern_match(df, feature, pattern, function=FUNC_NONE):\n",
    "    instances = df[feature]\n",
    "\n",
    "    values = []\n",
    "    for instance in instances:\n",
    "        instance = str(instance)\n",
    "        match = re.search(pattern, instance, flags=re.IGNORECASE)\n",
    "        if match:\n",
    "            values.append(function(match.group(1)))\n",
    "        else:\n",
    "            values.append(None)\n",
    "    \n",
    "    return values"
   ]
  },
  {
   "cell_type": "code",
   "execution_count": null,
   "id": "07399aba-ae95-42b0-a7c0-029ee0e0c1f9",
   "metadata": {},
   "outputs": [],
   "source": [
    "df_raw = pd.read_json(RAW_DIR)\n",
    "df_cur = pd.DataFrame()"
   ]
  },
  {
   "cell_type": "markdown",
   "id": "8574db6e-d44b-43a7-9e17-533bc23e6fa2",
   "metadata": {},
   "source": [
    "## Clean Scrapped Data\n",
    "- need to also grab suburb\n",
    "- should remove any address with Barooga NSW 3644 (vic postcode nsw town)\n",
    "- should latitude/longitude be float or just str?\n",
    "- probably should rename some features to be more meaningful"
   ]
  },
  {
   "cell_type": "code",
   "execution_count": null,
   "id": "20728045-7afe-44ee-b1b5-1132517d1a7b",
   "metadata": {},
   "outputs": [],
   "source": [
    "df_cur[\"postcode\"] = pattern_match(df_raw, \"address\", PATTERN_POSTCODE)\n",
    "# also need suburb\n",
    "\n",
    "df_cur[\"weekly_rent\"] = pattern_match(df_raw, \"price\", PATTERN_PRICE, FUNC_STR_TO_NUM)\n",
    "df_cur[\"bond\"] = pattern_match(df_raw, \"bond\", PATTERN_BOND, FUNC_STR_TO_NUM)\n",
    "\n",
    "df_cur[\"num_beds\"] = pattern_match(df_raw, \"num_beds\", PATTERN_BED, FUNC_STR_TO_NUM)\n",
    "df_cur[\"num_baths\"] = pattern_match(df_raw, \"num_bath\", PATTERN_BATH, FUNC_STR_TO_NUM)\n",
    "df_cur[\"num_parking\"] = pattern_match(df_raw, \"num_car\", PATTERN_CAR, FUNC_STR_TO_NUM)\n",
    "\n",
    "df_cur[\"internal_area_m^2\"] = pattern_match(df_raw, \"internal_area\", PATTERN_INTERNAL_AREA, FUNC_STR_TO_NUM)\n",
    "df_cur[\"land_area_m^2\"] = pattern_match(df_raw, \"land_area\", PATTERN_LAND_AREA, FUNC_STR_TO_NUM)\n",
    "\n",
    "df_cur[\"last_sold\"] = pattern_match(df_raw, \"domain_says\", PATTERN_LAST_SOLD)\n",
    "df_cur[\"other_sold_n_bed_suburn\"] = pattern_match(df_raw, \"domain_says\", PATTERN_OTHER_SOLD, FUNC_STR_TO_NUM)\n",
    "#df_cur[\"first_listed\"] = pattern_match(df_raw, \"domain_says\", PATTERN_FIRST_LISTED)\n",
    "\n",
    "df_cur[\"neighbourhood_under_20\"] = pattern_match(df_raw, \"neighbourhood_under_20\", PATTERN_PERCENTAGE, FUNC_PERCENTAGE)\n",
    "df_cur[\"neighbourhood_20_to_39\"] = pattern_match(df_raw, \"neighbourhood_20_to_39\", PATTERN_PERCENTAGE, FUNC_PERCENTAGE)\n",
    "df_cur[\"neighbourhood_40_to_59\"] = pattern_match(df_raw, \"neighbourhood_40_to_59\", PATTERN_PERCENTAGE, FUNC_PERCENTAGE)\n",
    "df_cur[\"neighbourhood_above_60\"] = pattern_match(df_raw, \"neighbourhood_above_60\", PATTERN_PERCENTAGE, FUNC_PERCENTAGE)\n",
    "df_cur[\"neighbourhood_long_term_residents\"] = pattern_match(df_raw, \"neighbourhood_long_term_residents\", PATTERN_PERCENTAGE, FUNC_PERCENTAGE)\n",
    "df_cur[\"neighbourhood_owners\"] = pattern_match(df_raw, \"neighbourhood_owners\", PATTERN_PERCENTAGE, FUNC_PERCENTAGE)\n",
    "df_cur[\"neighbourhood_renter\"] = pattern_match(df_raw, \"neighbourhood_renter\", PATTERN_PERCENTAGE, FUNC_PERCENTAGE)\n",
    "df_cur[\"neighbourhood_family\"] = pattern_match(df_raw, \"neighbourhood_family\", PATTERN_PERCENTAGE, FUNC_PERCENTAGE)\n",
    "df_cur[\"neighbourhood_single\"] = pattern_match(df_raw, \"neighbourhood_single\", PATTERN_PERCENTAGE, FUNC_PERCENTAGE)\n",
    "\n",
    "df_cur[\"performance_median_price\"] = pattern_match(df_raw, \"performance_median_price\", PATTERN_PERFOMANCE_PRICE, FUNC_PRICE_CONVERT)\n",
    "df_cur[\"performance_auction_clearance\"] = pattern_match(df_raw, \"performance_auction_clearance\", PATTERN_PERCENTAGE, FUNC_PERCENTAGE)\n",
    "df_cur[\"performance_sold_this_year\"] = pattern_match(df_raw, \"performance_sold_this_year\", PATTERN_INT, FUNC_STR_TO_NUM)\n",
    "df_cur[\"performance_avg_days_on_market\"] = pattern_match(df_raw, \"performance_avg_days_on_market\", PATTERN_INT, FUNC_STR_TO_NUM)\n",
    "\n",
    "df_cur[\"demographic_population\"] = pattern_match(df_raw, \"demographic_population\", PATTERN_INT, FUNC_STR_TO_NUM)\n",
    "df_cur[\"demographic_owner\"] = pattern_match(df_raw, \"demographic_owner\", PATTERN_PERCENTAGE, FUNC_PERCENTAGE)\n",
    "df_cur[\"demographic_renter\"] = pattern_match(df_raw, \"demographic_renter\", PATTERN_PERCENTAGE, FUNC_PERCENTAGE)\n",
    "df_cur[\"demographic_family\"] = pattern_match(df_raw, \"demographic_family\", PATTERN_PERCENTAGE, FUNC_PERCENTAGE)\n",
    "df_cur[\"demographic_single\"] = pattern_match(df_raw, \"demographic_single\", PATTERN_PERCENTAGE, FUNC_PERCENTAGE)\n",
    "df_cur[\"demographic_average_age\"] = pattern_match(df_raw, \"demographic_average_age\", PATTERN_RANGE)\n",
    "\n",
    "df_cur[\"latitude\"] = df_raw[\"latitude\"].astype(float)\n",
    "df_cur[\"longitude\"] = df_raw[\"longitude\"].astype(float)"
   ]
  },
  {
   "cell_type": "markdown",
   "id": "c70c7a1f-6eda-483e-b5f3-c441397df724",
   "metadata": {},
   "source": [
    "## Merging Data Sets\n",
    "Not done yet"
   ]
  },
  {
   "cell_type": "code",
   "execution_count": null,
   "id": "312fa55f-69f0-4857-b04f-2022d9d4a404",
   "metadata": {},
   "outputs": [],
   "source": []
  },
  {
   "cell_type": "markdown",
   "id": "eb16ae85-6c79-417a-86b4-9abec17bc2ee",
   "metadata": {},
   "source": [
    "## Save 'Current' Pre-Processed Data"
   ]
  },
  {
   "cell_type": "code",
   "execution_count": null,
   "id": "7a0a0f25-faa0-43b2-a174-73b74aa05c26",
   "metadata": {},
   "outputs": [],
   "source": [
    "print(f\"There are {df_cur.shape[0]} rows\")\n",
    "#print(df_cur.dtypes)\n",
    "display(df_cur.head(10))\n",
    "df_cur.to_csv(f\"{SAVE_DIR}/pre_processed_data.csv\")"
   ]
  }
 ],
 "metadata": {
  "kernelspec": {
   "display_name": "Python 3 (ipykernel)",
   "language": "python",
   "name": "python3"
  },
  "language_info": {
   "codemirror_mode": {
    "name": "ipython",
    "version": 3
   },
   "file_extension": ".py",
   "mimetype": "text/x-python",
   "name": "python",
   "nbconvert_exporter": "python",
   "pygments_lexer": "ipython3",
   "version": "3.9.0"
  }
 },
 "nbformat": 4,
 "nbformat_minor": 5
}
