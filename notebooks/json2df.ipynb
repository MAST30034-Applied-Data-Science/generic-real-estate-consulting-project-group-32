{
 "cells": [
  {
   "cell_type": "code",
   "execution_count": 2,
   "metadata": {},
   "outputs": [],
   "source": [
    "import json\n",
    "import csv\n",
    "import pandas as pd"
   ]
  },
  {
   "cell_type": "code",
   "execution_count": 14,
   "metadata": {},
   "outputs": [],
   "source": [
    "#Json to df and csv file. \n",
    "data_dir = '../data/raw/'\n",
    "outdt_dir = '../data/curated/'\n",
    "\n",
    "\n",
    "#the input should be a json file in string type\n",
    "#for example \"scrape_2022-08-31_07-50-15-714711.json\"\n",
    "def json2df (jsonfile):\n",
    "    jopen = open(data_dir + jsonfile)\n",
    "    data = json.load(jopen)\n",
    "    jdf = pd.DataFrame.from_records(data)\n",
    "    return jdf\n",
    "\n",
    "week6df = json2df('scrape_2022-08-31_07-50-15-714711.json')\n",
    "w6dt = week6df.to_csv(outdt_dir + 'week6dt.csv')\n",
    "\n",
    " "
   ]
  }
 ],
 "metadata": {
  "kernelspec": {
   "display_name": "Python 3.8.10 64-bit",
   "language": "python",
   "name": "python3"
  },
  "language_info": {
   "codemirror_mode": {
    "name": "ipython",
    "version": 3
   },
   "file_extension": ".py",
   "mimetype": "text/x-python",
   "name": "python",
   "nbconvert_exporter": "python",
   "pygments_lexer": "ipython3",
   "version": "3.8.10"
  },
  "orig_nbformat": 4,
  "vscode": {
   "interpreter": {
    "hash": "916dbcbb3f70747c44a77c7bcd40155683ae19c65e1c03b4aa3499c5328201f1"
   }
  }
 },
 "nbformat": 4,
 "nbformat_minor": 2
}
