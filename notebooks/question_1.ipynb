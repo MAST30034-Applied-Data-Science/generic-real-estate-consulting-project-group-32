{
 "cells": [
  {
   "cell_type": "markdown",
   "id": "8386bc36-3e4d-4368-84ae-553330373525",
   "metadata": {},
   "source": [
    "# Question 1"
   ]
  },
  {
   "cell_type": "code",
   "execution_count": 1,
   "id": "9dcbd68c-cbd6-4a31-98cb-da48ff800923",
   "metadata": {},
   "outputs": [],
   "source": [
    "import pandas as pd\n",
    "import matplotlib.pyplot as plt\n",
    "import numpy as np\n",
    "\n",
    "\n",
    "pd.options.display.max_columns = None\n",
    "pd.set_option('display.max_colwidth', None)\n"
   ]
  },
  {
   "cell_type": "markdown",
   "id": "5fb8c947-ca8a-4c07-95e2-cd05a1fffd94",
   "metadata": {},
   "source": [
    "### Read in data"
   ]
  },
  {
   "cell_type": "code",
   "execution_count": 3,
   "id": "3dc6e845-6b7e-4d17-9ba4-b5f4fb7145c8",
   "metadata": {},
   "outputs": [
    {
     "name": "stdout",
     "output_type": "stream",
     "text": [
      "There are 219 rows\n"
     ]
    },
    {
     "data": {
      "text/html": [
       "<div>\n",
       "<style scoped>\n",
       "    .dataframe tbody tr th:only-of-type {\n",
       "        vertical-align: middle;\n",
       "    }\n",
       "\n",
       "    .dataframe tbody tr th {\n",
       "        vertical-align: top;\n",
       "    }\n",
       "\n",
       "    .dataframe thead th {\n",
       "        text-align: right;\n",
       "    }\n",
       "</style>\n",
       "<table border=\"1\" class=\"dataframe\">\n",
       "  <thead>\n",
       "    <tr style=\"text-align: right;\">\n",
       "      <th></th>\n",
       "      <th>suburb</th>\n",
       "      <th>count</th>\n",
       "      <th>weekly_rent</th>\n",
       "      <th>bond</th>\n",
       "      <th>num_beds</th>\n",
       "      <th>num_baths</th>\n",
       "      <th>num_parking</th>\n",
       "      <th>internal_area</th>\n",
       "      <th>land_area</th>\n",
       "      <th>other_sold_n_bed_suburb</th>\n",
       "      <th>neighbourhood_under_20</th>\n",
       "      <th>neighbourhood_20_to_39</th>\n",
       "      <th>neighbourhood_40_to_59</th>\n",
       "      <th>neighbourhood_above_60</th>\n",
       "      <th>neighbourhood_long_term_residents</th>\n",
       "      <th>neighbourhood_owners</th>\n",
       "      <th>neighbourhood_renter</th>\n",
       "      <th>neighbourhood_family</th>\n",
       "      <th>neighbourhood_single</th>\n",
       "      <th>performance_median_price</th>\n",
       "      <th>performance_auction_clearance</th>\n",
       "      <th>performance_sold_this_year</th>\n",
       "      <th>performance_avg_days_on_market</th>\n",
       "      <th>demographic_population</th>\n",
       "      <th>demographic_owner</th>\n",
       "      <th>demographic_renter</th>\n",
       "      <th>demographic_family</th>\n",
       "      <th>demographic_single</th>\n",
       "      <th>school_distance</th>\n",
       "      <th>park_distance</th>\n",
       "      <th>shop_distance</th>\n",
       "      <th>train_distance</th>\n",
       "      <th>stop_distance</th>\n",
       "      <th>population</th>\n",
       "      <th>median_weekly_income</th>\n",
       "    </tr>\n",
       "  </thead>\n",
       "  <tbody>\n",
       "    <tr>\n",
       "      <th>0</th>\n",
       "      <td>abbotsford</td>\n",
       "      <td>52</td>\n",
       "      <td>548.600000</td>\n",
       "      <td>2387.020000</td>\n",
       "      <td>2.000000</td>\n",
       "      <td>1.365385</td>\n",
       "      <td>1.195122</td>\n",
       "      <td>NaN</td>\n",
       "      <td>NaN</td>\n",
       "      <td>79.120000</td>\n",
       "      <td>0.107692</td>\n",
       "      <td>0.555577</td>\n",
       "      <td>0.230577</td>\n",
       "      <td>0.104231</td>\n",
       "      <td>0.399231</td>\n",
       "      <td>0.347600</td>\n",
       "      <td>0.652400</td>\n",
       "      <td>0.505000</td>\n",
       "      <td>0.495000</td>\n",
       "      <td>7.622340e+05</td>\n",
       "      <td>0.514255</td>\n",
       "      <td>79.916667</td>\n",
       "      <td>72.510638</td>\n",
       "      <td>8443.680000</td>\n",
       "      <td>0.396000</td>\n",
       "      <td>0.604000</td>\n",
       "      <td>0.259200</td>\n",
       "      <td>0.740800</td>\n",
       "      <td>772.030769</td>\n",
       "      <td>434.905882</td>\n",
       "      <td>1081.582609</td>\n",
       "      <td>1406.405769</td>\n",
       "      <td>398.075000</td>\n",
       "      <td>9780.153846</td>\n",
       "      <td>1323.153846</td>\n",
       "    </tr>\n",
       "    <tr>\n",
       "      <th>1</th>\n",
       "      <td>abeckett street</td>\n",
       "      <td>19</td>\n",
       "      <td>501.842105</td>\n",
       "      <td>2470.909091</td>\n",
       "      <td>1.421053</td>\n",
       "      <td>1.105263</td>\n",
       "      <td>1.000000</td>\n",
       "      <td>NaN</td>\n",
       "      <td>NaN</td>\n",
       "      <td>455.736842</td>\n",
       "      <td>0.063158</td>\n",
       "      <td>0.776842</td>\n",
       "      <td>0.131579</td>\n",
       "      <td>0.033684</td>\n",
       "      <td>0.180714</td>\n",
       "      <td>0.260714</td>\n",
       "      <td>0.739286</td>\n",
       "      <td>0.285714</td>\n",
       "      <td>0.714286</td>\n",
       "      <td>4.430714e+05</td>\n",
       "      <td>0.436429</td>\n",
       "      <td>463.357143</td>\n",
       "      <td>127.357143</td>\n",
       "      <td>44828.428571</td>\n",
       "      <td>0.307143</td>\n",
       "      <td>0.692857</td>\n",
       "      <td>0.242143</td>\n",
       "      <td>0.757857</td>\n",
       "      <td>707.547368</td>\n",
       "      <td>493.621053</td>\n",
       "      <td>773.422222</td>\n",
       "      <td>388.752632</td>\n",
       "      <td>321.731579</td>\n",
       "      <td>17545.368421</td>\n",
       "      <td>675.105263</td>\n",
       "    </tr>\n",
       "    <tr>\n",
       "      <th>2</th>\n",
       "      <td>ada</td>\n",
       "      <td>25</td>\n",
       "      <td>455.416667</td>\n",
       "      <td>2034.720000</td>\n",
       "      <td>2.680000</td>\n",
       "      <td>1.800000</td>\n",
       "      <td>1.500000</td>\n",
       "      <td>NaN</td>\n",
       "      <td>NaN</td>\n",
       "      <td>135.750000</td>\n",
       "      <td>0.209565</td>\n",
       "      <td>0.466522</td>\n",
       "      <td>0.210870</td>\n",
       "      <td>0.107826</td>\n",
       "      <td>0.573000</td>\n",
       "      <td>0.550435</td>\n",
       "      <td>0.449565</td>\n",
       "      <td>0.528261</td>\n",
       "      <td>0.471739</td>\n",
       "      <td>7.270476e+05</td>\n",
       "      <td>0.534706</td>\n",
       "      <td>135.750000</td>\n",
       "      <td>71.761905</td>\n",
       "      <td>13646.280000</td>\n",
       "      <td>0.550000</td>\n",
       "      <td>0.450000</td>\n",
       "      <td>0.391200</td>\n",
       "      <td>0.608800</td>\n",
       "      <td>1815.372000</td>\n",
       "      <td>4185.372000</td>\n",
       "      <td>6630.104762</td>\n",
       "      <td>3456.820000</td>\n",
       "      <td>537.276000</td>\n",
       "      <td>12763.040000</td>\n",
       "      <td>781.040000</td>\n",
       "    </tr>\n",
       "    <tr>\n",
       "      <th>3</th>\n",
       "      <td>airport west</td>\n",
       "      <td>17</td>\n",
       "      <td>428.529412</td>\n",
       "      <td>1909.142857</td>\n",
       "      <td>2.529412</td>\n",
       "      <td>1.294118</td>\n",
       "      <td>1.294118</td>\n",
       "      <td>NaN</td>\n",
       "      <td>299.0</td>\n",
       "      <td>48.588235</td>\n",
       "      <td>0.222353</td>\n",
       "      <td>0.261765</td>\n",
       "      <td>0.262941</td>\n",
       "      <td>0.251765</td>\n",
       "      <td>0.621765</td>\n",
       "      <td>0.721765</td>\n",
       "      <td>0.278235</td>\n",
       "      <td>0.545882</td>\n",
       "      <td>0.454118</td>\n",
       "      <td>7.813750e+05</td>\n",
       "      <td>0.704375</td>\n",
       "      <td>48.588235</td>\n",
       "      <td>70.928571</td>\n",
       "      <td>7567.000000</td>\n",
       "      <td>0.730000</td>\n",
       "      <td>0.270000</td>\n",
       "      <td>0.470000</td>\n",
       "      <td>0.530000</td>\n",
       "      <td>1007.452941</td>\n",
       "      <td>504.223529</td>\n",
       "      <td>1178.320000</td>\n",
       "      <td>7175.617647</td>\n",
       "      <td>260.870588</td>\n",
       "      <td>8237.000000</td>\n",
       "      <td>883.000000</td>\n",
       "    </tr>\n",
       "    <tr>\n",
       "      <th>4</th>\n",
       "      <td>albert park</td>\n",
       "      <td>17</td>\n",
       "      <td>900.882353</td>\n",
       "      <td>4799.375000</td>\n",
       "      <td>2.352941</td>\n",
       "      <td>1.529412</td>\n",
       "      <td>1.100000</td>\n",
       "      <td>NaN</td>\n",
       "      <td>179.0</td>\n",
       "      <td>47.470588</td>\n",
       "      <td>0.260000</td>\n",
       "      <td>0.205294</td>\n",
       "      <td>0.304706</td>\n",
       "      <td>0.227059</td>\n",
       "      <td>0.507647</td>\n",
       "      <td>0.618235</td>\n",
       "      <td>0.381765</td>\n",
       "      <td>0.595882</td>\n",
       "      <td>0.404118</td>\n",
       "      <td>1.839176e+06</td>\n",
       "      <td>0.751818</td>\n",
       "      <td>47.470588</td>\n",
       "      <td>36.454545</td>\n",
       "      <td>6210.000000</td>\n",
       "      <td>0.610000</td>\n",
       "      <td>0.390000</td>\n",
       "      <td>0.470000</td>\n",
       "      <td>0.530000</td>\n",
       "      <td>509.900000</td>\n",
       "      <td>364.858824</td>\n",
       "      <td>2331.300000</td>\n",
       "      <td>4022.794118</td>\n",
       "      <td>247.176471</td>\n",
       "      <td>16023.000000</td>\n",
       "      <td>1352.000000</td>\n",
       "    </tr>\n",
       "  </tbody>\n",
       "</table>\n",
       "</div>"
      ],
      "text/plain": [
       "            suburb  count  weekly_rent         bond  num_beds  num_baths  \\\n",
       "0       abbotsford     52   548.600000  2387.020000  2.000000   1.365385   \n",
       "1  abeckett street     19   501.842105  2470.909091  1.421053   1.105263   \n",
       "2              ada     25   455.416667  2034.720000  2.680000   1.800000   \n",
       "3     airport west     17   428.529412  1909.142857  2.529412   1.294118   \n",
       "4      albert park     17   900.882353  4799.375000  2.352941   1.529412   \n",
       "\n",
       "   num_parking  internal_area  land_area  other_sold_n_bed_suburb  \\\n",
       "0     1.195122            NaN        NaN                79.120000   \n",
       "1     1.000000            NaN        NaN               455.736842   \n",
       "2     1.500000            NaN        NaN               135.750000   \n",
       "3     1.294118            NaN      299.0                48.588235   \n",
       "4     1.100000            NaN      179.0                47.470588   \n",
       "\n",
       "   neighbourhood_under_20  neighbourhood_20_to_39  neighbourhood_40_to_59  \\\n",
       "0                0.107692                0.555577                0.230577   \n",
       "1                0.063158                0.776842                0.131579   \n",
       "2                0.209565                0.466522                0.210870   \n",
       "3                0.222353                0.261765                0.262941   \n",
       "4                0.260000                0.205294                0.304706   \n",
       "\n",
       "   neighbourhood_above_60  neighbourhood_long_term_residents  \\\n",
       "0                0.104231                           0.399231   \n",
       "1                0.033684                           0.180714   \n",
       "2                0.107826                           0.573000   \n",
       "3                0.251765                           0.621765   \n",
       "4                0.227059                           0.507647   \n",
       "\n",
       "   neighbourhood_owners  neighbourhood_renter  neighbourhood_family  \\\n",
       "0              0.347600              0.652400              0.505000   \n",
       "1              0.260714              0.739286              0.285714   \n",
       "2              0.550435              0.449565              0.528261   \n",
       "3              0.721765              0.278235              0.545882   \n",
       "4              0.618235              0.381765              0.595882   \n",
       "\n",
       "   neighbourhood_single  performance_median_price  \\\n",
       "0              0.495000              7.622340e+05   \n",
       "1              0.714286              4.430714e+05   \n",
       "2              0.471739              7.270476e+05   \n",
       "3              0.454118              7.813750e+05   \n",
       "4              0.404118              1.839176e+06   \n",
       "\n",
       "   performance_auction_clearance  performance_sold_this_year  \\\n",
       "0                       0.514255                   79.916667   \n",
       "1                       0.436429                  463.357143   \n",
       "2                       0.534706                  135.750000   \n",
       "3                       0.704375                   48.588235   \n",
       "4                       0.751818                   47.470588   \n",
       "\n",
       "   performance_avg_days_on_market  demographic_population  demographic_owner  \\\n",
       "0                       72.510638             8443.680000           0.396000   \n",
       "1                      127.357143            44828.428571           0.307143   \n",
       "2                       71.761905            13646.280000           0.550000   \n",
       "3                       70.928571             7567.000000           0.730000   \n",
       "4                       36.454545             6210.000000           0.610000   \n",
       "\n",
       "   demographic_renter  demographic_family  demographic_single  \\\n",
       "0            0.604000            0.259200            0.740800   \n",
       "1            0.692857            0.242143            0.757857   \n",
       "2            0.450000            0.391200            0.608800   \n",
       "3            0.270000            0.470000            0.530000   \n",
       "4            0.390000            0.470000            0.530000   \n",
       "\n",
       "   school_distance  park_distance  shop_distance  train_distance  \\\n",
       "0       772.030769     434.905882    1081.582609     1406.405769   \n",
       "1       707.547368     493.621053     773.422222      388.752632   \n",
       "2      1815.372000    4185.372000    6630.104762     3456.820000   \n",
       "3      1007.452941     504.223529    1178.320000     7175.617647   \n",
       "4       509.900000     364.858824    2331.300000     4022.794118   \n",
       "\n",
       "   stop_distance    population  median_weekly_income  \n",
       "0     398.075000   9780.153846           1323.153846  \n",
       "1     321.731579  17545.368421            675.105263  \n",
       "2     537.276000  12763.040000            781.040000  \n",
       "3     260.870588   8237.000000            883.000000  \n",
       "4     247.176471  16023.000000           1352.000000  "
      ]
     },
     "metadata": {},
     "output_type": "display_data"
    }
   ],
   "source": [
    "df = pd.read_csv(\"../data/curated/suburb_data.csv\")\n",
    "print(f\"There are {df.shape[0]} rows\")\n",
    "display(df.head(5))\n"
   ]
  },
  {
   "cell_type": "markdown",
   "id": "59a535b6-a80d-4b16-ad08-49df2bdf6734",
   "metadata": {},
   "source": [
    "## Most important data distributions"
   ]
  },
  {
   "cell_type": "code",
   "execution_count": 4,
   "id": "efa25af9-1a0a-4932-8866-27f8c32b5fbb",
   "metadata": {},
   "outputs": [
    {
     "data": {
      "image/png": "[encoded data removed]",
      "text/plain": [
       "<Figure size 432x288 with 1 Axes>"
      ]
     },
     "metadata": {
      "needs_background": "light"
     },
     "output_type": "display_data"
    },
    {
     "data": {
      "image/png": "[encoded data removed]",
      "text/plain": [
       "<Figure size 432x288 with 1 Axes>"
      ]
     },
     "metadata": {
      "needs_background": "light"
     },
     "output_type": "display_data"
    },
    {
     "data": {
      "image/png": "[encoded data removed]",
      "text/plain": [
       "<Figure size 432x288 with 1 Axes>"
      ]
     },
     "metadata": {
      "needs_background": "light"
     },
     "output_type": "display_data"
    },
    {
     "data": {
      "image/png": "[encoded data removed]",
      "text/plain": [
       "<Figure size 432x288 with 1 Axes>"
      ]
     },
     "metadata": {
      "needs_background": "light"
     },
     "output_type": "display_data"
    },
    {
     "data": {
      "image/png": "[encoded data removed]",
      "text/plain": [
       "<Figure size 432x288 with 1 Axes>"
      ]
     },
     "metadata": {
      "needs_background": "light"
     },
     "output_type": "display_data"
    },
    {
     "data": {
      "image/png": "[encoded data removed]",
      "text/plain": [
       "<Figure size 432x288 with 1 Axes>"
      ]
     },
     "metadata": {
      "needs_background": "light"
     },
     "output_type": "display_data"
    }
   ],
   "source": [
    "def distribution(x, bins, x_lab):\n",
    "    plt.hist(x, bins=bins, density=True)\n",
    "    plt.title(f\"{x_lab} Distribution\", size=20)\n",
    "    plt.xlabel(x_lab, size=16)\n",
    "    plt.ylabel(\"Frequency\", size=16)\n",
    "    plt.show()\n",
    "\n",
    "\n",
    "distribution(df[\"weekly_rent\"], 30, \"Weekly Rent (AUS)\", )\n",
    "#distribution(df[\"bond\"], 30, \"Bond (AUS)\")\n",
    "distribution(df[\"school_distance\"], 30, \"School Distance (m)\")\n",
    "distribution(df[\"park_distance\"], 30, \"Park Distance (m)\")\n",
    "distribution(df[\"shop_distance\"], 30, \"Shop Distance (m)\")\n",
    "distribution(df[\"train_distance\"], 30, \"Train Distance (m)\")\n",
    "distribution(df[\"stop_distance\"], 30, \"Stop Distance (m)\")\n"
   ]
  },
  {
   "cell_type": "markdown",
   "id": "a2b9c406-2093-4e0c-b2fb-b767f8f77390",
   "metadata": {},
   "source": [
    "## VS plots"
   ]
  },
  {
   "cell_type": "code",
   "execution_count": 5,
   "id": "95f238d8-e0eb-448b-bab8-a406e2d946ff",
   "metadata": {},
   "outputs": [],
   "source": [
    "def vs(x, y, x_lab, y_lab, x_trans=lambda x: x, y_trans=lambda x: x):\n",
    "    plt.scatter(x_trans(x), y_trans(y))\n",
    "    plt.title(f\"{y_lab} vs {x_lab}\", size=20)\n",
    "    plt.xlabel(x_lab, size=16)\n",
    "    plt.ylabel(y_lab, size=16)\n",
    "    plt.show()\n",
    "\n",
    "#vs(df[\"school_distance\"], df[\"weekly_rent\"], \"School Distance (m)\", \"Weekly Rent (AUS)\")\n",
    "#vs(df[\"park_distance\"],   df[\"weekly_rent\"], \"Park Distance (m)\",   \"Weekly Rent (AUS)\")\n",
    "#vs(df[\"shop_distance\"],   df[\"weekly_rent\"], \"Shop Distance (m)\",   \"Weekly Rent (AUS)\")\n",
    "#vs(df[\"train_distance\"],  df[\"weekly_rent\"], \"Train Distance (m)\",  \"Weekly Rent (AUS)\")\n",
    "#vs(df[\"stop_distance\"],   df[\"weekly_rent\"], \"Stop Distance (m)\",   \"Weekly Rent (AUS)\")\n",
    "\n",
    "#vs(df[\"population\"], df[\"weekly_rent\"], \"Population\", \"Weekly Rent (AUS)\")\n",
    "\n",
    "#vs(df[\"count\"], df[\"weekly_rent\"], \"_\", \"Weekly Rent (AUS)\")\n",
    "\n",
    "#vs(df[\"performance_avg_days_on_market\"], df[\"weekly_rent\"], \"_\", \"Weekly Rent (AUS)\")\n",
    "#vs(df[\"median_weekly_income\"], df[\"weekly_rent\"], \"median weekly income\", \"Weekly Rent (AUS)\")\n",
    "#vs(df[\"performance_median_price\"], df[\"weekly_rent\"], \"Median Price\", \"Weekly Rent (AUS)\")\n"
   ]
  },
  {
   "cell_type": "markdown",
   "id": "3c1a0dc8-8ea7-4e5d-bb01-079821635a79",
   "metadata": {},
   "source": [
    "## Model\n",
    "### Feature Selection"
   ]
  },
  {
   "cell_type": "code",
   "execution_count": 6,
   "id": "b26364a3-136e-4a98-9d4a-1c78dd6aaffc",
   "metadata": {},
   "outputs": [
    {
     "name": "stdout",
     "output_type": "stream",
     "text": [
      "['performance_median_price', 'school_distance', 'median_weekly_income']\n"
     ]
    }
   ],
   "source": [
    "from sklearn.feature_selection import f_regression, SelectKBest\n",
    "\n",
    "df_clean = df.drop([\"suburb\", \"bond\", \"internal_area\", \"land_area\"], axis=1)\n",
    "df_clean = df_clean.dropna().reset_index(drop=True)\n",
    "\n",
    "X = df_clean.drop([\"weekly_rent\"], axis=1)\n",
    "y = df_clean[\"weekly_rent\"]\n",
    "\n",
    "selector = SelectKBest(f_regression, k=3)\n",
    "selector.fit_transform(X, y)\n",
    "features_index = selector.get_support(indices=True)\n",
    "predictors = list(X.iloc[:, features_index].columns)\n",
    "print(predictors)\n"
   ]
  },
  {
   "cell_type": "code",
   "execution_count": 7,
   "id": "84a15ee9-2948-4721-836d-9def59360e99",
   "metadata": {},
   "outputs": [
    {
     "name": "stdout",
     "output_type": "stream",
     "text": [
      "Min R^2:    -0.002\n",
      "Max R^2:    0.761\n",
      "Median R^2: 0.701\n",
      "Mean R^2:   0.540\n"
     ]
    }
   ],
   "source": [
    "from sklearn.linear_model import LinearRegression\n",
    "from sklearn.compose import ColumnTransformer\n",
    "from sklearn.preprocessing import StandardScaler\n",
    "\n",
    "from sklearn.model_selection import cross_validate\n",
    "\n",
    "import statistics as stat\n",
    "\n",
    "response = \"weekly_rent\"\n",
    "scoring = [\"r2\"]\n",
    "\n",
    "FOLDS = 8\n",
    "\n",
    "df_na_out = df.dropna(subset=predictors + [response]).reset_index(drop=True)\n",
    "\n",
    "trans = ColumnTransformer(\n",
    "    transformers=[(\"scale\", StandardScaler(), predictors)])\n",
    "X = trans.fit_transform(df_na_out[predictors])\n",
    "y = df_na_out[\"weekly_rent\"]\n",
    "\n",
    "lr = LinearRegression()\n",
    "scores = cross_validate(lr, X, y, scoring=scoring, cv=FOLDS)\n",
    "\n",
    "print(f\"Min R^2:    {min(scores['test_r2']):.3f}\")\n",
    "print(f\"Max R^2:    {max(scores['test_r2']):.3f}\")\n",
    "print(f\"Median R^2: {stat.median(scores['test_r2']):.3f}\")\n",
    "print(f\"Mean R^2:   {stat.mean(scores['test_r2']):.3f}\")\n"
   ]
  },
  {
   "cell_type": "code",
   "execution_count": 8,
   "id": "8859213a-1e5a-486a-adc6-c0d15d2a7d59",
   "metadata": {},
   "outputs": [
    {
     "name": "stdout",
     "output_type": "stream",
     "text": [
      "Min R^2:    -1.155\n",
      "Max R^2:    0.871\n",
      "Median R^2: 0.677\n",
      "Mean R^2:   0.321\n"
     ]
    }
   ],
   "source": [
    "from sklearn.neural_network import MLPRegressor\n",
    "\n",
    "nn = MLPRegressor(random_state=30027, max_iter=1000000, n_iter_no_change=15)\n",
    "scores = cross_validate(nn, X, y, scoring=scoring, cv=FOLDS)\n",
    "\n",
    "print(f\"Min R^2:    {min(scores['test_r2']):.3f}\")\n",
    "print(f\"Max R^2:    {max(scores['test_r2']):.3f}\")\n",
    "print(f\"Median R^2: {stat.median(scores['test_r2']):.3f}\")\n",
    "print(f\"Mean R^2:   {stat.mean(scores['test_r2']):.3f}\")\n"
   ]
  },
  {
   "cell_type": "code",
   "execution_count": null,
   "id": "d8430895-7ef6-43af-a3bc-3e14177ae61c",
   "metadata": {},
   "outputs": [],
   "source": []
  }
 ],
 "metadata": {
  "kernelspec": {
   "display_name": "Python 3.10.0 ('virtualenv')",
   "language": "python",
   "name": "python3"
  },
  "language_info": {
   "codemirror_mode": {
    "name": "ipython",
    "version": 3
   },
   "file_extension": ".py",
   "mimetype": "text/x-python",
   "name": "python",
   "nbconvert_exporter": "python",
   "pygments_lexer": "ipython3",
   "version": "3.10.0"
  },
  "vscode": {
   "interpreter": {
    "hash": "9d67bc8a98929733bfed30279eba52948d85bd0c999fdfd91dc6ab54ef3e87c5"
   }
  }
 },
 "nbformat": 4,
 "nbformat_minor": 5
}
