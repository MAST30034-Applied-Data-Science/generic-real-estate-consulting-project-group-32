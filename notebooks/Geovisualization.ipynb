{
 "cells": [
  {
   "cell_type": "code",
   "execution_count": 2,
   "id": "ee585ae5-292f-4677-84b2-690281372744",
   "metadata": {},
   "outputs": [],
   "source": [
    "import sys\n",
    "import os\n",
    "repo_path = os.path.abspath('../')\n",
    "sys.path.append(repo_path)\n",
    "import scripts.addSA2 as addSA2\n",
    "import pandas as pd\n",
    "import geoplot as gplt\n",
    "import geopandas as gpd\n",
    "import geoplot.crs as gcrs\n",
    "import imageio"
   ]
  },
  {
   "cell_type": "code",
   "execution_count": 3,
   "id": "7e3d9e4c-34a9-4c2a-9a62-80580304c330",
   "metadata": {},
   "outputs": [
    {
     "data": {
      "text/html": [
       "<div>\n",
       "<style scoped>\n",
       "    .dataframe tbody tr th:only-of-type {\n",
       "        vertical-align: middle;\n",
       "    }\n",
       "\n",
       "    .dataframe tbody tr th {\n",
       "        vertical-align: top;\n",
       "    }\n",
       "\n",
       "    .dataframe thead th {\n",
       "        text-align: right;\n",
       "    }\n",
       "</style>\n",
       "<table border=\"1\" class=\"dataframe\">\n",
       "  <thead>\n",
       "    <tr style=\"text-align: right;\">\n",
       "      <th></th>\n",
       "      <th>postcode</th>\n",
       "      <th>values</th>\n",
       "      <th>latitude</th>\n",
       "      <th>longitude</th>\n",
       "    </tr>\n",
       "  </thead>\n",
       "  <tbody>\n",
       "    <tr>\n",
       "      <th>0</th>\n",
       "      <td>3031</td>\n",
       "      <td>1</td>\n",
       "      <td>-37.791190</td>\n",
       "      <td>144.923403</td>\n",
       "    </tr>\n",
       "    <tr>\n",
       "      <th>1</th>\n",
       "      <td>3032</td>\n",
       "      <td>2</td>\n",
       "      <td>-37.774486</td>\n",
       "      <td>144.897221</td>\n",
       "    </tr>\n",
       "    <tr>\n",
       "      <th>2</th>\n",
       "      <td>3033</td>\n",
       "      <td>3</td>\n",
       "      <td>-37.741070</td>\n",
       "      <td>144.857638</td>\n",
       "    </tr>\n",
       "  </tbody>\n",
       "</table>\n",
       "</div>"
      ],
      "text/plain": [
       "   postcode  values   latitude   longitude\n",
       "0      3031       1 -37.791190  144.923403\n",
       "1      3032       2 -37.774486  144.897221\n",
       "2      3033       3 -37.741070  144.857638"
      ]
     },
     "execution_count": 3,
     "metadata": {},
     "output_type": "execute_result"
    }
   ],
   "source": [
    "# Create an arbitrary example data frame\n",
    "df = pd.DataFrame(data = [[3031, 1, -37.791190, 144.923403], [3032, 2, -37.774486,144.897221], [3033, 3, -37.741070, 144.857638]], \n",
    "                  columns = [\"postcode\", \"values\", \"latitude\", \"longitude\"])\n",
    "df"
   ]
  },
  {
   "cell_type": "code",
   "execution_count": 4,
   "id": "65a41ea8-8374-4b33-a4ca-124dc97692df",
   "metadata": {},
   "outputs": [],
   "source": [
    "# Add SA2 code, and geometry\n",
    "geo_df = addSA2.addSA2(df, use_postcode = False)"
   ]
  },
  {
   "cell_type": "code",
   "execution_count": 5,
   "id": "02817b15-ea1e-445c-b13f-bd34c59e2e33",
   "metadata": {},
   "outputs": [
    {
     "data": {
      "text/html": [
       "<div>\n",
       "<style scoped>\n",
       "    .dataframe tbody tr th:only-of-type {\n",
       "        vertical-align: middle;\n",
       "    }\n",
       "\n",
       "    .dataframe tbody tr th {\n",
       "        vertical-align: top;\n",
       "    }\n",
       "\n",
       "    .dataframe thead th {\n",
       "        text-align: right;\n",
       "    }\n",
       "</style>\n",
       "<table border=\"1\" class=\"dataframe\">\n",
       "  <thead>\n",
       "    <tr style=\"text-align: right;\">\n",
       "      <th></th>\n",
       "      <th>postcode</th>\n",
       "      <th>values</th>\n",
       "      <th>latitude</th>\n",
       "      <th>longitude</th>\n",
       "      <th>SA2</th>\n",
       "      <th>geometry</th>\n",
       "    </tr>\n",
       "  </thead>\n",
       "  <tbody>\n",
       "    <tr>\n",
       "      <th>0</th>\n",
       "      <td>3031</td>\n",
       "      <td>1</td>\n",
       "      <td>-37.791190</td>\n",
       "      <td>144.923403</td>\n",
       "      <td>206041121.0</td>\n",
       "      <td>POLYGON ((144.92172 -37.78987, 144.92243 -37.7...</td>\n",
       "    </tr>\n",
       "    <tr>\n",
       "      <th>1</th>\n",
       "      <td>3032</td>\n",
       "      <td>2</td>\n",
       "      <td>-37.774486</td>\n",
       "      <td>144.897221</td>\n",
       "      <td>206031113.0</td>\n",
       "      <td>POLYGON ((144.89943 -37.77039, 144.89978 -37.7...</td>\n",
       "    </tr>\n",
       "    <tr>\n",
       "      <th>2</th>\n",
       "      <td>3033</td>\n",
       "      <td>3</td>\n",
       "      <td>-37.741070</td>\n",
       "      <td>144.857638</td>\n",
       "      <td>210011534.0</td>\n",
       "      <td>POLYGON ((144.85471 -37.73808, 144.85596 -37.7...</td>\n",
       "    </tr>\n",
       "  </tbody>\n",
       "</table>\n",
       "</div>"
      ],
      "text/plain": [
       "   postcode  values   latitude   longitude          SA2  \\\n",
       "0      3031       1 -37.791190  144.923403  206041121.0   \n",
       "1      3032       2 -37.774486  144.897221  206031113.0   \n",
       "2      3033       3 -37.741070  144.857638  210011534.0   \n",
       "\n",
       "                                            geometry  \n",
       "0  POLYGON ((144.92172 -37.78987, 144.92243 -37.7...  \n",
       "1  POLYGON ((144.89943 -37.77039, 144.89978 -37.7...  \n",
       "2  POLYGON ((144.85471 -37.73808, 144.85596 -37.7...  "
      ]
     },
     "execution_count": 5,
     "metadata": {},
     "output_type": "execute_result"
    }
   ],
   "source": [
    "geo_df"
   ]
  },
  {
   "cell_type": "code",
   "execution_count": 6,
   "id": "535e1934-1bee-4097-add4-f48c38d68392",
   "metadata": {},
   "outputs": [
    {
     "name": "stderr",
     "output_type": "stream",
     "text": [
      "/home/dylan/.local/lib/python3.8/site-packages/geoplot/geoplot.py:885: ShapelyDeprecationWarning: Iteration over multi-part geometries is deprecated and will be removed in Shapely 2.0. Use the `geoms` property to access the constituent parts of a multi-part geometry.\n",
      "  for subgeom in geom:\n"
     ]
    },
    {
     "data": {
      "text/plain": [
       "<AxesSubplot:>"
      ]
     },
     "execution_count": 6,
     "metadata": {},
     "output_type": "execute_result"
    },
    {
     "data": {
      "image/png": "[encoded data removed]",
      "text/plain": [
       "<Figure size 576x432 with 2 Axes>"
      ]
     },
     "metadata": {
      "needs_background": "light"
     },
     "output_type": "display_data"
    }
   ],
   "source": [
    "# Get the overall shape file, and make sure it only looks at valid areas of victoria\n",
    "shape = gpd.read_file('../data/raw/ShapeFile/SA2_2021_AUST_GDA2020.shp')\n",
    "shape = shape.loc[shape.STE_NAME21 == \"Victoria\"]\n",
    "shape = shape.loc[shape.geometry != None]\n",
    "ax = gplt.polyplot(shape)\n",
    "\n",
    "# Add in heatmap values for the suburbs in the data\n",
    "gplt.choropleth(\n",
    "  geo_df,\n",
    "  hue=\"values\",\n",
    "  edgecolor=\"white\",\n",
    "  linewidth=1,\n",
    "  cmap=\"Greens\",\n",
    "  legend=True,\n",
    "  #scheme=\"FisherJenks\",\n",
    "  #projection=gcrs.AlbersEqualArea(),\n",
    "  ax=ax\n",
    ")\n",
    "# Include the below, if you don't want it to zoom in to only the selected suburbs\n",
    "#minx, miny, maxx, maxy = shape.total_bounds\n",
    "#ax.set_xlim(minx, maxx)\n",
    "#ax.set_ylim(miny, maxy)"
   ]
  },
  {
   "cell_type": "code",
   "execution_count": null,
   "id": "38501520-641f-4583-818f-96de30c58518",
   "metadata": {},
   "outputs": [],
   "source": []
  }
 ],
 "metadata": {
  "kernelspec": {
   "display_name": "Python 3 (ipykernel)",
   "language": "python",
   "name": "python3"
  },
  "language_info": {
   "codemirror_mode": {
    "name": "ipython",
    "version": 3
   },
   "file_extension": ".py",
   "mimetype": "text/x-python",
   "name": "python",
   "nbconvert_exporter": "python",
   "pygments_lexer": "ipython3",
   "version": "3.8.13"
  }
 },
 "nbformat": 4,
 "nbformat_minor": 5
}
