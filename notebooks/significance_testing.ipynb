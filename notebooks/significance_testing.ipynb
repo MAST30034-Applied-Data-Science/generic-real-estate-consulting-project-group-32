{
 "cells": [
  {
   "cell_type": "code",
   "execution_count": 40,
   "metadata": {},
   "outputs": [],
   "source": [
    "from sklearn.metrics import r2_score, mean_absolute_error\n",
    "from sklearn.neural_network import MLPRegressor\n",
    "import pandas as pd\n",
    "from statsmodels.formula.api import ols\n",
    "from sklearn.preprocessing import OneHotEncoder, StandardScaler\n",
    "from sklearn.compose import ColumnTransformer\n",
    "from sklearn.model_selection import train_test_split\n",
    "from statsmodels.stats.api import anova_lm"
   ]
  },
  {
   "cell_type": "code",
   "execution_count": 18,
   "metadata": {},
   "outputs": [],
   "source": [
    "df = pd.read_csv(\"../data/curated/outlier_removed_data.csv\")"
   ]
  },
  {
   "cell_type": "code",
   "execution_count": 19,
   "metadata": {},
   "outputs": [],
   "source": [
    "df = df[['postcode', 'property_type', 'num_beds', 'num_baths', 'num_parking', 'school_duration', 'school_distance', 'park_duration', 'park_distance', 'shop_duration', 'shop_distance', 'weekly_rent']]"
   ]
  },
  {
   "cell_type": "code",
   "execution_count": 42,
   "metadata": {},
   "outputs": [],
   "source": [
    "t = ColumnTransformer(transformers=[\n",
    "    ('onehot', OneHotEncoder(), ['postcode', 'property_type', 'num_beds', 'num_baths', 'num_parking']),\n",
    "    ('scale', StandardScaler(), ['school_duration', 'school_distance', 'park_duration', 'park_distance', 'shop_duration', 'shop_distance'])\n",
    "], remainder='passthrough')  # Default is to drop untransformed columns\n",
    "\n",
    "X_train, X_test, y_train, y_test = train_test_split(df.iloc[:,0:-1], df.iloc[:,-1], test_size=0.33, random_state=42)\n",
    "X_train_transformed = t.fit_transform(X_train)\n",
    "X_test_transformed = t.fit_transform(X_test)\n"
   ]
  },
  {
   "cell_type": "code",
   "execution_count": 87,
   "metadata": {},
   "outputs": [
    {
     "name": "stderr",
     "output_type": "stream",
     "text": [
      "/Users/matthewrush/virtualenv/lib/python3.10/site-packages/sklearn/neural_network/_multilayer_perceptron.py:702: ConvergenceWarning: Stochastic Optimizer: Maximum iterations (1000) reached and the optimization hasn't converged yet.\n",
      "  warnings.warn(\n"
     ]
    }
   ],
   "source": [
    "nn_model = MLPRegressor(max_iter=1000, activation='logistic',\n",
    "                        n_iter_no_change=15, random_state=4).fit(X_train_transformed, y_train)\n"
   ]
  },
  {
   "cell_type": "code",
   "execution_count": 89,
   "metadata": {},
   "outputs": [
    {
     "name": "stdout",
     "output_type": "stream",
     "text": [
      "0.8058969916642279\n"
     ]
    },
    {
     "data": {
      "text/plain": [
       "50.22528547829401"
      ]
     },
     "execution_count": 89,
     "metadata": {},
     "output_type": "execute_result"
    }
   ],
   "source": [
    "print(nn_model.score(X_train_transformed, y_train))\n",
    "mean_absolute_error(nn_model.predict(\n",
    "    X_train_transformed), y_train)"
   ]
  },
  {
   "cell_type": "code",
   "execution_count": 90,
   "metadata": {},
   "outputs": [
    {
     "data": {
      "text/html": [
       "<div>\n",
       "<style scoped>\n",
       "    .dataframe tbody tr th:only-of-type {\n",
       "        vertical-align: middle;\n",
       "    }\n",
       "\n",
       "    .dataframe tbody tr th {\n",
       "        vertical-align: top;\n",
       "    }\n",
       "\n",
       "    .dataframe thead th {\n",
       "        text-align: right;\n",
       "    }\n",
       "</style>\n",
       "<table border=\"1\" class=\"dataframe\">\n",
       "  <thead>\n",
       "    <tr style=\"text-align: right;\">\n",
       "      <th></th>\n",
       "      <th>df</th>\n",
       "      <th>sum_sq</th>\n",
       "      <th>mean_sq</th>\n",
       "      <th>F</th>\n",
       "      <th>PR(&gt;F)</th>\n",
       "    </tr>\n",
       "  </thead>\n",
       "  <tbody>\n",
       "    <tr>\n",
       "      <th>C(postcode)</th>\n",
       "      <td>412.0</td>\n",
       "      <td>1.384783e+08</td>\n",
       "      <td>3.361123e+05</td>\n",
       "      <td>21.686364</td>\n",
       "      <td>0.000000e+00</td>\n",
       "    </tr>\n",
       "    <tr>\n",
       "      <th>C(property_type)</th>\n",
       "      <td>13.0</td>\n",
       "      <td>6.666090e+07</td>\n",
       "      <td>5.127761e+06</td>\n",
       "      <td>330.849271</td>\n",
       "      <td>0.000000e+00</td>\n",
       "    </tr>\n",
       "    <tr>\n",
       "      <th>C(num_beds)</th>\n",
       "      <td>10.0</td>\n",
       "      <td>8.753932e+07</td>\n",
       "      <td>8.753932e+06</td>\n",
       "      <td>564.814154</td>\n",
       "      <td>0.000000e+00</td>\n",
       "    </tr>\n",
       "    <tr>\n",
       "      <th>C(num_baths)</th>\n",
       "      <td>5.0</td>\n",
       "      <td>2.496466e+07</td>\n",
       "      <td>4.992931e+06</td>\n",
       "      <td>322.149875</td>\n",
       "      <td>0.000000e+00</td>\n",
       "    </tr>\n",
       "    <tr>\n",
       "      <th>C(num_parking)</th>\n",
       "      <td>9.0</td>\n",
       "      <td>2.335868e+06</td>\n",
       "      <td>2.595409e+05</td>\n",
       "      <td>16.745888</td>\n",
       "      <td>9.701631e-28</td>\n",
       "    </tr>\n",
       "    <tr>\n",
       "      <th>school_duration</th>\n",
       "      <td>1.0</td>\n",
       "      <td>9.008596e+04</td>\n",
       "      <td>9.008596e+04</td>\n",
       "      <td>5.812454</td>\n",
       "      <td>1.592831e-02</td>\n",
       "    </tr>\n",
       "    <tr>\n",
       "      <th>school_distance</th>\n",
       "      <td>1.0</td>\n",
       "      <td>1.405483e+04</td>\n",
       "      <td>1.405483e+04</td>\n",
       "      <td>0.906834</td>\n",
       "      <td>3.409754e-01</td>\n",
       "    </tr>\n",
       "    <tr>\n",
       "      <th>park_duration</th>\n",
       "      <td>1.0</td>\n",
       "      <td>1.203782e+02</td>\n",
       "      <td>1.203782e+02</td>\n",
       "      <td>0.007767</td>\n",
       "      <td>9.297746e-01</td>\n",
       "    </tr>\n",
       "    <tr>\n",
       "      <th>park_distance</th>\n",
       "      <td>1.0</td>\n",
       "      <td>2.742025e+01</td>\n",
       "      <td>2.742025e+01</td>\n",
       "      <td>0.001769</td>\n",
       "      <td>9.664502e-01</td>\n",
       "    </tr>\n",
       "    <tr>\n",
       "      <th>shop_duration</th>\n",
       "      <td>1.0</td>\n",
       "      <td>6.268732e+00</td>\n",
       "      <td>6.268732e+00</td>\n",
       "      <td>0.000404</td>\n",
       "      <td>9.839549e-01</td>\n",
       "    </tr>\n",
       "    <tr>\n",
       "      <th>shop_distance</th>\n",
       "      <td>1.0</td>\n",
       "      <td>1.927295e+01</td>\n",
       "      <td>1.927295e+01</td>\n",
       "      <td>0.001244</td>\n",
       "      <td>9.718702e-01</td>\n",
       "    </tr>\n",
       "    <tr>\n",
       "      <th>Residual</th>\n",
       "      <td>11763.0</td>\n",
       "      <td>1.823122e+08</td>\n",
       "      <td>1.549878e+04</td>\n",
       "      <td>NaN</td>\n",
       "      <td>NaN</td>\n",
       "    </tr>\n",
       "  </tbody>\n",
       "</table>\n",
       "</div>"
      ],
      "text/plain": [
       "                       df        sum_sq       mean_sq           F  \\\n",
       "C(postcode)         412.0  1.384783e+08  3.361123e+05   21.686364   \n",
       "C(property_type)     13.0  6.666090e+07  5.127761e+06  330.849271   \n",
       "C(num_beds)          10.0  8.753932e+07  8.753932e+06  564.814154   \n",
       "C(num_baths)          5.0  2.496466e+07  4.992931e+06  322.149875   \n",
       "C(num_parking)        9.0  2.335868e+06  2.595409e+05   16.745888   \n",
       "school_duration       1.0  9.008596e+04  9.008596e+04    5.812454   \n",
       "school_distance       1.0  1.405483e+04  1.405483e+04    0.906834   \n",
       "park_duration         1.0  1.203782e+02  1.203782e+02    0.007767   \n",
       "park_distance         1.0  2.742025e+01  2.742025e+01    0.001769   \n",
       "shop_duration         1.0  6.268732e+00  6.268732e+00    0.000404   \n",
       "shop_distance         1.0  1.927295e+01  1.927295e+01    0.001244   \n",
       "Residual          11763.0  1.823122e+08  1.549878e+04         NaN   \n",
       "\n",
       "                        PR(>F)  \n",
       "C(postcode)       0.000000e+00  \n",
       "C(property_type)  0.000000e+00  \n",
       "C(num_beds)       0.000000e+00  \n",
       "C(num_baths)      0.000000e+00  \n",
       "C(num_parking)    9.701631e-28  \n",
       "school_duration   1.592831e-02  \n",
       "school_distance   3.409754e-01  \n",
       "park_duration     9.297746e-01  \n",
       "park_distance     9.664502e-01  \n",
       "shop_duration     9.839549e-01  \n",
       "shop_distance     9.718702e-01  \n",
       "Residual                   NaN  "
      ]
     },
     "execution_count": 90,
     "metadata": {},
     "output_type": "execute_result"
    }
   ],
   "source": [
    "lm = ols(\n",
    "    \"weekly_rent ~  C(postcode)+ C(property_type)+ C(num_beds)+ C(num_baths)+ C(num_parking) + school_duration+ school_distance + park_duration+ park_distance+ shop_duration+ shop_distance\", data=df).fit()\n",
    "anova_lm(lm)\n"
   ]
  },
  {
   "cell_type": "code",
   "execution_count": 91,
   "metadata": {},
   "outputs": [
    {
     "data": {
      "text/plain": [
       "140.0890323992437"
      ]
     },
     "execution_count": 91,
     "metadata": {},
     "output_type": "execute_result"
    }
   ],
   "source": [
    "mean_absolute_error(lm.predict(X_test).fillna(0), y_test)"
   ]
  }
 ],
 "metadata": {
  "kernelspec": {
   "display_name": "Python 3.10.0 64-bit ('virtualenv': venv)",
   "language": "python",
   "name": "python3"
  },
  "language_info": {
   "codemirror_mode": {
    "name": "ipython",
    "version": 3
   },
   "file_extension": ".py",
   "mimetype": "text/x-python",
   "name": "python",
   "nbconvert_exporter": "python",
   "pygments_lexer": "ipython3",
   "version": "3.10.0"
  },
  "orig_nbformat": 4,
  "vscode": {
   "interpreter": {
    "hash": "9d67bc8a98929733bfed30279eba52948d85bd0c999fdfd91dc6ab54ef3e87c5"
   }
  }
 },
 "nbformat": 4,
 "nbformat_minor": 2
}
