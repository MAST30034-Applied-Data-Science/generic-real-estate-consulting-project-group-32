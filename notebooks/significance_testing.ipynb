{
 "cells": [
  {
   "cell_type": "code",
   "execution_count": 1,
   "metadata": {},
   "outputs": [
    {
     "name": "stderr",
     "output_type": "stream",
     "text": [
      "/Users/matthewrush/virtualenv/lib/python3.10/site-packages/geopandas/_compat.py:112: UserWarning: The Shapely GEOS version (3.10.2-CAPI-1.16.0) is incompatible with the GEOS version PyGEOS was compiled with (3.10.3-CAPI-1.16.1). Conversions between both will be slow.\n",
      "  warnings.warn(\n"
     ]
    }
   ],
   "source": [
    "import pandas as pd\n",
    "from pyrosm import OSM, get_data\n",
    "import ssl\n",
    "ssl._create_default_https_context = ssl._create_unverified_context\n",
    "property_df = pd.read_csv(\"/Users/matthewrush/Documents/generic-real-estate-consulting-project-group-32/data/curated/pre_processed_data.csv\", usecols=['url', 'postcode', 'school_duration', 'school_distance', 'park_duration', 'park_distance', 'shop_duration', 'shop_distance'])\n",
    "postcode_df = pd.read_csv(\"/Users/matthewrush/Documents/generic-real-estate-consulting-project-group-32/data/raw/postcode.csv\", usecols=['postcode', 'locality'])"
   ]
  },
  {
   "cell_type": "code",
   "execution_count": 2,
   "metadata": {},
   "outputs": [],
   "source": [
    "property_df = property_df.groupby('postcode').mean().reset_index()"
   ]
  },
  {
   "cell_type": "code",
   "execution_count": 137,
   "metadata": {},
   "outputs": [
    {
     "data": {
      "text/plain": [
       "['BALACLAVA', 'ST KILDA EAST']"
      ]
     },
     "execution_count": 137,
     "metadata": {},
     "output_type": "execute_result"
    }
   ],
   "source": [
    "postcode_df[postcode_df['postcode'] == 3183]['locality'].values.tolist()"
   ]
  },
  {
   "cell_type": "code",
   "execution_count": 3,
   "metadata": {},
   "outputs": [],
   "source": [
    "# Get test data\n",
    "fp = get_data(\"melbourne\")\n",
    "\n",
    "osm = OSM(fp)"
   ]
  },
  {
   "cell_type": "code",
   "execution_count": 14,
   "metadata": {},
   "outputs": [],
   "source": [
    "def park_count(osm, base_map, postcode, postcode_df):\n",
    "    suburbs = postcode_df[postcode_df[\"postcode\"] == int(postcode)][\n",
    "        \"locality\"\n",
    "    ].values.tolist()\n",
    "\n",
    "    count = 0\n",
    "    for i in suburbs:\n",
    "        try:\n",
    "            local_map = osm.get_boundaries(name=i.title())\n",
    "            bbox_geom = local_map[\"geometry\"].values[0]\n",
    "            osm2 = OSM(base_map, bounding_box=bbox_geom)\n",
    "\n",
    "            park_filter = {\n",
    "                \"leisure\": [\n",
    "                    \"park\",\n",
    "                    \"dog_park\",\n",
    "                    \"garden\",\n",
    "                    \"nature_reserve\",\n",
    "                    \"park;playground\",\n",
    "                    \"recreation_ground\",\n",
    "                    \"reserve\",\n",
    "                ]\n",
    "            }\n",
    "\n",
    "            area = osm2.get_pois(custom_filter=park_filter)\n",
    "            count = count + len(area[\"name\"].unique())\n",
    "        except Exception as e:\n",
    "            print(f\"{i}, {e}\")\n",
    "    print(postcode)\n",
    "    return count\n",
    "\n",
    "\n",
    "def shop_count(osm, base_map, postcode, postcode_df):\n",
    "    suburbs = postcode_df[postcode_df[\"postcode\"] == int(postcode)][\n",
    "        \"locality\"\n",
    "    ].values.tolist()\n",
    "\n",
    "    count = 0\n",
    "    for i in suburbs:\n",
    "        try:\n",
    "            local_map = osm.get_boundaries(name=\"Docklands\")\n",
    "            bbox_geom = local_map[\"geometry\"].values[0]\n",
    "            osm2 = OSM(base_map, bounding_box=bbox_geom)\n",
    "\n",
    "            shop_filter = {\n",
    "                \"shop\": [\n",
    "                    \"department_store\",\n",
    "                    \"mall\",\n",
    "                    \"garden\",\n",
    "                    \"nature_reserve\",\n",
    "                    \"park;playground\",\n",
    "                    \"recreation_ground\",\n",
    "                    \"reserve\",\n",
    "                ]\n",
    "            }\n",
    "            area = osm2.get_pois(custom_filter=shop_filter)\n",
    "            count = count + len(area[\"name\"].unique())\n",
    "        except Exception as e:\n",
    "            print(f\"{i}, {e}\")\n",
    "\n",
    "    return count\n"
   ]
  },
  {
   "cell_type": "code",
   "execution_count": 8,
   "metadata": {},
   "outputs": [],
   "source": [
    "test = property_df.iloc[0:4, ]"
   ]
  },
  {
   "cell_type": "code",
   "execution_count": 15,
   "metadata": {},
   "outputs": [
    {
     "name": "stderr",
     "output_type": "stream",
     "text": [
      "/Users/matthewrush/virtualenv/lib/python3.10/site-packages/pyrosm/pyrosm.py:576: ShapelyDeprecationWarning: The array interface is deprecated and will no longer work in Shapely 2.0. Convert the '.coords' to a numpy array instead.\n",
      "  gdf = get_poi_data(\n"
     ]
    },
    {
     "name": "stdout",
     "output_type": "stream",
     "text": [
      "3000.0\n",
      "3002.0\n"
     ]
    },
    {
     "name": "stderr",
     "output_type": "stream",
     "text": [
      "/Users/matthewrush/virtualenv/lib/python3.10/site-packages/pyrosm/pyrosm.py:576: ShapelyDeprecationWarning: The array interface is deprecated and will no longer work in Shapely 2.0. Convert the '.coords' to a numpy array instead.\n",
      "  gdf = get_poi_data(\n"
     ]
    },
    {
     "name": "stdout",
     "output_type": "stream",
     "text": [
      "3003.0\n"
     ]
    },
    {
     "name": "stderr",
     "output_type": "stream",
     "text": [
      "/Users/matthewrush/virtualenv/lib/python3.10/site-packages/pyrosm/pyrosm.py:576: ShapelyDeprecationWarning: The array interface is deprecated and will no longer work in Shapely 2.0. Convert the '.coords' to a numpy array instead.\n",
      "  gdf = get_poi_data(\n"
     ]
    },
    {
     "name": "stdout",
     "output_type": "stream",
     "text": [
      "ST KILDA ROAD CENTRAL, index 0 is out of bounds for axis 0 with size 0\n",
      "ST KILDA ROAD MELBOURNE, index 0 is out of bounds for axis 0 with size 0\n",
      "3004.0\n"
     ]
    },
    {
     "name": "stderr",
     "output_type": "stream",
     "text": [
      "/Users/matthewrush/virtualenv/lib/python3.10/site-packages/pyrosm/pyrosm.py:576: ShapelyDeprecationWarning: The array interface is deprecated and will no longer work in Shapely 2.0. Convert the '.coords' to a numpy array instead.\n",
      "  gdf = get_poi_data(\n"
     ]
    },
    {
     "name": "stdout",
     "output_type": "stream",
     "text": [
      "3006.0\n"
     ]
    },
    {
     "name": "stderr",
     "output_type": "stream",
     "text": [
      "/Users/matthewrush/virtualenv/lib/python3.10/site-packages/pyrosm/pyrosm.py:576: ShapelyDeprecationWarning: The array interface is deprecated and will no longer work in Shapely 2.0. Convert the '.coords' to a numpy array instead.\n",
      "  gdf = get_poi_data(\n"
     ]
    },
    {
     "name": "stdout",
     "output_type": "stream",
     "text": [
      "3008.0\n"
     ]
    },
    {
     "name": "stderr",
     "output_type": "stream",
     "text": [
      "/Users/matthewrush/virtualenv/lib/python3.10/site-packages/pyrosm/pyrosm.py:576: ShapelyDeprecationWarning: The array interface is deprecated and will no longer work in Shapely 2.0. Convert the '.coords' to a numpy array instead.\n",
      "  gdf = get_poi_data(\n"
     ]
    },
    {
     "name": "stdout",
     "output_type": "stream",
     "text": [
      "SEDDON WEST, index 0 is out of bounds for axis 0 with size 0\n",
      "3011.0\n",
      "KINGSVILLE WEST, index 0 is out of bounds for axis 0 with size 0\n",
      "TOTTENHAM, 'NoneType' object is not subscriptable\n",
      "3012.0\n",
      "YARRAVILLE WEST, index 0 is out of bounds for axis 0 with size 0\n",
      "3013.0\n"
     ]
    },
    {
     "name": "stderr",
     "output_type": "stream",
     "text": [
      "/Users/matthewrush/virtualenv/lib/python3.10/site-packages/pyrosm/pyrosm.py:576: ShapelyDeprecationWarning: The array interface is deprecated and will no longer work in Shapely 2.0. Convert the '.coords' to a numpy array instead.\n",
      "  gdf = get_poi_data(\n"
     ]
    },
    {
     "name": "stdout",
     "output_type": "stream",
     "text": [
      "3015.0\n",
      "3016.0\n",
      "3018.0\n",
      "BRAYBROOK NORTH, index 0 is out of bounds for axis 0 with size 0\n",
      "ROBINSON, index 0 is out of bounds for axis 0 with size 0\n",
      "3019.0\n"
     ]
    },
    {
     "name": "stderr",
     "output_type": "stream",
     "text": [
      "/Users/matthewrush/virtualenv/lib/python3.10/site-packages/pyrosm/pyrosm.py:576: ShapelyDeprecationWarning: The array interface is deprecated and will no longer work in Shapely 2.0. Convert the '.coords' to a numpy array instead.\n",
      "  gdf = get_poi_data(\n"
     ]
    },
    {
     "name": "stdout",
     "output_type": "stream",
     "text": [
      "GLENGALA, index 0 is out of bounds for axis 0 with size 0\n",
      "3020.0\n",
      "3021.0\n"
     ]
    },
    {
     "name": "stderr",
     "output_type": "stream",
     "text": [
      "/Users/matthewrush/virtualenv/lib/python3.10/site-packages/pyrosm/pyrosm.py:576: ShapelyDeprecationWarning: The array interface is deprecated and will no longer work in Shapely 2.0. Convert the '.coords' to a numpy array instead.\n",
      "  gdf = get_poi_data(\n"
     ]
    },
    {
     "name": "stdout",
     "output_type": "stream",
     "text": [
      "DEER PARK EAST, index 0 is out of bounds for axis 0 with size 0\n",
      "3022.0\n",
      "DEER PARK NORTH, index 0 is out of bounds for axis 0 with size 0\n",
      "3023.0\n",
      "FIELDSTONE, index 0 is out of bounds for axis 0 with size 0\n",
      "MAMBOURIN, index 0 is out of bounds for axis 0 with size 0\n",
      "MANOR LAKES, index 0 is out of bounds for axis 0 with size 0\n",
      "MOUNT COTTRELL, index 0 is out of bounds for axis 0 with size 0\n",
      "WYNDHAM VALE, index 0 is out of bounds for axis 0 with size 0\n",
      "3024.0\n",
      "ALTONA EAST, index 0 is out of bounds for axis 0 with size 0\n",
      "ALTONA GATE, index 0 is out of bounds for axis 0 with size 0\n",
      "3025.0\n",
      "3026.0\n",
      "LAVERTON RAAF, index 0 is out of bounds for axis 0 with size 0\n",
      "WILLIAMS RAAF, index 0 is out of bounds for axis 0 with size 0\n",
      "3027.0\n",
      "3028.0\n",
      "3029.0\n",
      "CHARTWELL, index 0 is out of bounds for axis 0 with size 0\n"
     ]
    },
    {
     "name": "stderr",
     "output_type": "stream",
     "text": [
      "/Users/matthewrush/virtualenv/lib/python3.10/site-packages/pyrosm/pois.py:38: UserWarning: CRS mismatch between the CRS of left geometries and the CRS of right geometries.\n",
      "Use `to_crs()` to reproject one of the input geometries to match the CRS of the other.\n",
      "\n",
      "Left CRS: None\n",
      "Right CRS: EPSG:4326\n",
      "\n",
      "  gdf = prepare_geodataframe(\n"
     ]
    },
    {
     "name": "stdout",
     "output_type": "stream",
     "text": [
      "QUANDONG, index 0 is out of bounds for axis 0 with size 0\n",
      "3030.0\n"
     ]
    },
    {
     "name": "stderr",
     "output_type": "stream",
     "text": [
      "/Users/matthewrush/virtualenv/lib/python3.10/site-packages/pyrosm/pyrosm.py:576: ShapelyDeprecationWarning: The array interface is deprecated and will no longer work in Shapely 2.0. Convert the '.coords' to a numpy array instead.\n",
      "  gdf = get_poi_data(\n"
     ]
    },
    {
     "name": "stdout",
     "output_type": "stream",
     "text": [
      "3031.0\n"
     ]
    },
    {
     "name": "stderr",
     "output_type": "stream",
     "text": [
      "/Users/matthewrush/virtualenv/lib/python3.10/site-packages/pyrosm/pyrosm.py:576: ShapelyDeprecationWarning: The array interface is deprecated and will no longer work in Shapely 2.0. Convert the '.coords' to a numpy array instead.\n",
      "  gdf = get_poi_data(\n"
     ]
    },
    {
     "name": "stdout",
     "output_type": "stream",
     "text": [
      "HIGHPOINT CITY, index 0 is out of bounds for axis 0 with size 0\n"
     ]
    },
    {
     "name": "stderr",
     "output_type": "stream",
     "text": [
      "/Users/matthewrush/virtualenv/lib/python3.10/site-packages/pyrosm/pyrosm.py:576: ShapelyDeprecationWarning: The array interface is deprecated and will no longer work in Shapely 2.0. Convert the '.coords' to a numpy array instead.\n",
      "  gdf = get_poi_data(\n"
     ]
    },
    {
     "name": "stdout",
     "output_type": "stream",
     "text": [
      "3032.0\n",
      "3033.0\n",
      "3034.0\n",
      "3036.0\n",
      "3037.0\n",
      "WATERGARDENS, index 0 is out of bounds for axis 0 with size 0\n",
      "3038.0\n",
      "3039.0\n"
     ]
    },
    {
     "name": "stderr",
     "output_type": "stream",
     "text": [
      "/Users/matthewrush/virtualenv/lib/python3.10/site-packages/pyrosm/pyrosm.py:576: ShapelyDeprecationWarning: The array interface is deprecated and will no longer work in Shapely 2.0. Convert the '.coords' to a numpy array instead.\n",
      "  gdf = get_poi_data(\n"
     ]
    },
    {
     "name": "stdout",
     "output_type": "stream",
     "text": [
      "3040.0\n"
     ]
    },
    {
     "name": "stderr",
     "output_type": "stream",
     "text": [
      "/Users/matthewrush/virtualenv/lib/python3.10/site-packages/pyrosm/pyrosm.py:576: ShapelyDeprecationWarning: The array interface is deprecated and will no longer work in Shapely 2.0. Convert the '.coords' to a numpy array instead.\n",
      "  gdf = get_poi_data(\n"
     ]
    },
    {
     "name": "stdout",
     "output_type": "stream",
     "text": [
      "3041.0\n",
      "NIDDRIE NORTH, index 0 is out of bounds for axis 0 with size 0\n",
      "3042.0\n",
      "3043.0\n"
     ]
    },
    {
     "name": "stderr",
     "output_type": "stream",
     "text": [
      "/Users/matthewrush/virtualenv/lib/python3.10/site-packages/pyrosm/pyrosm.py:576: ShapelyDeprecationWarning: The array interface is deprecated and will no longer work in Shapely 2.0. Convert the '.coords' to a numpy array instead.\n",
      "  gdf = get_poi_data(\n",
      "/Users/matthewrush/virtualenv/lib/python3.10/site-packages/pyrosm/pyrosm.py:576: ShapelyDeprecationWarning: The array interface is deprecated and will no longer work in Shapely 2.0. Convert the '.coords' to a numpy array instead.\n",
      "  gdf = get_poi_data(\n"
     ]
    },
    {
     "name": "stdout",
     "output_type": "stream",
     "text": [
      "3044.0\n",
      "3046.0\n",
      "3047.0\n",
      "3048.0\n"
     ]
    }
   ],
   "source": [
    "property_df['park_count'] = property_df.apply(lambda x: park_count(osm, fp, x['postcode'], postcode_df), axis=1)"
   ]
  },
  {
   "cell_type": "code",
   "execution_count": null,
   "metadata": {},
   "outputs": [],
   "source": [
    "property_df"
   ]
  }
 ],
 "metadata": {
  "kernelspec": {
   "display_name": "Python 3.10.0 64-bit ('virtualenv': venv)",
   "language": "python",
   "name": "python3"
  },
  "language_info": {
   "codemirror_mode": {
    "name": "ipython",
    "version": 3
   },
   "file_extension": ".py",
   "mimetype": "text/x-python",
   "name": "python",
   "nbconvert_exporter": "python",
   "pygments_lexer": "ipython3",
   "version": "3.10.0"
  },
  "orig_nbformat": 4,
  "vscode": {
   "interpreter": {
    "hash": "9d67bc8a98929733bfed30279eba52948d85bd0c999fdfd91dc6ab54ef3e87c5"
   }
  }
 },
 "nbformat": 4,
 "nbformat_minor": 2
}
