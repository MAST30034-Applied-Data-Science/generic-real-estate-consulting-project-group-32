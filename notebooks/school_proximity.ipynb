{
 "cells": [
  {
   "cell_type": "code",
   "execution_count": 8,
   "metadata": {},
   "outputs": [],
   "source": [
    "import os\n",
    "import sys\n",
    "import pandas as pd\n",
    "import geopy.distance\n",
    "import logging\n",
    "import time\n",
    "\n",
    "\n",
    "logging.basicConfig(level=os.environ.get(\"LOGLEVEL\", \"INFO\"))\n",
    "sys.path.append(\"../scripts\")\n",
    "from distance_proximity import proximity, travel_time\n",
    "\n",
    "\n",
    "ITER = 2\n",
    "CALL_RANGE = range(0 + 40 * ITER, 40 + 40 * ITER, 1)\n",
    "\n",
    "\n",
    "school_df = pd.read_csv(\"../data/raw/school.csv\", encoding=\"cp1252\")\n"
   ]
  },
  {
   "cell_type": "code",
   "execution_count": 17,
   "metadata": {},
   "outputs": [],
   "source": [
    "# # Once off to create column for travel time to schoo\n",
    "# scraped_df = pd.read_json(\n",
    "#     \"../data/raw/scrape_2022-09-02_04-12-25-567025.json\", orient=\"records\"\n",
    "# )\n",
    "# scraped_df['school_duration'] = 0\n",
    "# scraped_df['school_distance'] = 0\n",
    "# scraped_df.to_csv(\"../data/curated/scraped_with_school_tt.csv\")\n"
   ]
  },
  {
   "cell_type": "code",
   "execution_count": 4,
   "metadata": {},
   "outputs": [],
   "source": [
    "scraped_school_df = pd.read_csv(\"../data/curated/scraped_with_school_tt.csv\")\n"
   ]
  },
  {
   "cell_type": "code",
   "execution_count": 9,
   "metadata": {},
   "outputs": [
    {
     "name": "stderr",
     "output_type": "stream",
     "text": [
      "INFO:root:Finished property index 80\n",
      "INFO:root:Finished property index 81\n",
      "INFO:root:Finished property index 82\n",
      "INFO:root:Finished property index 83\n",
      "INFO:root:Finished property index 84\n",
      "INFO:root:Finished property index 85\n",
      "INFO:root:Finished property index 86\n",
      "INFO:root:Finished property index 87\n",
      "INFO:root:Finished property index 88\n",
      "INFO:root:Finished property index 89\n",
      "/Users/matthewrush/virtualenv/lib/python3.10/site-packages/openrouteservice/client.py:211: UserWarning: Rate limit exceeded. Retrying for the 1st time.\n",
      "  warnings.warn('Rate limit exceeded. Retrying for the {0}{1} time.'.format(retry_counter + 1,\n",
      "/Users/matthewrush/virtualenv/lib/python3.10/site-packages/openrouteservice/client.py:211: UserWarning: Rate limit exceeded. Retrying for the 2nd time.\n",
      "  warnings.warn('Rate limit exceeded. Retrying for the {0}{1} time.'.format(retry_counter + 1,\n",
      "/Users/matthewrush/virtualenv/lib/python3.10/site-packages/openrouteservice/client.py:211: UserWarning: Rate limit exceeded. Retrying for the 3rd time.\n",
      "  warnings.warn('Rate limit exceeded. Retrying for the {0}{1} time.'.format(retry_counter + 1,\n",
      "/Users/matthewrush/virtualenv/lib/python3.10/site-packages/openrouteservice/client.py:211: UserWarning: Rate limit exceeded. Retrying for the 4th time.\n",
      "  warnings.warn('Rate limit exceeded. Retrying for the {0}{1} time.'.format(retry_counter + 1,\n",
      "/Users/matthewrush/virtualenv/lib/python3.10/site-packages/openrouteservice/client.py:211: UserWarning: Rate limit exceeded. Retrying for the 5th time.\n",
      "  warnings.warn('Rate limit exceeded. Retrying for the {0}{1} time.'.format(retry_counter + 1,\n",
      "/Users/matthewrush/virtualenv/lib/python3.10/site-packages/openrouteservice/client.py:211: UserWarning: Rate limit exceeded. Retrying for the 6th time.\n",
      "  warnings.warn('Rate limit exceeded. Retrying for the {0}{1} time.'.format(retry_counter + 1,\n",
      "INFO:root:Finished property index 90\n",
      "INFO:root:Finished property index 91\n",
      "INFO:root:Finished property index 92\n",
      "INFO:root:Finished property index 93\n",
      "INFO:root:Finished property index 94\n",
      "INFO:root:Finished property index 95\n",
      "INFO:root:Finished property index 96\n",
      "INFO:root:Finished property index 97\n",
      "INFO:root:Finished property index 98\n",
      "INFO:root:Finished property index 99\n",
      "/Users/matthewrush/virtualenv/lib/python3.10/site-packages/openrouteservice/client.py:211: UserWarning: Rate limit exceeded. Retrying for the 7th time.\n",
      "  warnings.warn('Rate limit exceeded. Retrying for the {0}{1} time.'.format(retry_counter + 1,\n",
      "INFO:root:Finished property index 100\n",
      "INFO:root:Finished property index 101\n",
      "INFO:root:Finished property index 102\n",
      "INFO:root:Finished property index 103\n",
      "INFO:root:Finished property index 104\n",
      "INFO:root:Finished property index 105\n",
      "INFO:root:Finished property index 106\n",
      "INFO:root:Finished property index 107\n",
      "INFO:root:Finished property index 108\n",
      "INFO:root:Finished property index 109\n",
      "/Users/matthewrush/virtualenv/lib/python3.10/site-packages/openrouteservice/client.py:211: UserWarning: Rate limit exceeded. Retrying for the 8th time.\n",
      "  warnings.warn('Rate limit exceeded. Retrying for the {0}{1} time.'.format(retry_counter + 1,\n",
      "INFO:root:Finished property index 110\n",
      "INFO:root:Finished property index 111\n",
      "INFO:root:Finished property index 112\n",
      "INFO:root:Finished property index 113\n",
      "INFO:root:Finished property index 114\n",
      "INFO:root:Finished property index 115\n",
      "INFO:root:Finished property index 116\n",
      "INFO:root:Finished property index 117\n",
      "INFO:root:Finished property index 118\n",
      "INFO:root:Finished property index 119\n",
      "INFO:root:Time taken, 3.951478099822998 mins\n"
     ]
    }
   ],
   "source": [
    "start_time = time.time()\n",
    "for i in CALL_RANGE:\n",
    "    candidate_1, candidate_2 = proximity(\n",
    "        scraped_school_df.iloc[i, -4],\n",
    "        scraped_school_df.iloc[i, -3],\n",
    "        school_df.Y.values.tolist(),\n",
    "        school_df.X.values.tolist(),\n",
    "    )\n",
    "\n",
    "    dis_1, dur_1 = travel_time(\n",
    "        scraped_school_df.iloc[i, -3],\n",
    "        scraped_school_df.iloc[i, -4],\n",
    "        school_df.iloc[candidate_1][\"X\"],\n",
    "        school_df.iloc[candidate_1][\"Y\"],\n",
    "        api_key,\n",
    "    )\n",
    "    dis_2, dur_2 = travel_time(\n",
    "        scraped_school_df.iloc[i, -3],\n",
    "        scraped_school_df.iloc[i, -4],\n",
    "        school_df.iloc[candidate_2][\"X\"],\n",
    "        school_df.iloc[candidate_2][\"Y\"],\n",
    "        api_key,\n",
    "    )\n",
    "\n",
    "    if dur_1 > dur_2:\n",
    "        scraped_school_df.at[i, \"school_duration\"] = dur_2 / 60\n",
    "        scraped_school_df.at[i, \"school_distance\"] = dis_2\n",
    "\n",
    "    else:\n",
    "        scraped_school_df.at[i, \"school_duration\"] = dur_1 / 60\n",
    "        scraped_school_df.at[i, \"school_distance\"] = dis_1\n",
    "\n",
    "    logging.info(f\"Finished property index {i}\")\n",
    "\n",
    "end_time = time.time()\n",
    "logging.info(f\"Time taken, {(end_time - start_time)/60} mins\")\n",
    "\n",
    "scraped_school_df.to_csv(\"../data/curated/scraped_with_school_tt.csv\")\n"
   ]
  }
 ],
 "metadata": {
  "kernelspec": {
   "display_name": "Python 3.10.0 64-bit ('virtualenv': venv)",
   "language": "python",
   "name": "python3"
  },
  "language_info": {
   "codemirror_mode": {
    "name": "ipython",
    "version": 3
   },
   "file_extension": ".py",
   "mimetype": "text/x-python",
   "name": "python",
   "nbconvert_exporter": "python",
   "pygments_lexer": "ipython3",
   "version": "3.10.0"
  },
  "orig_nbformat": 4,
  "vscode": {
   "interpreter": {
    "hash": "9d67bc8a98929733bfed30279eba52948d85bd0c999fdfd91dc6ab54ef3e87c5"
   }
  }
 },
 "nbformat": 4,
 "nbformat_minor": 2
}
