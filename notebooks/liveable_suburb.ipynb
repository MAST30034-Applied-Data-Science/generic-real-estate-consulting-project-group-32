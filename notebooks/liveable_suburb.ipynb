{
 "cells": [
  {
   "cell_type": "code",
   "execution_count": 3,
   "metadata": {},
   "outputs": [
    {
     "name": "stderr",
     "output_type": "stream",
     "text": [
      "/Users/matthewrush/virtualenv/lib/python3.10/site-packages/geopandas/_compat.py:112: UserWarning: The Shapely GEOS version (3.10.2-CAPI-1.16.0) is incompatible with the GEOS version PyGEOS was compiled with (3.10.3-CAPI-1.16.1). Conversions between both will be slow.\n",
      "  warnings.warn(\n"
     ]
    }
   ],
   "source": [
    "import pandas as pd\n",
    "from pyrosm import OSM, get_data\n",
    "import ssl\n",
    "from scipy.stats import percentileofscore\n",
    "\n",
    "\n",
    "ssl._create_default_https_context = ssl._create_unverified_context\n",
    "property_df = pd.read_csv(\n",
    "    \"/Users/matthewrush/Documents/generic-real-estate-consulting-project-group-32/data/curated/pre_processed_data.csv\",\n",
    "    usecols=[\n",
    "        \"url\",\n",
    "        \"postcode\",\n",
    "        \"school_duration\",\n",
    "        \"school_distance\",\n",
    "        \"park_duration\",\n",
    "        \"park_distance\",\n",
    "        \"shop_duration\",\n",
    "        \"shop_distance\",\n",
    "    ],\n",
    ")\n",
    "postcode_df = pd.read_csv(\n",
    "    \"/Users/matthewrush/Documents/generic-real-estate-consulting-project-group-32/data/raw/postcode.csv\",\n",
    "    usecols=[\"postcode\", \"locality\"],\n",
    ")\n"
   ]
  },
  {
   "cell_type": "code",
   "execution_count": 2,
   "metadata": {},
   "outputs": [],
   "source": [
    "property_df = property_df.groupby('postcode').mean().reset_index()"
   ]
  },
  {
   "cell_type": "code",
   "execution_count": 3,
   "metadata": {},
   "outputs": [],
   "source": [
    "# Get test data\n",
    "fp = get_data(\"melbourne\")\n",
    "osm = OSM(fp)"
   ]
  },
  {
   "cell_type": "code",
   "execution_count": 23,
   "metadata": {},
   "outputs": [],
   "source": [
    "def park_count(osm, base_map, postcode, postcode_df):\n",
    "    suburbs = postcode_df[postcode_df[\"postcode\"] == int(postcode)][\n",
    "        \"locality\"\n",
    "    ].values.tolist()\n",
    "\n",
    "    count = 0\n",
    "    for i in suburbs:\n",
    "        try:\n",
    "            local_map = osm.get_boundaries(name=i.title())\n",
    "            bbox_geom = local_map[\"geometry\"].values[0]\n",
    "            osm2 = OSM(base_map, bounding_box=bbox_geom)\n",
    "\n",
    "            park_filter = {\n",
    "                \"leisure\": [\n",
    "                    \"park\",\n",
    "                    \"dog_park\",\n",
    "                    \"garden\",\n",
    "                    \"nature_reserve\",\n",
    "                    \"park;playground\",\n",
    "                    \"recreation_ground\",\n",
    "                    \"reserve\",\n",
    "                ]\n",
    "            }\n",
    "\n",
    "            area = osm2.get_pois(custom_filter=park_filter)\n",
    "            count = count + len(area[\"name\"].unique())\n",
    "        except Exception as e:\n",
    "            print(f\"{i}, {e}\")\n",
    "    print(postcode)\n",
    "    return count\n",
    "\n",
    "\n",
    "def shop_count(osm, base_map, postcode, postcode_df):\n",
    "    suburbs = postcode_df[postcode_df[\"postcode\"] == int(postcode)][\n",
    "        \"locality\"\n",
    "    ].values.tolist()\n",
    "\n",
    "    count = 0\n",
    "    for i in suburbs:\n",
    "        try:\n",
    "            local_map = osm.get_boundaries(name=i.title())\n",
    "            bbox_geom = local_map[\"geometry\"].values[0]\n",
    "            osm2 = OSM(base_map, bounding_box=bbox_geom)\n",
    "\n",
    "            shop_filter = {\n",
    "                \"shop\": [\n",
    "                    \"department_store\",\n",
    "                    \"mall\",\n",
    "                ]\n",
    "            }\n",
    "            area = osm2.get_pois(custom_filter=shop_filter)\n",
    "            count = count + len(area[\"name\"].unique())\n",
    "        except Exception as e:\n",
    "            print(f\"{i}, {e}\")\n",
    "\n",
    "    return count\n"
   ]
  },
  {
   "cell_type": "code",
   "execution_count": 15,
   "metadata": {},
   "outputs": [
    {
     "name": "stderr",
     "output_type": "stream",
     "text": [
      "/Users/matthewrush/virtualenv/lib/python3.10/site-packages/pyrosm/pyrosm.py:576: ShapelyDeprecationWarning: The array interface is deprecated and will no longer work in Shapely 2.0. Convert the '.coords' to a numpy array instead.\n",
      "  gdf = get_poi_data(\n"
     ]
    },
    {
     "name": "stdout",
     "output_type": "stream",
     "text": [
      "3000.0\n",
      "3002.0\n"
     ]
    },
    {
     "name": "stderr",
     "output_type": "stream",
     "text": [
      "/Users/matthewrush/virtualenv/lib/python3.10/site-packages/pyrosm/pyrosm.py:576: ShapelyDeprecationWarning: The array interface is deprecated and will no longer work in Shapely 2.0. Convert the '.coords' to a numpy array instead.\n",
      "  gdf = get_poi_data(\n"
     ]
    },
    {
     "name": "stdout",
     "output_type": "stream",
     "text": [
      "3003.0\n"
     ]
    },
    {
     "name": "stderr",
     "output_type": "stream",
     "text": [
      "/Users/matthewrush/virtualenv/lib/python3.10/site-packages/pyrosm/pyrosm.py:576: ShapelyDeprecationWarning: The array interface is deprecated and will no longer work in Shapely 2.0. Convert the '.coords' to a numpy array instead.\n",
      "  gdf = get_poi_data(\n"
     ]
    },
    {
     "name": "stdout",
     "output_type": "stream",
     "text": [
      "ST KILDA ROAD CENTRAL, index 0 is out of bounds for axis 0 with size 0\n",
      "ST KILDA ROAD MELBOURNE, index 0 is out of bounds for axis 0 with size 0\n",
      "3004.0\n"
     ]
    },
    {
     "name": "stderr",
     "output_type": "stream",
     "text": [
      "/Users/matthewrush/virtualenv/lib/python3.10/site-packages/pyrosm/pyrosm.py:576: ShapelyDeprecationWarning: The array interface is deprecated and will no longer work in Shapely 2.0. Convert the '.coords' to a numpy array instead.\n",
      "  gdf = get_poi_data(\n"
     ]
    },
    {
     "name": "stdout",
     "output_type": "stream",
     "text": [
      "3006.0\n"
     ]
    },
    {
     "name": "stderr",
     "output_type": "stream",
     "text": [
      "/Users/matthewrush/virtualenv/lib/python3.10/site-packages/pyrosm/pyrosm.py:576: ShapelyDeprecationWarning: The array interface is deprecated and will no longer work in Shapely 2.0. Convert the '.coords' to a numpy array instead.\n",
      "  gdf = get_poi_data(\n"
     ]
    },
    {
     "name": "stdout",
     "output_type": "stream",
     "text": [
      "3008.0\n"
     ]
    },
    {
     "name": "stderr",
     "output_type": "stream",
     "text": [
      "/Users/matthewrush/virtualenv/lib/python3.10/site-packages/pyrosm/pyrosm.py:576: ShapelyDeprecationWarning: The array interface is deprecated and will no longer work in Shapely 2.0. Convert the '.coords' to a numpy array instead.\n",
      "  gdf = get_poi_data(\n"
     ]
    },
    {
     "name": "stdout",
     "output_type": "stream",
     "text": [
      "SEDDON WEST, index 0 is out of bounds for axis 0 with size 0\n",
      "3011.0\n",
      "KINGSVILLE WEST, index 0 is out of bounds for axis 0 with size 0\n",
      "TOTTENHAM, 'NoneType' object is not subscriptable\n",
      "3012.0\n",
      "YARRAVILLE WEST, index 0 is out of bounds for axis 0 with size 0\n",
      "3013.0\n"
     ]
    },
    {
     "name": "stderr",
     "output_type": "stream",
     "text": [
      "/Users/matthewrush/virtualenv/lib/python3.10/site-packages/pyrosm/pyrosm.py:576: ShapelyDeprecationWarning: The array interface is deprecated and will no longer work in Shapely 2.0. Convert the '.coords' to a numpy array instead.\n",
      "  gdf = get_poi_data(\n"
     ]
    },
    {
     "name": "stdout",
     "output_type": "stream",
     "text": [
      "3015.0\n",
      "3016.0\n",
      "3018.0\n",
      "BRAYBROOK NORTH, index 0 is out of bounds for axis 0 with size 0\n",
      "ROBINSON, index 0 is out of bounds for axis 0 with size 0\n",
      "3019.0\n"
     ]
    },
    {
     "name": "stderr",
     "output_type": "stream",
     "text": [
      "/Users/matthewrush/virtualenv/lib/python3.10/site-packages/pyrosm/pyrosm.py:576: ShapelyDeprecationWarning: The array interface is deprecated and will no longer work in Shapely 2.0. Convert the '.coords' to a numpy array instead.\n",
      "  gdf = get_poi_data(\n"
     ]
    },
    {
     "name": "stdout",
     "output_type": "stream",
     "text": [
      "GLENGALA, index 0 is out of bounds for axis 0 with size 0\n",
      "3020.0\n",
      "3021.0\n"
     ]
    },
    {
     "name": "stderr",
     "output_type": "stream",
     "text": [
      "/Users/matthewrush/virtualenv/lib/python3.10/site-packages/pyrosm/pyrosm.py:576: ShapelyDeprecationWarning: The array interface is deprecated and will no longer work in Shapely 2.0. Convert the '.coords' to a numpy array instead.\n",
      "  gdf = get_poi_data(\n"
     ]
    },
    {
     "name": "stdout",
     "output_type": "stream",
     "text": [
      "DEER PARK EAST, index 0 is out of bounds for axis 0 with size 0\n",
      "3022.0\n",
      "DEER PARK NORTH, index 0 is out of bounds for axis 0 with size 0\n",
      "3023.0\n",
      "FIELDSTONE, index 0 is out of bounds for axis 0 with size 0\n",
      "MAMBOURIN, index 0 is out of bounds for axis 0 with size 0\n",
      "MANOR LAKES, index 0 is out of bounds for axis 0 with size 0\n",
      "MOUNT COTTRELL, index 0 is out of bounds for axis 0 with size 0\n",
      "WYNDHAM VALE, index 0 is out of bounds for axis 0 with size 0\n",
      "3024.0\n",
      "ALTONA EAST, index 0 is out of bounds for axis 0 with size 0\n",
      "ALTONA GATE, index 0 is out of bounds for axis 0 with size 0\n",
      "3025.0\n",
      "3026.0\n",
      "LAVERTON RAAF, index 0 is out of bounds for axis 0 with size 0\n",
      "WILLIAMS RAAF, index 0 is out of bounds for axis 0 with size 0\n",
      "3027.0\n",
      "3028.0\n",
      "3029.0\n",
      "CHARTWELL, index 0 is out of bounds for axis 0 with size 0\n"
     ]
    },
    {
     "name": "stderr",
     "output_type": "stream",
     "text": [
      "/Users/matthewrush/virtualenv/lib/python3.10/site-packages/pyrosm/pois.py:38: UserWarning: CRS mismatch between the CRS of left geometries and the CRS of right geometries.\n",
      "Use `to_crs()` to reproject one of the input geometries to match the CRS of the other.\n",
      "\n",
      "Left CRS: None\n",
      "Right CRS: EPSG:4326\n",
      "\n",
      "  gdf = prepare_geodataframe(\n"
     ]
    },
    {
     "name": "stdout",
     "output_type": "stream",
     "text": [
      "QUANDONG, index 0 is out of bounds for axis 0 with size 0\n",
      "3030.0\n"
     ]
    },
    {
     "name": "stderr",
     "output_type": "stream",
     "text": [
      "/Users/matthewrush/virtualenv/lib/python3.10/site-packages/pyrosm/pyrosm.py:576: ShapelyDeprecationWarning: The array interface is deprecated and will no longer work in Shapely 2.0. Convert the '.coords' to a numpy array instead.\n",
      "  gdf = get_poi_data(\n"
     ]
    },
    {
     "name": "stdout",
     "output_type": "stream",
     "text": [
      "3031.0\n"
     ]
    },
    {
     "name": "stderr",
     "output_type": "stream",
     "text": [
      "/Users/matthewrush/virtualenv/lib/python3.10/site-packages/pyrosm/pyrosm.py:576: ShapelyDeprecationWarning: The array interface is deprecated and will no longer work in Shapely 2.0. Convert the '.coords' to a numpy array instead.\n",
      "  gdf = get_poi_data(\n"
     ]
    },
    {
     "name": "stdout",
     "output_type": "stream",
     "text": [
      "HIGHPOINT CITY, index 0 is out of bounds for axis 0 with size 0\n"
     ]
    },
    {
     "name": "stderr",
     "output_type": "stream",
     "text": [
      "/Users/matthewrush/virtualenv/lib/python3.10/site-packages/pyrosm/pyrosm.py:576: ShapelyDeprecationWarning: The array interface is deprecated and will no longer work in Shapely 2.0. Convert the '.coords' to a numpy array instead.\n",
      "  gdf = get_poi_data(\n"
     ]
    },
    {
     "name": "stdout",
     "output_type": "stream",
     "text": [
      "3032.0\n",
      "3033.0\n",
      "3034.0\n",
      "3036.0\n",
      "3037.0\n",
      "WATERGARDENS, index 0 is out of bounds for axis 0 with size 0\n",
      "3038.0\n",
      "3039.0\n"
     ]
    },
    {
     "name": "stderr",
     "output_type": "stream",
     "text": [
      "/Users/matthewrush/virtualenv/lib/python3.10/site-packages/pyrosm/pyrosm.py:576: ShapelyDeprecationWarning: The array interface is deprecated and will no longer work in Shapely 2.0. Convert the '.coords' to a numpy array instead.\n",
      "  gdf = get_poi_data(\n"
     ]
    },
    {
     "name": "stdout",
     "output_type": "stream",
     "text": [
      "3040.0\n"
     ]
    },
    {
     "name": "stderr",
     "output_type": "stream",
     "text": [
      "/Users/matthewrush/virtualenv/lib/python3.10/site-packages/pyrosm/pyrosm.py:576: ShapelyDeprecationWarning: The array interface is deprecated and will no longer work in Shapely 2.0. Convert the '.coords' to a numpy array instead.\n",
      "  gdf = get_poi_data(\n"
     ]
    },
    {
     "name": "stdout",
     "output_type": "stream",
     "text": [
      "3041.0\n",
      "NIDDRIE NORTH, index 0 is out of bounds for axis 0 with size 0\n",
      "3042.0\n",
      "3043.0\n"
     ]
    },
    {
     "name": "stderr",
     "output_type": "stream",
     "text": [
      "/Users/matthewrush/virtualenv/lib/python3.10/site-packages/pyrosm/pyrosm.py:576: ShapelyDeprecationWarning: The array interface is deprecated and will no longer work in Shapely 2.0. Convert the '.coords' to a numpy array instead.\n",
      "  gdf = get_poi_data(\n",
      "/Users/matthewrush/virtualenv/lib/python3.10/site-packages/pyrosm/pyrosm.py:576: ShapelyDeprecationWarning: The array interface is deprecated and will no longer work in Shapely 2.0. Convert the '.coords' to a numpy array instead.\n",
      "  gdf = get_poi_data(\n"
     ]
    },
    {
     "name": "stdout",
     "output_type": "stream",
     "text": [
      "3044.0\n",
      "3046.0\n",
      "3047.0\n",
      "3048.0\n",
      "3049.0\n",
      "HOTHAM HILL, index 0 is out of bounds for axis 0 with size 0\n",
      "3051.0\n",
      "MELBOURNE UNIVERSITY, index 0 is out of bounds for axis 0 with size 0\n"
     ]
    },
    {
     "name": "stderr",
     "output_type": "stream",
     "text": [
      "/Users/matthewrush/virtualenv/lib/python3.10/site-packages/pyrosm/pyrosm.py:576: ShapelyDeprecationWarning: The array interface is deprecated and will no longer work in Shapely 2.0. Convert the '.coords' to a numpy array instead.\n",
      "  gdf = get_poi_data(\n"
     ]
    },
    {
     "name": "stdout",
     "output_type": "stream",
     "text": [
      "3052.0\n",
      "CARLTON SOUTH, index 0 is out of bounds for axis 0 with size 0\n",
      "3053.0\n",
      "3054.0\n",
      "BRUNSWICK SOUTH, index 0 is out of bounds for axis 0 with size 0\n",
      "MOONEE VALE, index 0 is out of bounds for axis 0 with size 0\n",
      "MORELAND WEST, index 0 is out of bounds for axis 0 with size 0\n",
      "3055.0\n",
      "BRUNSWICK LOWER, index 0 is out of bounds for axis 0 with size 0\n",
      "BRUNSWICK NORTH, index 0 is out of bounds for axis 0 with size 0\n",
      "3056.0\n",
      "LYGON STREET NORTH, index 0 is out of bounds for axis 0 with size 0\n",
      "SUMNER, index 0 is out of bounds for axis 0 with size 0\n",
      "3057.0\n",
      "BATMAN, index 0 is out of bounds for axis 0 with size 0\n"
     ]
    },
    {
     "name": "stderr",
     "output_type": "stream",
     "text": [
      "/Users/matthewrush/virtualenv/lib/python3.10/site-packages/pyrosm/pyrosm.py:576: ShapelyDeprecationWarning: The array interface is deprecated and will no longer work in Shapely 2.0. Convert the '.coords' to a numpy array instead.\n",
      "  gdf = get_poi_data(\n",
      "/Users/matthewrush/virtualenv/lib/python3.10/site-packages/pyrosm/pyrosm.py:576: ShapelyDeprecationWarning: The array interface is deprecated and will no longer work in Shapely 2.0. Convert the '.coords' to a numpy array instead.\n",
      "  gdf = get_poi_data(\n"
     ]
    },
    {
     "name": "stdout",
     "output_type": "stream",
     "text": [
      "MERLYNSTON, index 0 is out of bounds for axis 0 with size 0\n",
      "MORELAND, index 0 is out of bounds for axis 0 with size 0\n",
      "3058.0\n",
      "3059.0\n",
      "FAWKNER EAST, index 0 is out of bounds for axis 0 with size 0\n",
      "FAWKNER NORTH, index 0 is out of bounds for axis 0 with size 0\n",
      "3060.0\n",
      "3061.0\n",
      "YUROKE, 'name'\n",
      "3063.0\n"
     ]
    },
    {
     "name": "stderr",
     "output_type": "stream",
     "text": [
      "/Users/matthewrush/virtualenv/lib/python3.10/site-packages/pyrosm/pyrosm.py:576: ShapelyDeprecationWarning: The array interface is deprecated and will no longer work in Shapely 2.0. Convert the '.coords' to a numpy array instead.\n",
      "  gdf = get_poi_data(\n",
      "/Users/matthewrush/virtualenv/lib/python3.10/site-packages/pyrosm/pyrosm.py:576: ShapelyDeprecationWarning: The array interface is deprecated and will no longer work in Shapely 2.0. Convert the '.coords' to a numpy array instead.\n",
      "  gdf = get_poi_data(\n",
      "/Users/matthewrush/virtualenv/lib/python3.10/site-packages/pyrosm/pyrosm.py:576: ShapelyDeprecationWarning: The array interface is deprecated and will no longer work in Shapely 2.0. Convert the '.coords' to a numpy array instead.\n",
      "  gdf = get_poi_data(\n"
     ]
    },
    {
     "name": "stdout",
     "output_type": "stream",
     "text": [
      "3064.0\n",
      "3065.0\n",
      "COLLINGWOOD NORTH, index 0 is out of bounds for axis 0 with size 0\n",
      "3066.0\n"
     ]
    },
    {
     "name": "stderr",
     "output_type": "stream",
     "text": [
      "/Users/matthewrush/virtualenv/lib/python3.10/site-packages/pyrosm/pyrosm.py:576: ShapelyDeprecationWarning: The array interface is deprecated and will no longer work in Shapely 2.0. Convert the '.coords' to a numpy array instead.\n",
      "  gdf = get_poi_data(\n"
     ]
    },
    {
     "name": "stdout",
     "output_type": "stream",
     "text": [
      "3067.0\n",
      "3068.0\n"
     ]
    },
    {
     "name": "stderr",
     "output_type": "stream",
     "text": [
      "/Users/matthewrush/virtualenv/lib/python3.10/site-packages/pyrosm/pyrosm.py:576: ShapelyDeprecationWarning: The array interface is deprecated and will no longer work in Shapely 2.0. Convert the '.coords' to a numpy array instead.\n",
      "  gdf = get_poi_data(\n"
     ]
    },
    {
     "name": "stdout",
     "output_type": "stream",
     "text": [
      "NORTHCOTE SOUTH, index 0 is out of bounds for axis 0 with size 0\n",
      "3070.0\n",
      "3071.0\n",
      "GILBERTON, index 0 is out of bounds for axis 0 with size 0\n",
      "NORTHLAND CENTRE, index 0 is out of bounds for axis 0 with size 0\n",
      "PRESTON LOWER, index 0 is out of bounds for axis 0 with size 0\n",
      "PRESTON SOUTH, index 0 is out of bounds for axis 0 with size 0\n",
      "PRESTON WEST, index 0 is out of bounds for axis 0 with size 0\n",
      "REGENT WEST, index 0 is out of bounds for axis 0 with size 0\n",
      "SYLVESTER, index 0 is out of bounds for axis 0 with size 0\n",
      "3072.0\n",
      "KEON PARK, index 0 is out of bounds for axis 0 with size 0\n",
      "RESERVOIR EAST, index 0 is out of bounds for axis 0 with size 0\n",
      "RESERVOIR NORTH, index 0 is out of bounds for axis 0 with size 0\n",
      "RESERVOIR SOUTH, index 0 is out of bounds for axis 0 with size 0\n",
      "3073.0\n",
      "3074.0\n",
      "LALOR PLAZA, index 0 is out of bounds for axis 0 with size 0\n",
      "3075.0\n",
      "EPPING DC, index 0 is out of bounds for axis 0 with size 0\n",
      "3076.0\n"
     ]
    },
    {
     "name": "stderr",
     "output_type": "stream",
     "text": [
      "/Users/matthewrush/virtualenv/lib/python3.10/site-packages/pyrosm/pyrosm.py:576: ShapelyDeprecationWarning: The array interface is deprecated and will no longer work in Shapely 2.0. Convert the '.coords' to a numpy array instead.\n",
      "  gdf = get_poi_data(\n"
     ]
    },
    {
     "name": "stdout",
     "output_type": "stream",
     "text": [
      "3078.0\n",
      "IVANHOE NORTH, index 0 is out of bounds for axis 0 with size 0\n",
      "3079.0\n",
      "HEIDELBERG RGH, index 0 is out of bounds for axis 0 with size 0\n",
      "3081.0\n",
      "3082.0\n"
     ]
    },
    {
     "name": "stderr",
     "output_type": "stream",
     "text": [
      "/Users/matthewrush/virtualenv/lib/python3.10/site-packages/pyrosm/pyrosm.py:576: ShapelyDeprecationWarning: The array interface is deprecated and will no longer work in Shapely 2.0. Convert the '.coords' to a numpy array instead.\n",
      "  gdf = get_poi_data(\n"
     ]
    },
    {
     "name": "stdout",
     "output_type": "stream",
     "text": [
      "LA TROBE UNIVERSITY, index 0 is out of bounds for axis 0 with size 0\n",
      "3083.0\n"
     ]
    },
    {
     "name": "stderr",
     "output_type": "stream",
     "text": [
      "/Users/matthewrush/virtualenv/lib/python3.10/site-packages/pyrosm/pyrosm.py:576: ShapelyDeprecationWarning: The array interface is deprecated and will no longer work in Shapely 2.0. Convert the '.coords' to a numpy array instead.\n",
      "  gdf = get_poi_data(\n"
     ]
    },
    {
     "name": "stdout",
     "output_type": "stream",
     "text": [
      "3084.0\n",
      "MACLEOD WEST, index 0 is out of bounds for axis 0 with size 0\n",
      "3085.0\n",
      "3087.0\n",
      "SAINT HELENA, index 0 is out of bounds for axis 0 with size 0\n",
      "3088.0\n",
      "3089.0\n",
      "3090.0\n",
      "3093.0\n",
      "3094.0\n",
      "3095.0\n"
     ]
    },
    {
     "name": "stderr",
     "output_type": "stream",
     "text": [
      "/Users/matthewrush/virtualenv/lib/python3.10/site-packages/pyrosm/pois.py:38: UserWarning: CRS mismatch between the CRS of left geometries and the CRS of right geometries.\n",
      "Use `to_crs()` to reproject one of the input geometries to match the CRS of the other.\n",
      "\n",
      "Left CRS: None\n",
      "Right CRS: EPSG:4326\n",
      "\n",
      "  gdf = prepare_geodataframe(\n",
      "/Users/matthewrush/virtualenv/lib/python3.10/site-packages/pyrosm/pyrosm.py:576: UserWarning: Could not find any POIs for given area.\n",
      "  gdf = get_poi_data(\n"
     ]
    },
    {
     "name": "stdout",
     "output_type": "stream",
     "text": [
      "NUTFIELD, 'NoneType' object is not subscriptable\n"
     ]
    },
    {
     "name": "stderr",
     "output_type": "stream",
     "text": [
      "/Users/matthewrush/virtualenv/lib/python3.10/site-packages/pyrosm/pois.py:38: UserWarning: CRS mismatch between the CRS of left geometries and the CRS of right geometries.\n",
      "Use `to_crs()` to reproject one of the input geometries to match the CRS of the other.\n",
      "\n",
      "Left CRS: None\n",
      "Right CRS: EPSG:4326\n",
      "\n",
      "  gdf = prepare_geodataframe(\n"
     ]
    },
    {
     "name": "stdout",
     "output_type": "stream",
     "text": [
      "3099.0\n",
      "COTHAM, index 0 is out of bounds for axis 0 with size 0\n",
      "3101.0\n",
      "3102.0\n"
     ]
    },
    {
     "name": "stderr",
     "output_type": "stream",
     "text": [
      "/Users/matthewrush/virtualenv/lib/python3.10/site-packages/pyrosm/pyrosm.py:576: ShapelyDeprecationWarning: The array interface is deprecated and will no longer work in Shapely 2.0. Convert the '.coords' to a numpy array instead.\n",
      "  gdf = get_poi_data(\n"
     ]
    },
    {
     "name": "stdout",
     "output_type": "stream",
     "text": [
      "BALWYN EAST, index 0 is out of bounds for axis 0 with size 0\n",
      "DEEPDENE DC, index 0 is out of bounds for axis 0 with size 0\n",
      "STRADBROKE PARK, index 0 is out of bounds for axis 0 with size 0\n",
      "3103.0\n"
     ]
    },
    {
     "name": "stderr",
     "output_type": "stream",
     "text": [
      "/Users/matthewrush/virtualenv/lib/python3.10/site-packages/pyrosm/pyrosm.py:576: ShapelyDeprecationWarning: The array interface is deprecated and will no longer work in Shapely 2.0. Convert the '.coords' to a numpy array instead.\n",
      "  gdf = get_poi_data(\n"
     ]
    },
    {
     "name": "stdout",
     "output_type": "stream",
     "text": [
      "GREYTHORN, index 0 is out of bounds for axis 0 with size 0\n",
      "3104.0\n",
      "BULLEEN SOUTH, index 0 is out of bounds for axis 0 with size 0\n",
      "3105.0\n",
      "3106.0\n",
      "3107.0\n"
     ]
    },
    {
     "name": "stderr",
     "output_type": "stream",
     "text": [
      "/Users/matthewrush/virtualenv/lib/python3.10/site-packages/pyrosm/pyrosm.py:576: ShapelyDeprecationWarning: The array interface is deprecated and will no longer work in Shapely 2.0. Convert the '.coords' to a numpy array instead.\n",
      "  gdf = get_poi_data(\n"
     ]
    },
    {
     "name": "stdout",
     "output_type": "stream",
     "text": [
      "3108.0\n",
      "DONCASTER HEIGHTS, index 0 is out of bounds for axis 0 with size 0\n",
      "THE PINES, index 0 is out of bounds for axis 0 with size 0\n",
      "TUNSTALL SQUARE PO, index 0 is out of bounds for axis 0 with size 0\n",
      "3109.0\n"
     ]
    },
    {
     "name": "stderr",
     "output_type": "stream",
     "text": [
      "/Users/matthewrush/virtualenv/lib/python3.10/site-packages/pyrosm/pyrosm.py:576: ShapelyDeprecationWarning: The array interface is deprecated and will no longer work in Shapely 2.0. Convert the '.coords' to a numpy array instead.\n",
      "  gdf = get_poi_data(\n"
     ]
    },
    {
     "name": "stdout",
     "output_type": "stream",
     "text": [
      "3111.0\n"
     ]
    },
    {
     "name": "stderr",
     "output_type": "stream",
     "text": [
      "/Users/matthewrush/virtualenv/lib/python3.10/site-packages/pyrosm/pyrosm.py:576: ShapelyDeprecationWarning: The array interface is deprecated and will no longer work in Shapely 2.0. Convert the '.coords' to a numpy array instead.\n",
      "  gdf = get_poi_data(\n",
      "/Users/matthewrush/virtualenv/lib/python3.10/site-packages/pyrosm/pyrosm.py:576: ShapelyDeprecationWarning: The array interface is deprecated and will no longer work in Shapely 2.0. Convert the '.coords' to a numpy array instead.\n",
      "  gdf = get_poi_data(\n"
     ]
    },
    {
     "name": "stdout",
     "output_type": "stream",
     "text": [
      "3113.0\n"
     ]
    },
    {
     "name": "stderr",
     "output_type": "stream",
     "text": [
      "/Users/matthewrush/virtualenv/lib/python3.10/site-packages/pyrosm/pyrosm.py:576: ShapelyDeprecationWarning: The array interface is deprecated and will no longer work in Shapely 2.0. Convert the '.coords' to a numpy array instead.\n",
      "  gdf = get_poi_data(\n"
     ]
    },
    {
     "name": "stdout",
     "output_type": "stream",
     "text": [
      "3114.0\n"
     ]
    },
    {
     "name": "stderr",
     "output_type": "stream",
     "text": [
      "/Users/matthewrush/virtualenv/lib/python3.10/site-packages/pyrosm/pyrosm.py:576: ShapelyDeprecationWarning: The array interface is deprecated and will no longer work in Shapely 2.0. Convert the '.coords' to a numpy array instead.\n",
      "  gdf = get_poi_data(\n"
     ]
    },
    {
     "name": "stdout",
     "output_type": "stream",
     "text": [
      "3115.0\n",
      "3116.0\n"
     ]
    },
    {
     "name": "stderr",
     "output_type": "stream",
     "text": [
      "/Users/matthewrush/virtualenv/lib/python3.10/site-packages/pyrosm/pyrosm.py:576: ShapelyDeprecationWarning: The array interface is deprecated and will no longer work in Shapely 2.0. Convert the '.coords' to a numpy array instead.\n",
      "  gdf = get_poi_data(\n"
     ]
    },
    {
     "name": "stdout",
     "output_type": "stream",
     "text": [
      "BURNLEY NORTH, index 0 is out of bounds for axis 0 with size 0\n"
     ]
    },
    {
     "name": "stderr",
     "output_type": "stream",
     "text": [
      "/Users/matthewrush/virtualenv/lib/python3.10/site-packages/pyrosm/pyrosm.py:576: ShapelyDeprecationWarning: The array interface is deprecated and will no longer work in Shapely 2.0. Convert the '.coords' to a numpy array instead.\n",
      "  gdf = get_poi_data(\n"
     ]
    },
    {
     "name": "stdout",
     "output_type": "stream",
     "text": [
      "RICHMOND EAST, index 0 is out of bounds for axis 0 with size 0\n",
      "RICHMOND NORTH, index 0 is out of bounds for axis 0 with size 0\n",
      "RICHMOND SOUTH, index 0 is out of bounds for axis 0 with size 0\n",
      "VICTORIA GARDENS, index 0 is out of bounds for axis 0 with size 0\n",
      "3121.0\n",
      "AUBURN SOUTH, index 0 is out of bounds for axis 0 with size 0\n",
      "GLENFERRIE SOUTH, index 0 is out of bounds for axis 0 with size 0\n",
      "HAWTHORN NORTH, index 0 is out of bounds for axis 0 with size 0\n",
      "HAWTHORN WEST, index 0 is out of bounds for axis 0 with size 0\n",
      "3122.0\n",
      "AUBURN, index 0 is out of bounds for axis 0 with size 0\n",
      "3123.0\n",
      "CAMBERWELL NORTH, index 0 is out of bounds for axis 0 with size 0\n",
      "CAMBERWELL SOUTH, index 0 is out of bounds for axis 0 with size 0\n",
      "CAMBERWELL WEST, index 0 is out of bounds for axis 0 with size 0\n",
      "HARTWELL, index 0 is out of bounds for axis 0 with size 0\n",
      "MIDDLE CAMBERWELL, index 0 is out of bounds for axis 0 with size 0\n",
      "3124.0\n",
      "BENNETTSWOOD, index 0 is out of bounds for axis 0 with size 0\n",
      "SURREY HILLS SOUTH, index 0 is out of bounds for axis 0 with size 0\n",
      "3125.0\n",
      "CAMBERWELL EAST, index 0 is out of bounds for axis 0 with size 0\n"
     ]
    },
    {
     "name": "stderr",
     "output_type": "stream",
     "text": [
      "/Users/matthewrush/virtualenv/lib/python3.10/site-packages/pyrosm/pyrosm.py:576: ShapelyDeprecationWarning: The array interface is deprecated and will no longer work in Shapely 2.0. Convert the '.coords' to a numpy array instead.\n",
      "  gdf = get_poi_data(\n"
     ]
    },
    {
     "name": "stdout",
     "output_type": "stream",
     "text": [
      "3126.0\n"
     ]
    },
    {
     "name": "stderr",
     "output_type": "stream",
     "text": [
      "/Users/matthewrush/virtualenv/lib/python3.10/site-packages/pyrosm/pyrosm.py:576: ShapelyDeprecationWarning: The array interface is deprecated and will no longer work in Shapely 2.0. Convert the '.coords' to a numpy array instead.\n",
      "  gdf = get_poi_data(\n"
     ]
    },
    {
     "name": "stdout",
     "output_type": "stream",
     "text": [
      "SURREY HILLS NORTH, index 0 is out of bounds for axis 0 with size 0\n",
      "3127.0\n",
      "BOX HILL CENTRAL, index 0 is out of bounds for axis 0 with size 0\n",
      "HOUSTON, index 0 is out of bounds for axis 0 with size 0\n",
      "WATTLE PARK, index 0 is out of bounds for axis 0 with size 0\n",
      "3128.0\n"
     ]
    },
    {
     "name": "stderr",
     "output_type": "stream",
     "text": [
      "/Users/matthewrush/virtualenv/lib/python3.10/site-packages/pyrosm/pyrosm.py:576: ShapelyDeprecationWarning: The array interface is deprecated and will no longer work in Shapely 2.0. Convert the '.coords' to a numpy array instead.\n",
      "  gdf = get_poi_data(\n"
     ]
    },
    {
     "name": "stdout",
     "output_type": "stream",
     "text": [
      "KERRIMUIR, index 0 is out of bounds for axis 0 with size 0\n",
      "3129.0\n",
      "LABURNUM, index 0 is out of bounds for axis 0 with size 0\n",
      "3130.0\n",
      "BRENTFORD SQUARE, index 0 is out of bounds for axis 0 with size 0\n",
      "3131.0\n",
      "MITCHAM NORTH, index 0 is out of bounds for axis 0 with size 0\n",
      "RANGEVIEW, index 0 is out of bounds for axis 0 with size 0\n",
      "3132.0\n",
      "3133.0\n",
      "HEATHWOOD, index 0 is out of bounds for axis 0 with size 0\n",
      "3134.0\n",
      "BEDFORD ROAD, index 0 is out of bounds for axis 0 with size 0\n"
     ]
    },
    {
     "name": "stderr",
     "output_type": "stream",
     "text": [
      "/Users/matthewrush/virtualenv/lib/python3.10/site-packages/pyrosm/pyrosm.py:576: ShapelyDeprecationWarning: The array interface is deprecated and will no longer work in Shapely 2.0. Convert the '.coords' to a numpy array instead.\n",
      "  gdf = get_poi_data(\n",
      "/Users/matthewrush/virtualenv/lib/python3.10/site-packages/pyrosm/pyrosm.py:576: ShapelyDeprecationWarning: The array interface is deprecated and will no longer work in Shapely 2.0. Convert the '.coords' to a numpy array instead.\n",
      "  gdf = get_poi_data(\n"
     ]
    },
    {
     "name": "stdout",
     "output_type": "stream",
     "text": [
      "3135.0\n",
      "3136.0\n",
      "KILSYTH SOUTH, index 0 is out of bounds for axis 0 with size 0\n",
      "3137.0\n",
      "3138.0\n",
      "BEENAK, index 0 is out of bounds for axis 0 with size 0\n",
      "DON VALLEY, index 0 is out of bounds for axis 0 with size 0\n",
      "HODDLES CREEK, index 0 is out of bounds for axis 0 with size 0\n",
      "LAUNCHING PLACE, index 0 is out of bounds for axis 0 with size 0\n",
      "SEVILLE, index 0 is out of bounds for axis 0 with size 0\n",
      "SEVILLE EAST, index 0 is out of bounds for axis 0 with size 0\n",
      "WANDIN EAST, index 0 is out of bounds for axis 0 with size 0\n",
      "WANDIN NORTH, index 0 is out of bounds for axis 0 with size 0\n",
      "WOORI YALLOCK, index 0 is out of bounds for axis 0 with size 0\n",
      "YELLINGBO, index 0 is out of bounds for axis 0 with size 0\n",
      "3139.0\n",
      "LILYDALE, index 0 is out of bounds for axis 0 with size 0\n",
      "3140.0\n",
      "CHAPEL STREET NORTH, index 0 is out of bounds for axis 0 with size 0\n",
      "DOMAIN ROAD PO, index 0 is out of bounds for axis 0 with size 0\n",
      "3141.0\n",
      "HAWKSBURN, index 0 is out of bounds for axis 0 with size 0\n"
     ]
    },
    {
     "name": "stderr",
     "output_type": "stream",
     "text": [
      "/Users/matthewrush/virtualenv/lib/python3.10/site-packages/pyrosm/pyrosm.py:576: ShapelyDeprecationWarning: The array interface is deprecated and will no longer work in Shapely 2.0. Convert the '.coords' to a numpy array instead.\n",
      "  gdf = get_poi_data(\n"
     ]
    },
    {
     "name": "stdout",
     "output_type": "stream",
     "text": [
      "3142.0\n",
      "ARMADALE NORTH, index 0 is out of bounds for axis 0 with size 0\n",
      "3143.0\n",
      "MALVERN NORTH, index 0 is out of bounds for axis 0 with size 0\n",
      "3144.0\n",
      "CENTRAL PARK, index 0 is out of bounds for axis 0 with size 0\n",
      "DARLING, index 0 is out of bounds for axis 0 with size 0\n",
      "DARLING SOUTH, index 0 is out of bounds for axis 0 with size 0\n",
      "WATTLETREE ROAD PO, index 0 is out of bounds for axis 0 with size 0\n",
      "3145.0\n",
      "3146.0\n",
      "3147.0\n",
      "CHADSTONE CENTRE, index 0 is out of bounds for axis 0 with size 0\n",
      "HOLMESGLEN, index 0 is out of bounds for axis 0 with size 0\n",
      "JORDANVILLE, index 0 is out of bounds for axis 0 with size 0\n",
      "3148.0\n"
     ]
    },
    {
     "name": "stderr",
     "output_type": "stream",
     "text": [
      "/Users/matthewrush/virtualenv/lib/python3.10/site-packages/pyrosm/pyrosm.py:576: ShapelyDeprecationWarning: The array interface is deprecated and will no longer work in Shapely 2.0. Convert the '.coords' to a numpy array instead.\n",
      "  gdf = get_poi_data(\n"
     ]
    },
    {
     "name": "stdout",
     "output_type": "stream",
     "text": [
      "PINEWOOD, index 0 is out of bounds for axis 0 with size 0\n",
      "SYNDAL, index 0 is out of bounds for axis 0 with size 0\n",
      "3149.0\n",
      "BRANDON PARK, index 0 is out of bounds for axis 0 with size 0\n"
     ]
    },
    {
     "name": "stderr",
     "output_type": "stream",
     "text": [
      "/Users/matthewrush/virtualenv/lib/python3.10/site-packages/pyrosm/pyrosm.py:576: ShapelyDeprecationWarning: The array interface is deprecated and will no longer work in Shapely 2.0. Convert the '.coords' to a numpy array instead.\n",
      "  gdf = get_poi_data(\n"
     ]
    },
    {
     "name": "stdout",
     "output_type": "stream",
     "text": [
      "3150.0\n",
      "BURWOOD HEIGHTS, index 0 is out of bounds for axis 0 with size 0\n",
      "3151.0\n",
      "KNOX CITY CENTRE, index 0 is out of bounds for axis 0 with size 0\n",
      "STUDFIELD, index 0 is out of bounds for axis 0 with size 0\n",
      "3152.0\n"
     ]
    },
    {
     "name": "stderr",
     "output_type": "stream",
     "text": [
      "/Users/matthewrush/virtualenv/lib/python3.10/site-packages/pyrosm/pyrosm.py:576: ShapelyDeprecationWarning: The array interface is deprecated and will no longer work in Shapely 2.0. Convert the '.coords' to a numpy array instead.\n",
      "  gdf = get_poi_data(\n"
     ]
    },
    {
     "name": "stdout",
     "output_type": "stream",
     "text": [
      "3153.0\n"
     ]
    },
    {
     "name": "stderr",
     "output_type": "stream",
     "text": [
      "/Users/matthewrush/virtualenv/lib/python3.10/site-packages/pyrosm/pyrosm.py:576: UserWarning: Could not find any POIs for given area.\n",
      "  gdf = get_poi_data(\n"
     ]
    },
    {
     "name": "stdout",
     "output_type": "stream",
     "text": [
      "THE BASIN, 'NoneType' object is not subscriptable\n",
      "3154.0\n"
     ]
    },
    {
     "name": "stderr",
     "output_type": "stream",
     "text": [
      "/Users/matthewrush/virtualenv/lib/python3.10/site-packages/pyrosm/pyrosm.py:576: ShapelyDeprecationWarning: The array interface is deprecated and will no longer work in Shapely 2.0. Convert the '.coords' to a numpy array instead.\n",
      "  gdf = get_poi_data(\n"
     ]
    },
    {
     "name": "stdout",
     "output_type": "stream",
     "text": [
      "3155.0\n",
      "MOUNTAIN GATE, index 0 is out of bounds for axis 0 with size 0\n"
     ]
    },
    {
     "name": "stderr",
     "output_type": "stream",
     "text": [
      "/Users/matthewrush/virtualenv/lib/python3.10/site-packages/pyrosm/pyrosm.py:576: UserWarning: Could not find any POIs for given area.\n",
      "  gdf = get_poi_data(\n"
     ]
    },
    {
     "name": "stdout",
     "output_type": "stream",
     "text": [
      "UPPER FERNTREE GULLY, 'NoneType' object is not subscriptable\n",
      "3156.0\n",
      "UPWEY, index 0 is out of bounds for axis 0 with size 0\n",
      "3158.0\n",
      "MENZIES CREEK, index 0 is out of bounds for axis 0 with size 0\n",
      "SELBY, index 0 is out of bounds for axis 0 with size 0\n",
      "3159.0\n",
      "BELGRAVE, index 0 is out of bounds for axis 0 with size 0\n",
      "BELGRAVE HEIGHTS, index 0 is out of bounds for axis 0 with size 0\n",
      "BELGRAVE SOUTH, index 0 is out of bounds for axis 0 with size 0\n",
      "TECOMA, index 0 is out of bounds for axis 0 with size 0\n",
      "3160.0\n",
      "CAULFIELD JUNCTION, index 0 is out of bounds for axis 0 with size 0\n",
      "3161.0\n",
      "HOPETOUN GARDENS, index 0 is out of bounds for axis 0 with size 0\n",
      "3162.0\n",
      "BOORAN ROAD PO, index 0 is out of bounds for axis 0 with size 0\n",
      "3163.0\n",
      "COATESVILLE, index 0 is out of bounds for axis 0 with size 0\n",
      "3165.0\n",
      "HUNTINGDALE, 'name'\n",
      "3166.0\n",
      "3167.0\n",
      "3168.0\n",
      "3169.0\n",
      "WAVERLEY GARDENS, index 0 is out of bounds for axis 0 with size 0\n",
      "3170.0\n",
      "SANDOWN VILLAGE, index 0 is out of bounds for axis 0 with size 0\n",
      "3171.0\n",
      "3172.0\n",
      "3173.0\n",
      "NOBLE PARK EAST, index 0 is out of bounds for axis 0 with size 0\n",
      "3174.0\n",
      "BANGHOLME, index 0 is out of bounds for axis 0 with size 0\n",
      "DANDENONG EAST, index 0 is out of bounds for axis 0 with size 0\n",
      "DUNEARN, index 0 is out of bounds for axis 0 with size 0\n",
      "3175.0\n",
      "3177.0\n",
      "3178.0\n",
      "3179.0\n",
      "3180.0\n",
      "PRAHRAN EAST, index 0 is out of bounds for axis 0 with size 0\n",
      "3181.0\n",
      "ST KILDA SOUTH, index 0 is out of bounds for axis 0 with size 0\n",
      "3182.0\n",
      "3183.0\n",
      "BRIGHTON ROAD, index 0 is out of bounds for axis 0 with size 0\n",
      "3184.0\n",
      "3185.0\n",
      "BRIGHTON NORTH, index 0 is out of bounds for axis 0 with size 0\n",
      "DENDY, index 0 is out of bounds for axis 0 with size 0\n",
      "WERE STREET PO, index 0 is out of bounds for axis 0 with size 0\n",
      "3186.0\n",
      "NORTH ROAD, index 0 is out of bounds for axis 0 with size 0\n",
      "3187.0\n",
      "HAMPTON NORTH, index 0 is out of bounds for axis 0 with size 0\n",
      "3188.0\n"
     ]
    },
    {
     "name": "stderr",
     "output_type": "stream",
     "text": [
      "/Users/matthewrush/virtualenv/lib/python3.10/site-packages/pyrosm/pyrosm.py:576: ShapelyDeprecationWarning: The array interface is deprecated and will no longer work in Shapely 2.0. Convert the '.coords' to a numpy array instead.\n",
      "  gdf = get_poi_data(\n"
     ]
    },
    {
     "name": "stdout",
     "output_type": "stream",
     "text": [
      "MOORABBIN EAST, index 0 is out of bounds for axis 0 with size 0\n",
      "WISHART, index 0 is out of bounds for axis 0 with size 0\n",
      "3189.0\n",
      "3190.0\n",
      "3191.0\n",
      "CHELTENHAM EAST, index 0 is out of bounds for axis 0 with size 0\n",
      "CHELTENHAM NORTH, index 0 is out of bounds for axis 0 with size 0\n",
      "SOUTHLAND CENTRE, index 0 is out of bounds for axis 0 with size 0\n",
      "3192.0\n",
      "BLACK ROCK NORTH, index 0 is out of bounds for axis 0 with size 0\n",
      "CROMER, index 0 is out of bounds for axis 0 with size 0\n",
      "3193.0\n",
      "MENTONE EAST, index 0 is out of bounds for axis 0 with size 0\n",
      "MOORABBIN AIRPORT, 'NoneType' object is not subscriptable\n",
      "3194.0\n",
      "MORDIALLOC NORTH, index 0 is out of bounds for axis 0 with size 0\n",
      "3195.0\n",
      "BONBEACH, index 0 is out of bounds for axis 0 with size 0\n",
      "CHELSEA, index 0 is out of bounds for axis 0 with size 0\n",
      "CHELSEA HEIGHTS, index 0 is out of bounds for axis 0 with size 0\n",
      "EDITHVALE, index 0 is out of bounds for axis 0 with size 0\n",
      "3196.0\n",
      "CARRUM, index 0 is out of bounds for axis 0 with size 0\n",
      "PATTERSON LAKES, index 0 is out of bounds for axis 0 with size 0\n",
      "3197.0\n",
      "BELVEDERE PARK, index 0 is out of bounds for axis 0 with size 0\n",
      "SEAFORD, index 0 is out of bounds for axis 0 with size 0\n",
      "3198.0\n",
      "FRANKSTON, index 0 is out of bounds for axis 0 with size 0\n",
      "FRANKSTON EAST, index 0 is out of bounds for axis 0 with size 0\n",
      "FRANKSTON HEIGHTS, index 0 is out of bounds for axis 0 with size 0\n",
      "FRANKSTON SOUTH, index 0 is out of bounds for axis 0 with size 0\n",
      "KARINGAL, index 0 is out of bounds for axis 0 with size 0\n",
      "KARINGAL CENTRE, index 0 is out of bounds for axis 0 with size 0\n",
      "3199.0\n",
      "FRANKSTON NORTH, index 0 is out of bounds for axis 0 with size 0\n",
      "PINES FOREST, index 0 is out of bounds for axis 0 with size 0\n",
      "3200.0\n",
      "CARRUM DOWNS, index 0 is out of bounds for axis 0 with size 0\n",
      "3201.0\n",
      "3202.0\n",
      "MCKINNON, index 0 is out of bounds for axis 0 with size 0\n",
      "PATTERSON, index 0 is out of bounds for axis 0 with size 0\n",
      "3204.0\n",
      "SOUTH MELBOURNE DC, index 0 is out of bounds for axis 0 with size 0\n",
      "3205.0\n",
      "3206.0\n",
      "GARDEN CITY, index 0 is out of bounds for axis 0 with size 0\n"
     ]
    },
    {
     "name": "stderr",
     "output_type": "stream",
     "text": [
      "/Users/matthewrush/virtualenv/lib/python3.10/site-packages/pyrosm/pyrosm.py:576: ShapelyDeprecationWarning: The array interface is deprecated and will no longer work in Shapely 2.0. Convert the '.coords' to a numpy array instead.\n",
      "  gdf = get_poi_data(\n"
     ]
    },
    {
     "name": "stdout",
     "output_type": "stream",
     "text": [
      "3207.0\n",
      "LITTLE RIVER, index 0 is out of bounds for axis 0 with size 0\n",
      "3211.0\n",
      "AVALON, index 0 is out of bounds for axis 0 with size 0\n",
      "LARA, index 0 is out of bounds for axis 0 with size 0\n",
      "POINT WILSON, index 0 is out of bounds for axis 0 with size 0\n",
      "3212.0\n",
      "ANAKIE, index 0 is out of bounds for axis 0 with size 0\n",
      "BATESFORD, index 0 is out of bounds for axis 0 with size 0\n",
      "LOVELY BANKS, index 0 is out of bounds for axis 0 with size 0\n",
      "MOORABOOL, index 0 is out of bounds for axis 0 with size 0\n",
      "3213.0\n",
      "CORIO, index 0 is out of bounds for axis 0 with size 0\n",
      "NORLANE, index 0 is out of bounds for axis 0 with size 0\n",
      "NORTH SHORE, index 0 is out of bounds for axis 0 with size 0\n",
      "3214.0\n",
      "BELL PARK, index 0 is out of bounds for axis 0 with size 0\n",
      "BELL POST HILL, index 0 is out of bounds for axis 0 with size 0\n",
      "DRUMCONDRA, index 0 is out of bounds for axis 0 with size 0\n",
      "GEELONG NORTH, index 0 is out of bounds for axis 0 with size 0\n",
      "HAMLYN HEIGHTS, index 0 is out of bounds for axis 0 with size 0\n",
      "NORTH GEELONG, index 0 is out of bounds for axis 0 with size 0\n",
      "RIPPLESIDE, index 0 is out of bounds for axis 0 with size 0\n",
      "3215.0\n",
      "BELMONT, index 0 is out of bounds for axis 0 with size 0\n",
      "FRESHWATER CREEK, index 0 is out of bounds for axis 0 with size 0\n",
      "GROVEDALE, index 0 is out of bounds for axis 0 with size 0\n",
      "GROVEDALE EAST, index 0 is out of bounds for axis 0 with size 0\n",
      "HIGHTON, index 0 is out of bounds for axis 0 with size 0\n",
      "MARSHALL, index 0 is out of bounds for axis 0 with size 0\n",
      "MOUNT DUNEED, index 0 is out of bounds for axis 0 with size 0\n",
      "WANDANA HEIGHTS, index 0 is out of bounds for axis 0 with size 0\n",
      "WAURN PONDS, index 0 is out of bounds for axis 0 with size 0\n",
      "3216.0\n",
      "ARMSTRONG CREEK, index 0 is out of bounds for axis 0 with size 0\n",
      "CHARLEMONT, index 0 is out of bounds for axis 0 with size 0\n",
      "DEAKIN UNIVERSITY, index 0 is out of bounds for axis 0 with size 0\n",
      "FRESHWATER CREEK, index 0 is out of bounds for axis 0 with size 0\n",
      "MOUNT DUNEED, index 0 is out of bounds for axis 0 with size 0\n",
      "3217.0\n",
      "FYANSFORD, index 0 is out of bounds for axis 0 with size 0\n",
      "GEELONG WEST, index 0 is out of bounds for axis 0 with size 0\n",
      "HERNE HILL, index 0 is out of bounds for axis 0 with size 0\n",
      "MANIFOLD HEIGHTS, index 0 is out of bounds for axis 0 with size 0\n",
      "MURGHEBOLUC, index 0 is out of bounds for axis 0 with size 0\n",
      "STONEHAVEN, index 0 is out of bounds for axis 0 with size 0\n",
      "3218.0\n",
      "BREAKWATER, index 0 is out of bounds for axis 0 with size 0\n",
      "EAST GEELONG, index 0 is out of bounds for axis 0 with size 0\n",
      "NEWCOMB, index 0 is out of bounds for axis 0 with size 0\n",
      "ST ALBANS PARK, index 0 is out of bounds for axis 0 with size 0\n",
      "THOMSON, index 0 is out of bounds for axis 0 with size 0\n",
      "WHITTINGTON, index 0 is out of bounds for axis 0 with size 0\n",
      "3219.0\n",
      "BAREENA, index 0 is out of bounds for axis 0 with size 0\n",
      "GEELONG, index 0 is out of bounds for axis 0 with size 0\n",
      "NEWTOWN, index 0 is out of bounds for axis 0 with size 0\n",
      "SOUTH GEELONG, index 0 is out of bounds for axis 0 with size 0\n",
      "3220.0\n",
      "CLIFTON SPRINGS, index 0 is out of bounds for axis 0 with size 0\n",
      "CURLEWIS, index 0 is out of bounds for axis 0 with size 0\n",
      "DRYSDALE, index 0 is out of bounds for axis 0 with size 0\n",
      "MANNERIM, index 0 is out of bounds for axis 0 with size 0\n",
      "MARCUS HILL, index 0 is out of bounds for axis 0 with size 0\n",
      "WALLINGTON, index 0 is out of bounds for axis 0 with size 0\n",
      "3222.0\n",
      "BELLARINE, index 0 is out of bounds for axis 0 with size 0\n",
      "INDENTED HEAD, index 0 is out of bounds for axis 0 with size 0\n",
      "PORTARLINGTON, index 0 is out of bounds for axis 0 with size 0\n",
      "ST LEONARDS, index 0 is out of bounds for axis 0 with size 0\n",
      "3223.0\n",
      "LEOPOLD, index 0 is out of bounds for axis 0 with size 0\n",
      "MOOLAP, index 0 is out of bounds for axis 0 with size 0\n",
      "3224.0\n",
      "POINT LONSDALE, index 0 is out of bounds for axis 0 with size 0\n",
      "QUEENSCLIFF, index 0 is out of bounds for axis 0 with size 0\n",
      "SWAN BAY, index 0 is out of bounds for axis 0 with size 0\n",
      "SWAN ISLAND, index 0 is out of bounds for axis 0 with size 0\n",
      "3225.0\n",
      "OCEAN GROVE, index 0 is out of bounds for axis 0 with size 0\n",
      "3226.0\n",
      "BARWON HEADS, index 0 is out of bounds for axis 0 with size 0\n",
      "BREAMLEA, index 0 is out of bounds for axis 0 with size 0\n",
      "CONNEWARRE, index 0 is out of bounds for axis 0 with size 0\n",
      "3227.0\n",
      "BELLBRAE, index 0 is out of bounds for axis 0 with size 0\n",
      "BELLS BEACH, index 0 is out of bounds for axis 0 with size 0\n",
      "JAN JUC, index 0 is out of bounds for axis 0 with size 0\n",
      "TORQUAY, index 0 is out of bounds for axis 0 with size 0\n",
      "3228.0\n",
      "ANGLESEA, index 0 is out of bounds for axis 0 with size 0\n",
      "3230.0\n",
      "APOLLO BAY, index 0 is out of bounds for axis 0 with size 0\n",
      "CAPE OTWAY, index 0 is out of bounds for axis 0 with size 0\n",
      "MARENGO, index 0 is out of bounds for axis 0 with size 0\n",
      "PETTICOAT CREEK, index 0 is out of bounds for axis 0 with size 0\n",
      "SKENES CREEK, index 0 is out of bounds for axis 0 with size 0\n",
      "SKENES CREEK NORTH, index 0 is out of bounds for axis 0 with size 0\n",
      "3233.0\n",
      "FORREST, index 0 is out of bounds for axis 0 with size 0\n",
      "MOUNT SABINE, index 0 is out of bounds for axis 0 with size 0\n",
      "3236.0\n",
      "CARLISLE RIVER, index 0 is out of bounds for axis 0 with size 0\n",
      "CHAPPLE VALE, index 0 is out of bounds for axis 0 with size 0\n",
      "GELLIBRAND, index 0 is out of bounds for axis 0 with size 0\n",
      "KENNEDYS CREEK, index 0 is out of bounds for axis 0 with size 0\n",
      "3239.0\n",
      "BUCKLEY, index 0 is out of bounds for axis 0 with size 0\n",
      "GHERANG, index 0 is out of bounds for axis 0 with size 0\n",
      "MODEWARRE, index 0 is out of bounds for axis 0 with size 0\n",
      "MORIAC, index 0 is out of bounds for axis 0 with size 0\n",
      "MOUNT MORIAC, index 0 is out of bounds for axis 0 with size 0\n",
      "PARAPARAP, index 0 is out of bounds for axis 0 with size 0\n",
      "3240.0\n",
      "BAMBRA, index 0 is out of bounds for axis 0 with size 0\n",
      "OMBERSLEY, index 0 is out of bounds for axis 0 with size 0\n",
      "WENSLEYDALE, index 0 is out of bounds for axis 0 with size 0\n",
      "WINCHELSEA, index 0 is out of bounds for axis 0 with size 0\n",
      "WINCHELSEA SOUTH, index 0 is out of bounds for axis 0 with size 0\n",
      "WURDIBOLUC, index 0 is out of bounds for axis 0 with size 0\n",
      "3241.0\n",
      "BIRREGURRA, index 0 is out of bounds for axis 0 with size 0\n",
      "3242.0\n",
      "ALVIE, index 0 is out of bounds for axis 0 with size 0\n",
      "BALINTORE, index 0 is out of bounds for axis 0 with size 0\n",
      "BARONGAROOK, index 0 is out of bounds for axis 0 with size 0\n",
      "BARONGAROOK WEST, index 0 is out of bounds for axis 0 with size 0\n",
      "BARRAMUNGA, index 0 is out of bounds for axis 0 with size 0\n",
      "CORAGULAC, index 0 is out of bounds for axis 0 with size 0\n",
      "CORUNNUN, index 0 is out of bounds for axis 0 with size 0\n",
      "DREEITE, index 0 is out of bounds for axis 0 with size 0\n",
      "DREEITE SOUTH, index 0 is out of bounds for axis 0 with size 0\n",
      "GERANGAMETE, index 0 is out of bounds for axis 0 with size 0\n",
      "IRREWARRA, index 0 is out of bounds for axis 0 with size 0\n",
      "IRREWILLIPE, index 0 is out of bounds for axis 0 with size 0\n",
      "IRREWILLIPE EAST, index 0 is out of bounds for axis 0 with size 0\n",
      "KAWARREN, index 0 is out of bounds for axis 0 with size 0\n",
      "LARPENT, index 0 is out of bounds for axis 0 with size 0\n",
      "NALANGIL, index 0 is out of bounds for axis 0 with size 0\n",
      "ONDIT, index 0 is out of bounds for axis 0 with size 0\n",
      "PIRRON YALLOCK, index 0 is out of bounds for axis 0 with size 0\n",
      "POMBORNEIT EAST, index 0 is out of bounds for axis 0 with size 0\n",
      "SWAN MARSH, index 0 is out of bounds for axis 0 with size 0\n",
      "TANYBRYN, index 0 is out of bounds for axis 0 with size 0\n",
      "WARRION, index 0 is out of bounds for axis 0 with size 0\n",
      "WOOL WOOL, index 0 is out of bounds for axis 0 with size 0\n",
      "YEO, index 0 is out of bounds for axis 0 with size 0\n",
      "YEODENE, index 0 is out of bounds for axis 0 with size 0\n",
      "3249.0\n",
      "COLAC, index 0 is out of bounds for axis 0 with size 0\n",
      "COLAC EAST, index 0 is out of bounds for axis 0 with size 0\n",
      "COLAC WEST, index 0 is out of bounds for axis 0 with size 0\n",
      "ELLIMINYT, index 0 is out of bounds for axis 0 with size 0\n",
      "3250.0\n",
      "BEEAC, index 0 is out of bounds for axis 0 with size 0\n",
      "CUNDARE, index 0 is out of bounds for axis 0 with size 0\n",
      "CUNDARE NORTH, index 0 is out of bounds for axis 0 with size 0\n",
      "EURACK, index 0 is out of bounds for axis 0 with size 0\n",
      "WEERING, index 0 is out of bounds for axis 0 with size 0\n",
      "3251.0\n",
      "BOOKAAR, index 0 is out of bounds for axis 0 with size 0\n",
      "BOSTOCKS CREEK, index 0 is out of bounds for axis 0 with size 0\n",
      "BUNGADOR, index 0 is out of bounds for axis 0 with size 0\n",
      "CAMPERDOWN, index 0 is out of bounds for axis 0 with size 0\n",
      "CARPENDEIT, index 0 is out of bounds for axis 0 with size 0\n",
      "CHOCOLYN, index 0 is out of bounds for axis 0 with size 0\n",
      "GNOTUK, index 0 is out of bounds for axis 0 with size 0\n",
      "KARIAH, index 0 is out of bounds for axis 0 with size 0\n",
      "KOALLAH, index 0 is out of bounds for axis 0 with size 0\n",
      "LESLIE MANOR, index 0 is out of bounds for axis 0 with size 0\n",
      "POMBORNEIT, index 0 is out of bounds for axis 0 with size 0\n",
      "POMBORNEIT NORTH, index 0 is out of bounds for axis 0 with size 0\n",
      "SKIBO, index 0 is out of bounds for axis 0 with size 0\n",
      "SOUTH PURRUMBETE, index 0 is out of bounds for axis 0 with size 0\n",
      "STONYFORD, index 0 is out of bounds for axis 0 with size 0\n",
      "TANDAROOK, index 0 is out of bounds for axis 0 with size 0\n",
      "TESBURY, index 0 is out of bounds for axis 0 with size 0\n",
      "WEERITE, index 0 is out of bounds for axis 0 with size 0\n",
      "3260.0\n",
      "TERANG, index 0 is out of bounds for axis 0 with size 0\n",
      "3264.0\n",
      "BULLAHARRE, index 0 is out of bounds for axis 0 with size 0\n",
      "COBDEN, index 0 is out of bounds for axis 0 with size 0\n",
      "COBRICO, index 0 is out of bounds for axis 0 with size 0\n",
      "ELINGAMITE, index 0 is out of bounds for axis 0 with size 0\n",
      "ELINGAMITE NORTH, index 0 is out of bounds for axis 0 with size 0\n",
      "GLENFYNE, index 0 is out of bounds for axis 0 with size 0\n",
      "JANCOURT, index 0 is out of bounds for axis 0 with size 0\n",
      "JANCOURT EAST, index 0 is out of bounds for axis 0 with size 0\n",
      "NAROGHID, index 0 is out of bounds for axis 0 with size 0\n",
      "SIMPSON, index 0 is out of bounds for axis 0 with size 0\n",
      "3266.0\n",
      "AYRFORD, index 0 is out of bounds for axis 0 with size 0\n",
      "BRUCKNELL, index 0 is out of bounds for axis 0 with size 0\n",
      "COORIEMUNGLE, index 0 is out of bounds for axis 0 with size 0\n",
      "COWLEYS CREEK, index 0 is out of bounds for axis 0 with size 0\n",
      "CURDIE VALE, index 0 is out of bounds for axis 0 with size 0\n",
      "CURDIES RIVER, index 0 is out of bounds for axis 0 with size 0\n",
      "CURDIEVALE, index 0 is out of bounds for axis 0 with size 0\n",
      "HEYTESBURY LOWER, index 0 is out of bounds for axis 0 with size 0\n",
      "NEWFIELD, index 0 is out of bounds for axis 0 with size 0\n",
      "NIRRANDA, index 0 is out of bounds for axis 0 with size 0\n",
      "NIRRANDA EAST, index 0 is out of bounds for axis 0 with size 0\n",
      "NIRRANDA SOUTH, index 0 is out of bounds for axis 0 with size 0\n",
      "NULLAWARRE, index 0 is out of bounds for axis 0 with size 0\n",
      "NULLAWARRE EAST, index 0 is out of bounds for axis 0 with size 0\n",
      "NULLAWARRE NORTH, index 0 is out of bounds for axis 0 with size 0\n",
      "PAARATTE, index 0 is out of bounds for axis 0 with size 0\n",
      "THE COVE, index 0 is out of bounds for axis 0 with size 0\n",
      "TIMBOON, index 0 is out of bounds for axis 0 with size 0\n",
      "TIMBOON WEST, index 0 is out of bounds for axis 0 with size 0\n",
      "3268.0\n",
      "PORT CAMPBELL, index 0 is out of bounds for axis 0 with size 0\n",
      "PRINCETOWN, index 0 is out of bounds for axis 0 with size 0\n",
      "WAARRE, index 0 is out of bounds for axis 0 with size 0\n",
      "3269.0\n",
      "PETERBOROUGH, index 0 is out of bounds for axis 0 with size 0\n",
      "3270.0\n",
      "MORTLAKE, index 0 is out of bounds for axis 0 with size 0\n",
      "WOORNDOO, index 0 is out of bounds for axis 0 with size 0\n",
      "3272.0\n",
      "HEXHAM, index 0 is out of bounds for axis 0 with size 0\n",
      "3273.0\n",
      "ALLANSFORD, index 0 is out of bounds for axis 0 with size 0\n",
      "MEPUNGA, index 0 is out of bounds for axis 0 with size 0\n",
      "MEPUNGA EAST, index 0 is out of bounds for axis 0 with size 0\n",
      "MEPUNGA WEST, index 0 is out of bounds for axis 0 with size 0\n",
      "NARINGAL, index 0 is out of bounds for axis 0 with size 0\n",
      "NARINGAL EAST, index 0 is out of bounds for axis 0 with size 0\n",
      "3277.0\n",
      "DENNINGTON, index 0 is out of bounds for axis 0 with size 0\n",
      "MINJAH, index 0 is out of bounds for axis 0 with size 0\n",
      "WARRNAMBOOL, index 0 is out of bounds for axis 0 with size 0\n",
      "WARRNAMBOOL EAST, index 0 is out of bounds for axis 0 with size 0\n",
      "WARRNAMBOOL WEST, index 0 is out of bounds for axis 0 with size 0\n",
      "3280.0\n",
      "ORFORD, index 0 is out of bounds for axis 0 with size 0\n",
      "PORT FAIRY, index 0 is out of bounds for axis 0 with size 0\n",
      "3284.0\n",
      "HAWKESDALE, index 0 is out of bounds for axis 0 with size 0\n",
      "MINHAMITE, index 0 is out of bounds for axis 0 with size 0\n",
      "3287.0\n",
      "GAZETTE, index 0 is out of bounds for axis 0 with size 0\n",
      "GERRIGERRUP, index 0 is out of bounds for axis 0 with size 0\n",
      "PENSHURST, index 0 is out of bounds for axis 0 with size 0\n",
      "PURDEET, index 0 is out of bounds for axis 0 with size 0\n",
      "TABOR, index 0 is out of bounds for axis 0 with size 0\n",
      "3289.0\n",
      "BYADUK NORTH, index 0 is out of bounds for axis 0 with size 0\n",
      "HAMILTON, index 0 is out of bounds for axis 0 with size 0\n",
      "3300.0\n",
      "BRANXHOLME, index 0 is out of bounds for axis 0 with size 0\n",
      "GRASSDALE, index 0 is out of bounds for axis 0 with size 0\n",
      "3302.0\n",
      "ALLESTREE, index 0 is out of bounds for axis 0 with size 0\n",
      "BOLWARRA, index 0 is out of bounds for axis 0 with size 0\n",
      "CAPE BRIDGEWATER, index 0 is out of bounds for axis 0 with size 0\n",
      "CASHMORE, index 0 is out of bounds for axis 0 with size 0\n",
      "DUTTON WAY, index 0 is out of bounds for axis 0 with size 0\n",
      "GORAE, index 0 is out of bounds for axis 0 with size 0\n",
      "GORAE WEST, index 0 is out of bounds for axis 0 with size 0\n",
      "HEATHMERE, index 0 is out of bounds for axis 0 with size 0\n",
      "MOUNT RICHMOND, index 0 is out of bounds for axis 0 with size 0\n",
      "PORTLAND, index 0 is out of bounds for axis 0 with size 0\n",
      "PORTLAND NORTH, index 0 is out of bounds for axis 0 with size 0\n",
      "PORTLAND WEST, index 0 is out of bounds for axis 0 with size 0\n",
      "3305.0\n",
      "BRIT BRIT, index 0 is out of bounds for axis 0 with size 0\n",
      "CLOVER FLAT, index 0 is out of bounds for axis 0 with size 0\n",
      "COLERAINE, index 0 is out of bounds for axis 0 with size 0\n",
      "COOJAR, index 0 is out of bounds for axis 0 with size 0\n",
      "CULLA, index 0 is out of bounds for axis 0 with size 0\n",
      "GRINGEGALGONA, index 0 is out of bounds for axis 0 with size 0\n",
      "GRITJURK, index 0 is out of bounds for axis 0 with size 0\n",
      "HILGAY, index 0 is out of bounds for axis 0 with size 0\n",
      "KONONGWOOTONG, index 0 is out of bounds for axis 0 with size 0\n",
      "MELVILLE FOREST, index 0 is out of bounds for axis 0 with size 0\n",
      "MUNTHAM, index 0 is out of bounds for axis 0 with size 0\n",
      "NAREEN, index 0 is out of bounds for axis 0 with size 0\n",
      "PARKWOOD, index 0 is out of bounds for axis 0 with size 0\n",
      "PASCHENDALE, index 0 is out of bounds for axis 0 with size 0\n",
      "TAHARA BRIDGE, index 0 is out of bounds for axis 0 with size 0\n",
      "TARRAYOUKYAN, index 0 is out of bounds for axis 0 with size 0\n",
      "TARRENLEA, index 0 is out of bounds for axis 0 with size 0\n",
      "WOOTONG VALE, index 0 is out of bounds for axis 0 with size 0\n",
      "3315.0\n",
      "CHARAM, index 0 is out of bounds for axis 0 with size 0\n",
      "CONNEWIRRICOO, index 0 is out of bounds for axis 0 with size 0\n",
      "EDENHOPE, index 0 is out of bounds for axis 0 with size 0\n",
      "JALLAKIN, index 0 is out of bounds for axis 0 with size 0\n",
      "KADNOOK, index 0 is out of bounds for axis 0 with size 0\n",
      "LANGKOOP, index 0 is out of bounds for axis 0 with size 0\n",
      "MEEREEK, index 0 is out of bounds for axis 0 with size 0\n",
      "PATYAH, index 0 is out of bounds for axis 0 with size 0\n",
      "ULLSWATER, index 0 is out of bounds for axis 0 with size 0\n",
      "3318.0\n",
      "LISMORE, index 0 is out of bounds for axis 0 with size 0\n",
      "MINGAY, index 0 is out of bounds for axis 0 with size 0\n",
      "MOUNT BUTE, index 0 is out of bounds for axis 0 with size 0\n",
      "3324.0\n",
      "BARUNAH PARK, index 0 is out of bounds for axis 0 with size 0\n",
      "BARUNAH PLAINS, index 0 is out of bounds for axis 0 with size 0\n",
      "SHELFORD, index 0 is out of bounds for axis 0 with size 0\n",
      "3329.0\n",
      "BANNOCKBURN, index 0 is out of bounds for axis 0 with size 0\n",
      "GHERINGHAP, index 0 is out of bounds for axis 0 with size 0\n",
      "MAUDE, index 0 is out of bounds for axis 0 with size 0\n",
      "RUSSELLS BRIDGE, index 0 is out of bounds for axis 0 with size 0\n",
      "SHE OAKS, index 0 is out of bounds for axis 0 with size 0\n",
      "STEIGLITZ, index 0 is out of bounds for axis 0 with size 0\n",
      "SUTHERLANDS CREEK, index 0 is out of bounds for axis 0 with size 0\n",
      "3331.0\n",
      "LETHBRIDGE, index 0 is out of bounds for axis 0 with size 0\n",
      "3332.0\n",
      "BONNIE BROOK, 'NoneType' object is not subscriptable\n",
      "GRANGEFIELDS, index 0 is out of bounds for axis 0 with size 0\n",
      "ROCKBANK, index 0 is out of bounds for axis 0 with size 0\n",
      "THORNHILL PARK, index 0 is out of bounds for axis 0 with size 0\n",
      "3335.0\n",
      "HARKNESS, index 0 is out of bounds for axis 0 with size 0\n",
      "KURUNJANG, index 0 is out of bounds for axis 0 with size 0\n",
      "MELTON WEST, index 0 is out of bounds for axis 0 with size 0\n",
      "TOOLERN VALE, index 0 is out of bounds for axis 0 with size 0\n",
      "3337.0\n",
      "BROOKFIELD, index 0 is out of bounds for axis 0 with size 0\n",
      "COBBLEBANK, index 0 is out of bounds for axis 0 with size 0\n",
      "EXFORD, index 0 is out of bounds for axis 0 with size 0\n",
      "EYNESBURY, index 0 is out of bounds for axis 0 with size 0\n",
      "MELTON SOUTH, index 0 is out of bounds for axis 0 with size 0\n",
      "STRATHTULLOH, index 0 is out of bounds for axis 0 with size 0\n",
      "WEIR VIEWS, index 0 is out of bounds for axis 0 with size 0\n",
      "3338.0\n",
      "BACCHUS MARSH, index 0 is out of bounds for axis 0 with size 0\n",
      "BALLIANG, index 0 is out of bounds for axis 0 with size 0\n",
      "BALLIANG EAST, index 0 is out of bounds for axis 0 with size 0\n",
      "COIMADAI, index 0 is out of bounds for axis 0 with size 0\n",
      "DARLEY, index 0 is out of bounds for axis 0 with size 0\n",
      "GLENMORE, index 0 is out of bounds for axis 0 with size 0\n",
      "HOPETOUN PARK, index 0 is out of bounds for axis 0 with size 0\n",
      "LONG FOREST, index 0 is out of bounds for axis 0 with size 0\n",
      "MADDINGLEY, index 0 is out of bounds for axis 0 with size 0\n",
      "MERRIMU, index 0 is out of bounds for axis 0 with size 0\n",
      "PARWAN, index 0 is out of bounds for axis 0 with size 0\n",
      "ROWSLEY, index 0 is out of bounds for axis 0 with size 0\n",
      "STAUGHTON VALE, index 0 is out of bounds for axis 0 with size 0\n",
      "3340.0\n",
      "DALES CREEK, index 0 is out of bounds for axis 0 with size 0\n",
      "GREENDALE, index 0 is out of bounds for axis 0 with size 0\n",
      "KOROBEIT, index 0 is out of bounds for axis 0 with size 0\n",
      "MYRNIONG, index 0 is out of bounds for axis 0 with size 0\n",
      "PENTLAND HILLS, index 0 is out of bounds for axis 0 with size 0\n",
      "3341.0\n",
      "BALLAN, index 0 is out of bounds for axis 0 with size 0\n",
      "BEREMBOKE, index 0 is out of bounds for axis 0 with size 0\n",
      "BLAKEVILLE, index 0 is out of bounds for axis 0 with size 0\n",
      "BUNDING, index 0 is out of bounds for axis 0 with size 0\n",
      "COLBROOK, index 0 is out of bounds for axis 0 with size 0\n",
      "DURDIDWARRAH, index 0 is out of bounds for axis 0 with size 0\n",
      "FISKVILLE, index 0 is out of bounds for axis 0 with size 0\n",
      "INGLISTON, index 0 is out of bounds for axis 0 with size 0\n",
      "MOUNT WALLACE, index 0 is out of bounds for axis 0 with size 0\n",
      "3342.0\n",
      "GORDON, index 0 is out of bounds for axis 0 with size 0\n",
      "3345.0\n",
      "ALFREDTON, index 0 is out of bounds for axis 0 with size 0\n",
      "BAKERY HILL, index 0 is out of bounds for axis 0 with size 0\n",
      "BALLARAT, index 0 is out of bounds for axis 0 with size 0\n",
      "BALLARAT CENTRAL, index 0 is out of bounds for axis 0 with size 0\n",
      "BALLARAT EAST, index 0 is out of bounds for axis 0 with size 0\n",
      "BALLARAT NORTH, index 0 is out of bounds for axis 0 with size 0\n",
      "BALLARAT WEST, index 0 is out of bounds for axis 0 with size 0\n",
      "BLACK HILL, index 0 is out of bounds for axis 0 with size 0\n",
      "BROWN HILL, index 0 is out of bounds for axis 0 with size 0\n",
      "CANADIAN, index 0 is out of bounds for axis 0 with size 0\n",
      "EUREKA, index 0 is out of bounds for axis 0 with size 0\n",
      "GOLDEN POINT, index 0 is out of bounds for axis 0 with size 0\n",
      "INVERMAY PARK, index 0 is out of bounds for axis 0 with size 0\n",
      "LAKE WENDOUREE, index 0 is out of bounds for axis 0 with size 0\n",
      "LUCAS, index 0 is out of bounds for axis 0 with size 0\n",
      "MOUNT CLEAR, index 0 is out of bounds for axis 0 with size 0\n",
      "MOUNT HELEN, index 0 is out of bounds for axis 0 with size 0\n",
      "MOUNT PLEASANT, index 0 is out of bounds for axis 0 with size 0\n",
      "NERRINA, index 0 is out of bounds for axis 0 with size 0\n",
      "NEWINGTON, index 0 is out of bounds for axis 0 with size 0\n",
      "REDAN, index 0 is out of bounds for axis 0 with size 0\n",
      "SOLDIERS HILL, index 0 is out of bounds for axis 0 with size 0\n",
      "SOVEREIGN HILL, index 0 is out of bounds for axis 0 with size 0\n",
      "3350.0\n",
      "BERRINGA, index 0 is out of bounds for axis 0 with size 0\n",
      "BO PEEP, index 0 is out of bounds for axis 0 with size 0\n",
      "CAPE CLEAR, index 0 is out of bounds for axis 0 with size 0\n",
      "CARNGHAM, index 0 is out of bounds for axis 0 with size 0\n",
      "CHEPSTOWE, index 0 is out of bounds for axis 0 with size 0\n",
      "HADDON, index 0 is out of bounds for axis 0 with size 0\n",
      "HAPPY VALLEY, index 0 is out of bounds for axis 0 with size 0\n",
      "HILLCREST, index 0 is out of bounds for axis 0 with size 0\n",
      "ILLABAROOK, index 0 is out of bounds for axis 0 with size 0\n",
      "LAKE BOLAC, index 0 is out of bounds for axis 0 with size 0\n",
      "MININERA, index 0 is out of bounds for axis 0 with size 0\n",
      "MORTCHUP, index 0 is out of bounds for axis 0 with size 0\n",
      "MOUNT EMU, index 0 is out of bounds for axis 0 with size 0\n",
      "NERRIN NERRIN, index 0 is out of bounds for axis 0 with size 0\n",
      "NEWTOWN, index 0 is out of bounds for axis 0 with size 0\n",
      "NINTINGBOOL, index 0 is out of bounds for axis 0 with size 0\n",
      "PIGGOREET, index 0 is out of bounds for axis 0 with size 0\n",
      "PITFIELD, index 0 is out of bounds for axis 0 with size 0\n",
      "ROKEWOOD JUNCTION, index 0 is out of bounds for axis 0 with size 0\n",
      "ROSS CREEK, index 0 is out of bounds for axis 0 with size 0\n",
      "SCARSDALE, index 0 is out of bounds for axis 0 with size 0\n",
      "SMYTHES CREEK, index 0 is out of bounds for axis 0 with size 0\n",
      "SMYTHESDALE, index 0 is out of bounds for axis 0 with size 0\n",
      "SNAKE VALLEY, index 0 is out of bounds for axis 0 with size 0\n",
      "SPRINGDALLAH, index 0 is out of bounds for axis 0 with size 0\n",
      "STAFFORDSHIRE REEF, index 0 is out of bounds for axis 0 with size 0\n",
      "STREATHAM, index 0 is out of bounds for axis 0 with size 0\n",
      "WALLINDUC, index 0 is out of bounds for axis 0 with size 0\n",
      "WESTMERE, index 0 is out of bounds for axis 0 with size 0\n",
      "3351.0\n",
      "ADDINGTON, index 0 is out of bounds for axis 0 with size 0\n",
      "BALLARAT ROADSIDE DELIVERY, index 0 is out of bounds for axis 0 with size 0\n",
      "BARKSTEAD, index 0 is out of bounds for axis 0 with size 0\n",
      "BLOWHARD, index 0 is out of bounds for axis 0 with size 0\n",
      "BOLWARRAH, index 0 is out of bounds for axis 0 with size 0\n",
      "BONSHAW, index 0 is out of bounds for axis 0 with size 0\n",
      "BREWSTER, index 0 is out of bounds for axis 0 with size 0\n",
      "BULLAROOK, index 0 is out of bounds for axis 0 with size 0\n",
      "BUNGAREE, index 0 is out of bounds for axis 0 with size 0\n",
      "BUNKERS HILL, index 0 is out of bounds for axis 0 with size 0\n",
      "BURRUMBEET, index 0 is out of bounds for axis 0 with size 0\n",
      "CAMBRIAN HILL, index 0 is out of bounds for axis 0 with size 0\n",
      "CARDIGAN, index 0 is out of bounds for axis 0 with size 0\n",
      "CARDIGAN VILLAGE, index 0 is out of bounds for axis 0 with size 0\n",
      "CHAPEL FLAT, index 0 is out of bounds for axis 0 with size 0\n",
      "CLARENDON, index 0 is out of bounds for axis 0 with size 0\n",
      "CLARETOWN, index 0 is out of bounds for axis 0 with size 0\n",
      "CLARKES HILL, index 0 is out of bounds for axis 0 with size 0\n",
      "CORINDHAP, index 0 is out of bounds for axis 0 with size 0\n",
      "DEREEL, index 0 is out of bounds for axis 0 with size 0\n",
      "DUNNSTOWN, index 0 is out of bounds for axis 0 with size 0\n",
      "DURHAM LEAD, index 0 is out of bounds for axis 0 with size 0\n",
      "ENFIELD, index 0 is out of bounds for axis 0 with size 0\n",
      "ERCILDOUNE, index 0 is out of bounds for axis 0 with size 0\n",
      "GARIBALDI, index 0 is out of bounds for axis 0 with size 0\n",
      "GLEN PARK, index 0 is out of bounds for axis 0 with size 0\n",
      "GLENBRAE, index 0 is out of bounds for axis 0 with size 0\n",
      "GONG GONG, index 0 is out of bounds for axis 0 with size 0\n",
      "GRENVILLE, index 0 is out of bounds for axis 0 with size 0\n",
      "INVERMAY, index 0 is out of bounds for axis 0 with size 0\n",
      "LAL LAL, index 0 is out of bounds for axis 0 with size 0\n",
      "LAMPLOUGH, index 0 is out of bounds for axis 0 with size 0\n",
      "LANGI KAL KAL, index 0 is out of bounds for axis 0 with size 0\n",
      "LEARMONTH, index 0 is out of bounds for axis 0 with size 0\n",
      "LEIGH CREEK, index 0 is out of bounds for axis 0 with size 0\n",
      "LEXTON, index 0 is out of bounds for axis 0 with size 0\n",
      "MAGPIE, index 0 is out of bounds for axis 0 with size 0\n",
      "MILLBROOK, index 0 is out of bounds for axis 0 with size 0\n",
      "MINERS REST, index 0 is out of bounds for axis 0 with size 0\n",
      "MITCHELL PARK, index 0 is out of bounds for axis 0 with size 0\n",
      "MOLLONGGHIP, index 0 is out of bounds for axis 0 with size 0\n",
      "MOUNT BOLTON, index 0 is out of bounds for axis 0 with size 0\n",
      "MOUNT EGERTON, index 0 is out of bounds for axis 0 with size 0\n",
      "MOUNT MERCER, index 0 is out of bounds for axis 0 with size 0\n",
      "MOUNT MITCHELL, index 0 is out of bounds for axis 0 with size 0\n",
      "MOUNT ROWAN, index 0 is out of bounds for axis 0 with size 0\n",
      "NAPOLEONS, index 0 is out of bounds for axis 0 with size 0\n",
      "NAVIGATORS, index 0 is out of bounds for axis 0 with size 0\n",
      "POOTILLA, index 0 is out of bounds for axis 0 with size 0\n",
      "SCOTCHMANS LEAD, index 0 is out of bounds for axis 0 with size 0\n",
      "SCOTSBURN, index 0 is out of bounds for axis 0 with size 0\n",
      "SPRINGBANK, index 0 is out of bounds for axis 0 with size 0\n",
      "SULKY, index 0 is out of bounds for axis 0 with size 0\n",
      "WALLACE, index 0 is out of bounds for axis 0 with size 0\n",
      "WARRENHEIP, index 0 is out of bounds for axis 0 with size 0\n",
      "WATTLE FLAT, index 0 is out of bounds for axis 0 with size 0\n",
      "WAUBRA, index 0 is out of bounds for axis 0 with size 0\n",
      "WEATHERBOARD, index 0 is out of bounds for axis 0 with size 0\n",
      "WERNETH, index 0 is out of bounds for axis 0 with size 0\n",
      "WINDERMERE, index 0 is out of bounds for axis 0 with size 0\n",
      "YENDON, index 0 is out of bounds for axis 0 with size 0\n",
      "3352.0\n",
      "LAKE GARDENS, index 0 is out of bounds for axis 0 with size 0\n",
      "MITCHELL PARK, index 0 is out of bounds for axis 0 with size 0\n",
      "WENDOUREE, index 0 is out of bounds for axis 0 with size 0\n",
      "WENDOUREE VILLAGE, index 0 is out of bounds for axis 0 with size 0\n",
      "3355.0\n",
      "BONSHAW, index 0 is out of bounds for axis 0 with size 0\n",
      "DELACOMBE, index 0 is out of bounds for axis 0 with size 0\n",
      "SEBASTOPOL, index 0 is out of bounds for axis 0 with size 0\n",
      "3356.0\n",
      "BUNINYONG, index 0 is out of bounds for axis 0 with size 0\n",
      "SCOTSMANS LEAD, index 0 is out of bounds for axis 0 with size 0\n",
      "YARROWEE, index 0 is out of bounds for axis 0 with size 0\n",
      "3357.0\n",
      "BRADVALE, index 0 is out of bounds for axis 0 with size 0\n",
      "CARRANBALLAC, index 0 is out of bounds for axis 0 with size 0\n",
      "SKIPTON, index 0 is out of bounds for axis 0 with size 0\n",
      "3361.0\n",
      "CRESWICK, index 0 is out of bounds for axis 0 with size 0\n",
      "CRESWICK NORTH, index 0 is out of bounds for axis 0 with size 0\n",
      "GLENDARUEL, index 0 is out of bounds for axis 0 with size 0\n",
      "LANGDONS HILL, index 0 is out of bounds for axis 0 with size 0\n",
      "MOUNT BECKWORTH, index 0 is out of bounds for axis 0 with size 0\n",
      "TOURELLO, index 0 is out of bounds for axis 0 with size 0\n",
      "3363.0\n",
      "BEAUFORT, index 0 is out of bounds for axis 0 with size 0\n",
      "CHUTE, index 0 is out of bounds for axis 0 with size 0\n",
      "CROSS ROADS, index 0 is out of bounds for axis 0 with size 0\n",
      "LAKE GOLDSMITH, index 0 is out of bounds for axis 0 with size 0\n",
      "LAKE WONGAN, index 0 is out of bounds for axis 0 with size 0\n",
      "MAIN LEAD, index 0 is out of bounds for axis 0 with size 0\n",
      "MENA PARK, index 0 is out of bounds for axis 0 with size 0\n",
      "NERRING, index 0 is out of bounds for axis 0 with size 0\n",
      "RAGLAN, index 0 is out of bounds for axis 0 with size 0\n",
      "SHIRLEY, index 0 is out of bounds for axis 0 with size 0\n",
      "STOCKYARD HILL, index 0 is out of bounds for axis 0 with size 0\n",
      "STONELEIGH, index 0 is out of bounds for axis 0 with size 0\n",
      "TRAWALLA, index 0 is out of bounds for axis 0 with size 0\n",
      "WATERLOO, index 0 is out of bounds for axis 0 with size 0\n",
      "3373.0\n",
      "GREAT WESTERN, index 0 is out of bounds for axis 0 with size 0\n",
      "3374.0\n",
      "AMPHITHEATRE, index 0 is out of bounds for axis 0 with size 0\n",
      "ARARAT, index 0 is out of bounds for axis 0 with size 0\n",
      "ARARAT EAST, index 0 is out of bounds for axis 0 with size 0\n",
      "ARMSTRONG, index 0 is out of bounds for axis 0 with size 0\n",
      "BEN NEVIS, index 0 is out of bounds for axis 0 with size 0\n",
      "BULGANA, index 0 is out of bounds for axis 0 with size 0\n",
      "CATHCART, index 0 is out of bounds for axis 0 with size 0\n",
      "CROWLANDS, index 0 is out of bounds for axis 0 with size 0\n",
      "DENICULL CREEK, index 0 is out of bounds for axis 0 with size 0\n",
      "DOBIE, index 0 is out of bounds for axis 0 with size 0\n",
      "DUNNEWORTHY, index 0 is out of bounds for axis 0 with size 0\n",
      "EVERSLEY, index 0 is out of bounds for axis 0 with size 0\n",
      "GREAT WESTERN, index 0 is out of bounds for axis 0 with size 0\n",
      "JALLUKUR, index 0 is out of bounds for axis 0 with size 0\n",
      "LANGI LOGAN, index 0 is out of bounds for axis 0 with size 0\n",
      "MAROONA, index 0 is out of bounds for axis 0 with size 0\n",
      "MOUNT COLE, index 0 is out of bounds for axis 0 with size 0\n",
      "MOUNT COLE CREEK, index 0 is out of bounds for axis 0 with size 0\n",
      "MOUNT LONARCH, index 0 is out of bounds for axis 0 with size 0\n",
      "MOYSTON, index 0 is out of bounds for axis 0 with size 0\n",
      "NORVAL, index 0 is out of bounds for axis 0 with size 0\n",
      "RHYMNEY, index 0 is out of bounds for axis 0 with size 0\n",
      "ROCKY POINT, index 0 is out of bounds for axis 0 with size 0\n",
      "ROSSBRIDGE, index 0 is out of bounds for axis 0 with size 0\n",
      "SHAYS FLAT, index 0 is out of bounds for axis 0 with size 0\n",
      "WARRAK, index 0 is out of bounds for axis 0 with size 0\n",
      "3377.0\n",
      "BELLELLEN, index 0 is out of bounds for axis 0 with size 0\n",
      "BRIDGE INN, index 0 is out of bounds for axis 0 with size 0\n",
      "MOKEPILLY, index 0 is out of bounds for axis 0 with size 0\n",
      "STAWELL, index 0 is out of bounds for axis 0 with size 0\n",
      "STAWELL WEST, index 0 is out of bounds for axis 0 with size 0\n",
      "WINJALLOK, index 0 is out of bounds for axis 0 with size 0\n",
      "3380.0\n",
      "KEWELL, index 0 is out of bounds for axis 0 with size 0\n",
      "MURTOA, index 0 is out of bounds for axis 0 with size 0\n",
      "3390.0\n",
      "AILSA, index 0 is out of bounds for axis 0 with size 0\n",
      "ANGIP, index 0 is out of bounds for axis 0 with size 0\n",
      "AUBREY, index 0 is out of bounds for axis 0 with size 0\n",
      "BANGERANG, index 0 is out of bounds for axis 0 with size 0\n",
      "CANNUM, index 0 is out of bounds for axis 0 with size 0\n",
      "CRYMELON, index 0 is out of bounds for axis 0 with size 0\n",
      "KELLALAC, index 0 is out of bounds for axis 0 with size 0\n",
      "LAH, index 0 is out of bounds for axis 0 with size 0\n",
      "WARRACKNABEAL, index 0 is out of bounds for axis 0 with size 0\n",
      "WILKUR, index 0 is out of bounds for axis 0 with size 0\n",
      "WILLENABRINA, index 0 is out of bounds for axis 0 with size 0\n",
      "3393.0\n",
      "HOPETOUN, index 0 is out of bounds for axis 0 with size 0\n",
      "HOPEVALE, index 0 is out of bounds for axis 0 with size 0\n",
      "YARTO, index 0 is out of bounds for axis 0 with size 0\n",
      "3396.0\n",
      "BRIMPAEN, index 0 is out of bounds for axis 0 with size 0\n",
      "HORSHAM, index 0 is out of bounds for axis 0 with size 0\n",
      "HORSHAM WEST, index 0 is out of bounds for axis 0 with size 0\n",
      "ST HELENS PLAINS, index 0 is out of bounds for axis 0 with size 0\n",
      "WARTOOK, index 0 is out of bounds for axis 0 with size 0\n",
      "WONWONDAH EAST, index 0 is out of bounds for axis 0 with size 0\n",
      "WONWONDAH SOUTH, index 0 is out of bounds for axis 0 with size 0\n",
      "3400.0\n",
      "ARAPILES, index 0 is out of bounds for axis 0 with size 0\n",
      "CLEAR LAKE, index 0 is out of bounds for axis 0 with size 0\n",
      "DOUGLAS, index 0 is out of bounds for axis 0 with size 0\n",
      "DUCHEMBEGARRA, index 0 is out of bounds for axis 0 with size 0\n",
      "GRASS FLAT, index 0 is out of bounds for axis 0 with size 0\n",
      "JILPANGER, index 0 is out of bounds for axis 0 with size 0\n",
      "MIGA LAKE, index 0 is out of bounds for axis 0 with size 0\n",
      "MITRE, index 0 is out of bounds for axis 0 with size 0\n",
      "NATIMUK, index 0 is out of bounds for axis 0 with size 0\n",
      "NORADJUHA, index 0 is out of bounds for axis 0 with size 0\n",
      "TOOAN, index 0 is out of bounds for axis 0 with size 0\n",
      "WOMBELANO, index 0 is out of bounds for axis 0 with size 0\n",
      "3409.0\n",
      "BROUGHTON, index 0 is out of bounds for axis 0 with size 0\n",
      "GERANG GERUNG, index 0 is out of bounds for axis 0 with size 0\n",
      "GLENLEE, index 0 is out of bounds for axis 0 with size 0\n",
      "KIATA, index 0 is out of bounds for axis 0 with size 0\n",
      "LAWLOIT, index 0 is out of bounds for axis 0 with size 0\n",
      "LITTLE DESERT, index 0 is out of bounds for axis 0 with size 0\n",
      "LORQUON, index 0 is out of bounds for axis 0 with size 0\n",
      "NETHERBY, index 0 is out of bounds for axis 0 with size 0\n",
      "NHILL, index 0 is out of bounds for axis 0 with size 0\n",
      "YANAC, index 0 is out of bounds for axis 0 with size 0\n",
      "3418.0\n",
      "3427.0\n",
      "3428.0\n",
      "WILDWOOD, 'NoneType' object is not subscriptable\n",
      "3429.0\n",
      "RIDDELLS CREEK, index 0 is out of bounds for axis 0 with size 0\n",
      "3431.0\n",
      "MONEGEETTA, index 0 is out of bounds for axis 0 with size 0\n",
      "3433.0\n",
      "CHEROKEE, index 0 is out of bounds for axis 0 with size 0\n",
      "KERRIE, index 0 is out of bounds for axis 0 with size 0\n",
      "ROMSEY, index 0 is out of bounds for axis 0 with size 0\n",
      "SPRINGFIELD, index 0 is out of bounds for axis 0 with size 0\n",
      "3434.0\n",
      "BENLOCH, index 0 is out of bounds for axis 0 with size 0\n",
      "GOLDIE, index 0 is out of bounds for axis 0 with size 0\n",
      "LANCEFIELD, index 0 is out of bounds for axis 0 with size 0\n",
      "NULLA VALE, index 0 is out of bounds for axis 0 with size 0\n",
      "3435.0\n",
      "BULLENGAROOK, index 0 is out of bounds for axis 0 with size 0\n",
      "GISBORNE, index 0 is out of bounds for axis 0 with size 0\n",
      "GISBORNE SOUTH, index 0 is out of bounds for axis 0 with size 0\n",
      "3437.0\n",
      "NEW GISBORNE, index 0 is out of bounds for axis 0 with size 0\n",
      "3438.0\n",
      "MOUNT MACEDON, index 0 is out of bounds for axis 0 with size 0\n",
      "3441.0\n",
      "ASHBOURNE, index 0 is out of bounds for axis 0 with size 0\n",
      "CADELLO, index 0 is out of bounds for axis 0 with size 0\n",
      "CARLSRUHE, index 0 is out of bounds for axis 0 with size 0\n",
      "COBAW, index 0 is out of bounds for axis 0 with size 0\n",
      "HANGING ROCK, index 0 is out of bounds for axis 0 with size 0\n",
      "HESKET, index 0 is out of bounds for axis 0 with size 0\n",
      "NEWHAM, index 0 is out of bounds for axis 0 with size 0\n",
      "ROCHFORD, index 0 is out of bounds for axis 0 with size 0\n",
      "WOODEND, index 0 is out of bounds for axis 0 with size 0\n",
      "WOODEND NORTH, index 0 is out of bounds for axis 0 with size 0\n",
      "3442.0\n",
      "BARFOLD, index 0 is out of bounds for axis 0 with size 0\n",
      "BAYNTON, index 0 is out of bounds for axis 0 with size 0\n",
      "BAYNTON EAST, index 0 is out of bounds for axis 0 with size 0\n",
      "EDGECOMBE, index 0 is out of bounds for axis 0 with size 0\n",
      "GLENHOPE, index 0 is out of bounds for axis 0 with size 0\n",
      "GREENHILL, index 0 is out of bounds for axis 0 with size 0\n",
      "KYNETON, index 0 is out of bounds for axis 0 with size 0\n",
      "KYNETON SOUTH, index 0 is out of bounds for axis 0 with size 0\n",
      "LANGLEY, index 0 is out of bounds for axis 0 with size 0\n",
      "LAURISTON, index 0 is out of bounds for axis 0 with size 0\n",
      "LYAL, index 0 is out of bounds for axis 0 with size 0\n",
      "METCALFE EAST, index 0 is out of bounds for axis 0 with size 0\n",
      "MIA MIA, index 0 is out of bounds for axis 0 with size 0\n",
      "MYRTLE CREEK, index 0 is out of bounds for axis 0 with size 0\n",
      "PASTORIA, index 0 is out of bounds for axis 0 with size 0\n",
      "PASTORIA EAST, index 0 is out of bounds for axis 0 with size 0\n",
      "PIPERS CREEK, index 0 is out of bounds for axis 0 with size 0\n",
      "REDESDALE, index 0 is out of bounds for axis 0 with size 0\n",
      "SIDONIA, index 0 is out of bounds for axis 0 with size 0\n",
      "SPRING HILL, index 0 is out of bounds for axis 0 with size 0\n",
      "TYLDEN, index 0 is out of bounds for axis 0 with size 0\n",
      "TYLDEN SOUTH, index 0 is out of bounds for axis 0 with size 0\n",
      "3444.0\n",
      "TARADALE, index 0 is out of bounds for axis 0 with size 0\n",
      "3447.0\n",
      "CASTLEMAINE, index 0 is out of bounds for axis 0 with size 0\n",
      "MOONLIGHT FLAT, index 0 is out of bounds for axis 0 with size 0\n",
      "3450.0\n",
      "BARKERS CREEK, index 0 is out of bounds for axis 0 with size 0\n",
      "CAMPBELLS CREEK, index 0 is out of bounds for axis 0 with size 0\n",
      "CHEWTON, index 0 is out of bounds for axis 0 with size 0\n",
      "CHEWTON BUSHLANDS, index 0 is out of bounds for axis 0 with size 0\n",
      "FARADAY, index 0 is out of bounds for axis 0 with size 0\n",
      "FRYERSTOWN, index 0 is out of bounds for axis 0 with size 0\n",
      "GLENLUCE, index 0 is out of bounds for axis 0 with size 0\n",
      "GOLDEN POINT, index 0 is out of bounds for axis 0 with size 0\n",
      "GOWER, index 0 is out of bounds for axis 0 with size 0\n",
      "GUILDFORD, index 0 is out of bounds for axis 0 with size 0\n",
      "IRISHTOWN, index 0 is out of bounds for axis 0 with size 0\n",
      "MCKENZIE HILL, index 0 is out of bounds for axis 0 with size 0\n",
      "MUCKLEFORD, index 0 is out of bounds for axis 0 with size 0\n",
      "TARILTA, index 0 is out of bounds for axis 0 with size 0\n",
      "VAUGHAN, index 0 is out of bounds for axis 0 with size 0\n",
      "WOODBROOK, index 0 is out of bounds for axis 0 with size 0\n",
      "YAPEEN, index 0 is out of bounds for axis 0 with size 0\n",
      "3451.0\n",
      "BARRYS REEF, index 0 is out of bounds for axis 0 with size 0\n",
      "BLACKWOOD, index 0 is out of bounds for axis 0 with size 0\n",
      "FERN HILL, index 0 is out of bounds for axis 0 with size 0\n",
      "LERDERDERG, index 0 is out of bounds for axis 0 with size 0\n",
      "LITTLE HAMPTON, index 0 is out of bounds for axis 0 with size 0\n",
      "NEWBURY, index 0 is out of bounds for axis 0 with size 0\n",
      "NORTH BLACKWOOD, index 0 is out of bounds for axis 0 with size 0\n",
      "TRENTHAM, index 0 is out of bounds for axis 0 with size 0\n",
      "TRENTHAM EAST, index 0 is out of bounds for axis 0 with size 0\n",
      "3458.0\n",
      "BASALT, index 0 is out of bounds for axis 0 with size 0\n",
      "DAYLESFORD, index 0 is out of bounds for axis 0 with size 0\n",
      "3460.0\n",
      "BULLARTO, index 0 is out of bounds for axis 0 with size 0\n",
      "BULLARTO SOUTH, index 0 is out of bounds for axis 0 with size 0\n",
      "CLYDESDALE, index 0 is out of bounds for axis 0 with size 0\n",
      "COOMOORA, index 0 is out of bounds for axis 0 with size 0\n",
      "DENVER, index 0 is out of bounds for axis 0 with size 0\n",
      "DRUMMOND, index 0 is out of bounds for axis 0 with size 0\n",
      "DRY DIGGINGS, index 0 is out of bounds for axis 0 with size 0\n",
      "EGANSTOWN, index 0 is out of bounds for axis 0 with size 0\n",
      "ELEVATED PLAINS, index 0 is out of bounds for axis 0 with size 0\n",
      "FRANKLINFORD, index 0 is out of bounds for axis 0 with size 0\n",
      "GLENLYON, index 0 is out of bounds for axis 0 with size 0\n",
      "HEPBURN, index 0 is out of bounds for axis 0 with size 0\n",
      "HEPBURN SPRINGS, index 0 is out of bounds for axis 0 with size 0\n",
      "KORWEINGUBOORA, index 0 is out of bounds for axis 0 with size 0\n",
      "LEONARDS HILL, index 0 is out of bounds for axis 0 with size 0\n",
      "LYONVILLE, index 0 is out of bounds for axis 0 with size 0\n",
      "MOUNT FRANKLIN, index 0 is out of bounds for axis 0 with size 0\n",
      "MUSK, index 0 is out of bounds for axis 0 with size 0\n",
      "MUSK VALE, index 0 is out of bounds for axis 0 with size 0\n",
      "PORCUPINE RIDGE, index 0 is out of bounds for axis 0 with size 0\n",
      "SAILORS FALLS, index 0 is out of bounds for axis 0 with size 0\n",
      "SAILORS HILL, index 0 is out of bounds for axis 0 with size 0\n",
      "SHEPHERDS FLAT, index 0 is out of bounds for axis 0 with size 0\n",
      "SPARGO CREEK, index 0 is out of bounds for axis 0 with size 0\n",
      "STRANGWAYS, index 0 is out of bounds for axis 0 with size 0\n",
      "WHEATSHEAF, index 0 is out of bounds for axis 0 with size 0\n",
      "YANDOIT, index 0 is out of bounds for axis 0 with size 0\n",
      "YANDOIT HILLS, index 0 is out of bounds for axis 0 with size 0\n",
      "3461.0\n",
      "BARINGHUP, index 0 is out of bounds for axis 0 with size 0\n",
      "BARINGHUP WEST, index 0 is out of bounds for axis 0 with size 0\n",
      "BRADFORD, index 0 is out of bounds for axis 0 with size 0\n",
      "EASTVILLE, index 0 is out of bounds for axis 0 with size 0\n",
      "GOWER, index 0 is out of bounds for axis 0 with size 0\n",
      "LAANECOORIE, index 0 is out of bounds for axis 0 with size 0\n",
      "MALDON, index 0 is out of bounds for axis 0 with size 0\n",
      "NEEREMAN, index 0 is out of bounds for axis 0 with size 0\n",
      "NUGGETTY, index 0 is out of bounds for axis 0 with size 0\n",
      "PERKINS REEF, index 0 is out of bounds for axis 0 with size 0\n",
      "PORCUPINE FLAT, index 0 is out of bounds for axis 0 with size 0\n",
      "SHELBOURNE, index 0 is out of bounds for axis 0 with size 0\n",
      "TARRENGOWER, index 0 is out of bounds for axis 0 with size 0\n",
      "WALMER, index 0 is out of bounds for axis 0 with size 0\n",
      "WOODSTOCK WEST, index 0 is out of bounds for axis 0 with size 0\n",
      "3463.0\n",
      "ADELAIDE LEAD, index 0 is out of bounds for axis 0 with size 0\n",
      "ALMA, index 0 is out of bounds for axis 0 with size 0\n",
      "BOWENVALE, index 0 is out of bounds for axis 0 with size 0\n",
      "BUNG BONG, index 0 is out of bounds for axis 0 with size 0\n",
      "COTSWOLD, index 0 is out of bounds for axis 0 with size 0\n"
     ]
    },
    {
     "name": "stderr",
     "output_type": "stream",
     "text": [
      "/Users/matthewrush/virtualenv/lib/python3.10/site-packages/pyrosm/pyrosm.py:576: ShapelyDeprecationWarning: The array interface is deprecated and will no longer work in Shapely 2.0. Convert the '.coords' to a numpy array instead.\n",
      "  gdf = get_poi_data(\n"
     ]
    },
    {
     "name": "stdout",
     "output_type": "stream",
     "text": [
      "DAISY HILL, index 0 is out of bounds for axis 0 with size 0\n",
      "FLAGSTAFF, index 0 is out of bounds for axis 0 with size 0\n",
      "GOLDEN POINT, index 0 is out of bounds for axis 0 with size 0\n",
      "HAVELOCK, index 0 is out of bounds for axis 0 with size 0\n",
      "HOMEBUSH, index 0 is out of bounds for axis 0 with size 0\n",
      "MAJORCA, index 0 is out of bounds for axis 0 with size 0\n",
      "MARYBOROUGH, index 0 is out of bounds for axis 0 with size 0\n",
      "MOOLORT, index 0 is out of bounds for axis 0 with size 0\n",
      "MOONLIGHT FLAT, index 0 is out of bounds for axis 0 with size 0\n",
      "NATTE YALLOCK, index 0 is out of bounds for axis 0 with size 0\n",
      "RATHSCAR, index 0 is out of bounds for axis 0 with size 0\n",
      "RATHSCAR WEST, index 0 is out of bounds for axis 0 with size 0\n",
      "RODBOROUGH, index 0 is out of bounds for axis 0 with size 0\n",
      "SIMSON, index 0 is out of bounds for axis 0 with size 0\n",
      "TIMOR, index 0 is out of bounds for axis 0 with size 0\n",
      "TIMOR WEST, index 0 is out of bounds for axis 0 with size 0\n",
      "WAREEK, index 0 is out of bounds for axis 0 with size 0\n",
      "3465.0\n",
      "AVON PLAINS, index 0 is out of bounds for axis 0 with size 0\n",
      "BEAZLEYS BRIDGE, index 0 is out of bounds for axis 0 with size 0\n",
      "BERRIMAL WEST, index 0 is out of bounds for axis 0 with size 0\n",
      "CARAPOOEE, index 0 is out of bounds for axis 0 with size 0\n",
      "CARAPOOEE WEST, index 0 is out of bounds for axis 0 with size 0\n",
      "COONOOER BRIDGE, index 0 is out of bounds for axis 0 with size 0\n",
      "COONOOER WEST, index 0 is out of bounds for axis 0 with size 0\n",
      "DARKBONEE, index 0 is out of bounds for axis 0 with size 0\n",
      "DOOBOOBETIC, index 0 is out of bounds for axis 0 with size 0\n",
      "ELBERTON, index 0 is out of bounds for axis 0 with size 0\n",
      "GOOROC, index 0 is out of bounds for axis 0 with size 0\n",
      "GOWAR EAST, index 0 is out of bounds for axis 0 with size 0\n",
      "GRE GRE, index 0 is out of bounds for axis 0 with size 0\n",
      "GRE GRE NORTH, index 0 is out of bounds for axis 0 with size 0\n",
      "GRE GRE SOUTH, index 0 is out of bounds for axis 0 with size 0\n",
      "KOOREH, index 0 is out of bounds for axis 0 with size 0\n",
      "MEDLYN, index 0 is out of bounds for axis 0 with size 0\n",
      "MITCHELLS HILL, index 0 is out of bounds for axis 0 with size 0\n",
      "MOOLERR, index 0 is out of bounds for axis 0 with size 0\n",
      "MOONAMBEL, index 0 is out of bounds for axis 0 with size 0\n",
      "PERCYDALE, index 0 is out of bounds for axis 0 with size 0\n",
      "REDBANK, index 0 is out of bounds for axis 0 with size 0\n",
      "SLATY CREEK, index 0 is out of bounds for axis 0 with size 0\n",
      "ST ARNAUD, index 0 is out of bounds for axis 0 with size 0\n",
      "ST ARNAUD EAST, index 0 is out of bounds for axis 0 with size 0\n",
      "ST ARNAUD NORTH, index 0 is out of bounds for axis 0 with size 0\n",
      "STUART MILL, index 0 is out of bounds for axis 0 with size 0\n",
      "SUTHERLAND, index 0 is out of bounds for axis 0 with size 0\n",
      "SWANWATER, index 0 is out of bounds for axis 0 with size 0\n",
      "TANWOOD, index 0 is out of bounds for axis 0 with size 0\n",
      "TOTTINGTON, index 0 is out of bounds for axis 0 with size 0\n",
      "TRAYNORS LAGOON, index 0 is out of bounds for axis 0 with size 0\n",
      "TULKARA, index 0 is out of bounds for axis 0 with size 0\n",
      "WARRENMANG, index 0 is out of bounds for axis 0 with size 0\n",
      "YAWONG HILLS, index 0 is out of bounds for axis 0 with size 0\n",
      "3478.0\n",
      "AREEGRA, index 0 is out of bounds for axis 0 with size 0\n",
      "BANYENONG, index 0 is out of bounds for axis 0 with size 0\n",
      "BOOLITE, index 0 is out of bounds for axis 0 with size 0\n",
      "CARRON, index 0 is out of bounds for axis 0 with size 0\n",
      "COPE COPE, index 0 is out of bounds for axis 0 with size 0\n",
      "CORACK, index 0 is out of bounds for axis 0 with size 0\n",
      "CORACK EAST, index 0 is out of bounds for axis 0 with size 0\n",
      "DONALD, index 0 is out of bounds for axis 0 with size 0\n",
      "GIL GIL, index 0 is out of bounds for axis 0 with size 0\n",
      "JEFFCOTT, index 0 is out of bounds for axis 0 with size 0\n",
      "JEFFCOTT NORTH, index 0 is out of bounds for axis 0 with size 0\n",
      "LAEN, index 0 is out of bounds for axis 0 with size 0\n",
      "LAEN EAST, index 0 is out of bounds for axis 0 with size 0\n",
      "LAEN NORTH, index 0 is out of bounds for axis 0 with size 0\n",
      "LAKE BULOKE, index 0 is out of bounds for axis 0 with size 0\n",
      "LAWLER, index 0 is out of bounds for axis 0 with size 0\n",
      "LITCHFIELD, index 0 is out of bounds for axis 0 with size 0\n",
      "RICH AVON, index 0 is out of bounds for axis 0 with size 0\n",
      "RICH AVON EAST, index 0 is out of bounds for axis 0 with size 0\n",
      "RICH AVON WEST, index 0 is out of bounds for axis 0 with size 0\n",
      "SWANWATER WEST, index 0 is out of bounds for axis 0 with size 0\n",
      "3480.0\n",
      "MASSEY, index 0 is out of bounds for axis 0 with size 0\n",
      "MORTON PLAINS, index 0 is out of bounds for axis 0 with size 0\n",
      "WARMUR, index 0 is out of bounds for axis 0 with size 0\n",
      "WATCHEM, index 0 is out of bounds for axis 0 with size 0\n",
      "WATCHEM WEST, index 0 is out of bounds for axis 0 with size 0\n",
      "3482.0\n",
      "BIG DESERT, index 0 is out of bounds for axis 0 with size 0\n",
      "BOINKA, index 0 is out of bounds for axis 0 with size 0\n",
      "KULWIN, index 0 is out of bounds for axis 0 with size 0\n",
      "MITTYACK, index 0 is out of bounds for axis 0 with size 0\n",
      "MURRAY-SUNSET, index 0 is out of bounds for axis 0 with size 0\n",
      "OUYEN, index 0 is out of bounds for axis 0 with size 0\n",
      "TORRITA, index 0 is out of bounds for axis 0 with size 0\n",
      "TUTYE, index 0 is out of bounds for axis 0 with size 0\n",
      "3490.0\n",
      "CARDROSS, index 0 is out of bounds for axis 0 with size 0\n",
      "CULLULLERAINE, index 0 is out of bounds for axis 0 with size 0\n",
      "LINDSAY POINT, index 0 is out of bounds for axis 0 with size 0\n",
      "MERINGUR, index 0 is out of bounds for axis 0 with size 0\n",
      "MERRINEE, index 0 is out of bounds for axis 0 with size 0\n",
      "MURRAY LOCK NO 9, index 0 is out of bounds for axis 0 with size 0\n",
      "NEDS CORNER, index 0 is out of bounds for axis 0 with size 0\n",
      "RED CLIFFS, index 0 is out of bounds for axis 0 with size 0\n",
      "SUNNYCLIFFS, index 0 is out of bounds for axis 0 with size 0\n",
      "WERRIMULL, index 0 is out of bounds for axis 0 with size 0\n",
      "3496.0\n",
      "IRYMPLE, index 0 is out of bounds for axis 0 with size 0\n",
      "3498.0\n",
      "MILDURA, index 0 is out of bounds for axis 0 with size 0\n",
      "MILDURA EAST, index 0 is out of bounds for axis 0 with size 0\n",
      "MILDURA WEST, index 0 is out of bounds for axis 0 with size 0\n",
      "PARINGI, index 0 is out of bounds for axis 0 with size 0\n",
      "3500.0\n",
      "HATTAH, index 0 is out of bounds for axis 0 with size 0\n",
      "KOORLONG, index 0 is out of bounds for axis 0 with size 0\n",
      "MILDURA CENTRE PLAZA, index 0 is out of bounds for axis 0 with size 0\n",
      "MILDURA SOUTH, index 0 is out of bounds for axis 0 with size 0\n",
      "NICHOLS POINT, index 0 is out of bounds for axis 0 with size 0\n",
      "3501.0\n",
      "BEARS LAGOON, index 0 is out of bounds for axis 0 with size 0\n",
      "BRENANAH, index 0 is out of bounds for axis 0 with size 0\n",
      "BULLABUL, index 0 is out of bounds for axis 0 with size 0\n",
      "GLENALBYN, index 0 is out of bounds for axis 0 with size 0\n",
      "INGLEWOOD, index 0 is out of bounds for axis 0 with size 0\n",
      "JARKLIN, index 0 is out of bounds for axis 0 with size 0\n",
      "KINGOWER, index 0 is out of bounds for axis 0 with size 0\n",
      "KURTING, index 0 is out of bounds for axis 0 with size 0\n",
      "POWLETT PLAINS, index 0 is out of bounds for axis 0 with size 0\n",
      "RHEOLA, index 0 is out of bounds for axis 0 with size 0\n",
      "SALISBURY WEST, index 0 is out of bounds for axis 0 with size 0\n",
      "SERPENTINE, index 0 is out of bounds for axis 0 with size 0\n",
      "3517.0\n",
      "ARGYLE, index 0 is out of bounds for axis 0 with size 0\n",
      "COSTERFIELD, index 0 is out of bounds for axis 0 with size 0\n",
      "DERRINAL, index 0 is out of bounds for axis 0 with size 0\n",
      "HEATHCOTE, index 0 is out of bounds for axis 0 with size 0\n",
      "HEATHCOTE SOUTH, index 0 is out of bounds for axis 0 with size 0\n",
      "KNOWSLEY, index 0 is out of bounds for axis 0 with size 0\n",
      "LADYS PASS, index 0 is out of bounds for axis 0 with size 0\n",
      "MOORMBOOL WEST, index 0 is out of bounds for axis 0 with size 0\n",
      "MOUNT CAMEL, index 0 is out of bounds for axis 0 with size 0\n",
      "REDCASTLE, index 0 is out of bounds for axis 0 with size 0\n",
      "3523.0\n",
      "BARRAKEE, index 0 is out of bounds for axis 0 with size 0\n",
      "BUCKRABANYULE, index 0 is out of bounds for axis 0 with size 0\n",
      "CHARLTON, index 0 is out of bounds for axis 0 with size 0\n",
      "CHIRRIP, index 0 is out of bounds for axis 0 with size 0\n",
      "GRANITE FLAT, index 0 is out of bounds for axis 0 with size 0\n",
      "JEFFCOTT, index 0 is out of bounds for axis 0 with size 0\n",
      "JEFFCOTT NORTH, index 0 is out of bounds for axis 0 with size 0\n",
      "LAKE MARMAL, index 0 is out of bounds for axis 0 with size 0\n",
      "NAREEWILLOCK, index 0 is out of bounds for axis 0 with size 0\n",
      "TEDDYWADDY, index 0 is out of bounds for axis 0 with size 0\n",
      "TEDDYWADDY WEST, index 0 is out of bounds for axis 0 with size 0\n",
      "TERRAPPEE, index 0 is out of bounds for axis 0 with size 0\n",
      "WOOROONOOK, index 0 is out of bounds for axis 0 with size 0\n",
      "WYCHITELLA, index 0 is out of bounds for axis 0 with size 0\n",
      "WYCHITELLA NORTH, index 0 is out of bounds for axis 0 with size 0\n",
      "YEUNGROON, index 0 is out of bounds for axis 0 with size 0\n",
      "YEUNGROON EAST, index 0 is out of bounds for axis 0 with size 0\n",
      "3525.0\n",
      "BARRAPORT, index 0 is out of bounds for axis 0 with size 0\n",
      "BARRAPORT WEST, index 0 is out of bounds for axis 0 with size 0\n",
      "BOORT, index 0 is out of bounds for axis 0 with size 0\n",
      "CANARY ISLAND, index 0 is out of bounds for axis 0 with size 0\n",
      "CATUMNAL, index 0 is out of bounds for axis 0 with size 0\n",
      "GREDGWIN, index 0 is out of bounds for axis 0 with size 0\n",
      "LEAGHUR, index 0 is out of bounds for axis 0 with size 0\n",
      "MINMINDIE, index 0 is out of bounds for axis 0 with size 0\n",
      "YANDO, index 0 is out of bounds for axis 0 with size 0\n",
      "3537.0\n",
      "CANNIE, index 0 is out of bounds for axis 0 with size 0\n",
      "NINYEUNOOK, index 0 is out of bounds for axis 0 with size 0\n",
      "OAKVALE, index 0 is out of bounds for axis 0 with size 0\n",
      "QUAMBATOOK, index 0 is out of bounds for axis 0 with size 0\n",
      "3540.0\n",
      "BENDIGO, index 0 is out of bounds for axis 0 with size 0\n",
      "BENDIGO SOUTH, index 0 is out of bounds for axis 0 with size 0\n",
      "DIAMOND HILL, index 0 is out of bounds for axis 0 with size 0\n",
      "EAST BENDIGO, index 0 is out of bounds for axis 0 with size 0\n",
      "FLORA HILL, index 0 is out of bounds for axis 0 with size 0\n",
      "IRONBARK, index 0 is out of bounds for axis 0 with size 0\n",
      "KENNINGTON, index 0 is out of bounds for axis 0 with size 0\n",
      "LONG GULLY, index 0 is out of bounds for axis 0 with size 0\n",
      "NORTH BENDIGO, index 0 is out of bounds for axis 0 with size 0\n",
      "QUARRY HILL, index 0 is out of bounds for axis 0 with size 0\n",
      "SANDHURST EAST, index 0 is out of bounds for axis 0 with size 0\n",
      "SPRING GULLY, index 0 is out of bounds for axis 0 with size 0\n",
      "STRATHDALE, index 0 is out of bounds for axis 0 with size 0\n",
      "TYSONS REEF, index 0 is out of bounds for axis 0 with size 0\n",
      "WEST BENDIGO, index 0 is out of bounds for axis 0 with size 0\n",
      "WHITE HILLS, index 0 is out of bounds for axis 0 with size 0\n",
      "3550.0\n",
      "ARNOLD, index 0 is out of bounds for axis 0 with size 0\n",
      "ARNOLD WEST, index 0 is out of bounds for axis 0 with size 0\n"
     ]
    },
    {
     "name": "stderr",
     "output_type": "stream",
     "text": [
      "/Users/matthewrush/virtualenv/lib/python3.10/site-packages/pyrosm/pyrosm.py:576: ShapelyDeprecationWarning: The array interface is deprecated and will no longer work in Shapely 2.0. Convert the '.coords' to a numpy array instead.\n",
      "  gdf = get_poi_data(\n"
     ]
    },
    {
     "name": "stdout",
     "output_type": "stream",
     "text": [
      "AXE CREEK, index 0 is out of bounds for axis 0 with size 0\n",
      "AXEDALE, index 0 is out of bounds for axis 0 with size 0\n",
      "BAGSHOT, index 0 is out of bounds for axis 0 with size 0\n",
      "BAGSHOT NORTH, index 0 is out of bounds for axis 0 with size 0\n",
      "BENDIGO FORWARD, index 0 is out of bounds for axis 0 with size 0\n",
      "CORNELLA, index 0 is out of bounds for axis 0 with size 0\n",
      "CREEK VIEW, index 0 is out of bounds for axis 0 with size 0\n",
      "EMU CREEK, index 0 is out of bounds for axis 0 with size 0\n",
      "EPPALOCK, index 0 is out of bounds for axis 0 with size 0\n",
      "EPSOM, index 0 is out of bounds for axis 0 with size 0\n",
      "HUNTLY NORTH, index 0 is out of bounds for axis 0 with size 0\n",
      "JUNORTOUN, index 0 is out of bounds for axis 0 with size 0\n",
      "KIMBOLTON, index 0 is out of bounds for axis 0 with size 0\n",
      "LAKE EPPALOCK, index 0 is out of bounds for axis 0 with size 0\n",
      "LLANELLY, index 0 is out of bounds for axis 0 with size 0\n",
      "LOCKWOOD, index 0 is out of bounds for axis 0 with size 0\n",
      "LOCKWOOD SOUTH, index 0 is out of bounds for axis 0 with size 0\n",
      "LONGLEA, index 0 is out of bounds for axis 0 with size 0\n",
      "MAIDEN GULLY, index 0 is out of bounds for axis 0 with size 0\n",
      "MANDURANG, index 0 is out of bounds for axis 0 with size 0\n",
      "MANDURANG SOUTH, index 0 is out of bounds for axis 0 with size 0\n",
      "MINTO, index 0 is out of bounds for axis 0 with size 0\n",
      "MOSQUITO CREEK, index 0 is out of bounds for axis 0 with size 0\n",
      "MURPHYS CREEK, index 0 is out of bounds for axis 0 with size 0\n",
      "MYOLA, index 0 is out of bounds for axis 0 with size 0\n",
      "MYOLA EAST, index 0 is out of bounds for axis 0 with size 0\n",
      "MYRTLE CREEK, index 0 is out of bounds for axis 0 with size 0\n",
      "NEWBRIDGE, index 0 is out of bounds for axis 0 with size 0\n",
      "PAINSWICK, index 0 is out of bounds for axis 0 with size 0\n",
      "PILCHERS BRIDGE, index 0 is out of bounds for axis 0 with size 0\n",
      "SEDGWICK, index 0 is out of bounds for axis 0 with size 0\n",
      "STRATHFIELDSAYE, index 0 is out of bounds for axis 0 with size 0\n",
      "TARNAGULLA, index 0 is out of bounds for axis 0 with size 0\n",
      "TOOLLEEN, index 0 is out of bounds for axis 0 with size 0\n",
      "WAANYARRA, index 0 is out of bounds for axis 0 with size 0\n",
      "WELLSFORD, index 0 is out of bounds for axis 0 with size 0\n",
      "WOODSTOCK ON LODDON, index 0 is out of bounds for axis 0 with size 0\n",
      "3551.0\n",
      "BIG HILL, index 0 is out of bounds for axis 0 with size 0\n",
      "GOLDEN GULLY, index 0 is out of bounds for axis 0 with size 0\n",
      "GOLDEN SQUARE, index 0 is out of bounds for axis 0 with size 0\n",
      "KANGAROO FLAT, index 0 is out of bounds for axis 0 with size 0\n",
      "LANSELL PLAZA, index 0 is out of bounds for axis 0 with size 0\n",
      "SPECIMEN HILL, index 0 is out of bounds for axis 0 with size 0\n",
      "3555.0\n",
      "CALIFORNIA GULLY, index 0 is out of bounds for axis 0 with size 0\n",
      "CAMPBELLS FOREST, index 0 is out of bounds for axis 0 with size 0\n",
      "COMET HILL, index 0 is out of bounds for axis 0 with size 0\n",
      "EAGLEHAWK, index 0 is out of bounds for axis 0 with size 0\n",
      "EAGLEHAWK NORTH, index 0 is out of bounds for axis 0 with size 0\n",
      "JACKASS FLAT, index 0 is out of bounds for axis 0 with size 0\n",
      "MYERS FLAT, index 0 is out of bounds for axis 0 with size 0\n",
      "SAILORS GULLY, index 0 is out of bounds for axis 0 with size 0\n",
      "SEBASTIAN, index 0 is out of bounds for axis 0 with size 0\n",
      "WHIPSTICK, index 0 is out of bounds for axis 0 with size 0\n",
      "WOODVALE, index 0 is out of bounds for axis 0 with size 0\n",
      "3556.0\n",
      "TORRUMBARRY, index 0 is out of bounds for axis 0 with size 0\n",
      "3562.0\n",
      "BAMAWM EXTENSION, index 0 is out of bounds for axis 0 with size 0\n",
      "CAMPASPE WEST, index 0 is out of bounds for axis 0 with size 0\n",
      "ECHUCA, index 0 is out of bounds for axis 0 with size 0\n",
      "ECHUCA EAST, index 0 is out of bounds for axis 0 with size 0\n",
      "ECHUCA SOUTH, index 0 is out of bounds for axis 0 with size 0\n",
      "ECHUCA VILLAGE, index 0 is out of bounds for axis 0 with size 0\n",
      "ECHUCA WEST, index 0 is out of bounds for axis 0 with size 0\n",
      "KANYAPELLA, index 0 is out of bounds for axis 0 with size 0\n",
      "MCEVOYS, index 0 is out of bounds for axis 0 with size 0\n",
      "PATHO, index 0 is out of bounds for axis 0 with size 0\n",
      "PATHO WEST, index 0 is out of bounds for axis 0 with size 0\n",
      "ROSLYNMEAD, index 0 is out of bounds for axis 0 with size 0\n",
      "SIMMIE, index 0 is out of bounds for axis 0 with size 0\n",
      "WHARPARILLA, index 0 is out of bounds for axis 0 with size 0\n",
      "3564.0\n",
      "BURKES BRIDGE, index 0 is out of bounds for axis 0 with size 0\n",
      "COHUNA, index 0 is out of bounds for axis 0 with size 0\n",
      "CULLEN, index 0 is out of bounds for axis 0 with size 0\n",
      "DALTONS BRIDGE, index 0 is out of bounds for axis 0 with size 0\n",
      "GANNAWARRA, index 0 is out of bounds for axis 0 with size 0\n",
      "KEELY, index 0 is out of bounds for axis 0 with size 0\n",
      "MACORNA NORTH, index 0 is out of bounds for axis 0 with size 0\n",
      "MCMILLANS, index 0 is out of bounds for axis 0 with size 0\n",
      "MINCHA WEST, index 0 is out of bounds for axis 0 with size 0\n",
      "WEE WEE RUP, index 0 is out of bounds for axis 0 with size 0\n",
      "3568.0\n",
      "BALD ROCK, index 0 is out of bounds for axis 0 with size 0\n",
      "GLADFIELD, index 0 is out of bounds for axis 0 with size 0\n",
      "JUNGABURRA, index 0 is out of bounds for axis 0 with size 0\n",
      "LODDON VALE, index 0 is out of bounds for axis 0 with size 0\n",
      "MINCHA, index 0 is out of bounds for axis 0 with size 0\n",
      "MOLOGA, index 0 is out of bounds for axis 0 with size 0\n",
      "PYRAMID HILL, index 0 is out of bounds for axis 0 with size 0\n",
      "SYLVATERRE, index 0 is out of bounds for axis 0 with size 0\n",
      "TERRICK TERRICK, index 0 is out of bounds for axis 0 with size 0\n",
      "YARRAWALLA, index 0 is out of bounds for axis 0 with size 0\n",
      "3575.0\n",
      "APPIN, index 0 is out of bounds for axis 0 with size 0\n",
      "APPIN SOUTH, index 0 is out of bounds for axis 0 with size 0\n",
      "BAEL BAEL, index 0 is out of bounds for axis 0 with size 0\n",
      "BEAUCHAMP, index 0 is out of bounds for axis 0 with size 0\n",
      "BENJEROOP, index 0 is out of bounds for axis 0 with size 0\n",
      "BUDGERUM EAST, index 0 is out of bounds for axis 0 with size 0\n",
      "CAPELS CROSSING, index 0 is out of bounds for axis 0 with size 0\n",
      "DINGWALL, index 0 is out of bounds for axis 0 with size 0\n",
      "EAST YEOBURN, index 0 is out of bounds for axis 0 with size 0\n",
      "FAIRLEY, index 0 is out of bounds for axis 0 with size 0\n",
      "GONN CROSSING, index 0 is out of bounds for axis 0 with size 0\n",
      "KERANG, index 0 is out of bounds for axis 0 with size 0\n",
      "KERANG EAST, index 0 is out of bounds for axis 0 with size 0\n",
      "KOROOP, index 0 is out of bounds for axis 0 with size 0\n",
      "LAKE MERAN, index 0 is out of bounds for axis 0 with size 0\n",
      "MACORNA, index 0 is out of bounds for axis 0 with size 0\n",
      "MEERING WEST, index 0 is out of bounds for axis 0 with size 0\n",
      "MILNES BRIDGE, index 0 is out of bounds for axis 0 with size 0\n",
      "MURRABIT, index 0 is out of bounds for axis 0 with size 0\n",
      "MURRABIT WEST, index 0 is out of bounds for axis 0 with size 0\n",
      "MYALL, index 0 is out of bounds for axis 0 with size 0\n",
      "MYSTIC PARK, index 0 is out of bounds for axis 0 with size 0\n",
      "NORMANVILLE, index 0 is out of bounds for axis 0 with size 0\n",
      "PINE VIEW, index 0 is out of bounds for axis 0 with size 0\n",
      "REEDY LAKE, index 0 is out of bounds for axis 0 with size 0\n",
      "SANDHILL LAKE, index 0 is out of bounds for axis 0 with size 0\n",
      "TEAL POINT, index 0 is out of bounds for axis 0 with size 0\n",
      "TRAGOWEL, index 0 is out of bounds for axis 0 with size 0\n",
      "WANDELLA, index 0 is out of bounds for axis 0 with size 0\n",
      "WESTBY, index 0 is out of bounds for axis 0 with size 0\n",
      "3579.0\n",
      "CASTLE DONNINGTON, index 0 is out of bounds for axis 0 with size 0\n",
      "CHILLINGOLLAH, index 0 is out of bounds for axis 0 with size 0\n",
      "FISH POINT, index 0 is out of bounds for axis 0 with size 0\n",
      "GOSCHEN, index 0 is out of bounds for axis 0 with size 0\n",
      "KUNAT, index 0 is out of bounds for axis 0 with size 0\n",
      "MEATIAN, index 0 is out of bounds for axis 0 with size 0\n",
      "NOWIE, index 0 is out of bounds for axis 0 with size 0\n",
      "NYRRABY, index 0 is out of bounds for axis 0 with size 0\n",
      "PIRA, index 0 is out of bounds for axis 0 with size 0\n",
      "POLISBET, index 0 is out of bounds for axis 0 with size 0\n",
      "SPEEWA, index 0 is out of bounds for axis 0 with size 0\n",
      "SWAN HILL, index 0 is out of bounds for axis 0 with size 0\n",
      "SWAN HILL PIONEER, index 0 is out of bounds for axis 0 with size 0\n",
      "SWAN HILL WEST, index 0 is out of bounds for axis 0 with size 0\n",
      "WINLATON, index 0 is out of bounds for axis 0 with size 0\n",
      "3585.0\n",
      "BAILIESTON, index 0 is out of bounds for axis 0 with size 0\n",
      "GOULBURN WEIR, index 0 is out of bounds for axis 0 with size 0\n",
      "GRAYTOWN, index 0 is out of bounds for axis 0 with size 0\n",
      "KIRWANS BRIDGE, index 0 is out of bounds for axis 0 with size 0\n",
      "MITCHELLSTOWN, index 0 is out of bounds for axis 0 with size 0\n",
      "NAGAMBIE, index 0 is out of bounds for axis 0 with size 0\n",
      "WAHRING, index 0 is out of bounds for axis 0 with size 0\n",
      "WIRRATE, index 0 is out of bounds for axis 0 with size 0\n",
      "3608.0\n",
      "COOMA, index 0 is out of bounds for axis 0 with size 0\n",
      "GILLIESTON, index 0 is out of bounds for axis 0 with size 0\n",
      "GIRGARRE EAST, index 0 is out of bounds for axis 0 with size 0\n",
      "HARSTON, index 0 is out of bounds for axis 0 with size 0\n",
      "MOOROOPNA NORTH WEST, index 0 is out of bounds for axis 0 with size 0\n",
      "TATURA, index 0 is out of bounds for axis 0 with size 0\n",
      "TATURA EAST, index 0 is out of bounds for axis 0 with size 0\n",
      "TOOLAMBA WEST, index 0 is out of bounds for axis 0 with size 0\n",
      "WARANGA, index 0 is out of bounds for axis 0 with size 0\n",
      "3616.0\n",
      "MERRIGUM, index 0 is out of bounds for axis 0 with size 0\n",
      "3618.0\n",
      "KYABRAM, index 0 is out of bounds for axis 0 with size 0\n",
      "KYABRAM SOUTH, index 0 is out of bounds for axis 0 with size 0\n",
      "LANCASTER, index 0 is out of bounds for axis 0 with size 0\n",
      "MOUNT SCOBIE, index 0 is out of bounds for axis 0 with size 0\n",
      "ST GERMAINS, index 0 is out of bounds for axis 0 with size 0\n",
      "TARIPTA, index 0 is out of bounds for axis 0 with size 0\n",
      "WYUNA, index 0 is out of bounds for axis 0 with size 0\n",
      "WYUNA EAST, index 0 is out of bounds for axis 0 with size 0\n",
      "3620.0\n",
      "KOYUGA SOUTH, index 0 is out of bounds for axis 0 with size 0\n",
      "KY VALLEY, index 0 is out of bounds for axis 0 with size 0\n",
      "KY WEST, index 0 is out of bounds for axis 0 with size 0\n",
      "KYVALLEY, index 0 is out of bounds for axis 0 with size 0\n",
      "TONGALA, index 0 is out of bounds for axis 0 with size 0\n",
      "YAMBUNA, index 0 is out of bounds for axis 0 with size 0\n",
      "3621.0\n",
      "ARDMONA, index 0 is out of bounds for axis 0 with size 0\n",
      "COOMBOONA, index 0 is out of bounds for axis 0 with size 0\n",
      "MOOROOPNA, index 0 is out of bounds for axis 0 with size 0\n",
      "MOOROOPNA NORTH, index 0 is out of bounds for axis 0 with size 0\n",
      "UNDERA, index 0 is out of bounds for axis 0 with size 0\n",
      "3629.0\n",
      "BENARCH, index 0 is out of bounds for axis 0 with size 0\n",
      "BRANDITT, index 0 is out of bounds for axis 0 with size 0\n",
      "CANIAMBO, index 0 is out of bounds for axis 0 with size 0\n",
      "COLLIVER, index 0 is out of bounds for axis 0 with size 0\n",
      "DUNKIRK, index 0 is out of bounds for axis 0 with size 0\n",
      "SHEPPARTON, index 0 is out of bounds for axis 0 with size 0\n",
      "SHEPPARTON SOUTH, index 0 is out of bounds for axis 0 with size 0\n",
      "3630.0\n",
      "ARCADIA, index 0 is out of bounds for axis 0 with size 0\n",
      "ARCADIA SOUTH, index 0 is out of bounds for axis 0 with size 0\n",
      "COSGROVE, index 0 is out of bounds for axis 0 with size 0\n",
      "COSGROVE SOUTH, index 0 is out of bounds for axis 0 with size 0\n",
      "GRAHAMVALE, index 0 is out of bounds for axis 0 with size 0\n",
      "KARRAMOMUS, index 0 is out of bounds for axis 0 with size 0\n",
      "KIALLA, index 0 is out of bounds for axis 0 with size 0\n",
      "KIALLA EAST, index 0 is out of bounds for axis 0 with size 0\n",
      "KIALLA WEST, index 0 is out of bounds for axis 0 with size 0\n",
      "LEMNOS, index 0 is out of bounds for axis 0 with size 0\n",
      "ORRVALE, index 0 is out of bounds for axis 0 with size 0\n",
      "PINE LODGE, index 0 is out of bounds for axis 0 with size 0\n",
      "SHEPPARTON EAST, index 0 is out of bounds for axis 0 with size 0\n",
      "SHEPPARTON NORTH, index 0 is out of bounds for axis 0 with size 0\n",
      "TAMLEUGH WEST, index 0 is out of bounds for axis 0 with size 0\n",
      "3631.0\n",
      "BUNBARTHA, index 0 is out of bounds for axis 0 with size 0\n",
      "INVERGORDON SOUTH, index 0 is out of bounds for axis 0 with size 0\n",
      "KATANDRA, index 0 is out of bounds for axis 0 with size 0\n",
      "KATANDRA WEST, index 0 is out of bounds for axis 0 with size 0\n",
      "MARIONVALE, index 0 is out of bounds for axis 0 with size 0\n",
      "MARUNGI, index 0 is out of bounds for axis 0 with size 0\n",
      "TALLYGAROOPNA, index 0 is out of bounds for axis 0 with size 0\n",
      "ZEERUST, index 0 is out of bounds for axis 0 with size 0\n",
      "3634.0\n",
      "BEARII, index 0 is out of bounds for axis 0 with size 0\n",
      "MYWEE, index 0 is out of bounds for axis 0 with size 0\n",
      "STRATHMERTON, index 0 is out of bounds for axis 0 with size 0\n",
      "ULUPNA, index 0 is out of bounds for axis 0 with size 0\n",
      "3641.0\n",
      "BAROOGA, index 0 is out of bounds for axis 0 with size 0\n",
      "COBRAM, index 0 is out of bounds for axis 0 with size 0\n",
      "COBRAM EAST, index 0 is out of bounds for axis 0 with size 0\n",
      "KOONOOMOO, index 0 is out of bounds for axis 0 with size 0\n",
      "LALALTY, index 0 is out of bounds for axis 0 with size 0\n",
      "MUCKATAH, index 0 is out of bounds for axis 0 with size 0\n",
      "YARROWEYAH, index 0 is out of bounds for axis 0 with size 0\n",
      "3644.0\n",
      "BROADFORD, index 0 is out of bounds for axis 0 with size 0\n",
      "CLONBINANE, index 0 is out of bounds for axis 0 with size 0\n",
      "CLONBINANE, index 0 is out of bounds for axis 0 with size 0\n",
      "FLOWERDALE, index 0 is out of bounds for axis 0 with size 0\n",
      "HAZELDENE, index 0 is out of bounds for axis 0 with size 0\n",
      "REEDY CREEK, index 0 is out of bounds for axis 0 with size 0\n",
      "STRATH CREEK, index 0 is out of bounds for axis 0 with size 0\n",
      "SUGARLOAF CREEK, index 0 is out of bounds for axis 0 with size 0\n",
      "SUNDAY CREEK, index 0 is out of bounds for axis 0 with size 0\n",
      "TYAAK, index 0 is out of bounds for axis 0 with size 0\n",
      "WATERFORD PARK, index 0 is out of bounds for axis 0 with size 0\n",
      "3658.0\n",
      "SUGARLOAF CREEK, index 0 is out of bounds for axis 0 with size 0\n",
      "TALLAROOK, index 0 is out of bounds for axis 0 with size 0\n",
      "3659.0\n",
      "CAVEAT, index 0 is out of bounds for axis 0 with size 0\n",
      "DROPMORE, index 0 is out of bounds for axis 0 with size 0\n",
      "DYSART, index 0 is out of bounds for axis 0 with size 0\n",
      "HIGHLANDS, index 0 is out of bounds for axis 0 with size 0\n",
      "HILLDENE, index 0 is out of bounds for axis 0 with size 0\n",
      "KERRISDALE, index 0 is out of bounds for axis 0 with size 0\n",
      "KOBYBOYN, index 0 is out of bounds for axis 0 with size 0\n",
      "NORTHWOOD, index 0 is out of bounds for axis 0 with size 0\n",
      "SEYMOUR, index 0 is out of bounds for axis 0 with size 0\n",
      "SEYMOUR SOUTH, index 0 is out of bounds for axis 0 with size 0\n",
      "TRAWOOL, index 0 is out of bounds for axis 0 with size 0\n",
      "WHITEHEADS CREEK, index 0 is out of bounds for axis 0 with size 0\n",
      "3660.0\n",
      "BADDAGINNIE, index 0 is out of bounds for axis 0 with size 0\n",
      "TARNOOK, index 0 is out of bounds for axis 0 with size 0\n",
      "WARRENBAYNE, index 0 is out of bounds for axis 0 with size 0\n",
      "3670.0\n",
      "BENALLA, index 0 is out of bounds for axis 0 with size 0\n",
      "BENALLA WEST, index 0 is out of bounds for axis 0 with size 0\n",
      "3672.0\n",
      "APPIN PARK, index 0 is out of bounds for axis 0 with size 0\n",
      "WANGARATTA, index 0 is out of bounds for axis 0 with size 0\n",
      "WANGARATTA WEST, index 0 is out of bounds for axis 0 with size 0\n",
      "YARRUNGA, index 0 is out of bounds for axis 0 with size 0\n",
      "3677.0\n",
      "CHILTERN, index 0 is out of bounds for axis 0 with size 0\n",
      "CHILTERN VALLEY, index 0 is out of bounds for axis 0 with size 0\n",
      "CORNISHTOWN, index 0 is out of bounds for axis 0 with size 0\n",
      "INDIGO, index 0 is out of bounds for axis 0 with size 0\n",
      "3683.0\n",
      "BOORHAMAN NORTH, index 0 is out of bounds for axis 0 with size 0\n",
      "BRIMIN, index 0 is out of bounds for axis 0 with size 0\n",
      "BROWNS PLAINS, index 0 is out of bounds for axis 0 with size 0\n",
      "CARLYLE, index 0 is out of bounds for axis 0 with size 0\n",
      "DUGAYS BRIDGE, index 0 is out of bounds for axis 0 with size 0\n",
      "GOORAMADDA, index 0 is out of bounds for axis 0 with size 0\n",
      "GREAT SOUTHERN, index 0 is out of bounds for axis 0 with size 0\n",
      "LAKE MOODEMERE, index 0 is out of bounds for axis 0 with size 0\n",
      "NORONG CENTRAL, index 0 is out of bounds for axis 0 with size 0\n",
      "PRENTICE NORTH, index 0 is out of bounds for axis 0 with size 0\n",
      "RUTHERGLEN, index 0 is out of bounds for axis 0 with size 0\n",
      "3685.0\n",
      "WEST WODONGA, index 0 is out of bounds for axis 0 with size 0\n",
      "WODONGA, index 0 is out of bounds for axis 0 with size 0\n",
      "WODONGA PLAZA, index 0 is out of bounds for axis 0 with size 0\n",
      "3690.0\n",
      "ALLANS FLAT, index 0 is out of bounds for axis 0 with size 0\n",
      "BANDIANA, index 0 is out of bounds for axis 0 with size 0\n",
      "BARANDUDA, index 0 is out of bounds for axis 0 with size 0\n",
      "BARNAWARTHA NORTH, index 0 is out of bounds for axis 0 with size 0\n",
      "BELLBRIDGE, index 0 is out of bounds for axis 0 with size 0\n",
      "BERRINGAMA, index 0 is out of bounds for axis 0 with size 0\n",
      "BETHANGA, index 0 is out of bounds for axis 0 with size 0\n",
      "BONEGILLA, index 0 is out of bounds for axis 0 with size 0\n",
      "BUNGIL, index 0 is out of bounds for axis 0 with size 0\n",
      "CASTLE CREEK, index 0 is out of bounds for axis 0 with size 0\n",
      "CORAL BANK, index 0 is out of bounds for axis 0 with size 0\n",
      "DEDERANG, index 0 is out of bounds for axis 0 with size 0\n",
      "EBDEN, index 0 is out of bounds for axis 0 with size 0\n",
      "GATEWAY ISLAND, index 0 is out of bounds for axis 0 with size 0\n",
      "GLEN CREEK, index 0 is out of bounds for axis 0 with size 0\n",
      "GUNDOWRING, index 0 is out of bounds for axis 0 with size 0\n",
      "HUME WEIR, index 0 is out of bounds for axis 0 with size 0\n",
      "HUON CREEK, index 0 is out of bounds for axis 0 with size 0\n",
      "KANCOONA, index 0 is out of bounds for axis 0 with size 0\n",
      "KANCOONA SOUTH, index 0 is out of bounds for axis 0 with size 0\n",
      "KERGUNYAH, index 0 is out of bounds for axis 0 with size 0\n",
      "KERGUNYAH SOUTH, index 0 is out of bounds for axis 0 with size 0\n",
      "KIEWA, index 0 is out of bounds for axis 0 with size 0\n",
      "KILLARA, index 0 is out of bounds for axis 0 with size 0\n",
      "LAKE HUME VILLAGE, index 0 is out of bounds for axis 0 with size 0\n",
      "LENEVA, index 0 is out of bounds for axis 0 with size 0\n",
      "LONE PINE, index 0 is out of bounds for axis 0 with size 0\n",
      "LUCYVALE, index 0 is out of bounds for axis 0 with size 0\n",
      "MONGANS BRIDGE, index 0 is out of bounds for axis 0 with size 0\n",
      "MOUNT ALFRED, index 0 is out of bounds for axis 0 with size 0\n",
      "OSBORNES FLAT, index 0 is out of bounds for axis 0 with size 0\n",
      "RUNNING CREEK, index 0 is out of bounds for axis 0 with size 0\n",
      "STAGHORN FLAT, index 0 is out of bounds for axis 0 with size 0\n",
      "TALGARNO, index 0 is out of bounds for axis 0 with size 0\n",
      "TANGAMBALANGA, index 0 is out of bounds for axis 0 with size 0\n",
      "THOLOGOLONG, index 0 is out of bounds for axis 0 with size 0\n",
      "UPPER GUNDOWRING, index 0 is out of bounds for axis 0 with size 0\n",
      "WODONGA FORWARD, index 0 is out of bounds for axis 0 with size 0\n",
      "3691.0\n",
      "TAWONGA SOUTH, index 0 is out of bounds for axis 0 with size 0\n",
      "3698.0\n",
      "BOGONG, index 0 is out of bounds for axis 0 with size 0\n",
      "FALLS CREEK, index 0 is out of bounds for axis 0 with size 0\n",
      "MOUNT BEAUTY, index 0 is out of bounds for axis 0 with size 0\n",
      "NELSE, index 0 is out of bounds for axis 0 with size 0\n",
      "3699.0\n",
      "BULLIOH, index 0 is out of bounds for axis 0 with size 0\n",
      "GEORGES CREEK, index 0 is out of bounds for axis 0 with size 0\n",
      "JARVIS CREEK, index 0 is out of bounds for axis 0 with size 0\n",
      "TALLANGATTA, index 0 is out of bounds for axis 0 with size 0\n",
      "TALLANGATTA EAST, index 0 is out of bounds for axis 0 with size 0\n",
      "3700.0\n",
      "DARTMOUTH, index 0 is out of bounds for axis 0 with size 0\n",
      "ESKDALE, index 0 is out of bounds for axis 0 with size 0\n",
      "FERNVALE, index 0 is out of bounds for axis 0 with size 0\n",
      "GRANITE FLAT, index 0 is out of bounds for axis 0 with size 0\n",
      "GRANYA, index 0 is out of bounds for axis 0 with size 0\n",
      "MITTA MITTA, index 0 is out of bounds for axis 0 with size 0\n",
      "OLD TALLANGATTA, index 0 is out of bounds for axis 0 with size 0\n",
      "SHELLEY, index 0 is out of bounds for axis 0 with size 0\n",
      "TALLANDOON, index 0 is out of bounds for axis 0 with size 0\n",
      "TALLANGATTA SOUTH, index 0 is out of bounds for axis 0 with size 0\n",
      "TALLANGATTA VALLEY, index 0 is out of bounds for axis 0 with size 0\n",
      "3701.0\n",
      "BIGGARA, index 0 is out of bounds for axis 0 with size 0\n",
      "BRINGENBRONG, index 0 is out of bounds for axis 0 with size 0\n",
      "COLAC COLAC, index 0 is out of bounds for axis 0 with size 0\n",
      "CORRYONG, index 0 is out of bounds for axis 0 with size 0\n",
      "NARIEL VALLEY, index 0 is out of bounds for axis 0 with size 0\n",
      "THOWGLA VALLEY, index 0 is out of bounds for axis 0 with size 0\n",
      "TOM GROGGIN, index 0 is out of bounds for axis 0 with size 0\n",
      "TOWONG, index 0 is out of bounds for axis 0 with size 0\n",
      "TOWONG UPPER, index 0 is out of bounds for axis 0 with size 0\n",
      "3707.0\n",
      "BUXTON, index 0 is out of bounds for axis 0 with size 0\n",
      "3711.0\n",
      "EILDON, index 0 is out of bounds for axis 0 with size 0\n",
      "LAKE EILDON, index 0 is out of bounds for axis 0 with size 0\n",
      "TAYLOR BAY, index 0 is out of bounds for axis 0 with size 0\n",
      "3713.0\n",
      "ACHERON, index 0 is out of bounds for axis 0 with size 0\n",
      "ALEXANDRA, index 0 is out of bounds for axis 0 with size 0\n",
      "CATHKIN, index 0 is out of bounds for axis 0 with size 0\n",
      "CRYSTAL CREEK, index 0 is out of bounds for axis 0 with size 0\n",
      "DEVILS RIVER, index 0 is out of bounds for axis 0 with size 0\n",
      "FAWCETT, index 0 is out of bounds for axis 0 with size 0\n",
      "KORIELLA, index 0 is out of bounds for axis 0 with size 0\n",
      "MAINTONGOON, index 0 is out of bounds for axis 0 with size 0\n",
      "TAGGERTY, index 0 is out of bounds for axis 0 with size 0\n",
      "WHANREGARWEN, index 0 is out of bounds for axis 0 with size 0\n",
      "3714.0\n",
      "FLOWERDALE, index 0 is out of bounds for axis 0 with size 0\n",
      "GHIN GHIN, index 0 is out of bounds for axis 0 with size 0\n",
      "GLENBURN, index 0 is out of bounds for axis 0 with size 0\n",
      "HOMEWOOD, index 0 is out of bounds for axis 0 with size 0\n",
      "KILLINGWORTH, index 0 is out of bounds for axis 0 with size 0\n",
      "LIMESTONE, index 0 is out of bounds for axis 0 with size 0\n",
      "MURRINDINDI, index 0 is out of bounds for axis 0 with size 0\n",
      "3717.0\n",
      "BARWITE, index 0 is out of bounds for axis 0 with size 0\n",
      "MANSFIELD, index 0 is out of bounds for axis 0 with size 0\n",
      "MIRIMBAH, index 0 is out of bounds for axis 0 with size 0\n",
      "3722.0\n",
      "ARCHERTON, index 0 is out of bounds for axis 0 with size 0\n",
      "BARJARG, index 0 is out of bounds for axis 0 with size 0\n",
      "BOOROLITE, index 0 is out of bounds for axis 0 with size 0\n",
      "BRIDGE CREEK, index 0 is out of bounds for axis 0 with size 0\n",
      "DELATITE, index 0 is out of bounds for axis 0 with size 0\n",
      "ENOCHS POINT, index 0 is out of bounds for axis 0 with size 0\n",
      "GAFFNEYS CREEK, index 0 is out of bounds for axis 0 with size 0\n",
      "GOUGHS BAY, index 0 is out of bounds for axis 0 with size 0\n",
      "HOWES CREEK, index 0 is out of bounds for axis 0 with size 0\n",
      "HOWQUA, index 0 is out of bounds for axis 0 with size 0\n",
      "HOWQUA HILLS, index 0 is out of bounds for axis 0 with size 0\n",
      "HOWQUA INLET, index 0 is out of bounds for axis 0 with size 0\n",
      "JAMIESON, index 0 is out of bounds for axis 0 with size 0\n",
      "KEVINGTON, index 0 is out of bounds for axis 0 with size 0\n",
      "KNOCKWOOD, index 0 is out of bounds for axis 0 with size 0\n",
      "MACS COVE, index 0 is out of bounds for axis 0 with size 0\n",
      "MAINDAMPLE, index 0 is out of bounds for axis 0 with size 0\n",
      "MATLOCK, index 0 is out of bounds for axis 0 with size 0\n",
      "MERRIJIG, index 0 is out of bounds for axis 0 with size 0\n",
      "MOUNT BULLER, index 0 is out of bounds for axis 0 with size 0\n",
      "MOUNTAIN BAY, index 0 is out of bounds for axis 0 with size 0\n",
      "NILLAHCOOTIE, index 0 is out of bounds for axis 0 with size 0\n",
      "PIRIES, index 0 is out of bounds for axis 0 with size 0\n",
      "SAWMILL SETTLEMENT, index 0 is out of bounds for axis 0 with size 0\n",
      "TOLMIE, index 0 is out of bounds for axis 0 with size 0\n",
      "WOODS POINT, index 0 is out of bounds for axis 0 with size 0\n",
      "3723.0\n",
      "BUNGEET, index 0 is out of bounds for axis 0 with size 0\n",
      "BUNGEET WEST, index 0 is out of bounds for axis 0 with size 0\n",
      "DEVENISH, index 0 is out of bounds for axis 0 with size 0\n",
      "THOONA, index 0 is out of bounds for axis 0 with size 0\n",
      "3726.0\n",
      "BOOMAHNOOMOONAH, index 0 is out of bounds for axis 0 with size 0\n",
      "TUNGAMAH, index 0 is out of bounds for axis 0 with size 0\n",
      "WILBY, index 0 is out of bounds for axis 0 with size 0\n",
      "YOUARANG, index 0 is out of bounds for axis 0 with size 0\n",
      "3728.0\n",
      "BATHUMI, index 0 is out of bounds for axis 0 with size 0\n",
      "BOOSEY, index 0 is out of bounds for axis 0 with size 0\n",
      "BUNDALONG, index 0 is out of bounds for axis 0 with size 0\n",
      "BUNDALONG SOUTH, index 0 is out of bounds for axis 0 with size 0\n",
      "BURRAMINE, index 0 is out of bounds for axis 0 with size 0\n",
      "BURRAMINE SOUTH, index 0 is out of bounds for axis 0 with size 0\n",
      "ESMOND, index 0 is out of bounds for axis 0 with size 0\n",
      "TELFORD, index 0 is out of bounds for axis 0 with size 0\n",
      "YARRAWONGA, index 0 is out of bounds for axis 0 with size 0\n",
      "YARRAWONGA SOUTH, index 0 is out of bounds for axis 0 with size 0\n",
      "3730.0\n",
      "ABBEYARD, index 0 is out of bounds for axis 0 with size 0\n",
      "BARWIDGEE, index 0 is out of bounds for axis 0 with size 0\n",
      "BUFFALO RIVER, index 0 is out of bounds for axis 0 with size 0\n",
      "DANDONGADALE, index 0 is out of bounds for axis 0 with size 0\n",
      "GAPSTED, index 0 is out of bounds for axis 0 with size 0\n",
      "HAVILAH, index 0 is out of bounds for axis 0 with size 0\n",
      "HAVILLAH, index 0 is out of bounds for axis 0 with size 0\n",
      "MERRIANG, index 0 is out of bounds for axis 0 with size 0\n",
      "MERRIANG SOUTH, index 0 is out of bounds for axis 0 with size 0\n",
      "MUDGEGONGA, index 0 is out of bounds for axis 0 with size 0\n",
      "MYRTLEFORD, index 0 is out of bounds for axis 0 with size 0\n",
      "NUG NUG, index 0 is out of bounds for axis 0 with size 0\n",
      "ROSEWHITE, index 0 is out of bounds for axis 0 with size 0\n",
      "SELWYN, index 0 is out of bounds for axis 0 with size 0\n",
      "WONNANGATTA, index 0 is out of bounds for axis 0 with size 0\n",
      "3737.0\n",
      "FREEBURGH, index 0 is out of bounds for axis 0 with size 0\n",
      "GERMANTOWN, index 0 is out of bounds for axis 0 with size 0\n",
      "HARRIETVILLE, index 0 is out of bounds for axis 0 with size 0\n",
      "HOTHAM HEIGHTS, index 0 is out of bounds for axis 0 with size 0\n",
      "MOUNT HOTHAM, index 0 is out of bounds for axis 0 with size 0\n",
      "SMOKO, index 0 is out of bounds for axis 0 with size 0\n",
      "3741.0\n",
      "WANDILIGONG, index 0 is out of bounds for axis 0 with size 0\n",
      "3744.0\n",
      "BAARMUTHA, index 0 is out of bounds for axis 0 with size 0\n",
      "BEECHWORTH, index 0 is out of bounds for axis 0 with size 0\n",
      "HURDLE FLAT, index 0 is out of bounds for axis 0 with size 0\n",
      "MURMUNGEE, index 0 is out of bounds for axis 0 with size 0\n",
      "SILVER CREEK, index 0 is out of bounds for axis 0 with size 0\n",
      "STANLEY, index 0 is out of bounds for axis 0 with size 0\n",
      "WOOLSHED, index 0 is out of bounds for axis 0 with size 0\n",
      "WOORAGEE, index 0 is out of bounds for axis 0 with size 0\n",
      "3747.0\n",
      "3750.0\n",
      "MORANG SOUTH, index 0 is out of bounds for axis 0 with size 0\n",
      "3752.0\n",
      "BEVERIDGE, index 0 is out of bounds for axis 0 with size 0\n",
      "3753.0\n",
      "3754.0\n",
      "3755.0\n",
      "CHINTIN, index 0 is out of bounds for axis 0 with size 0\n",
      "DARRAWEIT GUIM, index 0 is out of bounds for axis 0 with size 0\n",
      "HIDDEN VALLEY, index 0 is out of bounds for axis 0 with size 0\n",
      "UPPER PLENTY, index 0 is out of bounds for axis 0 with size 0\n",
      "WALLAN, index 0 is out of bounds for axis 0 with size 0\n",
      "WALLAN EAST, index 0 is out of bounds for axis 0 with size 0\n",
      "3756.0\n",
      "BRUCES CREEK, index 0 is out of bounds for axis 0 with size 0\n",
      "EDEN PARK, index 0 is out of bounds for axis 0 with size 0\n",
      "HUMEVALE, 'NoneType' object is not subscriptable\n",
      "KINGLAKE CENTRAL, index 0 is out of bounds for axis 0 with size 0\n"
     ]
    },
    {
     "name": "stderr",
     "output_type": "stream",
     "text": [
      "/Users/matthewrush/virtualenv/lib/python3.10/site-packages/pyrosm/pois.py:38: UserWarning: CRS mismatch between the CRS of left geometries and the CRS of right geometries.\n",
      "Use `to_crs()` to reproject one of the input geometries to match the CRS of the other.\n",
      "\n",
      "Left CRS: None\n",
      "Right CRS: EPSG:4326\n",
      "\n",
      "  gdf = prepare_geodataframe(\n"
     ]
    },
    {
     "name": "stdout",
     "output_type": "stream",
     "text": [
      "PHEASANT CREEK, index 0 is out of bounds for axis 0 with size 0\n"
     ]
    },
    {
     "name": "stderr",
     "output_type": "stream",
     "text": [
      "/Users/matthewrush/virtualenv/lib/python3.10/site-packages/pyrosm/pyrosm.py:576: UserWarning: Could not find any POIs for given area.\n",
      "  gdf = get_poi_data(\n"
     ]
    },
    {
     "name": "stdout",
     "output_type": "stream",
     "text": [
      "WHITTLESEA, 'NoneType' object is not subscriptable\n",
      "3757.0\n",
      "HEATHCOTE JUNCTION, index 0 is out of bounds for axis 0 with size 0\n",
      "WANDONG, index 0 is out of bounds for axis 0 with size 0\n",
      "3758.0\n",
      "3759.0\n",
      "BYLANDS, index 0 is out of bounds for axis 0 with size 0\n",
      "3762.0\n",
      "FORBES, index 0 is out of bounds for axis 0 with size 0\n",
      "GLENAROUA, index 0 is out of bounds for axis 0 with size 0\n",
      "HIGH CAMP, index 0 is out of bounds for axis 0 with size 0\n",
      "KILMORE, index 0 is out of bounds for axis 0 with size 0\n",
      "KILMORE EAST, index 0 is out of bounds for axis 0 with size 0\n",
      "MORANDING, index 0 is out of bounds for axis 0 with size 0\n",
      "TANTARABOO, index 0 is out of bounds for axis 0 with size 0\n",
      "WILLOWMAVIN, index 0 is out of bounds for axis 0 with size 0\n",
      "3764.0\n",
      "MONTROSE, index 0 is out of bounds for axis 0 with size 0\n",
      "3765.0\n",
      "MOUNT DANDENONG, index 0 is out of bounds for axis 0 with size 0\n",
      "3767.0\n"
     ]
    },
    {
     "name": "stderr",
     "output_type": "stream",
     "text": [
      "/Users/matthewrush/virtualenv/lib/python3.10/site-packages/pyrosm/pyrosm.py:576: ShapelyDeprecationWarning: The array interface is deprecated and will no longer work in Shapely 2.0. Convert the '.coords' to a numpy array instead.\n",
      "  gdf = get_poi_data(\n"
     ]
    },
    {
     "name": "stdout",
     "output_type": "stream",
     "text": [
      "DIXONS CREEK, index 0 is out of bounds for axis 0 with size 0\n",
      "STEELS CREEK, index 0 is out of bounds for axis 0 with size 0\n",
      "TARRAWARRA, index 0 is out of bounds for axis 0 with size 0\n",
      "YARRA GLEN, index 0 is out of bounds for axis 0 with size 0\n",
      "3775.0\n",
      "BADGER CREEK, index 0 is out of bounds for axis 0 with size 0\n",
      "CASTELLA, index 0 is out of bounds for axis 0 with size 0\n",
      "CHUM CREEK, index 0 is out of bounds for axis 0 with size 0\n",
      "HEALESVILLE, index 0 is out of bounds for axis 0 with size 0\n",
      "HEALESVILLE MAIN STREET, index 0 is out of bounds for axis 0 with size 0\n",
      "HEALESVILLE POST SHOP, index 0 is out of bounds for axis 0 with size 0\n",
      "MOUNT TOOLEBEWONG, index 0 is out of bounds for axis 0 with size 0\n",
      "TOOLANGI, index 0 is out of bounds for axis 0 with size 0\n",
      "3777.0\n",
      "CAMBARVILLE, index 0 is out of bounds for axis 0 with size 0\n",
      "MARYSVILLE, index 0 is out of bounds for axis 0 with size 0\n",
      "3779.0\n",
      "GEMBROOK, index 0 is out of bounds for axis 0 with size 0\n",
      "3783.0\n",
      "OLINDA, index 0 is out of bounds for axis 0 with size 0\n",
      "3788.0\n",
      "KALLISTA, index 0 is out of bounds for axis 0 with size 0\n",
      "3791.0\n",
      "SILVAN, index 0 is out of bounds for axis 0 with size 0\n",
      "3795.0\n",
      "MOUNT EVELYN, index 0 is out of bounds for axis 0 with size 0\n",
      "3796.0\n",
      "GILDEROY, index 0 is out of bounds for axis 0 with size 0\n",
      "GLADYSDALE, index 0 is out of bounds for axis 0 with size 0\n",
      "POWELLTOWN, index 0 is out of bounds for axis 0 with size 0\n",
      "THREE BRIDGES, index 0 is out of bounds for axis 0 with size 0\n",
      "YARRA JUNCTION, index 0 is out of bounds for axis 0 with size 0\n",
      "3797.0\n",
      "BIG PATS CREEK, index 0 is out of bounds for axis 0 with size 0\n",
      "EAST WARBURTON, index 0 is out of bounds for axis 0 with size 0\n",
      "MCMAHONS CREEK, index 0 is out of bounds for axis 0 with size 0\n",
      "MILLGROVE, index 0 is out of bounds for axis 0 with size 0\n",
      "REEFTON, index 0 is out of bounds for axis 0 with size 0\n",
      "WARBURTON, index 0 is out of bounds for axis 0 with size 0\n",
      "WESBURN, index 0 is out of bounds for axis 0 with size 0\n",
      "3799.0\n",
      "3802.0\n",
      "3803.0\n",
      "NARRE WARREN EAST, index 0 is out of bounds for axis 0 with size 0\n",
      "3804.0\n",
      "FOUNTAIN GATE, index 0 is out of bounds for axis 0 with size 0\n",
      "NARRE WARREN SOUTH, index 0 is out of bounds for axis 0 with size 0\n",
      "3805.0\n",
      "BERWICK, index 0 is out of bounds for axis 0 with size 0\n",
      "HARKAWAY, index 0 is out of bounds for axis 0 with size 0\n",
      "3806.0\n",
      "BEACONSFIELD, index 0 is out of bounds for axis 0 with size 0\n",
      "GUYS HILL, index 0 is out of bounds for axis 0 with size 0\n",
      "3807.0\n",
      "BEACONSFIELD UPPER, index 0 is out of bounds for axis 0 with size 0\n",
      "DEWHURST, index 0 is out of bounds for axis 0 with size 0\n",
      "3808.0\n",
      "OFFICER, index 0 is out of bounds for axis 0 with size 0\n",
      "OFFICER SOUTH, index 0 is out of bounds for axis 0 with size 0\n",
      "3809.0\n",
      "PAKENHAM, index 0 is out of bounds for axis 0 with size 0\n",
      "PAKENHAM SOUTH, index 0 is out of bounds for axis 0 with size 0\n",
      "PAKENHAM UPPER, index 0 is out of bounds for axis 0 with size 0\n",
      "RYTHDALE, index 0 is out of bounds for axis 0 with size 0\n",
      "3810.0\n",
      "CORA LYNN, index 0 is out of bounds for axis 0 with size 0\n",
      "GARFIELD, index 0 is out of bounds for axis 0 with size 0\n",
      "GARFIELD NORTH, index 0 is out of bounds for axis 0 with size 0\n",
      "VERVALE, index 0 is out of bounds for axis 0 with size 0\n",
      "3814.0\n",
      "BUNYIP, index 0 is out of bounds for axis 0 with size 0\n",
      "BUNYIP NORTH, index 0 is out of bounds for axis 0 with size 0\n",
      "IONA, index 0 is out of bounds for axis 0 with size 0\n",
      "TONIMBUK, index 0 is out of bounds for axis 0 with size 0\n",
      "3815.0\n",
      "LABERTOUCHE, index 0 is out of bounds for axis 0 with size 0\n",
      "LONGWARRY, index 0 is out of bounds for axis 0 with size 0\n",
      "LONGWARRY NORTH, index 0 is out of bounds for axis 0 with size 0\n",
      "MODELLA, index 0 is out of bounds for axis 0 with size 0\n",
      "3816.0\n",
      "ATHLONE, index 0 is out of bounds for axis 0 with size 0\n",
      "DROUIN, index 0 is out of bounds for axis 0 with size 0\n",
      "DROUIN EAST, index 0 is out of bounds for axis 0 with size 0\n",
      "DROUIN SOUTH, index 0 is out of bounds for axis 0 with size 0\n",
      "DROUIN WEST, index 0 is out of bounds for axis 0 with size 0\n",
      "HALLORA, index 0 is out of bounds for axis 0 with size 0\n",
      "JINDIVICK, index 0 is out of bounds for axis 0 with size 0\n",
      "RIPPLEBROOK, index 0 is out of bounds for axis 0 with size 0\n",
      "TARAGO, index 0 is out of bounds for axis 0 with size 0\n",
      "3818.0\n",
      "BONA VISTA, index 0 is out of bounds for axis 0 with size 0\n",
      "LILLICO, index 0 is out of bounds for axis 0 with size 0\n",
      "WARRAGUL, index 0 is out of bounds for axis 0 with size 0\n",
      "3820.0\n",
      "CHILDERS, index 0 is out of bounds for axis 0 with size 0\n",
      "NARRACAN, index 0 is out of bounds for axis 0 with size 0\n",
      "THORPDALE SOUTH, index 0 is out of bounds for axis 0 with size 0\n",
      "TRAFALGAR, index 0 is out of bounds for axis 0 with size 0\n",
      "TRAFALGAR EAST, index 0 is out of bounds for axis 0 with size 0\n",
      "TRAFALGAR SOUTH, index 0 is out of bounds for axis 0 with size 0\n",
      "3824.0\n",
      "ABERFELDY, index 0 is out of bounds for axis 0 with size 0\n",
      "AMOR, index 0 is out of bounds for axis 0 with size 0\n",
      "BOOLA, index 0 is out of bounds for axis 0 with size 0\n",
      "CARINGAL, index 0 is out of bounds for axis 0 with size 0\n",
      "COALVILLE, index 0 is out of bounds for axis 0 with size 0\n",
      "COOPERS CREEK, index 0 is out of bounds for axis 0 with size 0\n",
      "ERICA, index 0 is out of bounds for axis 0 with size 0\n",
      "FUMINA, index 0 is out of bounds for axis 0 with size 0\n",
      "FUMINA SOUTH, index 0 is out of bounds for axis 0 with size 0\n",
      "HERNES OAK, index 0 is out of bounds for axis 0 with size 0\n",
      "HILL END, index 0 is out of bounds for axis 0 with size 0\n",
      "JACOB CREEK, index 0 is out of bounds for axis 0 with size 0\n",
      "JERICHO, index 0 is out of bounds for axis 0 with size 0\n",
      "MOE, index 0 is out of bounds for axis 0 with size 0\n",
      "MOE SOUTH, index 0 is out of bounds for axis 0 with size 0\n",
      "MOONDARRA, index 0 is out of bounds for axis 0 with size 0\n",
      "NEWBOROUGH, index 0 is out of bounds for axis 0 with size 0\n",
      "NEWBOROUGH EAST, index 0 is out of bounds for axis 0 with size 0\n",
      "RAWSON, index 0 is out of bounds for axis 0 with size 0\n",
      "TANJIL, index 0 is out of bounds for axis 0 with size 0\n",
      "TANJIL SOUTH, index 0 is out of bounds for axis 0 with size 0\n",
      "THALLOO, index 0 is out of bounds for axis 0 with size 0\n",
      "THALOO, index 0 is out of bounds for axis 0 with size 0\n",
      "THOMSON, index 0 is out of bounds for axis 0 with size 0\n",
      "TOOMBON, index 0 is out of bounds for axis 0 with size 0\n",
      "WALHALLA, index 0 is out of bounds for axis 0 with size 0\n",
      "WALHALLA EAST, index 0 is out of bounds for axis 0 with size 0\n",
      "WESTBURY, index 0 is out of bounds for axis 0 with size 0\n",
      "WILLOW GROVE, index 0 is out of bounds for axis 0 with size 0\n",
      "YALLOURN, index 0 is out of bounds for axis 0 with size 0\n",
      "YALLOURN NORTH, index 0 is out of bounds for axis 0 with size 0\n",
      "3825.0\n",
      "DRIFFIELD, index 0 is out of bounds for axis 0 with size 0\n",
      "HAZELWOOD, index 0 is out of bounds for axis 0 with size 0\n",
      "HAZELWOOD NORTH, index 0 is out of bounds for axis 0 with size 0\n",
      "HAZELWOOD SOUTH, index 0 is out of bounds for axis 0 with size 0\n",
      "JEERALANG, index 0 is out of bounds for axis 0 with size 0\n",
      "JEERALANG JUNCTION, index 0 is out of bounds for axis 0 with size 0\n",
      "MARYVALE, index 0 is out of bounds for axis 0 with size 0\n",
      "MID VALLEY, index 0 is out of bounds for axis 0 with size 0\n",
      "MORWELL, index 0 is out of bounds for axis 0 with size 0\n",
      "MORWELL EAST, index 0 is out of bounds for axis 0 with size 0\n",
      "MORWELL UPPER, index 0 is out of bounds for axis 0 with size 0\n",
      "3840.0\n",
      "CHURCHILL, index 0 is out of bounds for axis 0 with size 0\n",
      "3842.0\n",
      "BLACKWARRY, index 0 is out of bounds for axis 0 with size 0\n",
      "CALLIGNEE, index 0 is out of bounds for axis 0 with size 0\n",
      "CALLIGNEE NORTH, index 0 is out of bounds for axis 0 with size 0\n",
      "CALLIGNEE SOUTH, index 0 is out of bounds for axis 0 with size 0\n",
      "CARRAJUNG, index 0 is out of bounds for axis 0 with size 0\n",
      "CARRAJUNG LOWER, index 0 is out of bounds for axis 0 with size 0\n",
      "CARRAJUNG SOUTH, index 0 is out of bounds for axis 0 with size 0\n",
      "FLYNN, index 0 is out of bounds for axis 0 with size 0\n",
      "FLYNNS CREEK, index 0 is out of bounds for axis 0 with size 0\n",
      "KOORNALLA, index 0 is out of bounds for axis 0 with size 0\n",
      "LOY YANG, index 0 is out of bounds for axis 0 with size 0\n",
      "MOUNT TASSIE, index 0 is out of bounds for axis 0 with size 0\n",
      "TRARALGON, index 0 is out of bounds for axis 0 with size 0\n",
      "TRARALGON EAST, index 0 is out of bounds for axis 0 with size 0\n",
      "TRARALGON SOUTH, index 0 is out of bounds for axis 0 with size 0\n",
      "TYERS, index 0 is out of bounds for axis 0 with size 0\n",
      "WILLUNG SOUTH, index 0 is out of bounds for axis 0 with size 0\n",
      "3844.0\n",
      "GIFFARD, index 0 is out of bounds for axis 0 with size 0\n",
      "GUTHRIDGE, index 0 is out of bounds for axis 0 with size 0\n",
      "SALE, index 0 is out of bounds for axis 0 with size 0\n",
      "SALE NORTH, index 0 is out of bounds for axis 0 with size 0\n",
      "WURRUK, index 0 is out of bounds for axis 0 with size 0\n",
      "3850.0\n",
      "AIRLY, index 0 is out of bounds for axis 0 with size 0\n",
      "BUNDALAGUAH, index 0 is out of bounds for axis 0 with size 0\n",
      "CLYDEBANK, index 0 is out of bounds for axis 0 with size 0\n",
      "COBAINS, index 0 is out of bounds for axis 0 with size 0\n",
      "DARRIMAN, index 0 is out of bounds for axis 0 with size 0\n",
      "DUTSON, index 0 is out of bounds for axis 0 with size 0\n",
      "DUTSON DOWNS, index 0 is out of bounds for axis 0 with size 0\n",
      "FLAMINGO BEACH, index 0 is out of bounds for axis 0 with size 0\n",
      "FULHAM, index 0 is out of bounds for axis 0 with size 0\n",
      "GIFFARD, index 0 is out of bounds for axis 0 with size 0\n",
      "GIFFARD WEST, index 0 is out of bounds for axis 0 with size 0\n",
      "GLOMAR BEACH, index 0 is out of bounds for axis 0 with size 0\n",
      "GOLDEN BEACH, index 0 is out of bounds for axis 0 with size 0\n",
      "KILMANY, index 0 is out of bounds for axis 0 with size 0\n",
      "LAKE WELLINGTON, index 0 is out of bounds for axis 0 with size 0\n",
      "LOCH SPORT, index 0 is out of bounds for axis 0 with size 0\n",
      "LONGFORD, index 0 is out of bounds for axis 0 with size 0\n",
      "MONTGOMERY, index 0 is out of bounds for axis 0 with size 0\n",
      "MYRTLEBANK, index 0 is out of bounds for axis 0 with size 0\n",
      "PARADISE BEACH, index 0 is out of bounds for axis 0 with size 0\n",
      "PEARSONDALE, index 0 is out of bounds for axis 0 with size 0\n",
      "SEACOMBE, index 0 is out of bounds for axis 0 with size 0\n",
      "SEASPRAY, index 0 is out of bounds for axis 0 with size 0\n",
      "SOMERTON PARK, index 0 is out of bounds for axis 0 with size 0\n",
      "STRADBROKE, index 0 is out of bounds for axis 0 with size 0\n",
      "THE HEART, index 0 is out of bounds for axis 0 with size 0\n",
      "THE HONEYSUCKLES, index 0 is out of bounds for axis 0 with size 0\n",
      "3851.0\n",
      "TOONGABBIE, index 0 is out of bounds for axis 0 with size 0\n",
      "3856.0\n",
      "ARBUCKLE, index 0 is out of bounds for axis 0 with size 0\n",
      "BILLABONG, index 0 is out of bounds for axis 0 with size 0\n",
      "BURAGWONDUC, index 0 is out of bounds for axis 0 with size 0\n",
      "CROOKAYAN, index 0 is out of bounds for axis 0 with size 0\n",
      "DAWSON, index 0 is out of bounds for axis 0 with size 0\n",
      "DENISON, index 0 is out of bounds for axis 0 with size 0\n",
      "GILLUM, index 0 is out of bounds for axis 0 with size 0\n",
      "GLEN FALLOCH, index 0 is out of bounds for axis 0 with size 0\n",
      "GLENFALLOCH, index 0 is out of bounds for axis 0 with size 0\n",
      "GLENMAGGIE, index 0 is out of bounds for axis 0 with size 0\n",
      "HEYFIELD, index 0 is out of bounds for axis 0 with size 0\n",
      "HOWITT PLAINS, index 0 is out of bounds for axis 0 with size 0\n",
      "LICOLA, index 0 is out of bounds for axis 0 with size 0\n",
      "LICOLA NORTH, index 0 is out of bounds for axis 0 with size 0\n",
      "REYNARD, index 0 is out of bounds for axis 0 with size 0\n",
      "SARGOOD, index 0 is out of bounds for axis 0 with size 0\n",
      "SEATON, index 0 is out of bounds for axis 0 with size 0\n",
      "TAMBORITHA, index 0 is out of bounds for axis 0 with size 0\n",
      "WINNINDOO, index 0 is out of bounds for axis 0 with size 0\n",
      "WORROWING, index 0 is out of bounds for axis 0 with size 0\n",
      "YANGOURA, index 0 is out of bounds for axis 0 with size 0\n",
      "3858.0\n",
      "BOISDALE, index 0 is out of bounds for axis 0 with size 0\n",
      "BRIAGOLONG, index 0 is out of bounds for axis 0 with size 0\n",
      "BUSHY PARK, index 0 is out of bounds for axis 0 with size 0\n",
      "COONGULLA, index 0 is out of bounds for axis 0 with size 0\n",
      "KOOROOL, index 0 is out of bounds for axis 0 with size 0\n",
      "MAFFRA, index 0 is out of bounds for axis 0 with size 0\n",
      "MONOMAK, index 0 is out of bounds for axis 0 with size 0\n",
      "MOROKA, index 0 is out of bounds for axis 0 with size 0\n",
      "NAP NAP MARRA, index 0 is out of bounds for axis 0 with size 0\n",
      "NUNTIN, index 0 is out of bounds for axis 0 with size 0\n",
      "RIVERSLEA, index 0 is out of bounds for axis 0 with size 0\n",
      "TOOLOME, index 0 is out of bounds for axis 0 with size 0\n",
      "VALENCIA CREEK, index 0 is out of bounds for axis 0 with size 0\n",
      "WOOLENOOK, index 0 is out of bounds for axis 0 with size 0\n",
      "WRATHUNG, index 0 is out of bounds for axis 0 with size 0\n",
      "WRIXON, index 0 is out of bounds for axis 0 with size 0\n",
      "3860.0\n",
      "BUDGEE BUDGEE, index 0 is out of bounds for axis 0 with size 0\n",
      "CASTLEBURN, index 0 is out of bounds for axis 0 with size 0\n",
      "COBBANNAH, index 0 is out of bounds for axis 0 with size 0\n",
      "COWA, index 0 is out of bounds for axis 0 with size 0\n",
      "CROOKED RIVER, index 0 is out of bounds for axis 0 with size 0\n",
      "DARGO, index 0 is out of bounds for axis 0 with size 0\n",
      "HAWKHURST, index 0 is out of bounds for axis 0 with size 0\n",
      "HOLLANDS LANDING, index 0 is out of bounds for axis 0 with size 0\n",
      "LLOWALONG, index 0 is out of bounds for axis 0 with size 0\n",
      "MEERLIEU, index 0 is out of bounds for axis 0 with size 0\n",
      "MIOWERA, index 0 is out of bounds for axis 0 with size 0\n",
      "MOORNAPA, index 0 is out of bounds for axis 0 with size 0\n",
      "MUNRO, index 0 is out of bounds for axis 0 with size 0\n",
      "PERRY BRIDGE, index 0 is out of bounds for axis 0 with size 0\n",
      "STOCKDALE, index 0 is out of bounds for axis 0 with size 0\n",
      "STRATFORD, index 0 is out of bounds for axis 0 with size 0\n",
      "WATERFORD, index 0 is out of bounds for axis 0 with size 0\n",
      "WONGUNGARRA, index 0 is out of bounds for axis 0 with size 0\n",
      "3862.0\n",
      "LINDENOW, index 0 is out of bounds for axis 0 with size 0\n",
      "3865.0\n",
      "JUMBUK, index 0 is out of bounds for axis 0 with size 0\n",
      "YINNAR, index 0 is out of bounds for axis 0 with size 0\n",
      "YINNAR SOUTH, index 0 is out of bounds for axis 0 with size 0\n",
      "3869.0\n",
      "ALLAMBEE RESERVE, index 0 is out of bounds for axis 0 with size 0\n",
      "ALLAMBEE SOUTH, index 0 is out of bounds for axis 0 with size 0\n",
      "BAROMI, index 0 is out of bounds for axis 0 with size 0\n",
      "DARLIMURLA, index 0 is out of bounds for axis 0 with size 0\n",
      "DELBURN, index 0 is out of bounds for axis 0 with size 0\n",
      "DOLLAR, index 0 is out of bounds for axis 0 with size 0\n",
      "LIMONITE, index 0 is out of bounds for axis 0 with size 0\n",
      "MIRBOO, index 0 is out of bounds for axis 0 with size 0\n",
      "MIRBOO NORTH, index 0 is out of bounds for axis 0 with size 0\n",
      "TARWIN EAST, index 0 is out of bounds for axis 0 with size 0\n",
      "3871.0\n",
      "BAIRNSDALE, index 0 is out of bounds for axis 0 with size 0\n",
      "BANKSIA PENINSULA, index 0 is out of bounds for axis 0 with size 0\n",
      "BENGWORDEN, index 0 is out of bounds for axis 0 with size 0\n",
      "BROADLANDS, index 0 is out of bounds for axis 0 with size 0\n",
      "BULLUMWAAL, index 0 is out of bounds for axis 0 with size 0\n",
      "CALULU, index 0 is out of bounds for axis 0 with size 0\n",
      "CLIFTON CREEK, index 0 is out of bounds for axis 0 with size 0\n",
      "DEPTFORD, index 0 is out of bounds for axis 0 with size 0\n",
      "EAST BAIRNSDALE, index 0 is out of bounds for axis 0 with size 0\n",
      "EASTWOOD, index 0 is out of bounds for axis 0 with size 0\n",
      "ELLASWOOD, index 0 is out of bounds for axis 0 with size 0\n",
      "FAIRY DELL, index 0 is out of bounds for axis 0 with size 0\n",
      "FLAGGY CREEK, index 0 is out of bounds for axis 0 with size 0\n",
      "FORGE CREEK, index 0 is out of bounds for axis 0 with size 0\n",
      "GOON NURE, index 0 is out of bounds for axis 0 with size 0\n",
      "GRANITE ROCK, index 0 is out of bounds for axis 0 with size 0\n",
      "HOLLANDS LANDING, index 0 is out of bounds for axis 0 with size 0\n",
      "IGUANA CREEK, index 0 is out of bounds for axis 0 with size 0\n",
      "LINDENOW SOUTH, index 0 is out of bounds for axis 0 with size 0\n",
      "LUCKNOW, index 0 is out of bounds for axis 0 with size 0\n",
      "MARTHAVALE, index 0 is out of bounds for axis 0 with size 0\n",
      "MELWOOD, index 0 is out of bounds for axis 0 with size 0\n",
      "MERRIJIG, index 0 is out of bounds for axis 0 with size 0\n",
      "MOUNT TAYLOR, index 0 is out of bounds for axis 0 with size 0\n",
      "NEWLANDS ARM, index 0 is out of bounds for axis 0 with size 0\n",
      "RYANS, index 0 is out of bounds for axis 0 with size 0\n",
      "SARSFIELD, index 0 is out of bounds for axis 0 with size 0\n",
      "TABBERABBERA, index 0 is out of bounds for axis 0 with size 0\n",
      "WALPA, index 0 is out of bounds for axis 0 with size 0\n",
      "WATERHOLES, index 0 is out of bounds for axis 0 with size 0\n",
      "WENTWORTH, index 0 is out of bounds for axis 0 with size 0\n",
      "WOODGLEN, index 0 is out of bounds for axis 0 with size 0\n",
      "WUK WUK, index 0 is out of bounds for axis 0 with size 0\n",
      "WY YUNG, index 0 is out of bounds for axis 0 with size 0\n",
      "3875.0\n",
      "BOOLE POOLE, index 0 is out of bounds for axis 0 with size 0\n",
      "OCEAN GRANGE, index 0 is out of bounds for axis 0 with size 0\n",
      "PAYNESVILLE, index 0 is out of bounds for axis 0 with size 0\n",
      "RAYMOND ISLAND, index 0 is out of bounds for axis 0 with size 0\n",
      "3880.0\n",
      "NICHOLSON, index 0 is out of bounds for axis 0 with size 0\n",
      "3882.0\n",
      "NEWMERELLA, index 0 is out of bounds for axis 0 with size 0\n",
      "3886.0\n",
      "BENDOC, index 0 is out of bounds for axis 0 with size 0\n",
      "BETE BOLONG, index 0 is out of bounds for axis 0 with size 0\n",
      "BETE BOLONG NORTH, index 0 is out of bounds for axis 0 with size 0\n",
      "BONANG, index 0 is out of bounds for axis 0 with size 0\n",
      "BRODRIBB RIVER, index 0 is out of bounds for axis 0 with size 0\n",
      "CABANANDRA, index 0 is out of bounds for axis 0 with size 0\n",
      "CAPE CONRAN, index 0 is out of bounds for axis 0 with size 0\n",
      "CORRINGLE, index 0 is out of bounds for axis 0 with size 0\n",
      "DEDDICK VALLEY, index 0 is out of bounds for axis 0 with size 0\n",
      "DELEGATE RIVER, index 0 is out of bounds for axis 0 with size 0\n",
      "DELEGATE RIVER EAST, index 0 is out of bounds for axis 0 with size 0\n",
      "DELLICKNORA, index 0 is out of bounds for axis 0 with size 0\n",
      "GOONGERAH, index 0 is out of bounds for axis 0 with size 0\n",
      "HAYDENS BOG, index 0 is out of bounds for axis 0 with size 0\n",
      "JARRAHMOND, index 0 is out of bounds for axis 0 with size 0\n",
      "LOCHEND, index 0 is out of bounds for axis 0 with size 0\n",
      "MARLO, index 0 is out of bounds for axis 0 with size 0\n",
      "MARTINS CREEK, index 0 is out of bounds for axis 0 with size 0\n",
      "NURRAN, index 0 is out of bounds for axis 0 with size 0\n",
      "OMEO VALLEY, index 0 is out of bounds for axis 0 with size 0\n",
      "ORBOST, index 0 is out of bounds for axis 0 with size 0\n",
      "SIMPSONS CREEK, index 0 is out of bounds for axis 0 with size 0\n",
      "TOSTAREE, index 0 is out of bounds for axis 0 with size 0\n",
      "TUBBUT, index 0 is out of bounds for axis 0 with size 0\n",
      "WAYGARA, index 0 is out of bounds for axis 0 with size 0\n",
      "WOMBAT CREEK, index 0 is out of bounds for axis 0 with size 0\n",
      "3888.0\n",
      "MALLACOOTA, index 0 is out of bounds for axis 0 with size 0\n",
      "3892.0\n",
      "ANGLERS REST, index 0 is out of bounds for axis 0 with size 0\n",
      "BINGO, index 0 is out of bounds for axis 0 with size 0\n",
      "BINGO MUNJIE, index 0 is out of bounds for axis 0 with size 0\n",
      "BUNDARA, index 0 is out of bounds for axis 0 with size 0\n",
      "CASSILIS, index 0 is out of bounds for axis 0 with size 0\n",
      "COBUNGRA, index 0 is out of bounds for axis 0 with size 0\n",
      "DINNER PLAIN, index 0 is out of bounds for axis 0 with size 0\n",
      "GLEN VALLEY, index 0 is out of bounds for axis 0 with size 0\n",
      "GLEN WILLS, index 0 is out of bounds for axis 0 with size 0\n",
      "HINNOMUNJIE, index 0 is out of bounds for axis 0 with size 0\n",
      "OMEO, index 0 is out of bounds for axis 0 with size 0\n",
      "OMEO VALLEY, index 0 is out of bounds for axis 0 with size 0\n",
      "SHANNONVALE, index 0 is out of bounds for axis 0 with size 0\n",
      "3898.0\n",
      "SWAN REACH, index 0 is out of bounds for axis 0 with size 0\n",
      "3903.0\n",
      "METUNG, index 0 is out of bounds for axis 0 with size 0\n",
      "3904.0\n",
      "KALIMNA, index 0 is out of bounds for axis 0 with size 0\n",
      "KALIMNA WEST, index 0 is out of bounds for axis 0 with size 0\n",
      "LAKE BUNGA, index 0 is out of bounds for axis 0 with size 0\n",
      "LAKE TYERS BEACH, index 0 is out of bounds for axis 0 with size 0\n",
      "LAKES ENTRANCE, index 0 is out of bounds for axis 0 with size 0\n",
      "NUNGURNER, index 0 is out of bounds for axis 0 with size 0\n",
      "NYERIMILANG, index 0 is out of bounds for axis 0 with size 0\n",
      "TOORLOO ARM, index 0 is out of bounds for axis 0 with size 0\n",
      "3909.0\n",
      "LANGWARRIN, index 0 is out of bounds for axis 0 with size 0\n",
      "3910.0\n",
      "BAXTER, index 0 is out of bounds for axis 0 with size 0\n",
      "LANGWARRIN SOUTH, index 0 is out of bounds for axis 0 with size 0\n",
      "3911.0\n",
      "PEARCEDALE, index 0 is out of bounds for axis 0 with size 0\n",
      "SOMERVILLE, index 0 is out of bounds for axis 0 with size 0\n",
      "3912.0\n",
      "TYABB, index 0 is out of bounds for axis 0 with size 0\n",
      "3913.0\n",
      "HASTINGS, index 0 is out of bounds for axis 0 with size 0\n",
      "TUERONG, index 0 is out of bounds for axis 0 with size 0\n",
      "3915.0\n",
      "BITTERN, index 0 is out of bounds for axis 0 with size 0\n",
      "3918.0\n",
      "CRIB POINT, index 0 is out of bounds for axis 0 with size 0\n",
      "3919.0\n",
      "COWES, index 0 is out of bounds for axis 0 with size 0\n",
      "SILVERLEAVES, index 0 is out of bounds for axis 0 with size 0\n",
      "SMITHS BEACH, index 0 is out of bounds for axis 0 with size 0\n",
      "SUMMERLANDS, index 0 is out of bounds for axis 0 with size 0\n",
      "SUNDERLAND BAY, index 0 is out of bounds for axis 0 with size 0\n",
      "SUNSET STRIP, index 0 is out of bounds for axis 0 with size 0\n",
      "SURF BEACH, index 0 is out of bounds for axis 0 with size 0\n",
      "VENTNOR, index 0 is out of bounds for axis 0 with size 0\n",
      "WIMBLEDON HEIGHTS, index 0 is out of bounds for axis 0 with size 0\n",
      "3922.0\n",
      "CAPE WOOLAMAI, index 0 is out of bounds for axis 0 with size 0\n",
      "CHURCHILL ISLAND, index 0 is out of bounds for axis 0 with size 0\n",
      "NEWHAVEN, index 0 is out of bounds for axis 0 with size 0\n",
      "SAN REMO, index 0 is out of bounds for axis 0 with size 0\n",
      "3925.0\n",
      "BALNARRING, index 0 is out of bounds for axis 0 with size 0\n",
      "BALNARRING BEACH, index 0 is out of bounds for axis 0 with size 0\n",
      "MERRICKS BEACH, index 0 is out of bounds for axis 0 with size 0\n",
      "MERRICKS NORTH, index 0 is out of bounds for axis 0 with size 0\n",
      "3926.0\n",
      "FLINDERS, index 0 is out of bounds for axis 0 with size 0\n",
      "3929.0\n",
      "KUNYUNG, index 0 is out of bounds for axis 0 with size 0\n",
      "MOUNT ELIZA, index 0 is out of bounds for axis 0 with size 0\n",
      "3930.0\n",
      "MORNINGTON, index 0 is out of bounds for axis 0 with size 0\n",
      "3931.0\n",
      "MOUNT MARTHA, index 0 is out of bounds for axis 0 with size 0\n",
      "3934.0\n",
      "ARTHURS SEAT, index 0 is out of bounds for axis 0 with size 0\n",
      "DROMANA, index 0 is out of bounds for axis 0 with size 0\n",
      "SAFETY BEACH, index 0 is out of bounds for axis 0 with size 0\n",
      "3936.0\n",
      "RED HILL, index 0 is out of bounds for axis 0 with size 0\n",
      "RED HILL SOUTH, index 0 is out of bounds for axis 0 with size 0\n",
      "3937.0\n",
      "MCCRAE, index 0 is out of bounds for axis 0 with size 0\n",
      "3938.0\n",
      "BONEO, index 0 is out of bounds for axis 0 with size 0\n",
      "CAPE SCHANCK, index 0 is out of bounds for axis 0 with size 0\n",
      "FINGAL, index 0 is out of bounds for axis 0 with size 0\n",
      "ROSEBUD, index 0 is out of bounds for axis 0 with size 0\n",
      "ROSEBUD PLAZA, index 0 is out of bounds for axis 0 with size 0\n",
      "3939.0\n",
      "CAPEL SOUND, index 0 is out of bounds for axis 0 with size 0\n",
      "ROSEBUD WEST, index 0 is out of bounds for axis 0 with size 0\n",
      "3940.0\n",
      "RYE, index 0 is out of bounds for axis 0 with size 0\n",
      "ST ANDREWS BEACH, index 0 is out of bounds for axis 0 with size 0\n",
      "TOOTGAROOK, index 0 is out of bounds for axis 0 with size 0\n",
      "3941.0\n",
      "BLAIRGOWRIE, index 0 is out of bounds for axis 0 with size 0\n",
      "3942.0\n",
      "SORRENTO, index 0 is out of bounds for axis 0 with size 0\n",
      "3943.0\n",
      "PORTSEA, index 0 is out of bounds for axis 0 with size 0\n",
      "3944.0\n",
      "BENA, index 0 is out of bounds for axis 0 with size 0\n",
      "3946.0\n",
      "KARDELLA SOUTH, index 0 is out of bounds for axis 0 with size 0\n",
      "KORUMBURRA, index 0 is out of bounds for axis 0 with size 0\n",
      "KORUMBURRA SOUTH, index 0 is out of bounds for axis 0 with size 0\n",
      "STRZELECKI, index 0 is out of bounds for axis 0 with size 0\n",
      "WHITELAW, index 0 is out of bounds for axis 0 with size 0\n",
      "3950.0\n",
      "BERRYS CREEK, index 0 is out of bounds for axis 0 with size 0\n",
      "BOOROOL, index 0 is out of bounds for axis 0 with size 0\n",
      "HALLSTON, index 0 is out of bounds for axis 0 with size 0\n",
      "KOOROOMAN, index 0 is out of bounds for axis 0 with size 0\n",
      "LEONGATHA, index 0 is out of bounds for axis 0 with size 0\n",
      "LEONGATHA NORTH, index 0 is out of bounds for axis 0 with size 0\n",
      "LEONGATHA SOUTH, index 0 is out of bounds for axis 0 with size 0\n",
      "MARDAN, index 0 is out of bounds for axis 0 with size 0\n",
      "MOUNT ECCLES, index 0 is out of bounds for axis 0 with size 0\n",
      "MOUNT ECCLES SOUTH, index 0 is out of bounds for axis 0 with size 0\n",
      "NERRENA, index 0 is out of bounds for axis 0 with size 0\n",
      "RUBY, index 0 is out of bounds for axis 0 with size 0\n",
      "TRIDA, index 0 is out of bounds for axis 0 with size 0\n",
      "WILD DOG VALLEY, index 0 is out of bounds for axis 0 with size 0\n",
      "WOOREEN, index 0 is out of bounds for axis 0 with size 0\n",
      "3953.0\n",
      "DUMBALK, index 0 is out of bounds for axis 0 with size 0\n",
      "DUMBALK NORTH, index 0 is out of bounds for axis 0 with size 0\n",
      "MEENIYAN, index 0 is out of bounds for axis 0 with size 0\n",
      "MIDDLE TARWIN, index 0 is out of bounds for axis 0 with size 0\n",
      "MIRBOO SOUTH, index 0 is out of bounds for axis 0 with size 0\n",
      "TARWIN, index 0 is out of bounds for axis 0 with size 0\n",
      "TARWIN LOWER, index 0 is out of bounds for axis 0 with size 0\n",
      "VENUS BAY, index 0 is out of bounds for axis 0 with size 0\n",
      "WALKERVILLE, index 0 is out of bounds for axis 0 with size 0\n",
      "WALKERVILLE NORTH, index 0 is out of bounds for axis 0 with size 0\n",
      "WALKERVILLE SOUTH, index 0 is out of bounds for axis 0 with size 0\n",
      "3956.0\n",
      "BENNISON, index 0 is out of bounds for axis 0 with size 0\n",
      "BOOLARONG, index 0 is out of bounds for axis 0 with size 0\n",
      "FOSTER, index 0 is out of bounds for axis 0 with size 0\n",
      "FOSTER NORTH, index 0 is out of bounds for axis 0 with size 0\n",
      "GUNYAH, index 0 is out of bounds for axis 0 with size 0\n",
      "MOUNT BEST, index 0 is out of bounds for axis 0 with size 0\n",
      "RUMBUG, index 0 is out of bounds for axis 0 with size 0\n",
      "SHALLOW INLET, index 0 is out of bounds for axis 0 with size 0\n",
      "TIDAL RIVER, index 0 is out of bounds for axis 0 with size 0\n",
      "TURTONS CREEK, index 0 is out of bounds for axis 0 with size 0\n",
      "WILSONS PROMONTORY, index 0 is out of bounds for axis 0 with size 0\n"
     ]
    },
    {
     "name": "stderr",
     "output_type": "stream",
     "text": [
      "/Users/matthewrush/virtualenv/lib/python3.10/site-packages/pyrosm/pyrosm.py:576: ShapelyDeprecationWarning: The array interface is deprecated and will no longer work in Shapely 2.0. Convert the '.coords' to a numpy array instead.\n",
      "  gdf = get_poi_data(\n"
     ]
    },
    {
     "name": "stdout",
     "output_type": "stream",
     "text": [
      "WOORARRA WEST, index 0 is out of bounds for axis 0 with size 0\n",
      "YANAKIE, index 0 is out of bounds for axis 0 with size 0\n",
      "3960.0\n",
      "ALBERTON, index 0 is out of bounds for axis 0 with size 0\n",
      "ALBERTON WEST, index 0 is out of bounds for axis 0 with size 0\n",
      "BALOOK, index 0 is out of bounds for axis 0 with size 0\n",
      "BAROMI, index 0 is out of bounds for axis 0 with size 0\n",
      "CALROSSIE, index 0 is out of bounds for axis 0 with size 0\n",
      "DEVON NORTH, index 0 is out of bounds for axis 0 with size 0\n",
      "GELLIONDALE, index 0 is out of bounds for axis 0 with size 0\n",
      "HIAWATHA, index 0 is out of bounds for axis 0 with size 0\n",
      "HUNTERSTON, index 0 is out of bounds for axis 0 with size 0\n",
      "JACK RIVER, index 0 is out of bounds for axis 0 with size 0\n",
      "LANGSBOROUGH, index 0 is out of bounds for axis 0 with size 0\n",
      "MACKS CREEK, index 0 is out of bounds for axis 0 with size 0\n",
      "MADALYA, index 0 is out of bounds for axis 0 with size 0\n",
      "MANNS BEACH, index 0 is out of bounds for axis 0 with size 0\n",
      "PORT ALBERT, index 0 is out of bounds for axis 0 with size 0\n",
      "ROBERTSONS BEACH, index 0 is out of bounds for axis 0 with size 0\n",
      "SNAKE ISLAND, index 0 is out of bounds for axis 0 with size 0\n",
      "STACEYS BRIDGE, index 0 is out of bounds for axis 0 with size 0\n",
      "TARRA VALLEY, index 0 is out of bounds for axis 0 with size 0\n",
      "TARRAVILLE, index 0 is out of bounds for axis 0 with size 0\n",
      "WON WRON, index 0 is out of bounds for axis 0 with size 0\n",
      "3971.0\n",
      "LYNBROOK, index 0 is out of bounds for axis 0 with size 0\n",
      "LYNDHURST, index 0 is out of bounds for axis 0 with size 0\n",
      "3975.0\n"
     ]
    },
    {
     "name": "stderr",
     "output_type": "stream",
     "text": [
      "/Users/matthewrush/virtualenv/lib/python3.10/site-packages/pyrosm/pyrosm.py:576: UserWarning: Could not find any POIs for given area.\n",
      "  gdf = get_poi_data(\n"
     ]
    },
    {
     "name": "stdout",
     "output_type": "stream",
     "text": [
      "HAMPTON PARK, 'NoneType' object is not subscriptable\n",
      "3976.0\n",
      "BOTANIC RIDGE, index 0 is out of bounds for axis 0 with size 0\n",
      "CANNONS CREEK, index 0 is out of bounds for axis 0 with size 0\n",
      "CRANBOURNE, index 0 is out of bounds for axis 0 with size 0\n",
      "CRANBOURNE EAST, index 0 is out of bounds for axis 0 with size 0\n",
      "CRANBOURNE NORTH, index 0 is out of bounds for axis 0 with size 0\n",
      "CRANBOURNE SOUTH, index 0 is out of bounds for axis 0 with size 0\n",
      "CRANBOURNE WEST, index 0 is out of bounds for axis 0 with size 0\n",
      "DEVON MEADOWS, index 0 is out of bounds for axis 0 with size 0\n",
      "FIVE WAYS, index 0 is out of bounds for axis 0 with size 0\n",
      "JUNCTION VILLAGE, index 0 is out of bounds for axis 0 with size 0\n",
      "SANDHURST, index 0 is out of bounds for axis 0 with size 0\n",
      "SKYE, index 0 is out of bounds for axis 0 with size 0\n",
      "3977.0\n",
      "CARDINIA, index 0 is out of bounds for axis 0 with size 0\n",
      "CLYDE, index 0 is out of bounds for axis 0 with size 0\n",
      "CLYDE NORTH, index 0 is out of bounds for axis 0 with size 0\n",
      "3978.0\n",
      "BLIND BIGHT, index 0 is out of bounds for axis 0 with size 0\n",
      "TOORADIN, index 0 is out of bounds for axis 0 with size 0\n",
      "WARNEET, index 0 is out of bounds for axis 0 with size 0\n",
      "3980.0\n",
      "BAYLES, index 0 is out of bounds for axis 0 with size 0\n",
      "CATANI, index 0 is out of bounds for axis 0 with size 0\n",
      "DALMORE, index 0 is out of bounds for axis 0 with size 0\n",
      "HEATH HILL, index 0 is out of bounds for axis 0 with size 0\n",
      "KOO WEE RUP, index 0 is out of bounds for axis 0 with size 0\n",
      "KOO WEE RUP NORTH, index 0 is out of bounds for axis 0 with size 0\n",
      "YANNATHAN, index 0 is out of bounds for axis 0 with size 0\n",
      "3981.0\n",
      "ADAMS ESTATE, index 0 is out of bounds for axis 0 with size 0\n",
      "CALDERMEADE, index 0 is out of bounds for axis 0 with size 0\n",
      "CORINELLA, index 0 is out of bounds for axis 0 with size 0\n",
      "CORONET BAY, index 0 is out of bounds for axis 0 with size 0\n",
      "GRANTVILLE, index 0 is out of bounds for axis 0 with size 0\n",
      "JAM JERRUP, index 0 is out of bounds for axis 0 with size 0\n",
      "LANG LANG, index 0 is out of bounds for axis 0 with size 0\n",
      "LANG LANG EAST, index 0 is out of bounds for axis 0 with size 0\n",
      "MONOMEITH, index 0 is out of bounds for axis 0 with size 0\n",
      "PIONEER BAY, index 0 is out of bounds for axis 0 with size 0\n",
      "QUEENSFERRY, index 0 is out of bounds for axis 0 with size 0\n",
      "TENBY POINT, index 0 is out of bounds for axis 0 with size 0\n",
      "THE GURDIES, index 0 is out of bounds for axis 0 with size 0\n",
      "3984.0\n",
      "NYORA, index 0 is out of bounds for axis 0 with size 0\n",
      "3987.0\n",
      "BLACKWOOD FOREST, index 0 is out of bounds for axis 0 with size 0\n",
      "DALYSTON, index 0 is out of bounds for axis 0 with size 0\n",
      "RYANSTON, index 0 is out of bounds for axis 0 with size 0\n",
      "WEST CREEK, index 0 is out of bounds for axis 0 with size 0\n",
      "3992.0\n",
      "ANDERSON, index 0 is out of bounds for axis 0 with size 0\n",
      "ARCHIES CREEK, index 0 is out of bounds for axis 0 with size 0\n",
      "CAPE PATERSON, index 0 is out of bounds for axis 0 with size 0\n",
      "HARMERS HAVEN, index 0 is out of bounds for axis 0 with size 0\n",
      "HICKSBOROUGH, index 0 is out of bounds for axis 0 with size 0\n",
      "KILCUNDA, index 0 is out of bounds for axis 0 with size 0\n",
      "LANCE CREEK, index 0 is out of bounds for axis 0 with size 0\n",
      "NORTH WONTHAGGI, index 0 is out of bounds for axis 0 with size 0\n",
      "POWLETT RIVER, index 0 is out of bounds for axis 0 with size 0\n",
      "SOUTH DUDLEY, index 0 is out of bounds for axis 0 with size 0\n",
      "ST CLAIR, index 0 is out of bounds for axis 0 with size 0\n",
      "WATTLE BANK, index 0 is out of bounds for axis 0 with size 0\n",
      "WONTHAGGI, index 0 is out of bounds for axis 0 with size 0\n",
      "WOOLAMAI, index 0 is out of bounds for axis 0 with size 0\n",
      "3995.0\n",
      "INVERLOCH, index 0 is out of bounds for axis 0 with size 0\n",
      "POUND CREEK, index 0 is out of bounds for axis 0 with size 0\n",
      "3996.0\n"
     ]
    }
   ],
   "source": [
    "property_df['park_count'] = property_df.apply(lambda x: park_count(osm, fp, x['postcode'], postcode_df), axis=1)"
   ]
  },
  {
   "cell_type": "code",
   "execution_count": 29,
   "metadata": {},
   "outputs": [
    {
     "name": "stderr",
     "output_type": "stream",
     "text": [
      "/Users/matthewrush/virtualenv/lib/python3.10/site-packages/pyrosm/pyrosm.py:576: ShapelyDeprecationWarning: The array interface is deprecated and will no longer work in Shapely 2.0. Convert the '.coords' to a numpy array instead.\n",
      "  gdf = get_poi_data(\n",
      "/Users/matthewrush/virtualenv/lib/python3.10/site-packages/pyrosm/pyrosm.py:576: UserWarning: Could not find any POIs for given area.\n",
      "  gdf = get_poi_data(\n"
     ]
    },
    {
     "name": "stdout",
     "output_type": "stream",
     "text": [
      "EAST MELBOURNE, 'NoneType' object is not subscriptable\n",
      "WEST MELBOURNE, 'NoneType' object is not subscriptable\n"
     ]
    },
    {
     "name": "stderr",
     "output_type": "stream",
     "text": [
      "/Users/matthewrush/virtualenv/lib/python3.10/site-packages/pyrosm/pyrosm.py:576: ShapelyDeprecationWarning: The array interface is deprecated and will no longer work in Shapely 2.0. Convert the '.coords' to a numpy array instead.\n",
      "  gdf = get_poi_data(\n"
     ]
    },
    {
     "name": "stdout",
     "output_type": "stream",
     "text": [
      "ST KILDA ROAD CENTRAL, index 0 is out of bounds for axis 0 with size 0\n",
      "ST KILDA ROAD MELBOURNE, index 0 is out of bounds for axis 0 with size 0\n"
     ]
    },
    {
     "name": "stderr",
     "output_type": "stream",
     "text": [
      "/Users/matthewrush/virtualenv/lib/python3.10/site-packages/pyrosm/pyrosm.py:576: ShapelyDeprecationWarning: The array interface is deprecated and will no longer work in Shapely 2.0. Convert the '.coords' to a numpy array instead.\n",
      "  gdf = get_poi_data(\n",
      "/Users/matthewrush/virtualenv/lib/python3.10/site-packages/pyrosm/pyrosm.py:576: UserWarning: Could not find any POIs for given area.\n",
      "  gdf = get_poi_data(\n"
     ]
    },
    {
     "name": "stdout",
     "output_type": "stream",
     "text": [
      "SEDDON, 'NoneType' object is not subscriptable\n",
      "SEDDON WEST, index 0 is out of bounds for axis 0 with size 0\n"
     ]
    },
    {
     "name": "stderr",
     "output_type": "stream",
     "text": [
      "/Users/matthewrush/virtualenv/lib/python3.10/site-packages/pyrosm/pyrosm.py:576: UserWarning: Could not find any POIs for given area.\n",
      "  gdf = get_poi_data(\n"
     ]
    },
    {
     "name": "stdout",
     "output_type": "stream",
     "text": [
      "BROOKLYN, 'NoneType' object is not subscriptable\n"
     ]
    },
    {
     "name": "stderr",
     "output_type": "stream",
     "text": [
      "/Users/matthewrush/virtualenv/lib/python3.10/site-packages/pyrosm/pyrosm.py:576: UserWarning: Could not find any POIs for given area.\n",
      "  gdf = get_poi_data(\n"
     ]
    },
    {
     "name": "stdout",
     "output_type": "stream",
     "text": [
      "KINGSVILLE, 'NoneType' object is not subscriptable\n",
      "KINGSVILLE WEST, index 0 is out of bounds for axis 0 with size 0\n"
     ]
    },
    {
     "name": "stderr",
     "output_type": "stream",
     "text": [
      "/Users/matthewrush/virtualenv/lib/python3.10/site-packages/pyrosm/pyrosm.py:576: UserWarning: Could not find any POIs for given area.\n",
      "  gdf = get_poi_data(\n"
     ]
    },
    {
     "name": "stdout",
     "output_type": "stream",
     "text": [
      "TOTTENHAM, 'NoneType' object is not subscriptable\n",
      "WEST FOOTSCRAY, 'NoneType' object is not subscriptable\n"
     ]
    },
    {
     "name": "stderr",
     "output_type": "stream",
     "text": [
      "/Users/matthewrush/virtualenv/lib/python3.10/site-packages/pyrosm/pyrosm.py:576: UserWarning: Could not find any POIs for given area.\n",
      "  gdf = get_poi_data(\n"
     ]
    },
    {
     "name": "stdout",
     "output_type": "stream",
     "text": [
      "YARRAVILLE, 'NoneType' object is not subscriptable\n",
      "YARRAVILLE WEST, index 0 is out of bounds for axis 0 with size 0\n"
     ]
    },
    {
     "name": "stderr",
     "output_type": "stream",
     "text": [
      "/Users/matthewrush/virtualenv/lib/python3.10/site-packages/pyrosm/pyrosm.py:576: UserWarning: Could not find any POIs for given area.\n",
      "  gdf = get_poi_data(\n"
     ]
    },
    {
     "name": "stdout",
     "output_type": "stream",
     "text": [
      "NEWPORT, 'NoneType' object is not subscriptable\n"
     ]
    },
    {
     "name": "stderr",
     "output_type": "stream",
     "text": [
      "/Users/matthewrush/virtualenv/lib/python3.10/site-packages/pyrosm/pyrosm.py:576: UserWarning: Could not find any POIs for given area.\n",
      "  gdf = get_poi_data(\n"
     ]
    },
    {
     "name": "stdout",
     "output_type": "stream",
     "text": [
      "SOUTH KINGSVILLE, 'NoneType' object is not subscriptable\n"
     ]
    },
    {
     "name": "stderr",
     "output_type": "stream",
     "text": [
      "/Users/matthewrush/virtualenv/lib/python3.10/site-packages/pyrosm/pyrosm.py:576: UserWarning: Could not find any POIs for given area.\n",
      "  gdf = get_poi_data(\n"
     ]
    },
    {
     "name": "stdout",
     "output_type": "stream",
     "text": [
      "SPOTSWOOD, 'NoneType' object is not subscriptable\n"
     ]
    },
    {
     "name": "stderr",
     "output_type": "stream",
     "text": [
      "/Users/matthewrush/virtualenv/lib/python3.10/site-packages/pyrosm/pyrosm.py:576: UserWarning: Could not find any POIs for given area.\n",
      "  gdf = get_poi_data(\n"
     ]
    },
    {
     "name": "stdout",
     "output_type": "stream",
     "text": [
      "WILLIAMSTOWN, 'NoneType' object is not subscriptable\n"
     ]
    },
    {
     "name": "stderr",
     "output_type": "stream",
     "text": [
      "/Users/matthewrush/virtualenv/lib/python3.10/site-packages/pyrosm/pyrosm.py:576: UserWarning: Could not find any POIs for given area.\n",
      "  gdf = get_poi_data(\n"
     ]
    },
    {
     "name": "stdout",
     "output_type": "stream",
     "text": [
      "WILLIAMSTOWN NORTH, 'NoneType' object is not subscriptable\n"
     ]
    },
    {
     "name": "stderr",
     "output_type": "stream",
     "text": [
      "/Users/matthewrush/virtualenv/lib/python3.10/site-packages/pyrosm/pyrosm.py:576: ShapelyDeprecationWarning: The array interface is deprecated and will no longer work in Shapely 2.0. Convert the '.coords' to a numpy array instead.\n",
      "  gdf = get_poi_data(\n",
      "/Users/matthewrush/virtualenv/lib/python3.10/site-packages/pyrosm/pyrosm.py:576: UserWarning: Could not find any POIs for given area.\n",
      "  gdf = get_poi_data(\n"
     ]
    },
    {
     "name": "stdout",
     "output_type": "stream",
     "text": [
      "SEAHOLME, 'NoneType' object is not subscriptable\n",
      "BRAYBROOK NORTH, index 0 is out of bounds for axis 0 with size 0\n",
      "ROBINSON, index 0 is out of bounds for axis 0 with size 0\n",
      "ALBION, 'NoneType' object is not subscriptable\n",
      "GLENGALA, index 0 is out of bounds for axis 0 with size 0\n"
     ]
    },
    {
     "name": "stderr",
     "output_type": "stream",
     "text": [
      "/Users/matthewrush/virtualenv/lib/python3.10/site-packages/pyrosm/pyrosm.py:576: ShapelyDeprecationWarning: The array interface is deprecated and will no longer work in Shapely 2.0. Convert the '.coords' to a numpy array instead.\n",
      "  gdf = get_poi_data(\n"
     ]
    },
    {
     "name": "stdout",
     "output_type": "stream",
     "text": [
      "SUNSHINE WEST, 'NoneType' object is not subscriptable\n"
     ]
    },
    {
     "name": "stderr",
     "output_type": "stream",
     "text": [
      "/Users/matthewrush/virtualenv/lib/python3.10/site-packages/pyrosm/pyrosm.py:576: ShapelyDeprecationWarning: The array interface is deprecated and will no longer work in Shapely 2.0. Convert the '.coords' to a numpy array instead.\n",
      "  gdf = get_poi_data(\n",
      "/Users/matthewrush/virtualenv/lib/python3.10/site-packages/pyrosm/pyrosm.py:576: UserWarning: Could not find any POIs for given area.\n",
      "  gdf = get_poi_data(\n"
     ]
    },
    {
     "name": "stdout",
     "output_type": "stream",
     "text": [
      "KEALBA, 'NoneType' object is not subscriptable\n",
      "KINGS PARK, 'NoneType' object is not subscriptable\n"
     ]
    },
    {
     "name": "stderr",
     "output_type": "stream",
     "text": [
      "/Users/matthewrush/virtualenv/lib/python3.10/site-packages/pyrosm/pyrosm.py:576: UserWarning: Could not find any POIs for given area.\n",
      "  gdf = get_poi_data(\n"
     ]
    },
    {
     "name": "stdout",
     "output_type": "stream",
     "text": [
      "ARDEER, 'NoneType' object is not subscriptable\n",
      "DEER PARK EAST, index 0 is out of bounds for axis 0 with size 0\n"
     ]
    },
    {
     "name": "stderr",
     "output_type": "stream",
     "text": [
      "/Users/matthewrush/virtualenv/lib/python3.10/site-packages/pyrosm/pyrosm.py:576: UserWarning: Could not find any POIs for given area.\n",
      "  gdf = get_poi_data(\n"
     ]
    },
    {
     "name": "stdout",
     "output_type": "stream",
     "text": [
      "BURNSIDE HEIGHTS, 'NoneType' object is not subscriptable\n"
     ]
    },
    {
     "name": "stderr",
     "output_type": "stream",
     "text": [
      "/Users/matthewrush/virtualenv/lib/python3.10/site-packages/pyrosm/pyrosm.py:576: ShapelyDeprecationWarning: The array interface is deprecated and will no longer work in Shapely 2.0. Convert the '.coords' to a numpy array instead.\n",
      "  gdf = get_poi_data(\n",
      "/Users/matthewrush/virtualenv/lib/python3.10/site-packages/pyrosm/pyrosm.py:576: ShapelyDeprecationWarning: The array interface is deprecated and will no longer work in Shapely 2.0. Convert the '.coords' to a numpy array instead.\n",
      "  gdf = get_poi_data(\n",
      "/Users/matthewrush/virtualenv/lib/python3.10/site-packages/pyrosm/pyrosm.py:576: ShapelyDeprecationWarning: The array interface is deprecated and will no longer work in Shapely 2.0. Convert the '.coords' to a numpy array instead.\n",
      "  gdf = get_poi_data(\n"
     ]
    },
    {
     "name": "stdout",
     "output_type": "stream",
     "text": [
      "DEER PARK NORTH, index 0 is out of bounds for axis 0 with size 0\n",
      "RAVENHALL, 'NoneType' object is not subscriptable\n",
      "FIELDSTONE, index 0 is out of bounds for axis 0 with size 0\n",
      "MAMBOURIN, index 0 is out of bounds for axis 0 with size 0\n",
      "MANOR LAKES, index 0 is out of bounds for axis 0 with size 0\n",
      "MOUNT COTTRELL, index 0 is out of bounds for axis 0 with size 0\n",
      "WYNDHAM VALE, index 0 is out of bounds for axis 0 with size 0\n",
      "ALTONA EAST, index 0 is out of bounds for axis 0 with size 0\n",
      "ALTONA GATE, index 0 is out of bounds for axis 0 with size 0\n"
     ]
    },
    {
     "name": "stderr",
     "output_type": "stream",
     "text": [
      "/Users/matthewrush/virtualenv/lib/python3.10/site-packages/pyrosm/pyrosm.py:576: ShapelyDeprecationWarning: The array interface is deprecated and will no longer work in Shapely 2.0. Convert the '.coords' to a numpy array instead.\n",
      "  gdf = get_poi_data(\n",
      "/Users/matthewrush/virtualenv/lib/python3.10/site-packages/pyrosm/pyrosm.py:576: UserWarning: Could not find any POIs for given area.\n",
      "  gdf = get_poi_data(\n"
     ]
    },
    {
     "name": "stdout",
     "output_type": "stream",
     "text": [
      "LAVERTON NORTH, 'NoneType' object is not subscriptable\n",
      "LAVERTON RAAF, index 0 is out of bounds for axis 0 with size 0\n",
      "WILLIAMS RAAF, index 0 is out of bounds for axis 0 with size 0\n"
     ]
    },
    {
     "name": "stderr",
     "output_type": "stream",
     "text": [
      "/Users/matthewrush/virtualenv/lib/python3.10/site-packages/pyrosm/pyrosm.py:576: ShapelyDeprecationWarning: The array interface is deprecated and will no longer work in Shapely 2.0. Convert the '.coords' to a numpy array instead.\n",
      "  gdf = get_poi_data(\n",
      "/Users/matthewrush/virtualenv/lib/python3.10/site-packages/pyrosm/pyrosm.py:576: UserWarning: Could not find any POIs for given area.\n",
      "  gdf = get_poi_data(\n"
     ]
    },
    {
     "name": "stdout",
     "output_type": "stream",
     "text": [
      "LAVERTON, 'NoneType' object is not subscriptable\n"
     ]
    },
    {
     "name": "stderr",
     "output_type": "stream",
     "text": [
      "/Users/matthewrush/virtualenv/lib/python3.10/site-packages/pyrosm/pyrosm.py:576: UserWarning: Could not find any POIs for given area.\n",
      "  gdf = get_poi_data(\n"
     ]
    },
    {
     "name": "stdout",
     "output_type": "stream",
     "text": [
      "SEABROOK, 'NoneType' object is not subscriptable\n"
     ]
    },
    {
     "name": "stderr",
     "output_type": "stream",
     "text": [
      "/Users/matthewrush/virtualenv/lib/python3.10/site-packages/pyrosm/pyrosm.py:576: ShapelyDeprecationWarning: The array interface is deprecated and will no longer work in Shapely 2.0. Convert the '.coords' to a numpy array instead.\n",
      "  gdf = get_poi_data(\n",
      "/Users/matthewrush/virtualenv/lib/python3.10/site-packages/pyrosm/pyrosm.py:576: ShapelyDeprecationWarning: The array interface is deprecated and will no longer work in Shapely 2.0. Convert the '.coords' to a numpy array instead.\n",
      "  gdf = get_poi_data(\n",
      "/Users/matthewrush/virtualenv/lib/python3.10/site-packages/pyrosm/pyrosm.py:576: ShapelyDeprecationWarning: The array interface is deprecated and will no longer work in Shapely 2.0. Convert the '.coords' to a numpy array instead.\n",
      "  gdf = get_poi_data(\n"
     ]
    },
    {
     "name": "stdout",
     "output_type": "stream",
     "text": [
      "TRUGANINA, 'NoneType' object is not subscriptable\n",
      "CHARTWELL, index 0 is out of bounds for axis 0 with size 0\n"
     ]
    },
    {
     "name": "stderr",
     "output_type": "stream",
     "text": [
      "/Users/matthewrush/virtualenv/lib/python3.10/site-packages/pyrosm/pyrosm.py:576: UserWarning: Could not find any POIs for given area.\n",
      "  gdf = get_poi_data(\n"
     ]
    },
    {
     "name": "stdout",
     "output_type": "stream",
     "text": [
      "COCOROC, 'NoneType' object is not subscriptable\n"
     ]
    },
    {
     "name": "stderr",
     "output_type": "stream",
     "text": [
      "/Users/matthewrush/virtualenv/lib/python3.10/site-packages/pyrosm/pyrosm.py:576: ShapelyDeprecationWarning: The array interface is deprecated and will no longer work in Shapely 2.0. Convert the '.coords' to a numpy array instead.\n",
      "  gdf = get_poi_data(\n"
     ]
    },
    {
     "name": "stdout",
     "output_type": "stream",
     "text": [
      "QUANDONG, index 0 is out of bounds for axis 0 with size 0\n",
      "WERRIBEE, 'NoneType' object is not subscriptable\n",
      "WERRIBEE SOUTH, 'NoneType' object is not subscriptable\n",
      "KENSINGTON, 'NoneType' object is not subscriptable\n",
      "ASCOT VALE, 'NoneType' object is not subscriptable\n",
      "HIGHPOINT CITY, index 0 is out of bounds for axis 0 with size 0\n"
     ]
    },
    {
     "name": "stderr",
     "output_type": "stream",
     "text": [
      "/Users/matthewrush/virtualenv/lib/python3.10/site-packages/pyrosm/pyrosm.py:576: ShapelyDeprecationWarning: The array interface is deprecated and will no longer work in Shapely 2.0. Convert the '.coords' to a numpy array instead.\n",
      "  gdf = get_poi_data(\n",
      "/Users/matthewrush/virtualenv/lib/python3.10/site-packages/pyrosm/pyrosm.py:576: UserWarning: Could not find any POIs for given area.\n",
      "  gdf = get_poi_data(\n"
     ]
    },
    {
     "name": "stdout",
     "output_type": "stream",
     "text": [
      "TRAVANCORE, 'NoneType' object is not subscriptable\n",
      "AVONDALE HEIGHTS, 'NoneType' object is not subscriptable\n"
     ]
    },
    {
     "name": "stderr",
     "output_type": "stream",
     "text": [
      "/Users/matthewrush/virtualenv/lib/python3.10/site-packages/pyrosm/pyrosm.py:576: ShapelyDeprecationWarning: The array interface is deprecated and will no longer work in Shapely 2.0. Convert the '.coords' to a numpy array instead.\n",
      "  gdf = get_poi_data(\n"
     ]
    },
    {
     "name": "stdout",
     "output_type": "stream",
     "text": [
      "KEILOR NORTH, 'NoneType' object is not subscriptable\n"
     ]
    },
    {
     "name": "stderr",
     "output_type": "stream",
     "text": [
      "/Users/matthewrush/virtualenv/lib/python3.10/site-packages/pyrosm/pyrosm.py:576: UserWarning: Could not find any POIs for given area.\n",
      "  gdf = get_poi_data(\n"
     ]
    },
    {
     "name": "stdout",
     "output_type": "stream",
     "text": [
      "CALDER PARK, 'NoneType' object is not subscriptable\n"
     ]
    },
    {
     "name": "stderr",
     "output_type": "stream",
     "text": [
      "/Users/matthewrush/virtualenv/lib/python3.10/site-packages/pyrosm/pyrosm.py:576: UserWarning: Could not find any POIs for given area.\n",
      "  gdf = get_poi_data(\n"
     ]
    },
    {
     "name": "stdout",
     "output_type": "stream",
     "text": [
      "HILLSIDE, 'NoneType' object is not subscriptable\n"
     ]
    },
    {
     "name": "stderr",
     "output_type": "stream",
     "text": [
      "/Users/matthewrush/virtualenv/lib/python3.10/site-packages/pyrosm/pyrosm.py:576: UserWarning: Could not find any POIs for given area.\n",
      "  gdf = get_poi_data(\n"
     ]
    },
    {
     "name": "stdout",
     "output_type": "stream",
     "text": [
      "PLUMPTON, 'NoneType' object is not subscriptable\n"
     ]
    },
    {
     "name": "stderr",
     "output_type": "stream",
     "text": [
      "/Users/matthewrush/virtualenv/lib/python3.10/site-packages/pyrosm/pyrosm.py:576: ShapelyDeprecationWarning: The array interface is deprecated and will no longer work in Shapely 2.0. Convert the '.coords' to a numpy array instead.\n",
      "  gdf = get_poi_data(\n"
     ]
    },
    {
     "name": "stdout",
     "output_type": "stream",
     "text": [
      "SYDENHAM, 'NoneType' object is not subscriptable\n"
     ]
    },
    {
     "name": "stderr",
     "output_type": "stream",
     "text": [
      "/Users/matthewrush/virtualenv/lib/python3.10/site-packages/pyrosm/pyrosm.py:576: ShapelyDeprecationWarning: The array interface is deprecated and will no longer work in Shapely 2.0. Convert the '.coords' to a numpy array instead.\n",
      "  gdf = get_poi_data(\n"
     ]
    },
    {
     "name": "stdout",
     "output_type": "stream",
     "text": [
      "KEILOR LODGE, 'NoneType' object is not subscriptable\n"
     ]
    },
    {
     "name": "stderr",
     "output_type": "stream",
     "text": [
      "/Users/matthewrush/virtualenv/lib/python3.10/site-packages/pyrosm/pyrosm.py:576: ShapelyDeprecationWarning: The array interface is deprecated and will no longer work in Shapely 2.0. Convert the '.coords' to a numpy array instead.\n",
      "  gdf = get_poi_data(\n"
     ]
    },
    {
     "name": "stdout",
     "output_type": "stream",
     "text": [
      "WATERGARDENS, index 0 is out of bounds for axis 0 with size 0\n"
     ]
    },
    {
     "name": "stderr",
     "output_type": "stream",
     "text": [
      "/Users/matthewrush/virtualenv/lib/python3.10/site-packages/pyrosm/pyrosm.py:576: ShapelyDeprecationWarning: The array interface is deprecated and will no longer work in Shapely 2.0. Convert the '.coords' to a numpy array instead.\n",
      "  gdf = get_poi_data(\n",
      "/Users/matthewrush/virtualenv/lib/python3.10/site-packages/pyrosm/pyrosm.py:576: UserWarning: Could not find any POIs for given area.\n",
      "  gdf = get_poi_data(\n"
     ]
    },
    {
     "name": "stdout",
     "output_type": "stream",
     "text": [
      "ABERFELDIE, 'NoneType' object is not subscriptable\n"
     ]
    },
    {
     "name": "stderr",
     "output_type": "stream",
     "text": [
      "/Users/matthewrush/virtualenv/lib/python3.10/site-packages/pyrosm/pyrosm.py:576: UserWarning: Could not find any POIs for given area.\n",
      "  gdf = get_poi_data(\n"
     ]
    },
    {
     "name": "stdout",
     "output_type": "stream",
     "text": [
      "ESSENDON WEST, 'NoneType' object is not subscriptable\n",
      "STRATHMORE HEIGHTS, 'NoneType' object is not subscriptable\n"
     ]
    },
    {
     "name": "stderr",
     "output_type": "stream",
     "text": [
      "/Users/matthewrush/virtualenv/lib/python3.10/site-packages/pyrosm/pyrosm.py:576: ShapelyDeprecationWarning: The array interface is deprecated and will no longer work in Shapely 2.0. Convert the '.coords' to a numpy array instead.\n",
      "  gdf = get_poi_data(\n",
      "/Users/matthewrush/virtualenv/lib/python3.10/site-packages/pyrosm/pyrosm.py:576: UserWarning: Could not find any POIs for given area.\n",
      "  gdf = get_poi_data(\n"
     ]
    },
    {
     "name": "stdout",
     "output_type": "stream",
     "text": [
      "KEILOR PARK, 'NoneType' object is not subscriptable\n",
      "NIDDRIE, 'NoneType' object is not subscriptable\n",
      "NIDDRIE NORTH, index 0 is out of bounds for axis 0 with size 0\n"
     ]
    },
    {
     "name": "stderr",
     "output_type": "stream",
     "text": [
      "/Users/matthewrush/virtualenv/lib/python3.10/site-packages/pyrosm/pois.py:38: UserWarning: CRS mismatch between the CRS of left geometries and the CRS of right geometries.\n",
      "Use `to_crs()` to reproject one of the input geometries to match the CRS of the other.\n",
      "\n",
      "Left CRS: None\n",
      "Right CRS: EPSG:4326\n",
      "\n",
      "  gdf = prepare_geodataframe(\n",
      "/Users/matthewrush/virtualenv/lib/python3.10/site-packages/pyrosm/pyrosm.py:576: UserWarning: Could not find any POIs for given area.\n",
      "  gdf = get_poi_data(\n"
     ]
    },
    {
     "name": "stdout",
     "output_type": "stream",
     "text": [
      "GOWANBRAE, 'NoneType' object is not subscriptable\n"
     ]
    },
    {
     "name": "stderr",
     "output_type": "stream",
     "text": [
      "/Users/matthewrush/virtualenv/lib/python3.10/site-packages/pyrosm/pyrosm.py:576: ShapelyDeprecationWarning: The array interface is deprecated and will no longer work in Shapely 2.0. Convert the '.coords' to a numpy array instead.\n",
      "  gdf = get_poi_data(\n"
     ]
    },
    {
     "name": "stdout",
     "output_type": "stream",
     "text": [
      "TULLAMARINE, 'NoneType' object is not subscriptable\n"
     ]
    },
    {
     "name": "stderr",
     "output_type": "stream",
     "text": [
      "/Users/matthewrush/virtualenv/lib/python3.10/site-packages/pyrosm/pyrosm.py:576: UserWarning: Could not find any POIs for given area.\n",
      "  gdf = get_poi_data(\n"
     ]
    },
    {
     "name": "stdout",
     "output_type": "stream",
     "text": [
      "PASCOE VALE, 'NoneType' object is not subscriptable\n"
     ]
    },
    {
     "name": "stderr",
     "output_type": "stream",
     "text": [
      "/Users/matthewrush/virtualenv/lib/python3.10/site-packages/pyrosm/pyrosm.py:576: UserWarning: Could not find any POIs for given area.\n",
      "  gdf = get_poi_data(\n"
     ]
    },
    {
     "name": "stdout",
     "output_type": "stream",
     "text": [
      "PASCOE VALE SOUTH, 'NoneType' object is not subscriptable\n"
     ]
    },
    {
     "name": "stderr",
     "output_type": "stream",
     "text": [
      "/Users/matthewrush/virtualenv/lib/python3.10/site-packages/pyrosm/pyrosm.py:576: UserWarning: Could not find any POIs for given area.\n",
      "  gdf = get_poi_data(\n"
     ]
    },
    {
     "name": "stdout",
     "output_type": "stream",
     "text": [
      "GLENROY, 'NoneType' object is not subscriptable\n"
     ]
    },
    {
     "name": "stderr",
     "output_type": "stream",
     "text": [
      "/Users/matthewrush/virtualenv/lib/python3.10/site-packages/pyrosm/pyrosm.py:576: UserWarning: Could not find any POIs for given area.\n",
      "  gdf = get_poi_data(\n"
     ]
    },
    {
     "name": "stdout",
     "output_type": "stream",
     "text": [
      "HADFIELD, 'NoneType' object is not subscriptable\n"
     ]
    },
    {
     "name": "stderr",
     "output_type": "stream",
     "text": [
      "/Users/matthewrush/virtualenv/lib/python3.10/site-packages/pyrosm/pyrosm.py:576: UserWarning: Could not find any POIs for given area.\n",
      "  gdf = get_poi_data(\n"
     ]
    },
    {
     "name": "stdout",
     "output_type": "stream",
     "text": [
      "OAK PARK, 'NoneType' object is not subscriptable\n"
     ]
    },
    {
     "name": "stderr",
     "output_type": "stream",
     "text": [
      "/Users/matthewrush/virtualenv/lib/python3.10/site-packages/pyrosm/pyrosm.py:576: ShapelyDeprecationWarning: The array interface is deprecated and will no longer work in Shapely 2.0. Convert the '.coords' to a numpy array instead.\n",
      "  gdf = get_poi_data(\n",
      "/Users/matthewrush/virtualenv/lib/python3.10/site-packages/pyrosm/pyrosm.py:576: UserWarning: Could not find any POIs for given area.\n",
      "  gdf = get_poi_data(\n"
     ]
    },
    {
     "name": "stdout",
     "output_type": "stream",
     "text": [
      "JACANA, 'NoneType' object is not subscriptable\n",
      "COOLAROO, 'NoneType' object is not subscriptable\n"
     ]
    },
    {
     "name": "stderr",
     "output_type": "stream",
     "text": [
      "/Users/matthewrush/virtualenv/lib/python3.10/site-packages/pyrosm/pyrosm.py:576: UserWarning: Could not find any POIs for given area.\n",
      "  gdf = get_poi_data(\n"
     ]
    },
    {
     "name": "stdout",
     "output_type": "stream",
     "text": [
      "ATTWOOD, 'NoneType' object is not subscriptable\n"
     ]
    },
    {
     "name": "stderr",
     "output_type": "stream",
     "text": [
      "/Users/matthewrush/virtualenv/lib/python3.10/site-packages/pyrosm/pyrosm.py:576: ShapelyDeprecationWarning: The array interface is deprecated and will no longer work in Shapely 2.0. Convert the '.coords' to a numpy array instead.\n",
      "  gdf = get_poi_data(\n"
     ]
    },
    {
     "name": "stdout",
     "output_type": "stream",
     "text": [
      "WESTMEADOWS, 'NoneType' object is not subscriptable\n",
      "HOTHAM HILL, index 0 is out of bounds for axis 0 with size 0\n",
      "NORTH MELBOURNE, 'NoneType' object is not subscriptable\n",
      "MELBOURNE UNIVERSITY, index 0 is out of bounds for axis 0 with size 0\n"
     ]
    },
    {
     "name": "stderr",
     "output_type": "stream",
     "text": [
      "/Users/matthewrush/virtualenv/lib/python3.10/site-packages/pyrosm/pyrosm.py:576: ShapelyDeprecationWarning: The array interface is deprecated and will no longer work in Shapely 2.0. Convert the '.coords' to a numpy array instead.\n",
      "  gdf = get_poi_data(\n"
     ]
    },
    {
     "name": "stdout",
     "output_type": "stream",
     "text": [
      "PARKVILLE, 'NoneType' object is not subscriptable\n"
     ]
    },
    {
     "name": "stderr",
     "output_type": "stream",
     "text": [
      "/Users/matthewrush/virtualenv/lib/python3.10/site-packages/pyrosm/pyrosm.py:576: UserWarning: Could not find any POIs for given area.\n",
      "  gdf = get_poi_data(\n"
     ]
    },
    {
     "name": "stdout",
     "output_type": "stream",
     "text": [
      "CARLTON, 'NoneType' object is not subscriptable\n",
      "CARLTON SOUTH, index 0 is out of bounds for axis 0 with size 0\n"
     ]
    },
    {
     "name": "stderr",
     "output_type": "stream",
     "text": [
      "/Users/matthewrush/virtualenv/lib/python3.10/site-packages/pyrosm/pyrosm.py:576: UserWarning: Could not find any POIs for given area.\n",
      "  gdf = get_poi_data(\n"
     ]
    },
    {
     "name": "stdout",
     "output_type": "stream",
     "text": [
      "CARLTON NORTH, 'NoneType' object is not subscriptable\n"
     ]
    },
    {
     "name": "stderr",
     "output_type": "stream",
     "text": [
      "/Users/matthewrush/virtualenv/lib/python3.10/site-packages/pyrosm/pyrosm.py:576: UserWarning: Could not find any POIs for given area.\n",
      "  gdf = get_poi_data(\n"
     ]
    },
    {
     "name": "stdout",
     "output_type": "stream",
     "text": [
      "PRINCES HILL, 'NoneType' object is not subscriptable\n",
      "BRUNSWICK SOUTH, index 0 is out of bounds for axis 0 with size 0\n"
     ]
    },
    {
     "name": "stderr",
     "output_type": "stream",
     "text": [
      "/Users/matthewrush/virtualenv/lib/python3.10/site-packages/pyrosm/pyrosm.py:576: UserWarning: Could not find any POIs for given area.\n",
      "  gdf = get_poi_data(\n"
     ]
    },
    {
     "name": "stdout",
     "output_type": "stream",
     "text": [
      "BRUNSWICK WEST, 'NoneType' object is not subscriptable\n",
      "MOONEE VALE, index 0 is out of bounds for axis 0 with size 0\n",
      "MORELAND WEST, index 0 is out of bounds for axis 0 with size 0\n"
     ]
    },
    {
     "name": "stderr",
     "output_type": "stream",
     "text": [
      "/Users/matthewrush/virtualenv/lib/python3.10/site-packages/pyrosm/pyrosm.py:576: UserWarning: Could not find any POIs for given area.\n",
      "  gdf = get_poi_data(\n"
     ]
    },
    {
     "name": "stdout",
     "output_type": "stream",
     "text": [
      "BRUNSWICK, 'NoneType' object is not subscriptable\n",
      "BRUNSWICK LOWER, index 0 is out of bounds for axis 0 with size 0\n",
      "BRUNSWICK NORTH, index 0 is out of bounds for axis 0 with size 0\n"
     ]
    },
    {
     "name": "stderr",
     "output_type": "stream",
     "text": [
      "/Users/matthewrush/virtualenv/lib/python3.10/site-packages/pyrosm/pyrosm.py:576: UserWarning: Could not find any POIs for given area.\n",
      "  gdf = get_poi_data(\n"
     ]
    },
    {
     "name": "stdout",
     "output_type": "stream",
     "text": [
      "BRUNSWICK EAST, 'NoneType' object is not subscriptable\n",
      "LYGON STREET NORTH, index 0 is out of bounds for axis 0 with size 0\n",
      "SUMNER, index 0 is out of bounds for axis 0 with size 0\n",
      "BATMAN, index 0 is out of bounds for axis 0 with size 0\n"
     ]
    },
    {
     "name": "stderr",
     "output_type": "stream",
     "text": [
      "/Users/matthewrush/virtualenv/lib/python3.10/site-packages/pyrosm/pyrosm.py:576: ShapelyDeprecationWarning: The array interface is deprecated and will no longer work in Shapely 2.0. Convert the '.coords' to a numpy array instead.\n",
      "  gdf = get_poi_data(\n",
      "/Users/matthewrush/virtualenv/lib/python3.10/site-packages/pyrosm/pyrosm.py:576: ShapelyDeprecationWarning: The array interface is deprecated and will no longer work in Shapely 2.0. Convert the '.coords' to a numpy array instead.\n",
      "  gdf = get_poi_data(\n"
     ]
    },
    {
     "name": "stdout",
     "output_type": "stream",
     "text": [
      "MERLYNSTON, index 0 is out of bounds for axis 0 with size 0\n",
      "MORELAND, index 0 is out of bounds for axis 0 with size 0\n",
      "FAWKNER, 'NoneType' object is not subscriptable\n",
      "FAWKNER EAST, index 0 is out of bounds for axis 0 with size 0\n",
      "FAWKNER NORTH, index 0 is out of bounds for axis 0 with size 0\n"
     ]
    },
    {
     "name": "stderr",
     "output_type": "stream",
     "text": [
      "/Users/matthewrush/virtualenv/lib/python3.10/site-packages/pyrosm/pyrosm.py:576: ShapelyDeprecationWarning: The array interface is deprecated and will no longer work in Shapely 2.0. Convert the '.coords' to a numpy array instead.\n",
      "  gdf = get_poi_data(\n",
      "/Users/matthewrush/virtualenv/lib/python3.10/site-packages/pyrosm/pyrosm.py:576: UserWarning: Could not find any POIs for given area.\n",
      "  gdf = get_poi_data(\n"
     ]
    },
    {
     "name": "stdout",
     "output_type": "stream",
     "text": [
      "OAKLANDS JUNCTION, 'NoneType' object is not subscriptable\n"
     ]
    },
    {
     "name": "stderr",
     "output_type": "stream",
     "text": [
      "/Users/matthewrush/virtualenv/lib/python3.10/site-packages/pyrosm/pyrosm.py:576: UserWarning: Could not find any POIs for given area.\n",
      "  gdf = get_poi_data(\n"
     ]
    },
    {
     "name": "stdout",
     "output_type": "stream",
     "text": [
      "YUROKE, 'NoneType' object is not subscriptable\n"
     ]
    },
    {
     "name": "stderr",
     "output_type": "stream",
     "text": [
      "/Users/matthewrush/virtualenv/lib/python3.10/site-packages/pyrosm/pyrosm.py:576: ShapelyDeprecationWarning: The array interface is deprecated and will no longer work in Shapely 2.0. Convert the '.coords' to a numpy array instead.\n",
      "  gdf = get_poi_data(\n",
      "/Users/matthewrush/virtualenv/lib/python3.10/site-packages/pyrosm/pyrosm.py:576: UserWarning: Could not find any POIs for given area.\n",
      "  gdf = get_poi_data(\n"
     ]
    },
    {
     "name": "stdout",
     "output_type": "stream",
     "text": [
      "DONNYBROOK, 'NoneType' object is not subscriptable\n"
     ]
    },
    {
     "name": "stderr",
     "output_type": "stream",
     "text": [
      "/Users/matthewrush/virtualenv/lib/python3.10/site-packages/pyrosm/pyrosm.py:576: UserWarning: Could not find any POIs for given area.\n",
      "  gdf = get_poi_data(\n"
     ]
    },
    {
     "name": "stdout",
     "output_type": "stream",
     "text": [
      "KALKALLO, 'NoneType' object is not subscriptable\n",
      "MICKLEHAM, 'NoneType' object is not subscriptable\n"
     ]
    },
    {
     "name": "stderr",
     "output_type": "stream",
     "text": [
      "/Users/matthewrush/virtualenv/lib/python3.10/site-packages/pyrosm/pyrosm.py:576: UserWarning: Could not find any POIs for given area.\n",
      "  gdf = get_poi_data(\n"
     ]
    },
    {
     "name": "stdout",
     "output_type": "stream",
     "text": [
      "FITZROY, 'NoneType' object is not subscriptable\n"
     ]
    },
    {
     "name": "stderr",
     "output_type": "stream",
     "text": [
      "/Users/matthewrush/virtualenv/lib/python3.10/site-packages/pyrosm/pyrosm.py:576: UserWarning: Could not find any POIs for given area.\n",
      "  gdf = get_poi_data(\n"
     ]
    },
    {
     "name": "stdout",
     "output_type": "stream",
     "text": [
      "COLLINGWOOD, 'NoneType' object is not subscriptable\n",
      "COLLINGWOOD NORTH, index 0 is out of bounds for axis 0 with size 0\n"
     ]
    },
    {
     "name": "stderr",
     "output_type": "stream",
     "text": [
      "/Users/matthewrush/virtualenv/lib/python3.10/site-packages/pyrosm/pyrosm.py:576: ShapelyDeprecationWarning: The array interface is deprecated and will no longer work in Shapely 2.0. Convert the '.coords' to a numpy array instead.\n",
      "  gdf = get_poi_data(\n",
      "/Users/matthewrush/virtualenv/lib/python3.10/site-packages/pyrosm/pyrosm.py:576: UserWarning: Could not find any POIs for given area.\n",
      "  gdf = get_poi_data(\n"
     ]
    },
    {
     "name": "stdout",
     "output_type": "stream",
     "text": [
      "CLIFTON HILL, 'NoneType' object is not subscriptable\n"
     ]
    },
    {
     "name": "stderr",
     "output_type": "stream",
     "text": [
      "/Users/matthewrush/virtualenv/lib/python3.10/site-packages/pyrosm/pyrosm.py:576: UserWarning: Could not find any POIs for given area.\n",
      "  gdf = get_poi_data(\n"
     ]
    },
    {
     "name": "stdout",
     "output_type": "stream",
     "text": [
      "FITZROY NORTH, 'NoneType' object is not subscriptable\n",
      "NORTHCOTE SOUTH, index 0 is out of bounds for axis 0 with size 0\n",
      "THORNBURY, 'NoneType' object is not subscriptable\n",
      "GILBERTON, index 0 is out of bounds for axis 0 with size 0\n",
      "NORTHLAND CENTRE, index 0 is out of bounds for axis 0 with size 0\n",
      "PRESTON LOWER, index 0 is out of bounds for axis 0 with size 0\n",
      "PRESTON SOUTH, index 0 is out of bounds for axis 0 with size 0\n",
      "PRESTON WEST, index 0 is out of bounds for axis 0 with size 0\n",
      "REGENT WEST, index 0 is out of bounds for axis 0 with size 0\n",
      "SYLVESTER, index 0 is out of bounds for axis 0 with size 0\n",
      "KEON PARK, index 0 is out of bounds for axis 0 with size 0\n"
     ]
    },
    {
     "name": "stderr",
     "output_type": "stream",
     "text": [
      "/Users/matthewrush/virtualenv/lib/python3.10/site-packages/pyrosm/pyrosm.py:576: ShapelyDeprecationWarning: The array interface is deprecated and will no longer work in Shapely 2.0. Convert the '.coords' to a numpy array instead.\n",
      "  gdf = get_poi_data(\n"
     ]
    },
    {
     "name": "stdout",
     "output_type": "stream",
     "text": [
      "RESERVOIR EAST, index 0 is out of bounds for axis 0 with size 0\n",
      "RESERVOIR NORTH, index 0 is out of bounds for axis 0 with size 0\n",
      "RESERVOIR SOUTH, index 0 is out of bounds for axis 0 with size 0\n",
      "LALOR PLAZA, index 0 is out of bounds for axis 0 with size 0\n"
     ]
    },
    {
     "name": "stderr",
     "output_type": "stream",
     "text": [
      "/Users/matthewrush/virtualenv/lib/python3.10/site-packages/pyrosm/pyrosm.py:576: ShapelyDeprecationWarning: The array interface is deprecated and will no longer work in Shapely 2.0. Convert the '.coords' to a numpy array instead.\n",
      "  gdf = get_poi_data(\n"
     ]
    },
    {
     "name": "stdout",
     "output_type": "stream",
     "text": [
      "EPPING DC, index 0 is out of bounds for axis 0 with size 0\n",
      "ALPHINGTON, 'NoneType' object is not subscriptable\n",
      "FAIRFIELD, 'NoneType' object is not subscriptable\n"
     ]
    },
    {
     "name": "stderr",
     "output_type": "stream",
     "text": [
      "/Users/matthewrush/virtualenv/lib/python3.10/site-packages/pyrosm/pyrosm.py:576: UserWarning: Could not find any POIs for given area.\n",
      "  gdf = get_poi_data(\n"
     ]
    },
    {
     "name": "stdout",
     "output_type": "stream",
     "text": [
      "IVANHOE, 'NoneType' object is not subscriptable\n"
     ]
    },
    {
     "name": "stderr",
     "output_type": "stream",
     "text": [
      "/Users/matthewrush/virtualenv/lib/python3.10/site-packages/pyrosm/pyrosm.py:576: UserWarning: Could not find any POIs for given area.\n",
      "  gdf = get_poi_data(\n"
     ]
    },
    {
     "name": "stdout",
     "output_type": "stream",
     "text": [
      "IVANHOE EAST, 'NoneType' object is not subscriptable\n",
      "IVANHOE NORTH, index 0 is out of bounds for axis 0 with size 0\n"
     ]
    },
    {
     "name": "stderr",
     "output_type": "stream",
     "text": [
      "/Users/matthewrush/virtualenv/lib/python3.10/site-packages/pyrosm/pyrosm.py:576: UserWarning: Could not find any POIs for given area.\n",
      "  gdf = get_poi_data(\n"
     ]
    },
    {
     "name": "stdout",
     "output_type": "stream",
     "text": [
      "BELLFIELD, 'NoneType' object is not subscriptable\n"
     ]
    },
    {
     "name": "stderr",
     "output_type": "stream",
     "text": [
      "/Users/matthewrush/virtualenv/lib/python3.10/site-packages/pyrosm/pyrosm.py:576: UserWarning: Could not find any POIs for given area.\n",
      "  gdf = get_poi_data(\n"
     ]
    },
    {
     "name": "stdout",
     "output_type": "stream",
     "text": [
      "HEIDELBERG HEIGHTS, 'NoneType' object is not subscriptable\n",
      "HEIDELBERG RGH, index 0 is out of bounds for axis 0 with size 0\n"
     ]
    },
    {
     "name": "stderr",
     "output_type": "stream",
     "text": [
      "/Users/matthewrush/virtualenv/lib/python3.10/site-packages/pyrosm/pyrosm.py:576: ShapelyDeprecationWarning: The array interface is deprecated and will no longer work in Shapely 2.0. Convert the '.coords' to a numpy array instead.\n",
      "  gdf = get_poi_data(\n",
      "/Users/matthewrush/virtualenv/lib/python3.10/site-packages/pyrosm/pyrosm.py:576: ShapelyDeprecationWarning: The array interface is deprecated and will no longer work in Shapely 2.0. Convert the '.coords' to a numpy array instead.\n",
      "  gdf = get_poi_data(\n",
      "/Users/matthewrush/virtualenv/lib/python3.10/site-packages/pyrosm/pyrosm.py:576: UserWarning: Could not find any POIs for given area.\n",
      "  gdf = get_poi_data(\n"
     ]
    },
    {
     "name": "stdout",
     "output_type": "stream",
     "text": [
      "KINGSBURY, 'NoneType' object is not subscriptable\n",
      "LA TROBE UNIVERSITY, index 0 is out of bounds for axis 0 with size 0\n"
     ]
    },
    {
     "name": "stderr",
     "output_type": "stream",
     "text": [
      "/Users/matthewrush/virtualenv/lib/python3.10/site-packages/pyrosm/pyrosm.py:576: ShapelyDeprecationWarning: The array interface is deprecated and will no longer work in Shapely 2.0. Convert the '.coords' to a numpy array instead.\n",
      "  gdf = get_poi_data(\n"
     ]
    },
    {
     "name": "stdout",
     "output_type": "stream",
     "text": [
      "EAGLEMONT, 'NoneType' object is not subscriptable\n"
     ]
    },
    {
     "name": "stderr",
     "output_type": "stream",
     "text": [
      "/Users/matthewrush/virtualenv/lib/python3.10/site-packages/pyrosm/pyrosm.py:576: UserWarning: Could not find any POIs for given area.\n",
      "  gdf = get_poi_data(\n"
     ]
    },
    {
     "name": "stdout",
     "output_type": "stream",
     "text": [
      "ROSANNA, 'NoneType' object is not subscriptable\n"
     ]
    },
    {
     "name": "stderr",
     "output_type": "stream",
     "text": [
      "/Users/matthewrush/virtualenv/lib/python3.10/site-packages/pyrosm/pyrosm.py:576: UserWarning: Could not find any POIs for given area.\n",
      "  gdf = get_poi_data(\n"
     ]
    },
    {
     "name": "stdout",
     "output_type": "stream",
     "text": [
      "VIEWBANK, 'NoneType' object is not subscriptable\n",
      "MACLEOD, 'NoneType' object is not subscriptable\n",
      "MACLEOD WEST, index 0 is out of bounds for axis 0 with size 0\n"
     ]
    },
    {
     "name": "stderr",
     "output_type": "stream",
     "text": [
      "/Users/matthewrush/virtualenv/lib/python3.10/site-packages/pyrosm/pyrosm.py:576: UserWarning: Could not find any POIs for given area.\n",
      "  gdf = get_poi_data(\n"
     ]
    },
    {
     "name": "stdout",
     "output_type": "stream",
     "text": [
      "YALLAMBIE, 'NoneType' object is not subscriptable\n"
     ]
    },
    {
     "name": "stderr",
     "output_type": "stream",
     "text": [
      "/Users/matthewrush/virtualenv/lib/python3.10/site-packages/pyrosm/pyrosm.py:576: UserWarning: Could not find any POIs for given area.\n",
      "  gdf = get_poi_data(\n"
     ]
    },
    {
     "name": "stdout",
     "output_type": "stream",
     "text": [
      "WATSONIA NORTH, 'NoneType' object is not subscriptable\n"
     ]
    },
    {
     "name": "stderr",
     "output_type": "stream",
     "text": [
      "/Users/matthewrush/virtualenv/lib/python3.10/site-packages/pyrosm/pyrosm.py:576: UserWarning: Could not find any POIs for given area.\n",
      "  gdf = get_poi_data(\n"
     ]
    },
    {
     "name": "stdout",
     "output_type": "stream",
     "text": [
      "BRIAR HILL, 'NoneType' object is not subscriptable\n"
     ]
    },
    {
     "name": "stderr",
     "output_type": "stream",
     "text": [
      "/Users/matthewrush/virtualenv/lib/python3.10/site-packages/pyrosm/pyrosm.py:576: ShapelyDeprecationWarning: The array interface is deprecated and will no longer work in Shapely 2.0. Convert the '.coords' to a numpy array instead.\n",
      "  gdf = get_poi_data(\n"
     ]
    },
    {
     "name": "stdout",
     "output_type": "stream",
     "text": [
      "SAINT HELENA, index 0 is out of bounds for axis 0 with size 0\n",
      "ST HELENA, 'name'\n",
      "DIAMOND CREEK, 'name'\n"
     ]
    },
    {
     "name": "stderr",
     "output_type": "stream",
     "text": [
      "/Users/matthewrush/virtualenv/lib/python3.10/site-packages/pyrosm/pyrosm.py:576: UserWarning: Could not find any POIs for given area.\n",
      "  gdf = get_poi_data(\n"
     ]
    },
    {
     "name": "stdout",
     "output_type": "stream",
     "text": [
      "PLENTY, 'NoneType' object is not subscriptable\n"
     ]
    },
    {
     "name": "stderr",
     "output_type": "stream",
     "text": [
      "/Users/matthewrush/virtualenv/lib/python3.10/site-packages/pyrosm/pyrosm.py:576: UserWarning: Could not find any POIs for given area.\n",
      "  gdf = get_poi_data(\n"
     ]
    },
    {
     "name": "stdout",
     "output_type": "stream",
     "text": [
      "LOWER PLENTY, 'NoneType' object is not subscriptable\n"
     ]
    },
    {
     "name": "stderr",
     "output_type": "stream",
     "text": [
      "/Users/matthewrush/virtualenv/lib/python3.10/site-packages/pyrosm/pyrosm.py:576: UserWarning: Could not find any POIs for given area.\n",
      "  gdf = get_poi_data(\n"
     ]
    },
    {
     "name": "stdout",
     "output_type": "stream",
     "text": [
      "MONTMORENCY, 'NoneType' object is not subscriptable\n"
     ]
    },
    {
     "name": "stderr",
     "output_type": "stream",
     "text": [
      "/Users/matthewrush/virtualenv/lib/python3.10/site-packages/pyrosm/pyrosm.py:576: UserWarning: Could not find any POIs for given area.\n",
      "  gdf = get_poi_data(\n"
     ]
    },
    {
     "name": "stdout",
     "output_type": "stream",
     "text": [
      "ELTHAM NORTH, 'NoneType' object is not subscriptable\n"
     ]
    },
    {
     "name": "stderr",
     "output_type": "stream",
     "text": [
      "/Users/matthewrush/virtualenv/lib/python3.10/site-packages/pyrosm/pyrosm.py:576: UserWarning: Could not find any POIs for given area.\n",
      "  gdf = get_poi_data(\n"
     ]
    },
    {
     "name": "stdout",
     "output_type": "stream",
     "text": [
      "RESEARCH, 'NoneType' object is not subscriptable\n"
     ]
    },
    {
     "name": "stderr",
     "output_type": "stream",
     "text": [
      "/Users/matthewrush/virtualenv/lib/python3.10/site-packages/pyrosm/pyrosm.py:576: UserWarning: Could not find any POIs for given area.\n",
      "  gdf = get_poi_data(\n"
     ]
    },
    {
     "name": "stdout",
     "output_type": "stream",
     "text": [
      "ARTHURS CREEK, 'NoneType' object is not subscriptable\n"
     ]
    },
    {
     "name": "stderr",
     "output_type": "stream",
     "text": [
      "/Users/matthewrush/virtualenv/lib/python3.10/site-packages/pyrosm/pyrosm.py:576: UserWarning: Could not find any POIs for given area.\n",
      "  gdf = get_poi_data(\n"
     ]
    },
    {
     "name": "stdout",
     "output_type": "stream",
     "text": [
      "COTTLES BRIDGE, 'NoneType' object is not subscriptable\n"
     ]
    },
    {
     "name": "stderr",
     "output_type": "stream",
     "text": [
      "/Users/matthewrush/virtualenv/lib/python3.10/site-packages/pyrosm/pyrosm.py:576: UserWarning: Could not find any POIs for given area.\n",
      "  gdf = get_poi_data(\n"
     ]
    },
    {
     "name": "stdout",
     "output_type": "stream",
     "text": [
      "HURSTBRIDGE, 'NoneType' object is not subscriptable\n"
     ]
    },
    {
     "name": "stderr",
     "output_type": "stream",
     "text": [
      "/Users/matthewrush/virtualenv/lib/python3.10/site-packages/pyrosm/pyrosm.py:576: UserWarning: Could not find any POIs for given area.\n",
      "  gdf = get_poi_data(\n"
     ]
    },
    {
     "name": "stdout",
     "output_type": "stream",
     "text": [
      "NUTFIELD, 'NoneType' object is not subscriptable\n"
     ]
    },
    {
     "name": "stderr",
     "output_type": "stream",
     "text": [
      "/Users/matthewrush/virtualenv/lib/python3.10/site-packages/pyrosm/pyrosm.py:576: UserWarning: Could not find any POIs for given area.\n",
      "  gdf = get_poi_data(\n"
     ]
    },
    {
     "name": "stdout",
     "output_type": "stream",
     "text": [
      "STRATHEWEN, 'NoneType' object is not subscriptable\n",
      "COTHAM, index 0 is out of bounds for axis 0 with size 0\n"
     ]
    },
    {
     "name": "stderr",
     "output_type": "stream",
     "text": [
      "/Users/matthewrush/virtualenv/lib/python3.10/site-packages/pyrosm/pyrosm.py:576: UserWarning: Could not find any POIs for given area.\n",
      "  gdf = get_poi_data(\n"
     ]
    },
    {
     "name": "stdout",
     "output_type": "stream",
     "text": [
      "KEW, 'NoneType' object is not subscriptable\n"
     ]
    },
    {
     "name": "stderr",
     "output_type": "stream",
     "text": [
      "/Users/matthewrush/virtualenv/lib/python3.10/site-packages/pyrosm/pyrosm.py:576: UserWarning: Could not find any POIs for given area.\n",
      "  gdf = get_poi_data(\n"
     ]
    },
    {
     "name": "stdout",
     "output_type": "stream",
     "text": [
      "KEW EAST, 'NoneType' object is not subscriptable\n"
     ]
    },
    {
     "name": "stderr",
     "output_type": "stream",
     "text": [
      "/Users/matthewrush/virtualenv/lib/python3.10/site-packages/pyrosm/pyrosm.py:576: UserWarning: Could not find any POIs for given area.\n",
      "  gdf = get_poi_data(\n"
     ]
    },
    {
     "name": "stdout",
     "output_type": "stream",
     "text": [
      "BALWYN, 'NoneType' object is not subscriptable\n",
      "BALWYN EAST, index 0 is out of bounds for axis 0 with size 0\n"
     ]
    },
    {
     "name": "stderr",
     "output_type": "stream",
     "text": [
      "/Users/matthewrush/virtualenv/lib/python3.10/site-packages/pyrosm/pyrosm.py:576: UserWarning: Could not find any POIs for given area.\n",
      "  gdf = get_poi_data(\n"
     ]
    },
    {
     "name": "stdout",
     "output_type": "stream",
     "text": [
      "DEEPDENE, 'NoneType' object is not subscriptable\n",
      "DEEPDENE DC, index 0 is out of bounds for axis 0 with size 0\n",
      "STRADBROKE PARK, index 0 is out of bounds for axis 0 with size 0\n"
     ]
    },
    {
     "name": "stderr",
     "output_type": "stream",
     "text": [
      "/Users/matthewrush/virtualenv/lib/python3.10/site-packages/pyrosm/pyrosm.py:576: UserWarning: Could not find any POIs for given area.\n",
      "  gdf = get_poi_data(\n"
     ]
    },
    {
     "name": "stdout",
     "output_type": "stream",
     "text": [
      "BALWYN NORTH, 'NoneType' object is not subscriptable\n",
      "GREYTHORN, index 0 is out of bounds for axis 0 with size 0\n",
      "BULLEEN SOUTH, index 0 is out of bounds for axis 0 with size 0\n"
     ]
    },
    {
     "name": "stderr",
     "output_type": "stream",
     "text": [
      "/Users/matthewrush/virtualenv/lib/python3.10/site-packages/pyrosm/pyrosm.py:576: ShapelyDeprecationWarning: The array interface is deprecated and will no longer work in Shapely 2.0. Convert the '.coords' to a numpy array instead.\n",
      "  gdf = get_poi_data(\n",
      "/Users/matthewrush/virtualenv/lib/python3.10/site-packages/pyrosm/pyrosm.py:576: ShapelyDeprecationWarning: The array interface is deprecated and will no longer work in Shapely 2.0. Convert the '.coords' to a numpy array instead.\n",
      "  gdf = get_poi_data(\n"
     ]
    },
    {
     "name": "stdout",
     "output_type": "stream",
     "text": [
      "DONCASTER HEIGHTS, index 0 is out of bounds for axis 0 with size 0\n",
      "THE PINES, index 0 is out of bounds for axis 0 with size 0\n",
      "TUNSTALL SQUARE PO, index 0 is out of bounds for axis 0 with size 0\n"
     ]
    },
    {
     "name": "stderr",
     "output_type": "stream",
     "text": [
      "/Users/matthewrush/virtualenv/lib/python3.10/site-packages/pyrosm/pyrosm.py:576: ShapelyDeprecationWarning: The array interface is deprecated and will no longer work in Shapely 2.0. Convert the '.coords' to a numpy array instead.\n",
      "  gdf = get_poi_data(\n",
      "/Users/matthewrush/virtualenv/lib/python3.10/site-packages/pyrosm/pyrosm.py:576: UserWarning: Could not find any POIs for given area.\n",
      "  gdf = get_poi_data(\n"
     ]
    },
    {
     "name": "stdout",
     "output_type": "stream",
     "text": [
      "NORTH WARRANDYTE, 'NoneType' object is not subscriptable\n"
     ]
    },
    {
     "name": "stderr",
     "output_type": "stream",
     "text": [
      "/Users/matthewrush/virtualenv/lib/python3.10/site-packages/pyrosm/pyrosm.py:576: UserWarning: Could not find any POIs for given area.\n",
      "  gdf = get_poi_data(\n"
     ]
    },
    {
     "name": "stdout",
     "output_type": "stream",
     "text": [
      "PARK ORCHARDS, 'NoneType' object is not subscriptable\n"
     ]
    },
    {
     "name": "stderr",
     "output_type": "stream",
     "text": [
      "/Users/matthewrush/virtualenv/lib/python3.10/site-packages/pyrosm/pyrosm.py:576: UserWarning: Could not find any POIs for given area.\n",
      "  gdf = get_poi_data(\n"
     ]
    },
    {
     "name": "stdout",
     "output_type": "stream",
     "text": [
      "CHIRNSIDE PARK, 'NoneType' object is not subscriptable\n"
     ]
    },
    {
     "name": "stderr",
     "output_type": "stream",
     "text": [
      "/Users/matthewrush/virtualenv/lib/python3.10/site-packages/pyrosm/pyrosm.py:576: UserWarning: Could not find any POIs for given area.\n",
      "  gdf = get_poi_data(\n"
     ]
    },
    {
     "name": "stdout",
     "output_type": "stream",
     "text": [
      "BURNLEY, 'NoneType' object is not subscriptable\n",
      "BURNLEY NORTH, index 0 is out of bounds for axis 0 with size 0\n"
     ]
    },
    {
     "name": "stderr",
     "output_type": "stream",
     "text": [
      "/Users/matthewrush/virtualenv/lib/python3.10/site-packages/pyrosm/pyrosm.py:576: UserWarning: Could not find any POIs for given area.\n",
      "  gdf = get_poi_data(\n"
     ]
    },
    {
     "name": "stdout",
     "output_type": "stream",
     "text": [
      "CREMORNE, 'NoneType' object is not subscriptable\n"
     ]
    },
    {
     "name": "stderr",
     "output_type": "stream",
     "text": [
      "/Users/matthewrush/virtualenv/lib/python3.10/site-packages/pyrosm/pyrosm.py:576: ShapelyDeprecationWarning: The array interface is deprecated and will no longer work in Shapely 2.0. Convert the '.coords' to a numpy array instead.\n",
      "  gdf = get_poi_data(\n"
     ]
    },
    {
     "name": "stdout",
     "output_type": "stream",
     "text": [
      "RICHMOND EAST, index 0 is out of bounds for axis 0 with size 0\n",
      "RICHMOND NORTH, index 0 is out of bounds for axis 0 with size 0\n",
      "RICHMOND SOUTH, index 0 is out of bounds for axis 0 with size 0\n",
      "VICTORIA GARDENS, index 0 is out of bounds for axis 0 with size 0\n",
      "AUBURN SOUTH, index 0 is out of bounds for axis 0 with size 0\n",
      "GLENFERRIE SOUTH, index 0 is out of bounds for axis 0 with size 0\n"
     ]
    },
    {
     "name": "stderr",
     "output_type": "stream",
     "text": [
      "/Users/matthewrush/virtualenv/lib/python3.10/site-packages/pyrosm/pyrosm.py:576: ShapelyDeprecationWarning: The array interface is deprecated and will no longer work in Shapely 2.0. Convert the '.coords' to a numpy array instead.\n",
      "  gdf = get_poi_data(\n"
     ]
    },
    {
     "name": "stdout",
     "output_type": "stream",
     "text": [
      "HAWTHORN NORTH, index 0 is out of bounds for axis 0 with size 0\n",
      "HAWTHORN WEST, index 0 is out of bounds for axis 0 with size 0\n",
      "AUBURN, index 0 is out of bounds for axis 0 with size 0\n"
     ]
    },
    {
     "name": "stderr",
     "output_type": "stream",
     "text": [
      "/Users/matthewrush/virtualenv/lib/python3.10/site-packages/pyrosm/pyrosm.py:576: ShapelyDeprecationWarning: The array interface is deprecated and will no longer work in Shapely 2.0. Convert the '.coords' to a numpy array instead.\n",
      "  gdf = get_poi_data(\n",
      "/Users/matthewrush/virtualenv/lib/python3.10/site-packages/pyrosm/pyrosm.py:576: ShapelyDeprecationWarning: The array interface is deprecated and will no longer work in Shapely 2.0. Convert the '.coords' to a numpy array instead.\n",
      "  gdf = get_poi_data(\n"
     ]
    },
    {
     "name": "stdout",
     "output_type": "stream",
     "text": [
      "CAMBERWELL NORTH, index 0 is out of bounds for axis 0 with size 0\n",
      "CAMBERWELL SOUTH, index 0 is out of bounds for axis 0 with size 0\n",
      "CAMBERWELL WEST, index 0 is out of bounds for axis 0 with size 0\n",
      "HARTWELL, index 0 is out of bounds for axis 0 with size 0\n",
      "MIDDLE CAMBERWELL, index 0 is out of bounds for axis 0 with size 0\n",
      "BENNETTSWOOD, index 0 is out of bounds for axis 0 with size 0\n",
      "BURWOOD, 'NoneType' object is not subscriptable\n",
      "SURREY HILLS SOUTH, index 0 is out of bounds for axis 0 with size 0\n",
      "CAMBERWELL EAST, index 0 is out of bounds for axis 0 with size 0\n"
     ]
    },
    {
     "name": "stderr",
     "output_type": "stream",
     "text": [
      "/Users/matthewrush/virtualenv/lib/python3.10/site-packages/pyrosm/pyrosm.py:576: ShapelyDeprecationWarning: The array interface is deprecated and will no longer work in Shapely 2.0. Convert the '.coords' to a numpy array instead.\n",
      "  gdf = get_poi_data(\n"
     ]
    },
    {
     "name": "stdout",
     "output_type": "stream",
     "text": [
      "CANTERBURY, 'NoneType' object is not subscriptable\n"
     ]
    },
    {
     "name": "stderr",
     "output_type": "stream",
     "text": [
      "/Users/matthewrush/virtualenv/lib/python3.10/site-packages/pyrosm/pyrosm.py:576: UserWarning: Could not find any POIs for given area.\n",
      "  gdf = get_poi_data(\n"
     ]
    },
    {
     "name": "stdout",
     "output_type": "stream",
     "text": [
      "MONT ALBERT, 'NoneType' object is not subscriptable\n"
     ]
    },
    {
     "name": "stderr",
     "output_type": "stream",
     "text": [
      "/Users/matthewrush/virtualenv/lib/python3.10/site-packages/pyrosm/pyrosm.py:576: UserWarning: Could not find any POIs for given area.\n",
      "  gdf = get_poi_data(\n"
     ]
    },
    {
     "name": "stdout",
     "output_type": "stream",
     "text": [
      "SURREY HILLS, 'NoneType' object is not subscriptable\n",
      "SURREY HILLS NORTH, index 0 is out of bounds for axis 0 with size 0\n",
      "BOX HILL CENTRAL, index 0 is out of bounds for axis 0 with size 0\n",
      "HOUSTON, index 0 is out of bounds for axis 0 with size 0\n",
      "WATTLE PARK, index 0 is out of bounds for axis 0 with size 0\n"
     ]
    },
    {
     "name": "stderr",
     "output_type": "stream",
     "text": [
      "/Users/matthewrush/virtualenv/lib/python3.10/site-packages/pyrosm/pyrosm.py:576: UserWarning: Could not find any POIs for given area.\n",
      "  gdf = get_poi_data(\n"
     ]
    },
    {
     "name": "stdout",
     "output_type": "stream",
     "text": [
      "BOX HILL NORTH, 'NoneType' object is not subscriptable\n",
      "KERRIMUIR, index 0 is out of bounds for axis 0 with size 0\n"
     ]
    },
    {
     "name": "stderr",
     "output_type": "stream",
     "text": [
      "/Users/matthewrush/virtualenv/lib/python3.10/site-packages/pyrosm/pyrosm.py:576: UserWarning: Could not find any POIs for given area.\n",
      "  gdf = get_poi_data(\n"
     ]
    },
    {
     "name": "stdout",
     "output_type": "stream",
     "text": [
      "MONT ALBERT NORTH, 'NoneType' object is not subscriptable\n"
     ]
    },
    {
     "name": "stderr",
     "output_type": "stream",
     "text": [
      "/Users/matthewrush/virtualenv/lib/python3.10/site-packages/pyrosm/pyrosm.py:576: ShapelyDeprecationWarning: The array interface is deprecated and will no longer work in Shapely 2.0. Convert the '.coords' to a numpy array instead.\n",
      "  gdf = get_poi_data(\n"
     ]
    },
    {
     "name": "stdout",
     "output_type": "stream",
     "text": [
      "BLACKBURN, 'NoneType' object is not subscriptable\n"
     ]
    },
    {
     "name": "stderr",
     "output_type": "stream",
     "text": [
      "/Users/matthewrush/virtualenv/lib/python3.10/site-packages/pyrosm/pyrosm.py:576: ShapelyDeprecationWarning: The array interface is deprecated and will no longer work in Shapely 2.0. Convert the '.coords' to a numpy array instead.\n",
      "  gdf = get_poi_data(\n"
     ]
    },
    {
     "name": "stdout",
     "output_type": "stream",
     "text": [
      "BLACKBURN NORTH, 'NoneType' object is not subscriptable\n",
      "BLACKBURN SOUTH, 'NoneType' object is not subscriptable\n",
      "LABURNUM, index 0 is out of bounds for axis 0 with size 0\n",
      "BRENTFORD SQUARE, index 0 is out of bounds for axis 0 with size 0\n"
     ]
    },
    {
     "name": "stderr",
     "output_type": "stream",
     "text": [
      "/Users/matthewrush/virtualenv/lib/python3.10/site-packages/pyrosm/pyrosm.py:576: ShapelyDeprecationWarning: The array interface is deprecated and will no longer work in Shapely 2.0. Convert the '.coords' to a numpy array instead.\n",
      "  gdf = get_poi_data(\n",
      "/Users/matthewrush/virtualenv/lib/python3.10/site-packages/pyrosm/pyrosm.py:576: UserWarning: Could not find any POIs for given area.\n",
      "  gdf = get_poi_data(\n"
     ]
    },
    {
     "name": "stdout",
     "output_type": "stream",
     "text": [
      "MITCHAM, 'NoneType' object is not subscriptable\n",
      "MITCHAM NORTH, index 0 is out of bounds for axis 0 with size 0\n",
      "RANGEVIEW, index 0 is out of bounds for axis 0 with size 0\n"
     ]
    },
    {
     "name": "stderr",
     "output_type": "stream",
     "text": [
      "/Users/matthewrush/virtualenv/lib/python3.10/site-packages/pyrosm/pyrosm.py:576: UserWarning: Could not find any POIs for given area.\n",
      "  gdf = get_poi_data(\n"
     ]
    },
    {
     "name": "stdout",
     "output_type": "stream",
     "text": [
      "VERMONT, 'NoneType' object is not subscriptable\n",
      "HEATHWOOD, index 0 is out of bounds for axis 0 with size 0\n"
     ]
    },
    {
     "name": "stderr",
     "output_type": "stream",
     "text": [
      "/Users/matthewrush/virtualenv/lib/python3.10/site-packages/pyrosm/pyrosm.py:576: UserWarning: Could not find any POIs for given area.\n",
      "  gdf = get_poi_data(\n"
     ]
    },
    {
     "name": "stdout",
     "output_type": "stream",
     "text": [
      "WARRANDYTE SOUTH, 'NoneType' object is not subscriptable\n"
     ]
    },
    {
     "name": "stderr",
     "output_type": "stream",
     "text": [
      "/Users/matthewrush/virtualenv/lib/python3.10/site-packages/pyrosm/pyrosm.py:576: UserWarning: Could not find any POIs for given area.\n",
      "  gdf = get_poi_data(\n"
     ]
    },
    {
     "name": "stdout",
     "output_type": "stream",
     "text": [
      "WARRANWOOD, 'NoneType' object is not subscriptable\n",
      "BEDFORD ROAD, index 0 is out of bounds for axis 0 with size 0\n"
     ]
    },
    {
     "name": "stderr",
     "output_type": "stream",
     "text": [
      "/Users/matthewrush/virtualenv/lib/python3.10/site-packages/pyrosm/pyrosm.py:576: UserWarning: Could not find any POIs for given area.\n",
      "  gdf = get_poi_data(\n"
     ]
    },
    {
     "name": "stdout",
     "output_type": "stream",
     "text": [
      "HEATHMONT, 'NoneType' object is not subscriptable\n",
      "RINGWOOD EAST, 'name'\n"
     ]
    },
    {
     "name": "stderr",
     "output_type": "stream",
     "text": [
      "/Users/matthewrush/virtualenv/lib/python3.10/site-packages/pyrosm/pyrosm.py:576: UserWarning: Could not find any POIs for given area.\n",
      "  gdf = get_poi_data(\n"
     ]
    },
    {
     "name": "stdout",
     "output_type": "stream",
     "text": [
      "CROYDON, 'NoneType' object is not subscriptable\n"
     ]
    },
    {
     "name": "stderr",
     "output_type": "stream",
     "text": [
      "/Users/matthewrush/virtualenv/lib/python3.10/site-packages/pyrosm/pyrosm.py:576: UserWarning: Could not find any POIs for given area.\n",
      "  gdf = get_poi_data(\n"
     ]
    },
    {
     "name": "stdout",
     "output_type": "stream",
     "text": [
      "CROYDON HILLS, 'NoneType' object is not subscriptable\n"
     ]
    },
    {
     "name": "stderr",
     "output_type": "stream",
     "text": [
      "/Users/matthewrush/virtualenv/lib/python3.10/site-packages/pyrosm/pyrosm.py:576: UserWarning: Could not find any POIs for given area.\n",
      "  gdf = get_poi_data(\n"
     ]
    },
    {
     "name": "stdout",
     "output_type": "stream",
     "text": [
      "CROYDON NORTH, 'NoneType' object is not subscriptable\n"
     ]
    },
    {
     "name": "stderr",
     "output_type": "stream",
     "text": [
      "/Users/matthewrush/virtualenv/lib/python3.10/site-packages/pyrosm/pyrosm.py:576: UserWarning: Could not find any POIs for given area.\n",
      "  gdf = get_poi_data(\n"
     ]
    },
    {
     "name": "stdout",
     "output_type": "stream",
     "text": [
      "CROYDON SOUTH, 'NoneType' object is not subscriptable\n"
     ]
    },
    {
     "name": "stderr",
     "output_type": "stream",
     "text": [
      "/Users/matthewrush/virtualenv/lib/python3.10/site-packages/pyrosm/pyrosm.py:576: UserWarning: Could not find any POIs for given area.\n",
      "  gdf = get_poi_data(\n"
     ]
    },
    {
     "name": "stdout",
     "output_type": "stream",
     "text": [
      "KILSYTH, 'NoneType' object is not subscriptable\n",
      "KILSYTH SOUTH, index 0 is out of bounds for axis 0 with size 0\n"
     ]
    },
    {
     "name": "stderr",
     "output_type": "stream",
     "text": [
      "/Users/matthewrush/virtualenv/lib/python3.10/site-packages/pyrosm/pyrosm.py:576: UserWarning: Could not find any POIs for given area.\n",
      "  gdf = get_poi_data(\n"
     ]
    },
    {
     "name": "stdout",
     "output_type": "stream",
     "text": [
      "MOOROOLBARK, 'NoneType' object is not subscriptable\n",
      "BEENAK, index 0 is out of bounds for axis 0 with size 0\n",
      "DON VALLEY, index 0 is out of bounds for axis 0 with size 0\n",
      "HODDLES CREEK, index 0 is out of bounds for axis 0 with size 0\n",
      "LAUNCHING PLACE, index 0 is out of bounds for axis 0 with size 0\n",
      "SEVILLE, index 0 is out of bounds for axis 0 with size 0\n",
      "SEVILLE EAST, index 0 is out of bounds for axis 0 with size 0\n",
      "WANDIN EAST, index 0 is out of bounds for axis 0 with size 0\n",
      "WANDIN NORTH, index 0 is out of bounds for axis 0 with size 0\n",
      "WOORI YALLOCK, index 0 is out of bounds for axis 0 with size 0\n",
      "YELLINGBO, index 0 is out of bounds for axis 0 with size 0\n",
      "LILYDALE, index 0 is out of bounds for axis 0 with size 0\n",
      "CHAPEL STREET NORTH, index 0 is out of bounds for axis 0 with size 0\n",
      "DOMAIN ROAD PO, index 0 is out of bounds for axis 0 with size 0\n"
     ]
    },
    {
     "name": "stderr",
     "output_type": "stream",
     "text": [
      "/Users/matthewrush/virtualenv/lib/python3.10/site-packages/pyrosm/pyrosm.py:576: ShapelyDeprecationWarning: The array interface is deprecated and will no longer work in Shapely 2.0. Convert the '.coords' to a numpy array instead.\n",
      "  gdf = get_poi_data(\n"
     ]
    },
    {
     "name": "stdout",
     "output_type": "stream",
     "text": [
      "HAWKSBURN, index 0 is out of bounds for axis 0 with size 0\n"
     ]
    },
    {
     "name": "stderr",
     "output_type": "stream",
     "text": [
      "/Users/matthewrush/virtualenv/lib/python3.10/site-packages/pyrosm/pyrosm.py:576: ShapelyDeprecationWarning: The array interface is deprecated and will no longer work in Shapely 2.0. Convert the '.coords' to a numpy array instead.\n",
      "  gdf = get_poi_data(\n"
     ]
    },
    {
     "name": "stdout",
     "output_type": "stream",
     "text": [
      "ARMADALE NORTH, index 0 is out of bounds for axis 0 with size 0\n"
     ]
    },
    {
     "name": "stderr",
     "output_type": "stream",
     "text": [
      "/Users/matthewrush/virtualenv/lib/python3.10/site-packages/pyrosm/pyrosm.py:576: UserWarning: Could not find any POIs for given area.\n",
      "  gdf = get_poi_data(\n"
     ]
    },
    {
     "name": "stdout",
     "output_type": "stream",
     "text": [
      "KOOYONG, 'NoneType' object is not subscriptable\n"
     ]
    },
    {
     "name": "stderr",
     "output_type": "stream",
     "text": [
      "/Users/matthewrush/virtualenv/lib/python3.10/site-packages/pyrosm/pyrosm.py:576: ShapelyDeprecationWarning: The array interface is deprecated and will no longer work in Shapely 2.0. Convert the '.coords' to a numpy array instead.\n",
      "  gdf = get_poi_data(\n"
     ]
    },
    {
     "name": "stdout",
     "output_type": "stream",
     "text": [
      "MALVERN, 'NoneType' object is not subscriptable\n",
      "MALVERN NORTH, index 0 is out of bounds for axis 0 with size 0\n",
      "CENTRAL PARK, index 0 is out of bounds for axis 0 with size 0\n",
      "DARLING, index 0 is out of bounds for axis 0 with size 0\n",
      "DARLING SOUTH, index 0 is out of bounds for axis 0 with size 0\n"
     ]
    },
    {
     "name": "stderr",
     "output_type": "stream",
     "text": [
      "/Users/matthewrush/virtualenv/lib/python3.10/site-packages/pyrosm/pyrosm.py:576: ShapelyDeprecationWarning: The array interface is deprecated and will no longer work in Shapely 2.0. Convert the '.coords' to a numpy array instead.\n",
      "  gdf = get_poi_data(\n"
     ]
    },
    {
     "name": "stdout",
     "output_type": "stream",
     "text": [
      "WATTLETREE ROAD PO, index 0 is out of bounds for axis 0 with size 0\n"
     ]
    },
    {
     "name": "stderr",
     "output_type": "stream",
     "text": [
      "/Users/matthewrush/virtualenv/lib/python3.10/site-packages/pyrosm/pyrosm.py:576: UserWarning: Could not find any POIs for given area.\n",
      "  gdf = get_poi_data(\n"
     ]
    },
    {
     "name": "stdout",
     "output_type": "stream",
     "text": [
      "ASHBURTON, 'NoneType' object is not subscriptable\n"
     ]
    },
    {
     "name": "stderr",
     "output_type": "stream",
     "text": [
      "/Users/matthewrush/virtualenv/lib/python3.10/site-packages/pyrosm/pyrosm.py:576: UserWarning: Could not find any POIs for given area.\n",
      "  gdf = get_poi_data(\n"
     ]
    },
    {
     "name": "stdout",
     "output_type": "stream",
     "text": [
      "ASHWOOD, 'NoneType' object is not subscriptable\n"
     ]
    },
    {
     "name": "stderr",
     "output_type": "stream",
     "text": [
      "/Users/matthewrush/virtualenv/lib/python3.10/site-packages/pyrosm/pyrosm.py:576: ShapelyDeprecationWarning: The array interface is deprecated and will no longer work in Shapely 2.0. Convert the '.coords' to a numpy array instead.\n",
      "  gdf = get_poi_data(\n"
     ]
    },
    {
     "name": "stdout",
     "output_type": "stream",
     "text": [
      "CHADSTONE CENTRE, index 0 is out of bounds for axis 0 with size 0\n",
      "HOLMESGLEN, index 0 is out of bounds for axis 0 with size 0\n",
      "JORDANVILLE, index 0 is out of bounds for axis 0 with size 0\n",
      "PINEWOOD, index 0 is out of bounds for axis 0 with size 0\n",
      "SYNDAL, index 0 is out of bounds for axis 0 with size 0\n",
      "BRANDON PARK, index 0 is out of bounds for axis 0 with size 0\n"
     ]
    },
    {
     "name": "stderr",
     "output_type": "stream",
     "text": [
      "/Users/matthewrush/virtualenv/lib/python3.10/site-packages/pyrosm/pyrosm.py:576: ShapelyDeprecationWarning: The array interface is deprecated and will no longer work in Shapely 2.0. Convert the '.coords' to a numpy array instead.\n",
      "  gdf = get_poi_data(\n",
      "/Users/matthewrush/virtualenv/lib/python3.10/site-packages/pyrosm/pyrosm.py:576: ShapelyDeprecationWarning: The array interface is deprecated and will no longer work in Shapely 2.0. Convert the '.coords' to a numpy array instead.\n",
      "  gdf = get_poi_data(\n"
     ]
    },
    {
     "name": "stdout",
     "output_type": "stream",
     "text": [
      "BURWOOD HEIGHTS, index 0 is out of bounds for axis 0 with size 0\n",
      "KNOX CITY CENTRE, index 0 is out of bounds for axis 0 with size 0\n",
      "STUDFIELD, index 0 is out of bounds for axis 0 with size 0\n"
     ]
    },
    {
     "name": "stderr",
     "output_type": "stream",
     "text": [
      "/Users/matthewrush/virtualenv/lib/python3.10/site-packages/pyrosm/pyrosm.py:576: ShapelyDeprecationWarning: The array interface is deprecated and will no longer work in Shapely 2.0. Convert the '.coords' to a numpy array instead.\n",
      "  gdf = get_poi_data(\n"
     ]
    },
    {
     "name": "stdout",
     "output_type": "stream",
     "text": [
      "WANTIRNA, 'NoneType' object is not subscriptable\n"
     ]
    },
    {
     "name": "stderr",
     "output_type": "stream",
     "text": [
      "/Users/matthewrush/virtualenv/lib/python3.10/site-packages/pyrosm/pyrosm.py:576: ShapelyDeprecationWarning: The array interface is deprecated and will no longer work in Shapely 2.0. Convert the '.coords' to a numpy array instead.\n",
      "  gdf = get_poi_data(\n",
      "/Users/matthewrush/virtualenv/lib/python3.10/site-packages/pyrosm/pyrosm.py:576: UserWarning: Could not find any POIs for given area.\n",
      "  gdf = get_poi_data(\n"
     ]
    },
    {
     "name": "stdout",
     "output_type": "stream",
     "text": [
      "BAYSWATER NORTH, 'NoneType' object is not subscriptable\n"
     ]
    },
    {
     "name": "stderr",
     "output_type": "stream",
     "text": [
      "/Users/matthewrush/virtualenv/lib/python3.10/site-packages/pyrosm/pyrosm.py:576: UserWarning: Could not find any POIs for given area.\n",
      "  gdf = get_poi_data(\n"
     ]
    },
    {
     "name": "stdout",
     "output_type": "stream",
     "text": [
      "THE BASIN, 'NoneType' object is not subscriptable\n"
     ]
    },
    {
     "name": "stderr",
     "output_type": "stream",
     "text": [
      "/Users/matthewrush/virtualenv/lib/python3.10/site-packages/pyrosm/pyrosm.py:576: ShapelyDeprecationWarning: The array interface is deprecated and will no longer work in Shapely 2.0. Convert the '.coords' to a numpy array instead.\n",
      "  gdf = get_poi_data(\n",
      "/Users/matthewrush/virtualenv/lib/python3.10/site-packages/pyrosm/pyrosm.py:576: UserWarning: Could not find any POIs for given area.\n",
      "  gdf = get_poi_data(\n"
     ]
    },
    {
     "name": "stdout",
     "output_type": "stream",
     "text": [
      "LYSTERFIELD, 'NoneType' object is not subscriptable\n"
     ]
    },
    {
     "name": "stderr",
     "output_type": "stream",
     "text": [
      "/Users/matthewrush/virtualenv/lib/python3.10/site-packages/pyrosm/pyrosm.py:576: UserWarning: Could not find any POIs for given area.\n",
      "  gdf = get_poi_data(\n"
     ]
    },
    {
     "name": "stdout",
     "output_type": "stream",
     "text": [
      "LYSTERFIELD SOUTH, 'NoneType' object is not subscriptable\n",
      "MOUNTAIN GATE, index 0 is out of bounds for axis 0 with size 0\n"
     ]
    },
    {
     "name": "stderr",
     "output_type": "stream",
     "text": [
      "/Users/matthewrush/virtualenv/lib/python3.10/site-packages/pyrosm/pyrosm.py:576: UserWarning: Could not find any POIs for given area.\n",
      "  gdf = get_poi_data(\n"
     ]
    },
    {
     "name": "stdout",
     "output_type": "stream",
     "text": [
      "UPPER FERNTREE GULLY, 'NoneType' object is not subscriptable\n",
      "UPWEY, index 0 is out of bounds for axis 0 with size 0\n",
      "MENZIES CREEK, index 0 is out of bounds for axis 0 with size 0\n",
      "SELBY, index 0 is out of bounds for axis 0 with size 0\n",
      "BELGRAVE, index 0 is out of bounds for axis 0 with size 0\n",
      "BELGRAVE HEIGHTS, index 0 is out of bounds for axis 0 with size 0\n",
      "BELGRAVE SOUTH, index 0 is out of bounds for axis 0 with size 0\n",
      "TECOMA, index 0 is out of bounds for axis 0 with size 0\n",
      "CAULFIELD JUNCTION, index 0 is out of bounds for axis 0 with size 0\n"
     ]
    },
    {
     "name": "stderr",
     "output_type": "stream",
     "text": [
      "/Users/matthewrush/virtualenv/lib/python3.10/site-packages/pyrosm/pyrosm.py:576: ShapelyDeprecationWarning: The array interface is deprecated and will no longer work in Shapely 2.0. Convert the '.coords' to a numpy array instead.\n",
      "  gdf = get_poi_data(\n"
     ]
    },
    {
     "name": "stdout",
     "output_type": "stream",
     "text": [
      "CAULFIELD NORTH, 'NoneType' object is not subscriptable\n"
     ]
    },
    {
     "name": "stderr",
     "output_type": "stream",
     "text": [
      "/Users/matthewrush/virtualenv/lib/python3.10/site-packages/pyrosm/pyrosm.py:576: ShapelyDeprecationWarning: The array interface is deprecated and will no longer work in Shapely 2.0. Convert the '.coords' to a numpy array instead.\n",
      "  gdf = get_poi_data(\n"
     ]
    },
    {
     "name": "stdout",
     "output_type": "stream",
     "text": [
      "CAULFIELD, 'NoneType' object is not subscriptable\n"
     ]
    },
    {
     "name": "stderr",
     "output_type": "stream",
     "text": [
      "/Users/matthewrush/virtualenv/lib/python3.10/site-packages/pyrosm/pyrosm.py:576: UserWarning: Could not find any POIs for given area.\n",
      "  gdf = get_poi_data(\n"
     ]
    },
    {
     "name": "stdout",
     "output_type": "stream",
     "text": [
      "CAULFIELD SOUTH, 'NoneType' object is not subscriptable\n",
      "HOPETOUN GARDENS, index 0 is out of bounds for axis 0 with size 0\n",
      "BOORAN ROAD PO, index 0 is out of bounds for axis 0 with size 0\n"
     ]
    },
    {
     "name": "stderr",
     "output_type": "stream",
     "text": [
      "/Users/matthewrush/virtualenv/lib/python3.10/site-packages/pyrosm/pyrosm.py:576: UserWarning: Could not find any POIs for given area.\n",
      "  gdf = get_poi_data(\n"
     ]
    },
    {
     "name": "stdout",
     "output_type": "stream",
     "text": [
      "GLEN HUNTLY, 'NoneType' object is not subscriptable\n"
     ]
    },
    {
     "name": "stderr",
     "output_type": "stream",
     "text": [
      "/Users/matthewrush/virtualenv/lib/python3.10/site-packages/pyrosm/pyrosm.py:576: UserWarning: Could not find any POIs for given area.\n",
      "  gdf = get_poi_data(\n"
     ]
    },
    {
     "name": "stdout",
     "output_type": "stream",
     "text": [
      "MURRUMBEENA, 'NoneType' object is not subscriptable\n",
      "BENTLEIGH EAST, 'NoneType' object is not subscriptable\n",
      "COATESVILLE, index 0 is out of bounds for axis 0 with size 0\n",
      "HUGHESDALE, 'NoneType' object is not subscriptable\n"
     ]
    },
    {
     "name": "stderr",
     "output_type": "stream",
     "text": [
      "/Users/matthewrush/virtualenv/lib/python3.10/site-packages/pyrosm/pyrosm.py:576: UserWarning: Could not find any POIs for given area.\n",
      "  gdf = get_poi_data(\n"
     ]
    },
    {
     "name": "stdout",
     "output_type": "stream",
     "text": [
      "HUNTINGDALE, 'NoneType' object is not subscriptable\n"
     ]
    },
    {
     "name": "stderr",
     "output_type": "stream",
     "text": [
      "/Users/matthewrush/virtualenv/lib/python3.10/site-packages/pyrosm/pyrosm.py:576: UserWarning: Could not find any POIs for given area.\n",
      "  gdf = get_poi_data(\n"
     ]
    },
    {
     "name": "stdout",
     "output_type": "stream",
     "text": [
      "OAKLEIGH EAST, 'NoneType' object is not subscriptable\n"
     ]
    },
    {
     "name": "stderr",
     "output_type": "stream",
     "text": [
      "/Users/matthewrush/virtualenv/lib/python3.10/site-packages/pyrosm/pyrosm.py:576: ShapelyDeprecationWarning: The array interface is deprecated and will no longer work in Shapely 2.0. Convert the '.coords' to a numpy array instead.\n",
      "  gdf = get_poi_data(\n",
      "/Users/matthewrush/virtualenv/lib/python3.10/site-packages/pyrosm/pyrosm.py:576: UserWarning: Could not find any POIs for given area.\n",
      "  gdf = get_poi_data(\n"
     ]
    },
    {
     "name": "stdout",
     "output_type": "stream",
     "text": [
      "NOTTING HILL, 'NoneType' object is not subscriptable\n",
      "CLARINDA, 'name'\n"
     ]
    },
    {
     "name": "stderr",
     "output_type": "stream",
     "text": [
      "/Users/matthewrush/virtualenv/lib/python3.10/site-packages/pyrosm/pyrosm.py:576: UserWarning: Could not find any POIs for given area.\n",
      "  gdf = get_poi_data(\n"
     ]
    },
    {
     "name": "stdout",
     "output_type": "stream",
     "text": [
      "CLAYTON SOUTH, 'NoneType' object is not subscriptable\n"
     ]
    },
    {
     "name": "stderr",
     "output_type": "stream",
     "text": [
      "/Users/matthewrush/virtualenv/lib/python3.10/site-packages/pyrosm/pyrosm.py:576: ShapelyDeprecationWarning: The array interface is deprecated and will no longer work in Shapely 2.0. Convert the '.coords' to a numpy array instead.\n",
      "  gdf = get_poi_data(\n"
     ]
    },
    {
     "name": "stdout",
     "output_type": "stream",
     "text": [
      "WAVERLEY GARDENS, index 0 is out of bounds for axis 0 with size 0\n",
      "SANDOWN VILLAGE, index 0 is out of bounds for axis 0 with size 0\n"
     ]
    },
    {
     "name": "stderr",
     "output_type": "stream",
     "text": [
      "/Users/matthewrush/virtualenv/lib/python3.10/site-packages/pyrosm/pyrosm.py:576: ShapelyDeprecationWarning: The array interface is deprecated and will no longer work in Shapely 2.0. Convert the '.coords' to a numpy array instead.\n",
      "  gdf = get_poi_data(\n",
      "/Users/matthewrush/virtualenv/lib/python3.10/site-packages/pyrosm/pyrosm.py:576: UserWarning: Could not find any POIs for given area.\n",
      "  gdf = get_poi_data(\n"
     ]
    },
    {
     "name": "stdout",
     "output_type": "stream",
     "text": [
      "DINGLEY VILLAGE, 'NoneType' object is not subscriptable\n"
     ]
    },
    {
     "name": "stderr",
     "output_type": "stream",
     "text": [
      "/Users/matthewrush/virtualenv/lib/python3.10/site-packages/pyrosm/pyrosm.py:576: ShapelyDeprecationWarning: The array interface is deprecated and will no longer work in Shapely 2.0. Convert the '.coords' to a numpy array instead.\n",
      "  gdf = get_poi_data(\n"
     ]
    },
    {
     "name": "stdout",
     "output_type": "stream",
     "text": [
      "NOBLE PARK, 'NoneType' object is not subscriptable\n",
      "NOBLE PARK EAST, index 0 is out of bounds for axis 0 with size 0\n",
      "NOBLE PARK NORTH, 'NoneType' object is not subscriptable\n",
      "BANGHOLME, index 0 is out of bounds for axis 0 with size 0\n"
     ]
    },
    {
     "name": "stderr",
     "output_type": "stream",
     "text": [
      "/Users/matthewrush/virtualenv/lib/python3.10/site-packages/pyrosm/pyrosm.py:576: UserWarning: Could not find any POIs for given area.\n",
      "  gdf = get_poi_data(\n"
     ]
    },
    {
     "name": "stdout",
     "output_type": "stream",
     "text": [
      "DANDENONG, 'NoneType' object is not subscriptable\n",
      "DANDENONG EAST, index 0 is out of bounds for axis 0 with size 0\n"
     ]
    },
    {
     "name": "stderr",
     "output_type": "stream",
     "text": [
      "/Users/matthewrush/virtualenv/lib/python3.10/site-packages/pyrosm/pyrosm.py:576: UserWarning: Could not find any POIs for given area.\n",
      "  gdf = get_poi_data(\n"
     ]
    },
    {
     "name": "stdout",
     "output_type": "stream",
     "text": [
      "DANDENONG NORTH, 'NoneType' object is not subscriptable\n"
     ]
    },
    {
     "name": "stderr",
     "output_type": "stream",
     "text": [
      "/Users/matthewrush/virtualenv/lib/python3.10/site-packages/pyrosm/pyrosm.py:576: ShapelyDeprecationWarning: The array interface is deprecated and will no longer work in Shapely 2.0. Convert the '.coords' to a numpy array instead.\n",
      "  gdf = get_poi_data(\n"
     ]
    },
    {
     "name": "stdout",
     "output_type": "stream",
     "text": [
      "DUNEARN, index 0 is out of bounds for axis 0 with size 0\n"
     ]
    },
    {
     "name": "stderr",
     "output_type": "stream",
     "text": [
      "/Users/matthewrush/virtualenv/lib/python3.10/site-packages/pyrosm/pyrosm.py:576: UserWarning: Could not find any POIs for given area.\n",
      "  gdf = get_poi_data(\n"
     ]
    },
    {
     "name": "stdout",
     "output_type": "stream",
     "text": [
      "DOVETON, 'NoneType' object is not subscriptable\n"
     ]
    },
    {
     "name": "stderr",
     "output_type": "stream",
     "text": [
      "/Users/matthewrush/virtualenv/lib/python3.10/site-packages/pyrosm/pyrosm.py:576: UserWarning: Could not find any POIs for given area.\n",
      "  gdf = get_poi_data(\n"
     ]
    },
    {
     "name": "stdout",
     "output_type": "stream",
     "text": [
      "EUMEMMERRING, 'NoneType' object is not subscriptable\n"
     ]
    },
    {
     "name": "stderr",
     "output_type": "stream",
     "text": [
      "/Users/matthewrush/virtualenv/lib/python3.10/site-packages/pyrosm/pyrosm.py:576: ShapelyDeprecationWarning: The array interface is deprecated and will no longer work in Shapely 2.0. Convert the '.coords' to a numpy array instead.\n",
      "  gdf = get_poi_data(\n",
      "/Users/matthewrush/virtualenv/lib/python3.10/site-packages/pyrosm/pyrosm.py:576: ShapelyDeprecationWarning: The array interface is deprecated and will no longer work in Shapely 2.0. Convert the '.coords' to a numpy array instead.\n",
      "  gdf = get_poi_data(\n"
     ]
    },
    {
     "name": "stdout",
     "output_type": "stream",
     "text": [
      "SCORESBY, 'NoneType' object is not subscriptable\n"
     ]
    },
    {
     "name": "stderr",
     "output_type": "stream",
     "text": [
      "/Users/matthewrush/virtualenv/lib/python3.10/site-packages/pyrosm/pyrosm.py:576: ShapelyDeprecationWarning: The array interface is deprecated and will no longer work in Shapely 2.0. Convert the '.coords' to a numpy array instead.\n",
      "  gdf = get_poi_data(\n"
     ]
    },
    {
     "name": "stdout",
     "output_type": "stream",
     "text": [
      "PRAHRAN EAST, index 0 is out of bounds for axis 0 with size 0\n"
     ]
    },
    {
     "name": "stderr",
     "output_type": "stream",
     "text": [
      "/Users/matthewrush/virtualenv/lib/python3.10/site-packages/pyrosm/pyrosm.py:576: UserWarning: Could not find any POIs for given area.\n",
      "  gdf = get_poi_data(\n"
     ]
    },
    {
     "name": "stdout",
     "output_type": "stream",
     "text": [
      "WINDSOR, 'NoneType' object is not subscriptable\n"
     ]
    },
    {
     "name": "stderr",
     "output_type": "stream",
     "text": [
      "/Users/matthewrush/virtualenv/lib/python3.10/site-packages/pyrosm/pyrosm.py:576: UserWarning: Could not find any POIs for given area.\n",
      "  gdf = get_poi_data(\n"
     ]
    },
    {
     "name": "stdout",
     "output_type": "stream",
     "text": [
      "ST KILDA, 'NoneType' object is not subscriptable\n",
      "ST KILDA SOUTH, index 0 is out of bounds for axis 0 with size 0\n"
     ]
    },
    {
     "name": "stderr",
     "output_type": "stream",
     "text": [
      "/Users/matthewrush/virtualenv/lib/python3.10/site-packages/pyrosm/pyrosm.py:576: UserWarning: Could not find any POIs for given area.\n",
      "  gdf = get_poi_data(\n"
     ]
    },
    {
     "name": "stdout",
     "output_type": "stream",
     "text": [
      "ST KILDA WEST, 'NoneType' object is not subscriptable\n"
     ]
    },
    {
     "name": "stderr",
     "output_type": "stream",
     "text": [
      "/Users/matthewrush/virtualenv/lib/python3.10/site-packages/pyrosm/pyrosm.py:576: UserWarning: Could not find any POIs for given area.\n",
      "  gdf = get_poi_data(\n"
     ]
    },
    {
     "name": "stdout",
     "output_type": "stream",
     "text": [
      "BALACLAVA, 'NoneType' object is not subscriptable\n"
     ]
    },
    {
     "name": "stderr",
     "output_type": "stream",
     "text": [
      "/Users/matthewrush/virtualenv/lib/python3.10/site-packages/pyrosm/pyrosm.py:576: UserWarning: Could not find any POIs for given area.\n",
      "  gdf = get_poi_data(\n"
     ]
    },
    {
     "name": "stdout",
     "output_type": "stream",
     "text": [
      "ST KILDA EAST, 'NoneType' object is not subscriptable\n",
      "BRIGHTON ROAD, index 0 is out of bounds for axis 0 with size 0\n"
     ]
    },
    {
     "name": "stderr",
     "output_type": "stream",
     "text": [
      "/Users/matthewrush/virtualenv/lib/python3.10/site-packages/pyrosm/pyrosm.py:576: UserWarning: Could not find any POIs for given area.\n",
      "  gdf = get_poi_data(\n"
     ]
    },
    {
     "name": "stdout",
     "output_type": "stream",
     "text": [
      "ELWOOD, 'NoneType' object is not subscriptable\n"
     ]
    },
    {
     "name": "stderr",
     "output_type": "stream",
     "text": [
      "/Users/matthewrush/virtualenv/lib/python3.10/site-packages/pyrosm/pyrosm.py:576: UserWarning: Could not find any POIs for given area.\n",
      "  gdf = get_poi_data(\n"
     ]
    },
    {
     "name": "stdout",
     "output_type": "stream",
     "text": [
      "ELSTERNWICK, 'NoneType' object is not subscriptable\n"
     ]
    },
    {
     "name": "stderr",
     "output_type": "stream",
     "text": [
      "/Users/matthewrush/virtualenv/lib/python3.10/site-packages/pyrosm/pyrosm.py:576: UserWarning: Could not find any POIs for given area.\n",
      "  gdf = get_poi_data(\n"
     ]
    },
    {
     "name": "stdout",
     "output_type": "stream",
     "text": [
      "GARDENVALE, 'NoneType' object is not subscriptable\n"
     ]
    },
    {
     "name": "stderr",
     "output_type": "stream",
     "text": [
      "/Users/matthewrush/virtualenv/lib/python3.10/site-packages/pyrosm/pyrosm.py:576: UserWarning: Could not find any POIs for given area.\n",
      "  gdf = get_poi_data(\n"
     ]
    },
    {
     "name": "stdout",
     "output_type": "stream",
     "text": [
      "RIPPONLEA, 'NoneType' object is not subscriptable\n"
     ]
    },
    {
     "name": "stderr",
     "output_type": "stream",
     "text": [
      "/Users/matthewrush/virtualenv/lib/python3.10/site-packages/pyrosm/pyrosm.py:576: UserWarning: Could not find any POIs for given area.\n",
      "  gdf = get_poi_data(\n"
     ]
    },
    {
     "name": "stdout",
     "output_type": "stream",
     "text": [
      "BRIGHTON, 'NoneType' object is not subscriptable\n",
      "BRIGHTON NORTH, index 0 is out of bounds for axis 0 with size 0\n",
      "DENDY, index 0 is out of bounds for axis 0 with size 0\n",
      "WERE STREET PO, index 0 is out of bounds for axis 0 with size 0\n"
     ]
    },
    {
     "name": "stderr",
     "output_type": "stream",
     "text": [
      "/Users/matthewrush/virtualenv/lib/python3.10/site-packages/pyrosm/pyrosm.py:576: UserWarning: Could not find any POIs for given area.\n",
      "  gdf = get_poi_data(\n"
     ]
    },
    {
     "name": "stdout",
     "output_type": "stream",
     "text": [
      "BRIGHTON EAST, 'NoneType' object is not subscriptable\n",
      "NORTH ROAD, index 0 is out of bounds for axis 0 with size 0\n"
     ]
    },
    {
     "name": "stderr",
     "output_type": "stream",
     "text": [
      "/Users/matthewrush/virtualenv/lib/python3.10/site-packages/pyrosm/pyrosm.py:576: UserWarning: Could not find any POIs for given area.\n",
      "  gdf = get_poi_data(\n"
     ]
    },
    {
     "name": "stdout",
     "output_type": "stream",
     "text": [
      "HAMPTON, 'NoneType' object is not subscriptable\n"
     ]
    },
    {
     "name": "stderr",
     "output_type": "stream",
     "text": [
      "/Users/matthewrush/virtualenv/lib/python3.10/site-packages/pyrosm/pyrosm.py:576: UserWarning: Could not find any POIs for given area.\n",
      "  gdf = get_poi_data(\n"
     ]
    },
    {
     "name": "stdout",
     "output_type": "stream",
     "text": [
      "HAMPTON EAST, 'NoneType' object is not subscriptable\n",
      "HAMPTON NORTH, index 0 is out of bounds for axis 0 with size 0\n",
      "MOORABBIN EAST, index 0 is out of bounds for axis 0 with size 0\n",
      "WISHART, index 0 is out of bounds for axis 0 with size 0\n"
     ]
    },
    {
     "name": "stderr",
     "output_type": "stream",
     "text": [
      "/Users/matthewrush/virtualenv/lib/python3.10/site-packages/pyrosm/pyrosm.py:576: ShapelyDeprecationWarning: The array interface is deprecated and will no longer work in Shapely 2.0. Convert the '.coords' to a numpy array instead.\n",
      "  gdf = get_poi_data(\n"
     ]
    },
    {
     "name": "stdout",
     "output_type": "stream",
     "text": [
      "HIGHETT, 'NoneType' object is not subscriptable\n"
     ]
    },
    {
     "name": "stderr",
     "output_type": "stream",
     "text": [
      "/Users/matthewrush/virtualenv/lib/python3.10/site-packages/pyrosm/pyrosm.py:576: UserWarning: Could not find any POIs for given area.\n",
      "  gdf = get_poi_data(\n"
     ]
    },
    {
     "name": "stdout",
     "output_type": "stream",
     "text": [
      "SANDRINGHAM, 'NoneType' object is not subscriptable\n"
     ]
    },
    {
     "name": "stderr",
     "output_type": "stream",
     "text": [
      "/Users/matthewrush/virtualenv/lib/python3.10/site-packages/pyrosm/pyrosm.py:576: ShapelyDeprecationWarning: The array interface is deprecated and will no longer work in Shapely 2.0. Convert the '.coords' to a numpy array instead.\n",
      "  gdf = get_poi_data(\n"
     ]
    },
    {
     "name": "stdout",
     "output_type": "stream",
     "text": [
      "CHELTENHAM EAST, index 0 is out of bounds for axis 0 with size 0\n",
      "CHELTENHAM NORTH, index 0 is out of bounds for axis 0 with size 0\n",
      "SOUTHLAND CENTRE, index 0 is out of bounds for axis 0 with size 0\n"
     ]
    },
    {
     "name": "stderr",
     "output_type": "stream",
     "text": [
      "/Users/matthewrush/virtualenv/lib/python3.10/site-packages/pyrosm/pyrosm.py:576: UserWarning: Could not find any POIs for given area.\n",
      "  gdf = get_poi_data(\n"
     ]
    },
    {
     "name": "stdout",
     "output_type": "stream",
     "text": [
      "BEAUMARIS, 'NoneType' object is not subscriptable\n"
     ]
    },
    {
     "name": "stderr",
     "output_type": "stream",
     "text": [
      "/Users/matthewrush/virtualenv/lib/python3.10/site-packages/pyrosm/pyrosm.py:576: UserWarning: Could not find any POIs for given area.\n",
      "  gdf = get_poi_data(\n"
     ]
    },
    {
     "name": "stdout",
     "output_type": "stream",
     "text": [
      "BLACK ROCK, 'NoneType' object is not subscriptable\n",
      "BLACK ROCK NORTH, index 0 is out of bounds for axis 0 with size 0\n",
      "CROMER, index 0 is out of bounds for axis 0 with size 0\n",
      "MENTONE EAST, index 0 is out of bounds for axis 0 with size 0\n"
     ]
    },
    {
     "name": "stderr",
     "output_type": "stream",
     "text": [
      "/Users/matthewrush/virtualenv/lib/python3.10/site-packages/pyrosm/pyrosm.py:576: ShapelyDeprecationWarning: The array interface is deprecated and will no longer work in Shapely 2.0. Convert the '.coords' to a numpy array instead.\n",
      "  gdf = get_poi_data(\n",
      "/Users/matthewrush/virtualenv/lib/python3.10/site-packages/pyrosm/pyrosm.py:576: UserWarning: Could not find any POIs for given area.\n",
      "  gdf = get_poi_data(\n"
     ]
    },
    {
     "name": "stdout",
     "output_type": "stream",
     "text": [
      "ASPENDALE, 'NoneType' object is not subscriptable\n"
     ]
    },
    {
     "name": "stderr",
     "output_type": "stream",
     "text": [
      "/Users/matthewrush/virtualenv/lib/python3.10/site-packages/pyrosm/pyrosm.py:576: UserWarning: Could not find any POIs for given area.\n",
      "  gdf = get_poi_data(\n"
     ]
    },
    {
     "name": "stdout",
     "output_type": "stream",
     "text": [
      "ASPENDALE GARDENS, 'NoneType' object is not subscriptable\n",
      "BRAESIDE, 'NoneType' object is not subscriptable\n",
      "MORDIALLOC, 'NoneType' object is not subscriptable\n",
      "MORDIALLOC NORTH, index 0 is out of bounds for axis 0 with size 0\n"
     ]
    },
    {
     "name": "stderr",
     "output_type": "stream",
     "text": [
      "/Users/matthewrush/virtualenv/lib/python3.10/site-packages/pyrosm/pyrosm.py:576: UserWarning: Could not find any POIs for given area.\n",
      "  gdf = get_poi_data(\n"
     ]
    },
    {
     "name": "stdout",
     "output_type": "stream",
     "text": [
      "WATERWAYS, 'NoneType' object is not subscriptable\n",
      "BONBEACH, index 0 is out of bounds for axis 0 with size 0\n",
      "CHELSEA, index 0 is out of bounds for axis 0 with size 0\n",
      "CHELSEA HEIGHTS, index 0 is out of bounds for axis 0 with size 0\n",
      "EDITHVALE, index 0 is out of bounds for axis 0 with size 0\n",
      "CARRUM, index 0 is out of bounds for axis 0 with size 0\n",
      "PATTERSON LAKES, index 0 is out of bounds for axis 0 with size 0\n",
      "BELVEDERE PARK, index 0 is out of bounds for axis 0 with size 0\n",
      "SEAFORD, index 0 is out of bounds for axis 0 with size 0\n",
      "FRANKSTON, index 0 is out of bounds for axis 0 with size 0\n",
      "FRANKSTON EAST, index 0 is out of bounds for axis 0 with size 0\n",
      "FRANKSTON HEIGHTS, index 0 is out of bounds for axis 0 with size 0\n",
      "FRANKSTON SOUTH, index 0 is out of bounds for axis 0 with size 0\n",
      "KARINGAL, index 0 is out of bounds for axis 0 with size 0\n",
      "KARINGAL CENTRE, index 0 is out of bounds for axis 0 with size 0\n",
      "FRANKSTON NORTH, index 0 is out of bounds for axis 0 with size 0\n",
      "PINES FOREST, index 0 is out of bounds for axis 0 with size 0\n",
      "CARRUM DOWNS, index 0 is out of bounds for axis 0 with size 0\n"
     ]
    },
    {
     "name": "stderr",
     "output_type": "stream",
     "text": [
      "/Users/matthewrush/virtualenv/lib/python3.10/site-packages/pyrosm/pyrosm.py:576: ShapelyDeprecationWarning: The array interface is deprecated and will no longer work in Shapely 2.0. Convert the '.coords' to a numpy array instead.\n",
      "  gdf = get_poi_data(\n"
     ]
    },
    {
     "name": "stdout",
     "output_type": "stream",
     "text": [
      "HEATHERTON, 'NoneType' object is not subscriptable\n",
      "BENTLEIGH, 'NoneType' object is not subscriptable\n",
      "MCKINNON, index 0 is out of bounds for axis 0 with size 0\n"
     ]
    },
    {
     "name": "stderr",
     "output_type": "stream",
     "text": [
      "/Users/matthewrush/virtualenv/lib/python3.10/site-packages/pyrosm/pyrosm.py:576: UserWarning: Could not find any POIs for given area.\n",
      "  gdf = get_poi_data(\n"
     ]
    },
    {
     "name": "stdout",
     "output_type": "stream",
     "text": [
      "ORMOND, 'NoneType' object is not subscriptable\n",
      "PATTERSON, index 0 is out of bounds for axis 0 with size 0\n",
      "SOUTH MELBOURNE DC, index 0 is out of bounds for axis 0 with size 0\n"
     ]
    },
    {
     "name": "stderr",
     "output_type": "stream",
     "text": [
      "/Users/matthewrush/virtualenv/lib/python3.10/site-packages/pyrosm/pyrosm.py:576: UserWarning: Could not find any POIs for given area.\n",
      "  gdf = get_poi_data(\n"
     ]
    },
    {
     "name": "stdout",
     "output_type": "stream",
     "text": [
      "ALBERT PARK, 'NoneType' object is not subscriptable\n"
     ]
    },
    {
     "name": "stderr",
     "output_type": "stream",
     "text": [
      "/Users/matthewrush/virtualenv/lib/python3.10/site-packages/pyrosm/pyrosm.py:576: UserWarning: Could not find any POIs for given area.\n",
      "  gdf = get_poi_data(\n"
     ]
    },
    {
     "name": "stdout",
     "output_type": "stream",
     "text": [
      "MIDDLE PARK, 'NoneType' object is not subscriptable\n",
      "GARDEN CITY, index 0 is out of bounds for axis 0 with size 0\n",
      "PORT MELBOURNE, 'NoneType' object is not subscriptable\n",
      "LITTLE RIVER, index 0 is out of bounds for axis 0 with size 0\n",
      "AVALON, index 0 is out of bounds for axis 0 with size 0\n",
      "LARA, index 0 is out of bounds for axis 0 with size 0\n",
      "POINT WILSON, index 0 is out of bounds for axis 0 with size 0\n",
      "ANAKIE, index 0 is out of bounds for axis 0 with size 0\n",
      "BATESFORD, index 0 is out of bounds for axis 0 with size 0\n",
      "LOVELY BANKS, index 0 is out of bounds for axis 0 with size 0\n",
      "MOORABOOL, index 0 is out of bounds for axis 0 with size 0\n",
      "CORIO, index 0 is out of bounds for axis 0 with size 0\n",
      "NORLANE, index 0 is out of bounds for axis 0 with size 0\n",
      "NORTH SHORE, index 0 is out of bounds for axis 0 with size 0\n",
      "BELL PARK, index 0 is out of bounds for axis 0 with size 0\n",
      "BELL POST HILL, index 0 is out of bounds for axis 0 with size 0\n",
      "DRUMCONDRA, index 0 is out of bounds for axis 0 with size 0\n",
      "GEELONG NORTH, index 0 is out of bounds for axis 0 with size 0\n",
      "HAMLYN HEIGHTS, index 0 is out of bounds for axis 0 with size 0\n",
      "NORTH GEELONG, index 0 is out of bounds for axis 0 with size 0\n",
      "RIPPLESIDE, index 0 is out of bounds for axis 0 with size 0\n",
      "BELMONT, index 0 is out of bounds for axis 0 with size 0\n",
      "FRESHWATER CREEK, index 0 is out of bounds for axis 0 with size 0\n",
      "GROVEDALE, index 0 is out of bounds for axis 0 with size 0\n",
      "GROVEDALE EAST, index 0 is out of bounds for axis 0 with size 0\n",
      "HIGHTON, index 0 is out of bounds for axis 0 with size 0\n",
      "MARSHALL, index 0 is out of bounds for axis 0 with size 0\n",
      "MOUNT DUNEED, index 0 is out of bounds for axis 0 with size 0\n",
      "WANDANA HEIGHTS, index 0 is out of bounds for axis 0 with size 0\n",
      "WAURN PONDS, index 0 is out of bounds for axis 0 with size 0\n",
      "ARMSTRONG CREEK, index 0 is out of bounds for axis 0 with size 0\n",
      "CHARLEMONT, index 0 is out of bounds for axis 0 with size 0\n",
      "DEAKIN UNIVERSITY, index 0 is out of bounds for axis 0 with size 0\n",
      "FRESHWATER CREEK, index 0 is out of bounds for axis 0 with size 0\n",
      "MOUNT DUNEED, index 0 is out of bounds for axis 0 with size 0\n",
      "FYANSFORD, index 0 is out of bounds for axis 0 with size 0\n",
      "GEELONG WEST, index 0 is out of bounds for axis 0 with size 0\n",
      "HERNE HILL, index 0 is out of bounds for axis 0 with size 0\n",
      "MANIFOLD HEIGHTS, index 0 is out of bounds for axis 0 with size 0\n",
      "MURGHEBOLUC, index 0 is out of bounds for axis 0 with size 0\n",
      "STONEHAVEN, index 0 is out of bounds for axis 0 with size 0\n",
      "BREAKWATER, index 0 is out of bounds for axis 0 with size 0\n",
      "EAST GEELONG, index 0 is out of bounds for axis 0 with size 0\n",
      "NEWCOMB, index 0 is out of bounds for axis 0 with size 0\n",
      "ST ALBANS PARK, index 0 is out of bounds for axis 0 with size 0\n",
      "THOMSON, index 0 is out of bounds for axis 0 with size 0\n",
      "WHITTINGTON, index 0 is out of bounds for axis 0 with size 0\n",
      "BAREENA, index 0 is out of bounds for axis 0 with size 0\n",
      "GEELONG, index 0 is out of bounds for axis 0 with size 0\n",
      "NEWTOWN, index 0 is out of bounds for axis 0 with size 0\n",
      "SOUTH GEELONG, index 0 is out of bounds for axis 0 with size 0\n",
      "CLIFTON SPRINGS, index 0 is out of bounds for axis 0 with size 0\n",
      "CURLEWIS, index 0 is out of bounds for axis 0 with size 0\n",
      "DRYSDALE, index 0 is out of bounds for axis 0 with size 0\n",
      "MANNERIM, index 0 is out of bounds for axis 0 with size 0\n",
      "MARCUS HILL, index 0 is out of bounds for axis 0 with size 0\n",
      "WALLINGTON, index 0 is out of bounds for axis 0 with size 0\n",
      "BELLARINE, index 0 is out of bounds for axis 0 with size 0\n",
      "INDENTED HEAD, index 0 is out of bounds for axis 0 with size 0\n",
      "PORTARLINGTON, index 0 is out of bounds for axis 0 with size 0\n",
      "ST LEONARDS, index 0 is out of bounds for axis 0 with size 0\n",
      "LEOPOLD, index 0 is out of bounds for axis 0 with size 0\n",
      "MOOLAP, index 0 is out of bounds for axis 0 with size 0\n",
      "POINT LONSDALE, index 0 is out of bounds for axis 0 with size 0\n",
      "QUEENSCLIFF, index 0 is out of bounds for axis 0 with size 0\n",
      "SWAN BAY, index 0 is out of bounds for axis 0 with size 0\n",
      "SWAN ISLAND, index 0 is out of bounds for axis 0 with size 0\n",
      "OCEAN GROVE, index 0 is out of bounds for axis 0 with size 0\n",
      "BARWON HEADS, index 0 is out of bounds for axis 0 with size 0\n",
      "BREAMLEA, index 0 is out of bounds for axis 0 with size 0\n",
      "CONNEWARRE, index 0 is out of bounds for axis 0 with size 0\n",
      "BELLBRAE, index 0 is out of bounds for axis 0 with size 0\n",
      "BELLS BEACH, index 0 is out of bounds for axis 0 with size 0\n",
      "JAN JUC, index 0 is out of bounds for axis 0 with size 0\n",
      "TORQUAY, index 0 is out of bounds for axis 0 with size 0\n",
      "ANGLESEA, index 0 is out of bounds for axis 0 with size 0\n",
      "APOLLO BAY, index 0 is out of bounds for axis 0 with size 0\n",
      "CAPE OTWAY, index 0 is out of bounds for axis 0 with size 0\n",
      "MARENGO, index 0 is out of bounds for axis 0 with size 0\n",
      "PETTICOAT CREEK, index 0 is out of bounds for axis 0 with size 0\n",
      "SKENES CREEK, index 0 is out of bounds for axis 0 with size 0\n",
      "SKENES CREEK NORTH, index 0 is out of bounds for axis 0 with size 0\n",
      "FORREST, index 0 is out of bounds for axis 0 with size 0\n",
      "MOUNT SABINE, index 0 is out of bounds for axis 0 with size 0\n",
      "CARLISLE RIVER, index 0 is out of bounds for axis 0 with size 0\n",
      "CHAPPLE VALE, index 0 is out of bounds for axis 0 with size 0\n",
      "GELLIBRAND, index 0 is out of bounds for axis 0 with size 0\n",
      "KENNEDYS CREEK, index 0 is out of bounds for axis 0 with size 0\n",
      "BUCKLEY, index 0 is out of bounds for axis 0 with size 0\n",
      "GHERANG, index 0 is out of bounds for axis 0 with size 0\n",
      "MODEWARRE, index 0 is out of bounds for axis 0 with size 0\n",
      "MORIAC, index 0 is out of bounds for axis 0 with size 0\n",
      "MOUNT MORIAC, index 0 is out of bounds for axis 0 with size 0\n",
      "PARAPARAP, index 0 is out of bounds for axis 0 with size 0\n",
      "BAMBRA, index 0 is out of bounds for axis 0 with size 0\n",
      "OMBERSLEY, index 0 is out of bounds for axis 0 with size 0\n",
      "WENSLEYDALE, index 0 is out of bounds for axis 0 with size 0\n",
      "WINCHELSEA, index 0 is out of bounds for axis 0 with size 0\n",
      "WINCHELSEA SOUTH, index 0 is out of bounds for axis 0 with size 0\n",
      "WURDIBOLUC, index 0 is out of bounds for axis 0 with size 0\n",
      "BIRREGURRA, index 0 is out of bounds for axis 0 with size 0\n",
      "ALVIE, index 0 is out of bounds for axis 0 with size 0\n",
      "BALINTORE, index 0 is out of bounds for axis 0 with size 0\n",
      "BARONGAROOK, index 0 is out of bounds for axis 0 with size 0\n",
      "BARONGAROOK WEST, index 0 is out of bounds for axis 0 with size 0\n",
      "BARRAMUNGA, index 0 is out of bounds for axis 0 with size 0\n",
      "CORAGULAC, index 0 is out of bounds for axis 0 with size 0\n",
      "CORUNNUN, index 0 is out of bounds for axis 0 with size 0\n",
      "DREEITE, index 0 is out of bounds for axis 0 with size 0\n",
      "DREEITE SOUTH, index 0 is out of bounds for axis 0 with size 0\n",
      "GERANGAMETE, index 0 is out of bounds for axis 0 with size 0\n",
      "IRREWARRA, index 0 is out of bounds for axis 0 with size 0\n",
      "IRREWILLIPE, index 0 is out of bounds for axis 0 with size 0\n",
      "IRREWILLIPE EAST, index 0 is out of bounds for axis 0 with size 0\n",
      "KAWARREN, index 0 is out of bounds for axis 0 with size 0\n",
      "LARPENT, index 0 is out of bounds for axis 0 with size 0\n",
      "NALANGIL, index 0 is out of bounds for axis 0 with size 0\n",
      "ONDIT, index 0 is out of bounds for axis 0 with size 0\n",
      "PIRRON YALLOCK, index 0 is out of bounds for axis 0 with size 0\n",
      "POMBORNEIT EAST, index 0 is out of bounds for axis 0 with size 0\n",
      "SWAN MARSH, index 0 is out of bounds for axis 0 with size 0\n",
      "TANYBRYN, index 0 is out of bounds for axis 0 with size 0\n",
      "WARRION, index 0 is out of bounds for axis 0 with size 0\n",
      "WOOL WOOL, index 0 is out of bounds for axis 0 with size 0\n",
      "YEO, index 0 is out of bounds for axis 0 with size 0\n",
      "YEODENE, index 0 is out of bounds for axis 0 with size 0\n",
      "COLAC, index 0 is out of bounds for axis 0 with size 0\n",
      "COLAC EAST, index 0 is out of bounds for axis 0 with size 0\n",
      "COLAC WEST, index 0 is out of bounds for axis 0 with size 0\n",
      "ELLIMINYT, index 0 is out of bounds for axis 0 with size 0\n",
      "BEEAC, index 0 is out of bounds for axis 0 with size 0\n",
      "CUNDARE, index 0 is out of bounds for axis 0 with size 0\n",
      "CUNDARE NORTH, index 0 is out of bounds for axis 0 with size 0\n",
      "EURACK, index 0 is out of bounds for axis 0 with size 0\n",
      "WEERING, index 0 is out of bounds for axis 0 with size 0\n",
      "BOOKAAR, index 0 is out of bounds for axis 0 with size 0\n",
      "BOSTOCKS CREEK, index 0 is out of bounds for axis 0 with size 0\n",
      "BUNGADOR, index 0 is out of bounds for axis 0 with size 0\n",
      "CAMPERDOWN, index 0 is out of bounds for axis 0 with size 0\n",
      "CARPENDEIT, index 0 is out of bounds for axis 0 with size 0\n",
      "CHOCOLYN, index 0 is out of bounds for axis 0 with size 0\n",
      "GNOTUK, index 0 is out of bounds for axis 0 with size 0\n",
      "KARIAH, index 0 is out of bounds for axis 0 with size 0\n",
      "KOALLAH, index 0 is out of bounds for axis 0 with size 0\n",
      "LESLIE MANOR, index 0 is out of bounds for axis 0 with size 0\n",
      "POMBORNEIT, index 0 is out of bounds for axis 0 with size 0\n",
      "POMBORNEIT NORTH, index 0 is out of bounds for axis 0 with size 0\n",
      "SKIBO, index 0 is out of bounds for axis 0 with size 0\n",
      "SOUTH PURRUMBETE, index 0 is out of bounds for axis 0 with size 0\n",
      "STONYFORD, index 0 is out of bounds for axis 0 with size 0\n",
      "TANDAROOK, index 0 is out of bounds for axis 0 with size 0\n",
      "TESBURY, index 0 is out of bounds for axis 0 with size 0\n",
      "WEERITE, index 0 is out of bounds for axis 0 with size 0\n",
      "TERANG, index 0 is out of bounds for axis 0 with size 0\n",
      "BULLAHARRE, index 0 is out of bounds for axis 0 with size 0\n",
      "COBDEN, index 0 is out of bounds for axis 0 with size 0\n",
      "COBRICO, index 0 is out of bounds for axis 0 with size 0\n",
      "ELINGAMITE, index 0 is out of bounds for axis 0 with size 0\n",
      "ELINGAMITE NORTH, index 0 is out of bounds for axis 0 with size 0\n",
      "GLENFYNE, index 0 is out of bounds for axis 0 with size 0\n",
      "JANCOURT, index 0 is out of bounds for axis 0 with size 0\n",
      "JANCOURT EAST, index 0 is out of bounds for axis 0 with size 0\n",
      "NAROGHID, index 0 is out of bounds for axis 0 with size 0\n",
      "SIMPSON, index 0 is out of bounds for axis 0 with size 0\n",
      "AYRFORD, index 0 is out of bounds for axis 0 with size 0\n",
      "BRUCKNELL, index 0 is out of bounds for axis 0 with size 0\n",
      "COORIEMUNGLE, index 0 is out of bounds for axis 0 with size 0\n",
      "COWLEYS CREEK, index 0 is out of bounds for axis 0 with size 0\n",
      "CURDIE VALE, index 0 is out of bounds for axis 0 with size 0\n",
      "CURDIES RIVER, index 0 is out of bounds for axis 0 with size 0\n",
      "CURDIEVALE, index 0 is out of bounds for axis 0 with size 0\n",
      "HEYTESBURY LOWER, index 0 is out of bounds for axis 0 with size 0\n",
      "NEWFIELD, index 0 is out of bounds for axis 0 with size 0\n",
      "NIRRANDA, index 0 is out of bounds for axis 0 with size 0\n",
      "NIRRANDA EAST, index 0 is out of bounds for axis 0 with size 0\n",
      "NIRRANDA SOUTH, index 0 is out of bounds for axis 0 with size 0\n",
      "NULLAWARRE, index 0 is out of bounds for axis 0 with size 0\n",
      "NULLAWARRE EAST, index 0 is out of bounds for axis 0 with size 0\n",
      "NULLAWARRE NORTH, index 0 is out of bounds for axis 0 with size 0\n",
      "PAARATTE, index 0 is out of bounds for axis 0 with size 0\n",
      "THE COVE, index 0 is out of bounds for axis 0 with size 0\n",
      "TIMBOON, index 0 is out of bounds for axis 0 with size 0\n",
      "TIMBOON WEST, index 0 is out of bounds for axis 0 with size 0\n",
      "PORT CAMPBELL, index 0 is out of bounds for axis 0 with size 0\n",
      "PRINCETOWN, index 0 is out of bounds for axis 0 with size 0\n",
      "WAARRE, index 0 is out of bounds for axis 0 with size 0\n",
      "PETERBOROUGH, index 0 is out of bounds for axis 0 with size 0\n",
      "MORTLAKE, index 0 is out of bounds for axis 0 with size 0\n",
      "WOORNDOO, index 0 is out of bounds for axis 0 with size 0\n",
      "HEXHAM, index 0 is out of bounds for axis 0 with size 0\n",
      "ALLANSFORD, index 0 is out of bounds for axis 0 with size 0\n",
      "MEPUNGA, index 0 is out of bounds for axis 0 with size 0\n",
      "MEPUNGA EAST, index 0 is out of bounds for axis 0 with size 0\n",
      "MEPUNGA WEST, index 0 is out of bounds for axis 0 with size 0\n",
      "NARINGAL, index 0 is out of bounds for axis 0 with size 0\n",
      "NARINGAL EAST, index 0 is out of bounds for axis 0 with size 0\n",
      "DENNINGTON, index 0 is out of bounds for axis 0 with size 0\n",
      "MINJAH, index 0 is out of bounds for axis 0 with size 0\n",
      "WARRNAMBOOL, index 0 is out of bounds for axis 0 with size 0\n",
      "WARRNAMBOOL EAST, index 0 is out of bounds for axis 0 with size 0\n",
      "WARRNAMBOOL WEST, index 0 is out of bounds for axis 0 with size 0\n",
      "ORFORD, index 0 is out of bounds for axis 0 with size 0\n",
      "PORT FAIRY, index 0 is out of bounds for axis 0 with size 0\n",
      "HAWKESDALE, index 0 is out of bounds for axis 0 with size 0\n",
      "MINHAMITE, index 0 is out of bounds for axis 0 with size 0\n",
      "GAZETTE, index 0 is out of bounds for axis 0 with size 0\n",
      "GERRIGERRUP, index 0 is out of bounds for axis 0 with size 0\n",
      "PENSHURST, index 0 is out of bounds for axis 0 with size 0\n",
      "PURDEET, index 0 is out of bounds for axis 0 with size 0\n",
      "TABOR, index 0 is out of bounds for axis 0 with size 0\n",
      "BYADUK NORTH, index 0 is out of bounds for axis 0 with size 0\n",
      "HAMILTON, index 0 is out of bounds for axis 0 with size 0\n",
      "BRANXHOLME, index 0 is out of bounds for axis 0 with size 0\n",
      "GRASSDALE, index 0 is out of bounds for axis 0 with size 0\n",
      "ALLESTREE, index 0 is out of bounds for axis 0 with size 0\n",
      "BOLWARRA, index 0 is out of bounds for axis 0 with size 0\n",
      "CAPE BRIDGEWATER, index 0 is out of bounds for axis 0 with size 0\n",
      "CASHMORE, index 0 is out of bounds for axis 0 with size 0\n",
      "DUTTON WAY, index 0 is out of bounds for axis 0 with size 0\n",
      "GORAE, index 0 is out of bounds for axis 0 with size 0\n",
      "GORAE WEST, index 0 is out of bounds for axis 0 with size 0\n",
      "HEATHMERE, index 0 is out of bounds for axis 0 with size 0\n",
      "MOUNT RICHMOND, index 0 is out of bounds for axis 0 with size 0\n",
      "PORTLAND, index 0 is out of bounds for axis 0 with size 0\n",
      "PORTLAND NORTH, index 0 is out of bounds for axis 0 with size 0\n",
      "PORTLAND WEST, index 0 is out of bounds for axis 0 with size 0\n",
      "BRIT BRIT, index 0 is out of bounds for axis 0 with size 0\n",
      "CLOVER FLAT, index 0 is out of bounds for axis 0 with size 0\n",
      "COLERAINE, index 0 is out of bounds for axis 0 with size 0\n",
      "COOJAR, index 0 is out of bounds for axis 0 with size 0\n",
      "CULLA, index 0 is out of bounds for axis 0 with size 0\n",
      "GRINGEGALGONA, index 0 is out of bounds for axis 0 with size 0\n",
      "GRITJURK, index 0 is out of bounds for axis 0 with size 0\n",
      "HILGAY, index 0 is out of bounds for axis 0 with size 0\n",
      "KONONGWOOTONG, index 0 is out of bounds for axis 0 with size 0\n",
      "MELVILLE FOREST, index 0 is out of bounds for axis 0 with size 0\n",
      "MUNTHAM, index 0 is out of bounds for axis 0 with size 0\n",
      "NAREEN, index 0 is out of bounds for axis 0 with size 0\n",
      "PARKWOOD, index 0 is out of bounds for axis 0 with size 0\n",
      "PASCHENDALE, index 0 is out of bounds for axis 0 with size 0\n",
      "TAHARA BRIDGE, index 0 is out of bounds for axis 0 with size 0\n",
      "TARRAYOUKYAN, index 0 is out of bounds for axis 0 with size 0\n",
      "TARRENLEA, index 0 is out of bounds for axis 0 with size 0\n",
      "WOOTONG VALE, index 0 is out of bounds for axis 0 with size 0\n",
      "CHARAM, index 0 is out of bounds for axis 0 with size 0\n",
      "CONNEWIRRICOO, index 0 is out of bounds for axis 0 with size 0\n",
      "EDENHOPE, index 0 is out of bounds for axis 0 with size 0\n",
      "JALLAKIN, index 0 is out of bounds for axis 0 with size 0\n",
      "KADNOOK, index 0 is out of bounds for axis 0 with size 0\n",
      "LANGKOOP, index 0 is out of bounds for axis 0 with size 0\n",
      "MEEREEK, index 0 is out of bounds for axis 0 with size 0\n",
      "PATYAH, index 0 is out of bounds for axis 0 with size 0\n",
      "ULLSWATER, index 0 is out of bounds for axis 0 with size 0\n",
      "LISMORE, index 0 is out of bounds for axis 0 with size 0\n",
      "MINGAY, index 0 is out of bounds for axis 0 with size 0\n",
      "MOUNT BUTE, index 0 is out of bounds for axis 0 with size 0\n",
      "BARUNAH PARK, index 0 is out of bounds for axis 0 with size 0\n",
      "BARUNAH PLAINS, index 0 is out of bounds for axis 0 with size 0\n",
      "SHELFORD, index 0 is out of bounds for axis 0 with size 0\n",
      "BANNOCKBURN, index 0 is out of bounds for axis 0 with size 0\n",
      "GHERINGHAP, index 0 is out of bounds for axis 0 with size 0\n",
      "MAUDE, index 0 is out of bounds for axis 0 with size 0\n",
      "RUSSELLS BRIDGE, index 0 is out of bounds for axis 0 with size 0\n",
      "SHE OAKS, index 0 is out of bounds for axis 0 with size 0\n",
      "STEIGLITZ, index 0 is out of bounds for axis 0 with size 0\n",
      "SUTHERLANDS CREEK, index 0 is out of bounds for axis 0 with size 0\n",
      "LETHBRIDGE, index 0 is out of bounds for axis 0 with size 0\n"
     ]
    },
    {
     "name": "stderr",
     "output_type": "stream",
     "text": [
      "/Users/matthewrush/virtualenv/lib/python3.10/site-packages/pyrosm/pyrosm.py:576: UserWarning: Could not find any POIs for given area.\n",
      "  gdf = get_poi_data(\n"
     ]
    },
    {
     "name": "stdout",
     "output_type": "stream",
     "text": [
      "BONNIE BROOK, 'NoneType' object is not subscriptable\n",
      "GRANGEFIELDS, index 0 is out of bounds for axis 0 with size 0\n"
     ]
    },
    {
     "name": "stderr",
     "output_type": "stream",
     "text": [
      "/Users/matthewrush/virtualenv/lib/python3.10/site-packages/pyrosm/pyrosm.py:576: UserWarning: Could not find any POIs for given area.\n",
      "  gdf = get_poi_data(\n"
     ]
    },
    {
     "name": "stdout",
     "output_type": "stream",
     "text": [
      "PLUMPTON, 'NoneType' object is not subscriptable\n",
      "ROCKBANK, index 0 is out of bounds for axis 0 with size 0\n",
      "THORNHILL PARK, index 0 is out of bounds for axis 0 with size 0\n",
      "HARKNESS, index 0 is out of bounds for axis 0 with size 0\n",
      "KURUNJANG, index 0 is out of bounds for axis 0 with size 0\n"
     ]
    },
    {
     "name": "stderr",
     "output_type": "stream",
     "text": [
      "/Users/matthewrush/virtualenv/lib/python3.10/site-packages/pyrosm/pyrosm.py:576: ShapelyDeprecationWarning: The array interface is deprecated and will no longer work in Shapely 2.0. Convert the '.coords' to a numpy array instead.\n",
      "  gdf = get_poi_data(\n"
     ]
    },
    {
     "name": "stdout",
     "output_type": "stream",
     "text": [
      "MELTON WEST, index 0 is out of bounds for axis 0 with size 0\n",
      "TOOLERN VALE, index 0 is out of bounds for axis 0 with size 0\n",
      "BROOKFIELD, index 0 is out of bounds for axis 0 with size 0\n",
      "COBBLEBANK, index 0 is out of bounds for axis 0 with size 0\n",
      "EXFORD, index 0 is out of bounds for axis 0 with size 0\n",
      "EYNESBURY, index 0 is out of bounds for axis 0 with size 0\n",
      "MELTON SOUTH, index 0 is out of bounds for axis 0 with size 0\n",
      "STRATHTULLOH, index 0 is out of bounds for axis 0 with size 0\n",
      "WEIR VIEWS, index 0 is out of bounds for axis 0 with size 0\n",
      "BACCHUS MARSH, index 0 is out of bounds for axis 0 with size 0\n",
      "BALLIANG, index 0 is out of bounds for axis 0 with size 0\n",
      "BALLIANG EAST, index 0 is out of bounds for axis 0 with size 0\n",
      "COIMADAI, index 0 is out of bounds for axis 0 with size 0\n",
      "DARLEY, index 0 is out of bounds for axis 0 with size 0\n",
      "GLENMORE, index 0 is out of bounds for axis 0 with size 0\n",
      "HOPETOUN PARK, index 0 is out of bounds for axis 0 with size 0\n",
      "LONG FOREST, index 0 is out of bounds for axis 0 with size 0\n",
      "MADDINGLEY, index 0 is out of bounds for axis 0 with size 0\n",
      "MERRIMU, index 0 is out of bounds for axis 0 with size 0\n",
      "PARWAN, index 0 is out of bounds for axis 0 with size 0\n",
      "ROWSLEY, index 0 is out of bounds for axis 0 with size 0\n",
      "STAUGHTON VALE, index 0 is out of bounds for axis 0 with size 0\n",
      "DALES CREEK, index 0 is out of bounds for axis 0 with size 0\n",
      "GREENDALE, index 0 is out of bounds for axis 0 with size 0\n",
      "KOROBEIT, index 0 is out of bounds for axis 0 with size 0\n",
      "MYRNIONG, index 0 is out of bounds for axis 0 with size 0\n",
      "PENTLAND HILLS, index 0 is out of bounds for axis 0 with size 0\n",
      "BALLAN, index 0 is out of bounds for axis 0 with size 0\n",
      "BEREMBOKE, index 0 is out of bounds for axis 0 with size 0\n",
      "BLAKEVILLE, index 0 is out of bounds for axis 0 with size 0\n",
      "BUNDING, index 0 is out of bounds for axis 0 with size 0\n",
      "COLBROOK, index 0 is out of bounds for axis 0 with size 0\n",
      "DURDIDWARRAH, index 0 is out of bounds for axis 0 with size 0\n",
      "FISKVILLE, index 0 is out of bounds for axis 0 with size 0\n",
      "INGLISTON, index 0 is out of bounds for axis 0 with size 0\n",
      "MOUNT WALLACE, index 0 is out of bounds for axis 0 with size 0\n",
      "GORDON, index 0 is out of bounds for axis 0 with size 0\n",
      "ALFREDTON, index 0 is out of bounds for axis 0 with size 0\n",
      "BAKERY HILL, index 0 is out of bounds for axis 0 with size 0\n",
      "BALLARAT, index 0 is out of bounds for axis 0 with size 0\n",
      "BALLARAT CENTRAL, index 0 is out of bounds for axis 0 with size 0\n",
      "BALLARAT EAST, index 0 is out of bounds for axis 0 with size 0\n",
      "BALLARAT NORTH, index 0 is out of bounds for axis 0 with size 0\n",
      "BALLARAT WEST, index 0 is out of bounds for axis 0 with size 0\n",
      "BLACK HILL, index 0 is out of bounds for axis 0 with size 0\n",
      "BROWN HILL, index 0 is out of bounds for axis 0 with size 0\n",
      "CANADIAN, index 0 is out of bounds for axis 0 with size 0\n",
      "EUREKA, index 0 is out of bounds for axis 0 with size 0\n",
      "GOLDEN POINT, index 0 is out of bounds for axis 0 with size 0\n",
      "INVERMAY PARK, index 0 is out of bounds for axis 0 with size 0\n",
      "LAKE WENDOUREE, index 0 is out of bounds for axis 0 with size 0\n",
      "LUCAS, index 0 is out of bounds for axis 0 with size 0\n",
      "MOUNT CLEAR, index 0 is out of bounds for axis 0 with size 0\n",
      "MOUNT HELEN, index 0 is out of bounds for axis 0 with size 0\n",
      "MOUNT PLEASANT, index 0 is out of bounds for axis 0 with size 0\n",
      "NERRINA, index 0 is out of bounds for axis 0 with size 0\n",
      "NEWINGTON, index 0 is out of bounds for axis 0 with size 0\n",
      "REDAN, index 0 is out of bounds for axis 0 with size 0\n",
      "SOLDIERS HILL, index 0 is out of bounds for axis 0 with size 0\n",
      "SOVEREIGN HILL, index 0 is out of bounds for axis 0 with size 0\n",
      "BERRINGA, index 0 is out of bounds for axis 0 with size 0\n",
      "BO PEEP, index 0 is out of bounds for axis 0 with size 0\n",
      "CAPE CLEAR, index 0 is out of bounds for axis 0 with size 0\n",
      "CARNGHAM, index 0 is out of bounds for axis 0 with size 0\n",
      "CHEPSTOWE, index 0 is out of bounds for axis 0 with size 0\n",
      "HADDON, index 0 is out of bounds for axis 0 with size 0\n",
      "HAPPY VALLEY, index 0 is out of bounds for axis 0 with size 0\n",
      "HILLCREST, index 0 is out of bounds for axis 0 with size 0\n",
      "ILLABAROOK, index 0 is out of bounds for axis 0 with size 0\n",
      "LAKE BOLAC, index 0 is out of bounds for axis 0 with size 0\n",
      "MININERA, index 0 is out of bounds for axis 0 with size 0\n",
      "MORTCHUP, index 0 is out of bounds for axis 0 with size 0\n",
      "MOUNT EMU, index 0 is out of bounds for axis 0 with size 0\n",
      "NERRIN NERRIN, index 0 is out of bounds for axis 0 with size 0\n",
      "NEWTOWN, index 0 is out of bounds for axis 0 with size 0\n",
      "NINTINGBOOL, index 0 is out of bounds for axis 0 with size 0\n",
      "PIGGOREET, index 0 is out of bounds for axis 0 with size 0\n",
      "PITFIELD, index 0 is out of bounds for axis 0 with size 0\n",
      "ROKEWOOD JUNCTION, index 0 is out of bounds for axis 0 with size 0\n",
      "ROSS CREEK, index 0 is out of bounds for axis 0 with size 0\n",
      "SCARSDALE, index 0 is out of bounds for axis 0 with size 0\n",
      "SMYTHES CREEK, index 0 is out of bounds for axis 0 with size 0\n",
      "SMYTHESDALE, index 0 is out of bounds for axis 0 with size 0\n",
      "SNAKE VALLEY, index 0 is out of bounds for axis 0 with size 0\n",
      "SPRINGDALLAH, index 0 is out of bounds for axis 0 with size 0\n",
      "STAFFORDSHIRE REEF, index 0 is out of bounds for axis 0 with size 0\n",
      "STREATHAM, index 0 is out of bounds for axis 0 with size 0\n",
      "WALLINDUC, index 0 is out of bounds for axis 0 with size 0\n",
      "WESTMERE, index 0 is out of bounds for axis 0 with size 0\n",
      "ADDINGTON, index 0 is out of bounds for axis 0 with size 0\n",
      "BALLARAT ROADSIDE DELIVERY, index 0 is out of bounds for axis 0 with size 0\n",
      "BARKSTEAD, index 0 is out of bounds for axis 0 with size 0\n",
      "BLOWHARD, index 0 is out of bounds for axis 0 with size 0\n",
      "BOLWARRAH, index 0 is out of bounds for axis 0 with size 0\n",
      "BONSHAW, index 0 is out of bounds for axis 0 with size 0\n",
      "BREWSTER, index 0 is out of bounds for axis 0 with size 0\n",
      "BULLAROOK, index 0 is out of bounds for axis 0 with size 0\n",
      "BUNGAREE, index 0 is out of bounds for axis 0 with size 0\n",
      "BUNKERS HILL, index 0 is out of bounds for axis 0 with size 0\n",
      "BURRUMBEET, index 0 is out of bounds for axis 0 with size 0\n",
      "CAMBRIAN HILL, index 0 is out of bounds for axis 0 with size 0\n",
      "CARDIGAN, index 0 is out of bounds for axis 0 with size 0\n",
      "CARDIGAN VILLAGE, index 0 is out of bounds for axis 0 with size 0\n",
      "CHAPEL FLAT, index 0 is out of bounds for axis 0 with size 0\n",
      "CLARENDON, index 0 is out of bounds for axis 0 with size 0\n",
      "CLARETOWN, index 0 is out of bounds for axis 0 with size 0\n",
      "CLARKES HILL, index 0 is out of bounds for axis 0 with size 0\n",
      "CORINDHAP, index 0 is out of bounds for axis 0 with size 0\n"
     ]
    },
    {
     "name": "stderr",
     "output_type": "stream",
     "text": [
      "/Users/matthewrush/virtualenv/lib/python3.10/site-packages/pyrosm/pyrosm.py:576: UserWarning: Could not find any POIs for given area.\n",
      "  gdf = get_poi_data(\n"
     ]
    },
    {
     "name": "stdout",
     "output_type": "stream",
     "text": [
      "DEAN, 'NoneType' object is not subscriptable\n",
      "DEREEL, index 0 is out of bounds for axis 0 with size 0\n",
      "DUNNSTOWN, index 0 is out of bounds for axis 0 with size 0\n",
      "DURHAM LEAD, index 0 is out of bounds for axis 0 with size 0\n",
      "ENFIELD, index 0 is out of bounds for axis 0 with size 0\n",
      "ERCILDOUNE, index 0 is out of bounds for axis 0 with size 0\n",
      "GARIBALDI, index 0 is out of bounds for axis 0 with size 0\n",
      "GLEN PARK, index 0 is out of bounds for axis 0 with size 0\n",
      "GLENBRAE, index 0 is out of bounds for axis 0 with size 0\n",
      "GONG GONG, index 0 is out of bounds for axis 0 with size 0\n",
      "GRENVILLE, index 0 is out of bounds for axis 0 with size 0\n",
      "INVERMAY, index 0 is out of bounds for axis 0 with size 0\n",
      "LAL LAL, index 0 is out of bounds for axis 0 with size 0\n",
      "LAMPLOUGH, index 0 is out of bounds for axis 0 with size 0\n",
      "LANGI KAL KAL, index 0 is out of bounds for axis 0 with size 0\n",
      "LEARMONTH, index 0 is out of bounds for axis 0 with size 0\n",
      "LEIGH CREEK, index 0 is out of bounds for axis 0 with size 0\n",
      "LEXTON, index 0 is out of bounds for axis 0 with size 0\n",
      "MAGPIE, index 0 is out of bounds for axis 0 with size 0\n",
      "MILLBROOK, index 0 is out of bounds for axis 0 with size 0\n",
      "MINERS REST, index 0 is out of bounds for axis 0 with size 0\n",
      "MITCHELL PARK, index 0 is out of bounds for axis 0 with size 0\n",
      "MOLLONGGHIP, index 0 is out of bounds for axis 0 with size 0\n",
      "MOUNT BOLTON, index 0 is out of bounds for axis 0 with size 0\n",
      "MOUNT EGERTON, index 0 is out of bounds for axis 0 with size 0\n",
      "MOUNT MERCER, index 0 is out of bounds for axis 0 with size 0\n",
      "MOUNT MITCHELL, index 0 is out of bounds for axis 0 with size 0\n",
      "MOUNT ROWAN, index 0 is out of bounds for axis 0 with size 0\n",
      "NAPOLEONS, index 0 is out of bounds for axis 0 with size 0\n",
      "NAVIGATORS, index 0 is out of bounds for axis 0 with size 0\n",
      "POOTILLA, index 0 is out of bounds for axis 0 with size 0\n",
      "SCOTCHMANS LEAD, index 0 is out of bounds for axis 0 with size 0\n",
      "SCOTSBURN, index 0 is out of bounds for axis 0 with size 0\n",
      "SPRINGBANK, index 0 is out of bounds for axis 0 with size 0\n",
      "SULKY, index 0 is out of bounds for axis 0 with size 0\n",
      "WALLACE, index 0 is out of bounds for axis 0 with size 0\n",
      "WARRENHEIP, index 0 is out of bounds for axis 0 with size 0\n",
      "WATTLE FLAT, index 0 is out of bounds for axis 0 with size 0\n",
      "WAUBRA, index 0 is out of bounds for axis 0 with size 0\n",
      "WEATHERBOARD, index 0 is out of bounds for axis 0 with size 0\n",
      "WERNETH, index 0 is out of bounds for axis 0 with size 0\n",
      "WINDERMERE, index 0 is out of bounds for axis 0 with size 0\n",
      "YENDON, index 0 is out of bounds for axis 0 with size 0\n",
      "LAKE GARDENS, index 0 is out of bounds for axis 0 with size 0\n",
      "MITCHELL PARK, index 0 is out of bounds for axis 0 with size 0\n",
      "WENDOUREE, index 0 is out of bounds for axis 0 with size 0\n",
      "WENDOUREE VILLAGE, index 0 is out of bounds for axis 0 with size 0\n",
      "BONSHAW, index 0 is out of bounds for axis 0 with size 0\n",
      "DELACOMBE, index 0 is out of bounds for axis 0 with size 0\n",
      "SEBASTOPOL, index 0 is out of bounds for axis 0 with size 0\n",
      "BUNINYONG, index 0 is out of bounds for axis 0 with size 0\n",
      "SCOTSMANS LEAD, index 0 is out of bounds for axis 0 with size 0\n",
      "YARROWEE, index 0 is out of bounds for axis 0 with size 0\n",
      "BRADVALE, index 0 is out of bounds for axis 0 with size 0\n",
      "CARRANBALLAC, index 0 is out of bounds for axis 0 with size 0\n",
      "SKIPTON, index 0 is out of bounds for axis 0 with size 0\n",
      "CRESWICK, index 0 is out of bounds for axis 0 with size 0\n",
      "CRESWICK NORTH, index 0 is out of bounds for axis 0 with size 0\n"
     ]
    },
    {
     "name": "stderr",
     "output_type": "stream",
     "text": [
      "/Users/matthewrush/virtualenv/lib/python3.10/site-packages/pyrosm/pyrosm.py:576: UserWarning: Could not find any POIs for given area.\n",
      "  gdf = get_poi_data(\n"
     ]
    },
    {
     "name": "stdout",
     "output_type": "stream",
     "text": [
      "DEAN, 'NoneType' object is not subscriptable\n",
      "GLENDARUEL, index 0 is out of bounds for axis 0 with size 0\n",
      "LANGDONS HILL, index 0 is out of bounds for axis 0 with size 0\n",
      "MOUNT BECKWORTH, index 0 is out of bounds for axis 0 with size 0\n",
      "TOURELLO, index 0 is out of bounds for axis 0 with size 0\n",
      "BEAUFORT, index 0 is out of bounds for axis 0 with size 0\n",
      "CHUTE, index 0 is out of bounds for axis 0 with size 0\n",
      "CROSS ROADS, index 0 is out of bounds for axis 0 with size 0\n",
      "LAKE GOLDSMITH, index 0 is out of bounds for axis 0 with size 0\n",
      "LAKE WONGAN, index 0 is out of bounds for axis 0 with size 0\n",
      "MAIN LEAD, index 0 is out of bounds for axis 0 with size 0\n",
      "MENA PARK, index 0 is out of bounds for axis 0 with size 0\n",
      "NERRING, index 0 is out of bounds for axis 0 with size 0\n",
      "RAGLAN, index 0 is out of bounds for axis 0 with size 0\n",
      "SHIRLEY, index 0 is out of bounds for axis 0 with size 0\n",
      "STOCKYARD HILL, index 0 is out of bounds for axis 0 with size 0\n",
      "STONELEIGH, index 0 is out of bounds for axis 0 with size 0\n",
      "TRAWALLA, index 0 is out of bounds for axis 0 with size 0\n",
      "WATERLOO, index 0 is out of bounds for axis 0 with size 0\n",
      "GREAT WESTERN, index 0 is out of bounds for axis 0 with size 0\n",
      "AMPHITHEATRE, index 0 is out of bounds for axis 0 with size 0\n",
      "ARARAT, index 0 is out of bounds for axis 0 with size 0\n",
      "ARARAT EAST, index 0 is out of bounds for axis 0 with size 0\n",
      "ARMSTRONG, index 0 is out of bounds for axis 0 with size 0\n",
      "BEN NEVIS, index 0 is out of bounds for axis 0 with size 0\n",
      "BULGANA, index 0 is out of bounds for axis 0 with size 0\n",
      "CATHCART, index 0 is out of bounds for axis 0 with size 0\n",
      "CROWLANDS, index 0 is out of bounds for axis 0 with size 0\n",
      "DENICULL CREEK, index 0 is out of bounds for axis 0 with size 0\n",
      "DOBIE, index 0 is out of bounds for axis 0 with size 0\n",
      "DUNNEWORTHY, index 0 is out of bounds for axis 0 with size 0\n",
      "EVERSLEY, index 0 is out of bounds for axis 0 with size 0\n",
      "GREAT WESTERN, index 0 is out of bounds for axis 0 with size 0\n",
      "JALLUKUR, index 0 is out of bounds for axis 0 with size 0\n",
      "LANGI LOGAN, index 0 is out of bounds for axis 0 with size 0\n",
      "MAROONA, index 0 is out of bounds for axis 0 with size 0\n",
      "MOUNT COLE, index 0 is out of bounds for axis 0 with size 0\n",
      "MOUNT COLE CREEK, index 0 is out of bounds for axis 0 with size 0\n",
      "MOUNT LONARCH, index 0 is out of bounds for axis 0 with size 0\n",
      "MOYSTON, index 0 is out of bounds for axis 0 with size 0\n",
      "NORVAL, index 0 is out of bounds for axis 0 with size 0\n",
      "RHYMNEY, index 0 is out of bounds for axis 0 with size 0\n",
      "ROCKY POINT, index 0 is out of bounds for axis 0 with size 0\n",
      "ROSSBRIDGE, index 0 is out of bounds for axis 0 with size 0\n",
      "SHAYS FLAT, index 0 is out of bounds for axis 0 with size 0\n",
      "WARRAK, index 0 is out of bounds for axis 0 with size 0\n",
      "BELLELLEN, index 0 is out of bounds for axis 0 with size 0\n",
      "BRIDGE INN, index 0 is out of bounds for axis 0 with size 0\n",
      "MOKEPILLY, index 0 is out of bounds for axis 0 with size 0\n",
      "STAWELL, index 0 is out of bounds for axis 0 with size 0\n",
      "STAWELL WEST, index 0 is out of bounds for axis 0 with size 0\n",
      "WINJALLOK, index 0 is out of bounds for axis 0 with size 0\n",
      "KEWELL, index 0 is out of bounds for axis 0 with size 0\n",
      "MURTOA, index 0 is out of bounds for axis 0 with size 0\n",
      "AILSA, index 0 is out of bounds for axis 0 with size 0\n",
      "ANGIP, index 0 is out of bounds for axis 0 with size 0\n",
      "AUBREY, index 0 is out of bounds for axis 0 with size 0\n",
      "BANGERANG, index 0 is out of bounds for axis 0 with size 0\n",
      "CANNUM, index 0 is out of bounds for axis 0 with size 0\n",
      "CRYMELON, index 0 is out of bounds for axis 0 with size 0\n",
      "KELLALAC, index 0 is out of bounds for axis 0 with size 0\n",
      "LAH, index 0 is out of bounds for axis 0 with size 0\n",
      "WARRACKNABEAL, index 0 is out of bounds for axis 0 with size 0\n",
      "WILKUR, index 0 is out of bounds for axis 0 with size 0\n",
      "WILLENABRINA, index 0 is out of bounds for axis 0 with size 0\n",
      "HOPETOUN, index 0 is out of bounds for axis 0 with size 0\n",
      "HOPEVALE, index 0 is out of bounds for axis 0 with size 0\n",
      "YARTO, index 0 is out of bounds for axis 0 with size 0\n",
      "BRIMPAEN, index 0 is out of bounds for axis 0 with size 0\n",
      "HORSHAM, index 0 is out of bounds for axis 0 with size 0\n",
      "HORSHAM WEST, index 0 is out of bounds for axis 0 with size 0\n",
      "ST HELENS PLAINS, index 0 is out of bounds for axis 0 with size 0\n",
      "WARTOOK, index 0 is out of bounds for axis 0 with size 0\n",
      "WONWONDAH EAST, index 0 is out of bounds for axis 0 with size 0\n",
      "WONWONDAH SOUTH, index 0 is out of bounds for axis 0 with size 0\n",
      "ARAPILES, index 0 is out of bounds for axis 0 with size 0\n",
      "CLEAR LAKE, index 0 is out of bounds for axis 0 with size 0\n",
      "DOUGLAS, index 0 is out of bounds for axis 0 with size 0\n",
      "DUCHEMBEGARRA, index 0 is out of bounds for axis 0 with size 0\n",
      "GRASS FLAT, index 0 is out of bounds for axis 0 with size 0\n",
      "JILPANGER, index 0 is out of bounds for axis 0 with size 0\n",
      "MIGA LAKE, index 0 is out of bounds for axis 0 with size 0\n",
      "MITRE, index 0 is out of bounds for axis 0 with size 0\n",
      "NATIMUK, index 0 is out of bounds for axis 0 with size 0\n",
      "NORADJUHA, index 0 is out of bounds for axis 0 with size 0\n",
      "TOOAN, index 0 is out of bounds for axis 0 with size 0\n",
      "WOMBELANO, index 0 is out of bounds for axis 0 with size 0\n",
      "BROUGHTON, index 0 is out of bounds for axis 0 with size 0\n",
      "GERANG GERUNG, index 0 is out of bounds for axis 0 with size 0\n",
      "GLENLEE, index 0 is out of bounds for axis 0 with size 0\n",
      "KIATA, index 0 is out of bounds for axis 0 with size 0\n",
      "LAWLOIT, index 0 is out of bounds for axis 0 with size 0\n",
      "LITTLE DESERT, index 0 is out of bounds for axis 0 with size 0\n",
      "LORQUON, index 0 is out of bounds for axis 0 with size 0\n",
      "NETHERBY, index 0 is out of bounds for axis 0 with size 0\n",
      "NHILL, index 0 is out of bounds for axis 0 with size 0\n",
      "YANAC, index 0 is out of bounds for axis 0 with size 0\n"
     ]
    },
    {
     "name": "stderr",
     "output_type": "stream",
     "text": [
      "/Users/matthewrush/virtualenv/lib/python3.10/site-packages/pyrosm/pyrosm.py:576: ShapelyDeprecationWarning: The array interface is deprecated and will no longer work in Shapely 2.0. Convert the '.coords' to a numpy array instead.\n",
      "  gdf = get_poi_data(\n"
     ]
    },
    {
     "name": "stdout",
     "output_type": "stream",
     "text": [
      "DIGGERS REST, 'NoneType' object is not subscriptable\n"
     ]
    },
    {
     "name": "stderr",
     "output_type": "stream",
     "text": [
      "/Users/matthewrush/virtualenv/lib/python3.10/site-packages/pyrosm/pyrosm.py:576: UserWarning: Could not find any POIs for given area.\n",
      "  gdf = get_poi_data(\n"
     ]
    },
    {
     "name": "stdout",
     "output_type": "stream",
     "text": [
      "PLUMPTON, 'NoneType' object is not subscriptable\n"
     ]
    },
    {
     "name": "stderr",
     "output_type": "stream",
     "text": [
      "/Users/matthewrush/virtualenv/lib/python3.10/site-packages/pyrosm/pyrosm.py:576: UserWarning: Could not find any POIs for given area.\n",
      "  gdf = get_poi_data(\n"
     ]
    },
    {
     "name": "stdout",
     "output_type": "stream",
     "text": [
      "BULLA, 'NoneType' object is not subscriptable\n"
     ]
    },
    {
     "name": "stderr",
     "output_type": "stream",
     "text": [
      "/Users/matthewrush/virtualenv/lib/python3.10/site-packages/pyrosm/pyrosm.py:576: ShapelyDeprecationWarning: The array interface is deprecated and will no longer work in Shapely 2.0. Convert the '.coords' to a numpy array instead.\n",
      "  gdf = get_poi_data(\n",
      "/Users/matthewrush/virtualenv/lib/python3.10/site-packages/pyrosm/pyrosm.py:576: UserWarning: Could not find any POIs for given area.\n",
      "  gdf = get_poi_data(\n"
     ]
    },
    {
     "name": "stdout",
     "output_type": "stream",
     "text": [
      "WILDWOOD, 'NoneType' object is not subscriptable\n",
      "RIDDELLS CREEK, index 0 is out of bounds for axis 0 with size 0\n",
      "MONEGEETTA, index 0 is out of bounds for axis 0 with size 0\n",
      "CHEROKEE, index 0 is out of bounds for axis 0 with size 0\n",
      "KERRIE, index 0 is out of bounds for axis 0 with size 0\n",
      "ROMSEY, index 0 is out of bounds for axis 0 with size 0\n",
      "SPRINGFIELD, index 0 is out of bounds for axis 0 with size 0\n",
      "BENLOCH, index 0 is out of bounds for axis 0 with size 0\n",
      "GOLDIE, index 0 is out of bounds for axis 0 with size 0\n",
      "LANCEFIELD, index 0 is out of bounds for axis 0 with size 0\n",
      "NULLA VALE, index 0 is out of bounds for axis 0 with size 0\n",
      "BULLENGAROOK, index 0 is out of bounds for axis 0 with size 0\n",
      "GISBORNE, index 0 is out of bounds for axis 0 with size 0\n",
      "GISBORNE SOUTH, index 0 is out of bounds for axis 0 with size 0\n",
      "NEW GISBORNE, index 0 is out of bounds for axis 0 with size 0\n",
      "MOUNT MACEDON, index 0 is out of bounds for axis 0 with size 0\n",
      "ASHBOURNE, index 0 is out of bounds for axis 0 with size 0\n",
      "CADELLO, index 0 is out of bounds for axis 0 with size 0\n",
      "CARLSRUHE, index 0 is out of bounds for axis 0 with size 0\n",
      "COBAW, index 0 is out of bounds for axis 0 with size 0\n",
      "HANGING ROCK, index 0 is out of bounds for axis 0 with size 0\n",
      "HESKET, index 0 is out of bounds for axis 0 with size 0\n",
      "NEWHAM, index 0 is out of bounds for axis 0 with size 0\n",
      "ROCHFORD, index 0 is out of bounds for axis 0 with size 0\n",
      "WOODEND, index 0 is out of bounds for axis 0 with size 0\n",
      "WOODEND NORTH, index 0 is out of bounds for axis 0 with size 0\n",
      "BARFOLD, index 0 is out of bounds for axis 0 with size 0\n",
      "BAYNTON, index 0 is out of bounds for axis 0 with size 0\n",
      "BAYNTON EAST, index 0 is out of bounds for axis 0 with size 0\n",
      "EDGECOMBE, index 0 is out of bounds for axis 0 with size 0\n",
      "GLENHOPE, index 0 is out of bounds for axis 0 with size 0\n",
      "GREENHILL, index 0 is out of bounds for axis 0 with size 0\n",
      "KYNETON, index 0 is out of bounds for axis 0 with size 0\n",
      "KYNETON SOUTH, index 0 is out of bounds for axis 0 with size 0\n",
      "LANGLEY, index 0 is out of bounds for axis 0 with size 0\n",
      "LAURISTON, index 0 is out of bounds for axis 0 with size 0\n",
      "LYAL, index 0 is out of bounds for axis 0 with size 0\n",
      "METCALFE EAST, index 0 is out of bounds for axis 0 with size 0\n",
      "MIA MIA, index 0 is out of bounds for axis 0 with size 0\n",
      "MYRTLE CREEK, index 0 is out of bounds for axis 0 with size 0\n",
      "PASTORIA, index 0 is out of bounds for axis 0 with size 0\n",
      "PASTORIA EAST, index 0 is out of bounds for axis 0 with size 0\n",
      "PIPERS CREEK, index 0 is out of bounds for axis 0 with size 0\n",
      "REDESDALE, index 0 is out of bounds for axis 0 with size 0\n",
      "SIDONIA, index 0 is out of bounds for axis 0 with size 0\n",
      "SPRING HILL, index 0 is out of bounds for axis 0 with size 0\n",
      "TYLDEN, index 0 is out of bounds for axis 0 with size 0\n",
      "TYLDEN SOUTH, index 0 is out of bounds for axis 0 with size 0\n",
      "TARADALE, index 0 is out of bounds for axis 0 with size 0\n",
      "CASTLEMAINE, index 0 is out of bounds for axis 0 with size 0\n",
      "MOONLIGHT FLAT, index 0 is out of bounds for axis 0 with size 0\n",
      "BARKERS CREEK, index 0 is out of bounds for axis 0 with size 0\n",
      "CAMPBELLS CREEK, index 0 is out of bounds for axis 0 with size 0\n",
      "CHEWTON, index 0 is out of bounds for axis 0 with size 0\n",
      "CHEWTON BUSHLANDS, index 0 is out of bounds for axis 0 with size 0\n",
      "FARADAY, index 0 is out of bounds for axis 0 with size 0\n",
      "FRYERSTOWN, index 0 is out of bounds for axis 0 with size 0\n",
      "GLENLUCE, index 0 is out of bounds for axis 0 with size 0\n",
      "GOLDEN POINT, index 0 is out of bounds for axis 0 with size 0\n",
      "GOWER, index 0 is out of bounds for axis 0 with size 0\n",
      "GUILDFORD, index 0 is out of bounds for axis 0 with size 0\n",
      "IRISHTOWN, index 0 is out of bounds for axis 0 with size 0\n",
      "MCKENZIE HILL, index 0 is out of bounds for axis 0 with size 0\n",
      "MUCKLEFORD, index 0 is out of bounds for axis 0 with size 0\n",
      "TARILTA, index 0 is out of bounds for axis 0 with size 0\n",
      "VAUGHAN, index 0 is out of bounds for axis 0 with size 0\n",
      "WOODBROOK, index 0 is out of bounds for axis 0 with size 0\n",
      "YAPEEN, index 0 is out of bounds for axis 0 with size 0\n",
      "BARRYS REEF, index 0 is out of bounds for axis 0 with size 0\n",
      "BLACKWOOD, index 0 is out of bounds for axis 0 with size 0\n",
      "FERN HILL, index 0 is out of bounds for axis 0 with size 0\n",
      "LERDERDERG, index 0 is out of bounds for axis 0 with size 0\n",
      "LITTLE HAMPTON, index 0 is out of bounds for axis 0 with size 0\n",
      "NEWBURY, index 0 is out of bounds for axis 0 with size 0\n",
      "NORTH BLACKWOOD, index 0 is out of bounds for axis 0 with size 0\n",
      "TRENTHAM, index 0 is out of bounds for axis 0 with size 0\n",
      "TRENTHAM EAST, index 0 is out of bounds for axis 0 with size 0\n",
      "BASALT, index 0 is out of bounds for axis 0 with size 0\n",
      "DAYLESFORD, index 0 is out of bounds for axis 0 with size 0\n",
      "BULLARTO, index 0 is out of bounds for axis 0 with size 0\n",
      "BULLARTO SOUTH, index 0 is out of bounds for axis 0 with size 0\n",
      "CLYDESDALE, index 0 is out of bounds for axis 0 with size 0\n",
      "COOMOORA, index 0 is out of bounds for axis 0 with size 0\n",
      "DENVER, index 0 is out of bounds for axis 0 with size 0\n",
      "DRUMMOND, index 0 is out of bounds for axis 0 with size 0\n",
      "DRY DIGGINGS, index 0 is out of bounds for axis 0 with size 0\n",
      "EGANSTOWN, index 0 is out of bounds for axis 0 with size 0\n",
      "ELEVATED PLAINS, index 0 is out of bounds for axis 0 with size 0\n",
      "FRANKLINFORD, index 0 is out of bounds for axis 0 with size 0\n",
      "GLENLYON, index 0 is out of bounds for axis 0 with size 0\n",
      "HEPBURN, index 0 is out of bounds for axis 0 with size 0\n",
      "HEPBURN SPRINGS, index 0 is out of bounds for axis 0 with size 0\n",
      "KORWEINGUBOORA, index 0 is out of bounds for axis 0 with size 0\n",
      "LEONARDS HILL, index 0 is out of bounds for axis 0 with size 0\n",
      "LYONVILLE, index 0 is out of bounds for axis 0 with size 0\n",
      "MOUNT FRANKLIN, index 0 is out of bounds for axis 0 with size 0\n",
      "MUSK, index 0 is out of bounds for axis 0 with size 0\n",
      "MUSK VALE, index 0 is out of bounds for axis 0 with size 0\n",
      "PORCUPINE RIDGE, index 0 is out of bounds for axis 0 with size 0\n",
      "SAILORS FALLS, index 0 is out of bounds for axis 0 with size 0\n",
      "SAILORS HILL, index 0 is out of bounds for axis 0 with size 0\n",
      "SHEPHERDS FLAT, index 0 is out of bounds for axis 0 with size 0\n",
      "SPARGO CREEK, index 0 is out of bounds for axis 0 with size 0\n",
      "STRANGWAYS, index 0 is out of bounds for axis 0 with size 0\n",
      "WHEATSHEAF, index 0 is out of bounds for axis 0 with size 0\n",
      "YANDOIT, index 0 is out of bounds for axis 0 with size 0\n",
      "YANDOIT HILLS, index 0 is out of bounds for axis 0 with size 0\n",
      "BARINGHUP, index 0 is out of bounds for axis 0 with size 0\n",
      "BARINGHUP WEST, index 0 is out of bounds for axis 0 with size 0\n",
      "BRADFORD, index 0 is out of bounds for axis 0 with size 0\n",
      "EASTVILLE, index 0 is out of bounds for axis 0 with size 0\n",
      "GOWER, index 0 is out of bounds for axis 0 with size 0\n",
      "LAANECOORIE, index 0 is out of bounds for axis 0 with size 0\n",
      "MALDON, index 0 is out of bounds for axis 0 with size 0\n",
      "NEEREMAN, index 0 is out of bounds for axis 0 with size 0\n",
      "NUGGETTY, index 0 is out of bounds for axis 0 with size 0\n",
      "PERKINS REEF, index 0 is out of bounds for axis 0 with size 0\n",
      "PORCUPINE FLAT, index 0 is out of bounds for axis 0 with size 0\n",
      "SHELBOURNE, index 0 is out of bounds for axis 0 with size 0\n",
      "TARRENGOWER, index 0 is out of bounds for axis 0 with size 0\n",
      "WALMER, index 0 is out of bounds for axis 0 with size 0\n",
      "WOODSTOCK WEST, index 0 is out of bounds for axis 0 with size 0\n",
      "ADELAIDE LEAD, index 0 is out of bounds for axis 0 with size 0\n",
      "ALMA, index 0 is out of bounds for axis 0 with size 0\n",
      "BOWENVALE, index 0 is out of bounds for axis 0 with size 0\n",
      "BUNG BONG, index 0 is out of bounds for axis 0 with size 0\n",
      "COTSWOLD, index 0 is out of bounds for axis 0 with size 0\n"
     ]
    },
    {
     "name": "stderr",
     "output_type": "stream",
     "text": [
      "/Users/matthewrush/virtualenv/lib/python3.10/site-packages/pyrosm/pyrosm.py:576: ShapelyDeprecationWarning: The array interface is deprecated and will no longer work in Shapely 2.0. Convert the '.coords' to a numpy array instead.\n",
      "  gdf = get_poi_data(\n"
     ]
    },
    {
     "name": "stdout",
     "output_type": "stream",
     "text": [
      "DAISY HILL, index 0 is out of bounds for axis 0 with size 0\n",
      "FLAGSTAFF, index 0 is out of bounds for axis 0 with size 0\n",
      "GOLDEN POINT, index 0 is out of bounds for axis 0 with size 0\n",
      "HAVELOCK, index 0 is out of bounds for axis 0 with size 0\n",
      "HOMEBUSH, index 0 is out of bounds for axis 0 with size 0\n",
      "MAJORCA, index 0 is out of bounds for axis 0 with size 0\n",
      "MARYBOROUGH, index 0 is out of bounds for axis 0 with size 0\n",
      "MOOLORT, index 0 is out of bounds for axis 0 with size 0\n",
      "MOONLIGHT FLAT, index 0 is out of bounds for axis 0 with size 0\n",
      "NATTE YALLOCK, index 0 is out of bounds for axis 0 with size 0\n",
      "RATHSCAR, index 0 is out of bounds for axis 0 with size 0\n",
      "RATHSCAR WEST, index 0 is out of bounds for axis 0 with size 0\n",
      "RODBOROUGH, index 0 is out of bounds for axis 0 with size 0\n",
      "SIMSON, index 0 is out of bounds for axis 0 with size 0\n",
      "TIMOR, index 0 is out of bounds for axis 0 with size 0\n",
      "TIMOR WEST, index 0 is out of bounds for axis 0 with size 0\n",
      "WAREEK, index 0 is out of bounds for axis 0 with size 0\n",
      "AVON PLAINS, index 0 is out of bounds for axis 0 with size 0\n",
      "BEAZLEYS BRIDGE, index 0 is out of bounds for axis 0 with size 0\n",
      "BERRIMAL WEST, index 0 is out of bounds for axis 0 with size 0\n",
      "CARAPOOEE, index 0 is out of bounds for axis 0 with size 0\n",
      "CARAPOOEE WEST, index 0 is out of bounds for axis 0 with size 0\n",
      "COONOOER BRIDGE, index 0 is out of bounds for axis 0 with size 0\n",
      "COONOOER WEST, index 0 is out of bounds for axis 0 with size 0\n",
      "DARKBONEE, index 0 is out of bounds for axis 0 with size 0\n",
      "DOOBOOBETIC, index 0 is out of bounds for axis 0 with size 0\n",
      "ELBERTON, index 0 is out of bounds for axis 0 with size 0\n",
      "GOOROC, index 0 is out of bounds for axis 0 with size 0\n",
      "GOWAR EAST, index 0 is out of bounds for axis 0 with size 0\n",
      "GRE GRE, index 0 is out of bounds for axis 0 with size 0\n",
      "GRE GRE NORTH, index 0 is out of bounds for axis 0 with size 0\n",
      "GRE GRE SOUTH, index 0 is out of bounds for axis 0 with size 0\n",
      "KOOREH, index 0 is out of bounds for axis 0 with size 0\n",
      "MEDLYN, index 0 is out of bounds for axis 0 with size 0\n",
      "MITCHELLS HILL, index 0 is out of bounds for axis 0 with size 0\n",
      "MOOLERR, index 0 is out of bounds for axis 0 with size 0\n",
      "MOONAMBEL, index 0 is out of bounds for axis 0 with size 0\n",
      "PERCYDALE, index 0 is out of bounds for axis 0 with size 0\n",
      "REDBANK, index 0 is out of bounds for axis 0 with size 0\n",
      "SLATY CREEK, index 0 is out of bounds for axis 0 with size 0\n",
      "ST ARNAUD, index 0 is out of bounds for axis 0 with size 0\n",
      "ST ARNAUD EAST, index 0 is out of bounds for axis 0 with size 0\n",
      "ST ARNAUD NORTH, index 0 is out of bounds for axis 0 with size 0\n",
      "STUART MILL, index 0 is out of bounds for axis 0 with size 0\n",
      "SUTHERLAND, index 0 is out of bounds for axis 0 with size 0\n",
      "SWANWATER, index 0 is out of bounds for axis 0 with size 0\n",
      "TANWOOD, index 0 is out of bounds for axis 0 with size 0\n",
      "TOTTINGTON, index 0 is out of bounds for axis 0 with size 0\n",
      "TRAYNORS LAGOON, index 0 is out of bounds for axis 0 with size 0\n",
      "TULKARA, index 0 is out of bounds for axis 0 with size 0\n",
      "WARRENMANG, index 0 is out of bounds for axis 0 with size 0\n",
      "YAWONG HILLS, index 0 is out of bounds for axis 0 with size 0\n",
      "AREEGRA, index 0 is out of bounds for axis 0 with size 0\n",
      "BANYENONG, index 0 is out of bounds for axis 0 with size 0\n",
      "BOOLITE, index 0 is out of bounds for axis 0 with size 0\n",
      "CARRON, index 0 is out of bounds for axis 0 with size 0\n",
      "COPE COPE, index 0 is out of bounds for axis 0 with size 0\n",
      "CORACK, index 0 is out of bounds for axis 0 with size 0\n",
      "CORACK EAST, index 0 is out of bounds for axis 0 with size 0\n",
      "DONALD, index 0 is out of bounds for axis 0 with size 0\n",
      "GIL GIL, index 0 is out of bounds for axis 0 with size 0\n",
      "JEFFCOTT, index 0 is out of bounds for axis 0 with size 0\n",
      "JEFFCOTT NORTH, index 0 is out of bounds for axis 0 with size 0\n",
      "LAEN, index 0 is out of bounds for axis 0 with size 0\n",
      "LAEN EAST, index 0 is out of bounds for axis 0 with size 0\n",
      "LAEN NORTH, index 0 is out of bounds for axis 0 with size 0\n",
      "LAKE BULOKE, index 0 is out of bounds for axis 0 with size 0\n",
      "LAWLER, index 0 is out of bounds for axis 0 with size 0\n",
      "LITCHFIELD, index 0 is out of bounds for axis 0 with size 0\n",
      "RICH AVON, index 0 is out of bounds for axis 0 with size 0\n",
      "RICH AVON EAST, index 0 is out of bounds for axis 0 with size 0\n",
      "RICH AVON WEST, index 0 is out of bounds for axis 0 with size 0\n",
      "SWANWATER WEST, index 0 is out of bounds for axis 0 with size 0\n",
      "MASSEY, index 0 is out of bounds for axis 0 with size 0\n",
      "MORTON PLAINS, index 0 is out of bounds for axis 0 with size 0\n",
      "WARMUR, index 0 is out of bounds for axis 0 with size 0\n",
      "WATCHEM, index 0 is out of bounds for axis 0 with size 0\n",
      "WATCHEM WEST, index 0 is out of bounds for axis 0 with size 0\n",
      "BIG DESERT, index 0 is out of bounds for axis 0 with size 0\n",
      "BOINKA, index 0 is out of bounds for axis 0 with size 0\n",
      "KULWIN, index 0 is out of bounds for axis 0 with size 0\n",
      "MITTYACK, index 0 is out of bounds for axis 0 with size 0\n",
      "MURRAY-SUNSET, index 0 is out of bounds for axis 0 with size 0\n",
      "OUYEN, index 0 is out of bounds for axis 0 with size 0\n",
      "TORRITA, index 0 is out of bounds for axis 0 with size 0\n",
      "TUTYE, index 0 is out of bounds for axis 0 with size 0\n",
      "CARDROSS, index 0 is out of bounds for axis 0 with size 0\n",
      "CULLULLERAINE, index 0 is out of bounds for axis 0 with size 0\n",
      "LINDSAY POINT, index 0 is out of bounds for axis 0 with size 0\n",
      "MERINGUR, index 0 is out of bounds for axis 0 with size 0\n",
      "MERRINEE, index 0 is out of bounds for axis 0 with size 0\n",
      "MURRAY LOCK NO 9, index 0 is out of bounds for axis 0 with size 0\n",
      "NEDS CORNER, index 0 is out of bounds for axis 0 with size 0\n",
      "RED CLIFFS, index 0 is out of bounds for axis 0 with size 0\n",
      "SUNNYCLIFFS, index 0 is out of bounds for axis 0 with size 0\n",
      "WERRIMULL, index 0 is out of bounds for axis 0 with size 0\n",
      "IRYMPLE, index 0 is out of bounds for axis 0 with size 0\n",
      "MILDURA, index 0 is out of bounds for axis 0 with size 0\n",
      "MILDURA EAST, index 0 is out of bounds for axis 0 with size 0\n",
      "MILDURA WEST, index 0 is out of bounds for axis 0 with size 0\n",
      "PARINGI, index 0 is out of bounds for axis 0 with size 0\n",
      "HATTAH, index 0 is out of bounds for axis 0 with size 0\n",
      "KOORLONG, index 0 is out of bounds for axis 0 with size 0\n",
      "MILDURA CENTRE PLAZA, index 0 is out of bounds for axis 0 with size 0\n",
      "MILDURA SOUTH, index 0 is out of bounds for axis 0 with size 0\n",
      "NICHOLS POINT, index 0 is out of bounds for axis 0 with size 0\n",
      "BEARS LAGOON, index 0 is out of bounds for axis 0 with size 0\n",
      "BRENANAH, index 0 is out of bounds for axis 0 with size 0\n",
      "BULLABUL, index 0 is out of bounds for axis 0 with size 0\n",
      "GLENALBYN, index 0 is out of bounds for axis 0 with size 0\n",
      "INGLEWOOD, index 0 is out of bounds for axis 0 with size 0\n",
      "JARKLIN, index 0 is out of bounds for axis 0 with size 0\n",
      "KINGOWER, index 0 is out of bounds for axis 0 with size 0\n",
      "KURTING, index 0 is out of bounds for axis 0 with size 0\n",
      "POWLETT PLAINS, index 0 is out of bounds for axis 0 with size 0\n",
      "RHEOLA, index 0 is out of bounds for axis 0 with size 0\n",
      "SALISBURY WEST, index 0 is out of bounds for axis 0 with size 0\n",
      "SERPENTINE, index 0 is out of bounds for axis 0 with size 0\n",
      "ARGYLE, index 0 is out of bounds for axis 0 with size 0\n",
      "COSTERFIELD, index 0 is out of bounds for axis 0 with size 0\n",
      "DERRINAL, index 0 is out of bounds for axis 0 with size 0\n",
      "HEATHCOTE, index 0 is out of bounds for axis 0 with size 0\n",
      "HEATHCOTE SOUTH, index 0 is out of bounds for axis 0 with size 0\n",
      "KNOWSLEY, index 0 is out of bounds for axis 0 with size 0\n",
      "LADYS PASS, index 0 is out of bounds for axis 0 with size 0\n",
      "MOORMBOOL WEST, index 0 is out of bounds for axis 0 with size 0\n",
      "MOUNT CAMEL, index 0 is out of bounds for axis 0 with size 0\n",
      "REDCASTLE, index 0 is out of bounds for axis 0 with size 0\n",
      "BARRAKEE, index 0 is out of bounds for axis 0 with size 0\n",
      "BUCKRABANYULE, index 0 is out of bounds for axis 0 with size 0\n",
      "CHARLTON, index 0 is out of bounds for axis 0 with size 0\n",
      "CHIRRIP, index 0 is out of bounds for axis 0 with size 0\n",
      "GRANITE FLAT, index 0 is out of bounds for axis 0 with size 0\n",
      "JEFFCOTT, index 0 is out of bounds for axis 0 with size 0\n",
      "JEFFCOTT NORTH, index 0 is out of bounds for axis 0 with size 0\n",
      "LAKE MARMAL, index 0 is out of bounds for axis 0 with size 0\n",
      "NAREEWILLOCK, index 0 is out of bounds for axis 0 with size 0\n",
      "TEDDYWADDY, index 0 is out of bounds for axis 0 with size 0\n",
      "TEDDYWADDY WEST, index 0 is out of bounds for axis 0 with size 0\n",
      "TERRAPPEE, index 0 is out of bounds for axis 0 with size 0\n",
      "WOOROONOOK, index 0 is out of bounds for axis 0 with size 0\n",
      "WYCHITELLA, index 0 is out of bounds for axis 0 with size 0\n",
      "WYCHITELLA NORTH, index 0 is out of bounds for axis 0 with size 0\n",
      "YEUNGROON, index 0 is out of bounds for axis 0 with size 0\n",
      "YEUNGROON EAST, index 0 is out of bounds for axis 0 with size 0\n",
      "BARRAPORT, index 0 is out of bounds for axis 0 with size 0\n",
      "BARRAPORT WEST, index 0 is out of bounds for axis 0 with size 0\n",
      "BOORT, index 0 is out of bounds for axis 0 with size 0\n",
      "CANARY ISLAND, index 0 is out of bounds for axis 0 with size 0\n",
      "CATUMNAL, index 0 is out of bounds for axis 0 with size 0\n",
      "GREDGWIN, index 0 is out of bounds for axis 0 with size 0\n",
      "LEAGHUR, index 0 is out of bounds for axis 0 with size 0\n",
      "MINMINDIE, index 0 is out of bounds for axis 0 with size 0\n",
      "YANDO, index 0 is out of bounds for axis 0 with size 0\n",
      "CANNIE, index 0 is out of bounds for axis 0 with size 0\n",
      "NINYEUNOOK, index 0 is out of bounds for axis 0 with size 0\n",
      "OAKVALE, index 0 is out of bounds for axis 0 with size 0\n",
      "QUAMBATOOK, index 0 is out of bounds for axis 0 with size 0\n",
      "BENDIGO, index 0 is out of bounds for axis 0 with size 0\n",
      "BENDIGO SOUTH, index 0 is out of bounds for axis 0 with size 0\n",
      "DIAMOND HILL, index 0 is out of bounds for axis 0 with size 0\n",
      "EAST BENDIGO, index 0 is out of bounds for axis 0 with size 0\n",
      "FLORA HILL, index 0 is out of bounds for axis 0 with size 0\n",
      "IRONBARK, index 0 is out of bounds for axis 0 with size 0\n",
      "KENNINGTON, index 0 is out of bounds for axis 0 with size 0\n",
      "LONG GULLY, index 0 is out of bounds for axis 0 with size 0\n",
      "NORTH BENDIGO, index 0 is out of bounds for axis 0 with size 0\n",
      "QUARRY HILL, index 0 is out of bounds for axis 0 with size 0\n",
      "SANDHURST EAST, index 0 is out of bounds for axis 0 with size 0\n",
      "SPRING GULLY, index 0 is out of bounds for axis 0 with size 0\n",
      "STRATHDALE, index 0 is out of bounds for axis 0 with size 0\n",
      "TYSONS REEF, index 0 is out of bounds for axis 0 with size 0\n",
      "WEST BENDIGO, index 0 is out of bounds for axis 0 with size 0\n",
      "WHITE HILLS, index 0 is out of bounds for axis 0 with size 0\n",
      "ARNOLD, index 0 is out of bounds for axis 0 with size 0\n",
      "ARNOLD WEST, index 0 is out of bounds for axis 0 with size 0\n",
      "ASCOT, 'NoneType' object is not subscriptable\n",
      "AXE CREEK, index 0 is out of bounds for axis 0 with size 0\n",
      "AXEDALE, index 0 is out of bounds for axis 0 with size 0\n",
      "BAGSHOT, index 0 is out of bounds for axis 0 with size 0\n",
      "BAGSHOT NORTH, index 0 is out of bounds for axis 0 with size 0\n",
      "BENDIGO FORWARD, index 0 is out of bounds for axis 0 with size 0\n",
      "CORNELLA, index 0 is out of bounds for axis 0 with size 0\n",
      "CREEK VIEW, index 0 is out of bounds for axis 0 with size 0\n",
      "EMU CREEK, index 0 is out of bounds for axis 0 with size 0\n",
      "EPPALOCK, index 0 is out of bounds for axis 0 with size 0\n",
      "EPSOM, index 0 is out of bounds for axis 0 with size 0\n"
     ]
    },
    {
     "name": "stderr",
     "output_type": "stream",
     "text": [
      "/Users/matthewrush/virtualenv/lib/python3.10/site-packages/pyrosm/pyrosm.py:576: UserWarning: Could not find any POIs for given area.\n",
      "  gdf = get_poi_data(\n"
     ]
    },
    {
     "name": "stdout",
     "output_type": "stream",
     "text": [
      "HUNTLY, 'NoneType' object is not subscriptable\n",
      "HUNTLY NORTH, index 0 is out of bounds for axis 0 with size 0\n",
      "JUNORTOUN, index 0 is out of bounds for axis 0 with size 0\n",
      "KIMBOLTON, index 0 is out of bounds for axis 0 with size 0\n",
      "LAKE EPPALOCK, index 0 is out of bounds for axis 0 with size 0\n",
      "LLANELLY, index 0 is out of bounds for axis 0 with size 0\n",
      "LOCKWOOD, index 0 is out of bounds for axis 0 with size 0\n",
      "LOCKWOOD SOUTH, index 0 is out of bounds for axis 0 with size 0\n",
      "LONGLEA, index 0 is out of bounds for axis 0 with size 0\n",
      "MAIDEN GULLY, index 0 is out of bounds for axis 0 with size 0\n",
      "MANDURANG, index 0 is out of bounds for axis 0 with size 0\n",
      "MANDURANG SOUTH, index 0 is out of bounds for axis 0 with size 0\n",
      "MINTO, index 0 is out of bounds for axis 0 with size 0\n",
      "MOSQUITO CREEK, index 0 is out of bounds for axis 0 with size 0\n",
      "MURPHYS CREEK, index 0 is out of bounds for axis 0 with size 0\n",
      "MYOLA, index 0 is out of bounds for axis 0 with size 0\n",
      "MYOLA EAST, index 0 is out of bounds for axis 0 with size 0\n",
      "MYRTLE CREEK, index 0 is out of bounds for axis 0 with size 0\n",
      "NEWBRIDGE, index 0 is out of bounds for axis 0 with size 0\n",
      "PAINSWICK, index 0 is out of bounds for axis 0 with size 0\n",
      "PILCHERS BRIDGE, index 0 is out of bounds for axis 0 with size 0\n",
      "SEDGWICK, index 0 is out of bounds for axis 0 with size 0\n",
      "STRATHFIELDSAYE, index 0 is out of bounds for axis 0 with size 0\n",
      "TARNAGULLA, index 0 is out of bounds for axis 0 with size 0\n",
      "TOOLLEEN, index 0 is out of bounds for axis 0 with size 0\n",
      "WAANYARRA, index 0 is out of bounds for axis 0 with size 0\n",
      "WELLSFORD, index 0 is out of bounds for axis 0 with size 0\n",
      "WOODSTOCK ON LODDON, index 0 is out of bounds for axis 0 with size 0\n",
      "BIG HILL, index 0 is out of bounds for axis 0 with size 0\n",
      "GOLDEN GULLY, index 0 is out of bounds for axis 0 with size 0\n",
      "GOLDEN SQUARE, index 0 is out of bounds for axis 0 with size 0\n",
      "KANGAROO FLAT, index 0 is out of bounds for axis 0 with size 0\n",
      "LANSELL PLAZA, index 0 is out of bounds for axis 0 with size 0\n",
      "SPECIMEN HILL, index 0 is out of bounds for axis 0 with size 0\n",
      "CALIFORNIA GULLY, index 0 is out of bounds for axis 0 with size 0\n",
      "CAMPBELLS FOREST, index 0 is out of bounds for axis 0 with size 0\n",
      "COMET HILL, index 0 is out of bounds for axis 0 with size 0\n",
      "EAGLEHAWK, index 0 is out of bounds for axis 0 with size 0\n",
      "EAGLEHAWK NORTH, index 0 is out of bounds for axis 0 with size 0\n",
      "JACKASS FLAT, index 0 is out of bounds for axis 0 with size 0\n",
      "MYERS FLAT, index 0 is out of bounds for axis 0 with size 0\n",
      "SAILORS GULLY, index 0 is out of bounds for axis 0 with size 0\n",
      "SEBASTIAN, index 0 is out of bounds for axis 0 with size 0\n",
      "WHIPSTICK, index 0 is out of bounds for axis 0 with size 0\n",
      "WOODVALE, index 0 is out of bounds for axis 0 with size 0\n",
      "TORRUMBARRY, index 0 is out of bounds for axis 0 with size 0\n",
      "BAMAWM EXTENSION, index 0 is out of bounds for axis 0 with size 0\n",
      "CAMPASPE WEST, index 0 is out of bounds for axis 0 with size 0\n",
      "ECHUCA, index 0 is out of bounds for axis 0 with size 0\n",
      "ECHUCA EAST, index 0 is out of bounds for axis 0 with size 0\n",
      "ECHUCA SOUTH, index 0 is out of bounds for axis 0 with size 0\n",
      "ECHUCA VILLAGE, index 0 is out of bounds for axis 0 with size 0\n",
      "ECHUCA WEST, index 0 is out of bounds for axis 0 with size 0\n",
      "KANYAPELLA, index 0 is out of bounds for axis 0 with size 0\n",
      "MCEVOYS, index 0 is out of bounds for axis 0 with size 0\n",
      "PATHO, index 0 is out of bounds for axis 0 with size 0\n",
      "PATHO WEST, index 0 is out of bounds for axis 0 with size 0\n",
      "ROSLYNMEAD, index 0 is out of bounds for axis 0 with size 0\n",
      "SIMMIE, index 0 is out of bounds for axis 0 with size 0\n",
      "WHARPARILLA, index 0 is out of bounds for axis 0 with size 0\n",
      "BURKES BRIDGE, index 0 is out of bounds for axis 0 with size 0\n",
      "COHUNA, index 0 is out of bounds for axis 0 with size 0\n",
      "CULLEN, index 0 is out of bounds for axis 0 with size 0\n",
      "DALTONS BRIDGE, index 0 is out of bounds for axis 0 with size 0\n",
      "GANNAWARRA, index 0 is out of bounds for axis 0 with size 0\n",
      "KEELY, index 0 is out of bounds for axis 0 with size 0\n",
      "MACORNA NORTH, index 0 is out of bounds for axis 0 with size 0\n",
      "MCMILLANS, index 0 is out of bounds for axis 0 with size 0\n",
      "MINCHA WEST, index 0 is out of bounds for axis 0 with size 0\n",
      "WEE WEE RUP, index 0 is out of bounds for axis 0 with size 0\n",
      "BALD ROCK, index 0 is out of bounds for axis 0 with size 0\n",
      "GLADFIELD, index 0 is out of bounds for axis 0 with size 0\n",
      "JUNGABURRA, index 0 is out of bounds for axis 0 with size 0\n",
      "LODDON VALE, index 0 is out of bounds for axis 0 with size 0\n",
      "MINCHA, index 0 is out of bounds for axis 0 with size 0\n",
      "MOLOGA, index 0 is out of bounds for axis 0 with size 0\n",
      "PYRAMID HILL, index 0 is out of bounds for axis 0 with size 0\n",
      "SYLVATERRE, index 0 is out of bounds for axis 0 with size 0\n",
      "TERRICK TERRICK, index 0 is out of bounds for axis 0 with size 0\n",
      "YARRAWALLA, index 0 is out of bounds for axis 0 with size 0\n",
      "APPIN, index 0 is out of bounds for axis 0 with size 0\n",
      "APPIN SOUTH, index 0 is out of bounds for axis 0 with size 0\n",
      "BAEL BAEL, index 0 is out of bounds for axis 0 with size 0\n",
      "BEAUCHAMP, index 0 is out of bounds for axis 0 with size 0\n",
      "BENJEROOP, index 0 is out of bounds for axis 0 with size 0\n",
      "BUDGERUM EAST, index 0 is out of bounds for axis 0 with size 0\n",
      "CAPELS CROSSING, index 0 is out of bounds for axis 0 with size 0\n",
      "DINGWALL, index 0 is out of bounds for axis 0 with size 0\n",
      "EAST YEOBURN, index 0 is out of bounds for axis 0 with size 0\n",
      "FAIRLEY, index 0 is out of bounds for axis 0 with size 0\n",
      "GONN CROSSING, index 0 is out of bounds for axis 0 with size 0\n",
      "KERANG, index 0 is out of bounds for axis 0 with size 0\n",
      "KERANG EAST, index 0 is out of bounds for axis 0 with size 0\n",
      "KOROOP, index 0 is out of bounds for axis 0 with size 0\n",
      "LAKE MERAN, index 0 is out of bounds for axis 0 with size 0\n",
      "MACORNA, index 0 is out of bounds for axis 0 with size 0\n",
      "MEERING WEST, index 0 is out of bounds for axis 0 with size 0\n",
      "MILNES BRIDGE, index 0 is out of bounds for axis 0 with size 0\n",
      "MURRABIT, index 0 is out of bounds for axis 0 with size 0\n",
      "MURRABIT WEST, index 0 is out of bounds for axis 0 with size 0\n",
      "MYALL, index 0 is out of bounds for axis 0 with size 0\n",
      "MYSTIC PARK, index 0 is out of bounds for axis 0 with size 0\n",
      "NORMANVILLE, index 0 is out of bounds for axis 0 with size 0\n",
      "PINE VIEW, index 0 is out of bounds for axis 0 with size 0\n",
      "REEDY LAKE, index 0 is out of bounds for axis 0 with size 0\n",
      "SANDHILL LAKE, index 0 is out of bounds for axis 0 with size 0\n",
      "TEAL POINT, index 0 is out of bounds for axis 0 with size 0\n",
      "TRAGOWEL, index 0 is out of bounds for axis 0 with size 0\n",
      "WANDELLA, index 0 is out of bounds for axis 0 with size 0\n",
      "WESTBY, index 0 is out of bounds for axis 0 with size 0\n",
      "CASTLE DONNINGTON, index 0 is out of bounds for axis 0 with size 0\n",
      "CHILLINGOLLAH, index 0 is out of bounds for axis 0 with size 0\n",
      "FISH POINT, index 0 is out of bounds for axis 0 with size 0\n",
      "GOSCHEN, index 0 is out of bounds for axis 0 with size 0\n",
      "KUNAT, index 0 is out of bounds for axis 0 with size 0\n",
      "MEATIAN, index 0 is out of bounds for axis 0 with size 0\n",
      "NOWIE, index 0 is out of bounds for axis 0 with size 0\n",
      "NYRRABY, index 0 is out of bounds for axis 0 with size 0\n",
      "PIRA, index 0 is out of bounds for axis 0 with size 0\n",
      "POLISBET, index 0 is out of bounds for axis 0 with size 0\n",
      "SPEEWA, index 0 is out of bounds for axis 0 with size 0\n",
      "SWAN HILL, index 0 is out of bounds for axis 0 with size 0\n",
      "SWAN HILL PIONEER, index 0 is out of bounds for axis 0 with size 0\n",
      "SWAN HILL WEST, index 0 is out of bounds for axis 0 with size 0\n",
      "WINLATON, index 0 is out of bounds for axis 0 with size 0\n",
      "BAILIESTON, index 0 is out of bounds for axis 0 with size 0\n",
      "GOULBURN WEIR, index 0 is out of bounds for axis 0 with size 0\n",
      "GRAYTOWN, index 0 is out of bounds for axis 0 with size 0\n",
      "KIRWANS BRIDGE, index 0 is out of bounds for axis 0 with size 0\n",
      "MITCHELLSTOWN, index 0 is out of bounds for axis 0 with size 0\n",
      "NAGAMBIE, index 0 is out of bounds for axis 0 with size 0\n",
      "WAHRING, index 0 is out of bounds for axis 0 with size 0\n",
      "WIRRATE, index 0 is out of bounds for axis 0 with size 0\n",
      "COOMA, index 0 is out of bounds for axis 0 with size 0\n",
      "GILLIESTON, index 0 is out of bounds for axis 0 with size 0\n",
      "GIRGARRE EAST, index 0 is out of bounds for axis 0 with size 0\n",
      "HARSTON, index 0 is out of bounds for axis 0 with size 0\n",
      "MOOROOPNA NORTH WEST, index 0 is out of bounds for axis 0 with size 0\n",
      "TATURA, index 0 is out of bounds for axis 0 with size 0\n",
      "TATURA EAST, index 0 is out of bounds for axis 0 with size 0\n",
      "TOOLAMBA WEST, index 0 is out of bounds for axis 0 with size 0\n",
      "WARANGA, index 0 is out of bounds for axis 0 with size 0\n",
      "MERRIGUM, index 0 is out of bounds for axis 0 with size 0\n",
      "KYABRAM, index 0 is out of bounds for axis 0 with size 0\n",
      "KYABRAM SOUTH, index 0 is out of bounds for axis 0 with size 0\n",
      "LANCASTER, index 0 is out of bounds for axis 0 with size 0\n",
      "MOUNT SCOBIE, index 0 is out of bounds for axis 0 with size 0\n",
      "ST GERMAINS, index 0 is out of bounds for axis 0 with size 0\n",
      "TARIPTA, index 0 is out of bounds for axis 0 with size 0\n",
      "WYUNA, index 0 is out of bounds for axis 0 with size 0\n",
      "WYUNA EAST, index 0 is out of bounds for axis 0 with size 0\n",
      "KOYUGA SOUTH, index 0 is out of bounds for axis 0 with size 0\n",
      "KY VALLEY, index 0 is out of bounds for axis 0 with size 0\n",
      "KY WEST, index 0 is out of bounds for axis 0 with size 0\n",
      "KYVALLEY, index 0 is out of bounds for axis 0 with size 0\n",
      "TONGALA, index 0 is out of bounds for axis 0 with size 0\n",
      "YAMBUNA, index 0 is out of bounds for axis 0 with size 0\n",
      "ARDMONA, index 0 is out of bounds for axis 0 with size 0\n",
      "COOMBOONA, index 0 is out of bounds for axis 0 with size 0\n",
      "MOOROOPNA, index 0 is out of bounds for axis 0 with size 0\n",
      "MOOROOPNA NORTH, index 0 is out of bounds for axis 0 with size 0\n",
      "UNDERA, index 0 is out of bounds for axis 0 with size 0\n",
      "BENARCH, index 0 is out of bounds for axis 0 with size 0\n",
      "BRANDITT, index 0 is out of bounds for axis 0 with size 0\n",
      "CANIAMBO, index 0 is out of bounds for axis 0 with size 0\n",
      "COLLIVER, index 0 is out of bounds for axis 0 with size 0\n",
      "DUNKIRK, index 0 is out of bounds for axis 0 with size 0\n",
      "SHEPPARTON, index 0 is out of bounds for axis 0 with size 0\n",
      "SHEPPARTON SOUTH, index 0 is out of bounds for axis 0 with size 0\n",
      "ARCADIA, index 0 is out of bounds for axis 0 with size 0\n",
      "ARCADIA SOUTH, index 0 is out of bounds for axis 0 with size 0\n",
      "COSGROVE, index 0 is out of bounds for axis 0 with size 0\n",
      "COSGROVE SOUTH, index 0 is out of bounds for axis 0 with size 0\n",
      "GRAHAMVALE, index 0 is out of bounds for axis 0 with size 0\n",
      "KARRAMOMUS, index 0 is out of bounds for axis 0 with size 0\n",
      "KIALLA, index 0 is out of bounds for axis 0 with size 0\n",
      "KIALLA EAST, index 0 is out of bounds for axis 0 with size 0\n",
      "KIALLA WEST, index 0 is out of bounds for axis 0 with size 0\n",
      "LEMNOS, index 0 is out of bounds for axis 0 with size 0\n",
      "ORRVALE, index 0 is out of bounds for axis 0 with size 0\n",
      "PINE LODGE, index 0 is out of bounds for axis 0 with size 0\n",
      "SHEPPARTON EAST, index 0 is out of bounds for axis 0 with size 0\n",
      "SHEPPARTON NORTH, index 0 is out of bounds for axis 0 with size 0\n",
      "TAMLEUGH WEST, index 0 is out of bounds for axis 0 with size 0\n",
      "BUNBARTHA, index 0 is out of bounds for axis 0 with size 0\n",
      "INVERGORDON SOUTH, index 0 is out of bounds for axis 0 with size 0\n",
      "KATANDRA, index 0 is out of bounds for axis 0 with size 0\n",
      "KATANDRA WEST, index 0 is out of bounds for axis 0 with size 0\n",
      "MARIONVALE, index 0 is out of bounds for axis 0 with size 0\n",
      "MARUNGI, index 0 is out of bounds for axis 0 with size 0\n",
      "TALLYGAROOPNA, index 0 is out of bounds for axis 0 with size 0\n",
      "ZEERUST, index 0 is out of bounds for axis 0 with size 0\n",
      "BEARII, index 0 is out of bounds for axis 0 with size 0\n",
      "MYWEE, index 0 is out of bounds for axis 0 with size 0\n",
      "STRATHMERTON, index 0 is out of bounds for axis 0 with size 0\n",
      "ULUPNA, index 0 is out of bounds for axis 0 with size 0\n",
      "BAROOGA, index 0 is out of bounds for axis 0 with size 0\n",
      "COBRAM, index 0 is out of bounds for axis 0 with size 0\n",
      "COBRAM EAST, index 0 is out of bounds for axis 0 with size 0\n",
      "KOONOOMOO, index 0 is out of bounds for axis 0 with size 0\n",
      "LALALTY, index 0 is out of bounds for axis 0 with size 0\n",
      "MUCKATAH, index 0 is out of bounds for axis 0 with size 0\n",
      "YARROWEYAH, index 0 is out of bounds for axis 0 with size 0\n",
      "BROADFORD, index 0 is out of bounds for axis 0 with size 0\n",
      "CLONBINANE, index 0 is out of bounds for axis 0 with size 0\n",
      "CLONBINANE, index 0 is out of bounds for axis 0 with size 0\n",
      "FLOWERDALE, index 0 is out of bounds for axis 0 with size 0\n",
      "HAZELDENE, index 0 is out of bounds for axis 0 with size 0\n",
      "REEDY CREEK, index 0 is out of bounds for axis 0 with size 0\n",
      "STRATH CREEK, index 0 is out of bounds for axis 0 with size 0\n",
      "SUGARLOAF CREEK, index 0 is out of bounds for axis 0 with size 0\n",
      "SUNDAY CREEK, index 0 is out of bounds for axis 0 with size 0\n",
      "TYAAK, index 0 is out of bounds for axis 0 with size 0\n",
      "WATERFORD PARK, index 0 is out of bounds for axis 0 with size 0\n",
      "SUGARLOAF CREEK, index 0 is out of bounds for axis 0 with size 0\n",
      "TALLAROOK, index 0 is out of bounds for axis 0 with size 0\n",
      "CAVEAT, index 0 is out of bounds for axis 0 with size 0\n",
      "DROPMORE, index 0 is out of bounds for axis 0 with size 0\n",
      "DYSART, index 0 is out of bounds for axis 0 with size 0\n",
      "HIGHLANDS, index 0 is out of bounds for axis 0 with size 0\n",
      "HILLDENE, index 0 is out of bounds for axis 0 with size 0\n",
      "KERRISDALE, index 0 is out of bounds for axis 0 with size 0\n",
      "KOBYBOYN, index 0 is out of bounds for axis 0 with size 0\n",
      "NORTHWOOD, index 0 is out of bounds for axis 0 with size 0\n",
      "SEYMOUR, index 0 is out of bounds for axis 0 with size 0\n",
      "SEYMOUR SOUTH, index 0 is out of bounds for axis 0 with size 0\n",
      "TRAWOOL, index 0 is out of bounds for axis 0 with size 0\n",
      "WHITEHEADS CREEK, index 0 is out of bounds for axis 0 with size 0\n",
      "BADDAGINNIE, index 0 is out of bounds for axis 0 with size 0\n",
      "TARNOOK, index 0 is out of bounds for axis 0 with size 0\n",
      "WARRENBAYNE, index 0 is out of bounds for axis 0 with size 0\n",
      "BENALLA, index 0 is out of bounds for axis 0 with size 0\n",
      "BENALLA WEST, index 0 is out of bounds for axis 0 with size 0\n",
      "APPIN PARK, index 0 is out of bounds for axis 0 with size 0\n",
      "WANGARATTA, index 0 is out of bounds for axis 0 with size 0\n",
      "WANGARATTA WEST, index 0 is out of bounds for axis 0 with size 0\n",
      "YARRUNGA, index 0 is out of bounds for axis 0 with size 0\n",
      "CHILTERN, index 0 is out of bounds for axis 0 with size 0\n",
      "CHILTERN VALLEY, index 0 is out of bounds for axis 0 with size 0\n",
      "CORNISHTOWN, index 0 is out of bounds for axis 0 with size 0\n",
      "INDIGO, index 0 is out of bounds for axis 0 with size 0\n",
      "BOORHAMAN NORTH, index 0 is out of bounds for axis 0 with size 0\n",
      "BRIMIN, index 0 is out of bounds for axis 0 with size 0\n",
      "BROWNS PLAINS, index 0 is out of bounds for axis 0 with size 0\n",
      "CARLYLE, index 0 is out of bounds for axis 0 with size 0\n",
      "DUGAYS BRIDGE, index 0 is out of bounds for axis 0 with size 0\n",
      "GOORAMADDA, index 0 is out of bounds for axis 0 with size 0\n",
      "GREAT SOUTHERN, index 0 is out of bounds for axis 0 with size 0\n",
      "LAKE MOODEMERE, index 0 is out of bounds for axis 0 with size 0\n",
      "NORONG CENTRAL, index 0 is out of bounds for axis 0 with size 0\n",
      "PRENTICE NORTH, index 0 is out of bounds for axis 0 with size 0\n",
      "RUTHERGLEN, index 0 is out of bounds for axis 0 with size 0\n",
      "WEST WODONGA, index 0 is out of bounds for axis 0 with size 0\n",
      "WODONGA, index 0 is out of bounds for axis 0 with size 0\n",
      "WODONGA PLAZA, index 0 is out of bounds for axis 0 with size 0\n",
      "ALLANS FLAT, index 0 is out of bounds for axis 0 with size 0\n",
      "BANDIANA, index 0 is out of bounds for axis 0 with size 0\n",
      "BARANDUDA, index 0 is out of bounds for axis 0 with size 0\n",
      "BARNAWARTHA NORTH, index 0 is out of bounds for axis 0 with size 0\n",
      "BELLBRIDGE, index 0 is out of bounds for axis 0 with size 0\n",
      "BERRINGAMA, index 0 is out of bounds for axis 0 with size 0\n",
      "BETHANGA, index 0 is out of bounds for axis 0 with size 0\n",
      "BONEGILLA, index 0 is out of bounds for axis 0 with size 0\n",
      "BUNGIL, index 0 is out of bounds for axis 0 with size 0\n",
      "CASTLE CREEK, index 0 is out of bounds for axis 0 with size 0\n",
      "CORAL BANK, index 0 is out of bounds for axis 0 with size 0\n",
      "DEDERANG, index 0 is out of bounds for axis 0 with size 0\n",
      "EBDEN, index 0 is out of bounds for axis 0 with size 0\n",
      "GATEWAY ISLAND, index 0 is out of bounds for axis 0 with size 0\n",
      "GLEN CREEK, index 0 is out of bounds for axis 0 with size 0\n",
      "GUNDOWRING, index 0 is out of bounds for axis 0 with size 0\n",
      "HUME WEIR, index 0 is out of bounds for axis 0 with size 0\n",
      "HUON CREEK, index 0 is out of bounds for axis 0 with size 0\n",
      "KANCOONA, index 0 is out of bounds for axis 0 with size 0\n",
      "KANCOONA SOUTH, index 0 is out of bounds for axis 0 with size 0\n",
      "KERGUNYAH, index 0 is out of bounds for axis 0 with size 0\n",
      "KERGUNYAH SOUTH, index 0 is out of bounds for axis 0 with size 0\n",
      "KIEWA, index 0 is out of bounds for axis 0 with size 0\n",
      "KILLARA, index 0 is out of bounds for axis 0 with size 0\n",
      "LAKE HUME VILLAGE, index 0 is out of bounds for axis 0 with size 0\n",
      "LENEVA, index 0 is out of bounds for axis 0 with size 0\n",
      "LONE PINE, index 0 is out of bounds for axis 0 with size 0\n",
      "LUCYVALE, index 0 is out of bounds for axis 0 with size 0\n",
      "MONGANS BRIDGE, index 0 is out of bounds for axis 0 with size 0\n",
      "MOUNT ALFRED, index 0 is out of bounds for axis 0 with size 0\n",
      "OSBORNES FLAT, index 0 is out of bounds for axis 0 with size 0\n",
      "RUNNING CREEK, index 0 is out of bounds for axis 0 with size 0\n",
      "STAGHORN FLAT, index 0 is out of bounds for axis 0 with size 0\n",
      "TALGARNO, index 0 is out of bounds for axis 0 with size 0\n",
      "TANGAMBALANGA, index 0 is out of bounds for axis 0 with size 0\n",
      "THOLOGOLONG, index 0 is out of bounds for axis 0 with size 0\n",
      "UPPER GUNDOWRING, index 0 is out of bounds for axis 0 with size 0\n",
      "WODONGA FORWARD, index 0 is out of bounds for axis 0 with size 0\n",
      "TAWONGA SOUTH, index 0 is out of bounds for axis 0 with size 0\n",
      "BOGONG, index 0 is out of bounds for axis 0 with size 0\n",
      "FALLS CREEK, index 0 is out of bounds for axis 0 with size 0\n",
      "MOUNT BEAUTY, index 0 is out of bounds for axis 0 with size 0\n",
      "NELSE, index 0 is out of bounds for axis 0 with size 0\n",
      "BULLIOH, index 0 is out of bounds for axis 0 with size 0\n",
      "GEORGES CREEK, index 0 is out of bounds for axis 0 with size 0\n",
      "JARVIS CREEK, index 0 is out of bounds for axis 0 with size 0\n",
      "TALLANGATTA, index 0 is out of bounds for axis 0 with size 0\n",
      "TALLANGATTA EAST, index 0 is out of bounds for axis 0 with size 0\n",
      "DARTMOUTH, index 0 is out of bounds for axis 0 with size 0\n",
      "ESKDALE, index 0 is out of bounds for axis 0 with size 0\n",
      "FERNVALE, index 0 is out of bounds for axis 0 with size 0\n",
      "GRANITE FLAT, index 0 is out of bounds for axis 0 with size 0\n",
      "GRANYA, index 0 is out of bounds for axis 0 with size 0\n",
      "MITTA MITTA, index 0 is out of bounds for axis 0 with size 0\n",
      "OLD TALLANGATTA, index 0 is out of bounds for axis 0 with size 0\n",
      "SHELLEY, index 0 is out of bounds for axis 0 with size 0\n",
      "TALLANDOON, index 0 is out of bounds for axis 0 with size 0\n",
      "TALLANGATTA SOUTH, index 0 is out of bounds for axis 0 with size 0\n",
      "TALLANGATTA VALLEY, index 0 is out of bounds for axis 0 with size 0\n",
      "BIGGARA, index 0 is out of bounds for axis 0 with size 0\n",
      "BRINGENBRONG, index 0 is out of bounds for axis 0 with size 0\n",
      "COLAC COLAC, index 0 is out of bounds for axis 0 with size 0\n",
      "CORRYONG, index 0 is out of bounds for axis 0 with size 0\n",
      "NARIEL VALLEY, index 0 is out of bounds for axis 0 with size 0\n",
      "THOWGLA VALLEY, index 0 is out of bounds for axis 0 with size 0\n",
      "TOM GROGGIN, index 0 is out of bounds for axis 0 with size 0\n",
      "TOWONG, index 0 is out of bounds for axis 0 with size 0\n",
      "TOWONG UPPER, index 0 is out of bounds for axis 0 with size 0\n",
      "BUXTON, index 0 is out of bounds for axis 0 with size 0\n",
      "EILDON, index 0 is out of bounds for axis 0 with size 0\n",
      "LAKE EILDON, index 0 is out of bounds for axis 0 with size 0\n",
      "TAYLOR BAY, index 0 is out of bounds for axis 0 with size 0\n",
      "ACHERON, index 0 is out of bounds for axis 0 with size 0\n",
      "ALEXANDRA, index 0 is out of bounds for axis 0 with size 0\n",
      "CATHKIN, index 0 is out of bounds for axis 0 with size 0\n",
      "CRYSTAL CREEK, index 0 is out of bounds for axis 0 with size 0\n",
      "DEVILS RIVER, index 0 is out of bounds for axis 0 with size 0\n",
      "FAWCETT, index 0 is out of bounds for axis 0 with size 0\n",
      "KORIELLA, index 0 is out of bounds for axis 0 with size 0\n",
      "MAINTONGOON, index 0 is out of bounds for axis 0 with size 0\n",
      "TAGGERTY, index 0 is out of bounds for axis 0 with size 0\n",
      "WHANREGARWEN, index 0 is out of bounds for axis 0 with size 0\n",
      "FLOWERDALE, index 0 is out of bounds for axis 0 with size 0\n",
      "GHIN GHIN, index 0 is out of bounds for axis 0 with size 0\n",
      "GLENBURN, index 0 is out of bounds for axis 0 with size 0\n",
      "HOMEWOOD, index 0 is out of bounds for axis 0 with size 0\n",
      "KILLINGWORTH, index 0 is out of bounds for axis 0 with size 0\n",
      "LIMESTONE, index 0 is out of bounds for axis 0 with size 0\n",
      "MURRINDINDI, index 0 is out of bounds for axis 0 with size 0\n"
     ]
    },
    {
     "name": "stderr",
     "output_type": "stream",
     "text": [
      "/Users/matthewrush/virtualenv/lib/python3.10/site-packages/pyrosm/pyrosm.py:576: UserWarning: Could not find any POIs for given area.\n",
      "  gdf = get_poi_data(\n"
     ]
    },
    {
     "name": "stdout",
     "output_type": "stream",
     "text": [
      "YEA, 'NoneType' object is not subscriptable\n",
      "BARWITE, index 0 is out of bounds for axis 0 with size 0\n",
      "MANSFIELD, index 0 is out of bounds for axis 0 with size 0\n",
      "MIRIMBAH, index 0 is out of bounds for axis 0 with size 0\n",
      "ARCHERTON, index 0 is out of bounds for axis 0 with size 0\n",
      "BARJARG, index 0 is out of bounds for axis 0 with size 0\n",
      "BOOROLITE, index 0 is out of bounds for axis 0 with size 0\n",
      "BRIDGE CREEK, index 0 is out of bounds for axis 0 with size 0\n",
      "DELATITE, index 0 is out of bounds for axis 0 with size 0\n",
      "ENOCHS POINT, index 0 is out of bounds for axis 0 with size 0\n",
      "GAFFNEYS CREEK, index 0 is out of bounds for axis 0 with size 0\n",
      "GOUGHS BAY, index 0 is out of bounds for axis 0 with size 0\n",
      "HOWES CREEK, index 0 is out of bounds for axis 0 with size 0\n",
      "HOWQUA, index 0 is out of bounds for axis 0 with size 0\n",
      "HOWQUA HILLS, index 0 is out of bounds for axis 0 with size 0\n",
      "HOWQUA INLET, index 0 is out of bounds for axis 0 with size 0\n",
      "JAMIESON, index 0 is out of bounds for axis 0 with size 0\n",
      "KEVINGTON, index 0 is out of bounds for axis 0 with size 0\n",
      "KNOCKWOOD, index 0 is out of bounds for axis 0 with size 0\n",
      "MACS COVE, index 0 is out of bounds for axis 0 with size 0\n",
      "MAINDAMPLE, index 0 is out of bounds for axis 0 with size 0\n",
      "MATLOCK, index 0 is out of bounds for axis 0 with size 0\n",
      "MERRIJIG, index 0 is out of bounds for axis 0 with size 0\n",
      "MOUNT BULLER, index 0 is out of bounds for axis 0 with size 0\n",
      "MOUNTAIN BAY, index 0 is out of bounds for axis 0 with size 0\n",
      "NILLAHCOOTIE, index 0 is out of bounds for axis 0 with size 0\n",
      "PIRIES, index 0 is out of bounds for axis 0 with size 0\n",
      "SAWMILL SETTLEMENT, index 0 is out of bounds for axis 0 with size 0\n",
      "TOLMIE, index 0 is out of bounds for axis 0 with size 0\n",
      "WOODS POINT, index 0 is out of bounds for axis 0 with size 0\n",
      "BUNGEET, index 0 is out of bounds for axis 0 with size 0\n",
      "BUNGEET WEST, index 0 is out of bounds for axis 0 with size 0\n",
      "DEVENISH, index 0 is out of bounds for axis 0 with size 0\n",
      "THOONA, index 0 is out of bounds for axis 0 with size 0\n",
      "BOOMAHNOOMOONAH, index 0 is out of bounds for axis 0 with size 0\n",
      "TUNGAMAH, index 0 is out of bounds for axis 0 with size 0\n",
      "WILBY, index 0 is out of bounds for axis 0 with size 0\n",
      "YOUARANG, index 0 is out of bounds for axis 0 with size 0\n",
      "BATHUMI, index 0 is out of bounds for axis 0 with size 0\n",
      "BOOSEY, index 0 is out of bounds for axis 0 with size 0\n",
      "BUNDALONG, index 0 is out of bounds for axis 0 with size 0\n",
      "BUNDALONG SOUTH, index 0 is out of bounds for axis 0 with size 0\n",
      "BURRAMINE, index 0 is out of bounds for axis 0 with size 0\n",
      "BURRAMINE SOUTH, index 0 is out of bounds for axis 0 with size 0\n",
      "ESMOND, index 0 is out of bounds for axis 0 with size 0\n",
      "TELFORD, index 0 is out of bounds for axis 0 with size 0\n",
      "YARRAWONGA, index 0 is out of bounds for axis 0 with size 0\n",
      "YARRAWONGA SOUTH, index 0 is out of bounds for axis 0 with size 0\n",
      "ABBEYARD, index 0 is out of bounds for axis 0 with size 0\n",
      "BARWIDGEE, index 0 is out of bounds for axis 0 with size 0\n",
      "BUFFALO RIVER, index 0 is out of bounds for axis 0 with size 0\n",
      "DANDONGADALE, index 0 is out of bounds for axis 0 with size 0\n",
      "GAPSTED, index 0 is out of bounds for axis 0 with size 0\n",
      "HAVILAH, index 0 is out of bounds for axis 0 with size 0\n",
      "HAVILLAH, index 0 is out of bounds for axis 0 with size 0\n",
      "MERRIANG, index 0 is out of bounds for axis 0 with size 0\n",
      "MERRIANG SOUTH, index 0 is out of bounds for axis 0 with size 0\n",
      "MUDGEGONGA, index 0 is out of bounds for axis 0 with size 0\n",
      "MYRTLEFORD, index 0 is out of bounds for axis 0 with size 0\n",
      "NUG NUG, index 0 is out of bounds for axis 0 with size 0\n",
      "ROSEWHITE, index 0 is out of bounds for axis 0 with size 0\n",
      "SELWYN, index 0 is out of bounds for axis 0 with size 0\n",
      "WONNANGATTA, index 0 is out of bounds for axis 0 with size 0\n"
     ]
    },
    {
     "name": "stderr",
     "output_type": "stream",
     "text": [
      "/Users/matthewrush/virtualenv/lib/python3.10/site-packages/pyrosm/pyrosm.py:576: UserWarning: Could not find any POIs for given area.\n",
      "  gdf = get_poi_data(\n"
     ]
    },
    {
     "name": "stdout",
     "output_type": "stream",
     "text": [
      "BRIGHT, 'NoneType' object is not subscriptable\n",
      "FREEBURGH, index 0 is out of bounds for axis 0 with size 0\n",
      "GERMANTOWN, index 0 is out of bounds for axis 0 with size 0\n",
      "HARRIETVILLE, index 0 is out of bounds for axis 0 with size 0\n",
      "HOTHAM HEIGHTS, index 0 is out of bounds for axis 0 with size 0\n",
      "MOUNT HOTHAM, index 0 is out of bounds for axis 0 with size 0\n",
      "SMOKO, index 0 is out of bounds for axis 0 with size 0\n",
      "WANDILIGONG, index 0 is out of bounds for axis 0 with size 0\n",
      "BAARMUTHA, index 0 is out of bounds for axis 0 with size 0\n",
      "BEECHWORTH, index 0 is out of bounds for axis 0 with size 0\n",
      "HURDLE FLAT, index 0 is out of bounds for axis 0 with size 0\n",
      "MURMUNGEE, index 0 is out of bounds for axis 0 with size 0\n",
      "SILVER CREEK, index 0 is out of bounds for axis 0 with size 0\n",
      "STANLEY, index 0 is out of bounds for axis 0 with size 0\n",
      "WOOLSHED, index 0 is out of bounds for axis 0 with size 0\n",
      "WOORAGEE, index 0 is out of bounds for axis 0 with size 0\n"
     ]
    },
    {
     "name": "stderr",
     "output_type": "stream",
     "text": [
      "/Users/matthewrush/virtualenv/lib/python3.10/site-packages/pyrosm/pyrosm.py:576: UserWarning: Could not find any POIs for given area.\n",
      "  gdf = get_poi_data(\n"
     ]
    },
    {
     "name": "stdout",
     "output_type": "stream",
     "text": [
      "WOLLERT, 'NoneType' object is not subscriptable\n",
      "MORANG SOUTH, index 0 is out of bounds for axis 0 with size 0\n"
     ]
    },
    {
     "name": "stderr",
     "output_type": "stream",
     "text": [
      "/Users/matthewrush/virtualenv/lib/python3.10/site-packages/pyrosm/pyrosm.py:576: ShapelyDeprecationWarning: The array interface is deprecated and will no longer work in Shapely 2.0. Convert the '.coords' to a numpy array instead.\n",
      "  gdf = get_poi_data(\n"
     ]
    },
    {
     "name": "stdout",
     "output_type": "stream",
     "text": [
      "BEVERIDGE, index 0 is out of bounds for axis 0 with size 0\n",
      "DOREEN, 'name'\n"
     ]
    },
    {
     "name": "stderr",
     "output_type": "stream",
     "text": [
      "/Users/matthewrush/virtualenv/lib/python3.10/site-packages/pyrosm/pyrosm.py:576: UserWarning: Could not find any POIs for given area.\n",
      "  gdf = get_poi_data(\n"
     ]
    },
    {
     "name": "stdout",
     "output_type": "stream",
     "text": [
      "YAN YEAN, 'NoneType' object is not subscriptable\n",
      "CHINTIN, index 0 is out of bounds for axis 0 with size 0\n",
      "DARRAWEIT GUIM, index 0 is out of bounds for axis 0 with size 0\n",
      "HIDDEN VALLEY, index 0 is out of bounds for axis 0 with size 0\n",
      "UPPER PLENTY, index 0 is out of bounds for axis 0 with size 0\n",
      "WALLAN, index 0 is out of bounds for axis 0 with size 0\n",
      "WALLAN EAST, index 0 is out of bounds for axis 0 with size 0\n",
      "BRUCES CREEK, index 0 is out of bounds for axis 0 with size 0\n",
      "EDEN PARK, index 0 is out of bounds for axis 0 with size 0\n"
     ]
    },
    {
     "name": "stderr",
     "output_type": "stream",
     "text": [
      "/Users/matthewrush/virtualenv/lib/python3.10/site-packages/pyrosm/pyrosm.py:576: UserWarning: Could not find any POIs for given area.\n",
      "  gdf = get_poi_data(\n"
     ]
    },
    {
     "name": "stdout",
     "output_type": "stream",
     "text": [
      "HUMEVALE, 'NoneType' object is not subscriptable\n",
      "KINGLAKE CENTRAL, index 0 is out of bounds for axis 0 with size 0\n"
     ]
    },
    {
     "name": "stderr",
     "output_type": "stream",
     "text": [
      "/Users/matthewrush/virtualenv/lib/python3.10/site-packages/pyrosm/pyrosm.py:576: UserWarning: Could not find any POIs for given area.\n",
      "  gdf = get_poi_data(\n"
     ]
    },
    {
     "name": "stdout",
     "output_type": "stream",
     "text": [
      "KINGLAKE WEST, 'NoneType' object is not subscriptable\n",
      "PHEASANT CREEK, index 0 is out of bounds for axis 0 with size 0\n"
     ]
    },
    {
     "name": "stderr",
     "output_type": "stream",
     "text": [
      "/Users/matthewrush/virtualenv/lib/python3.10/site-packages/pyrosm/pyrosm.py:576: UserWarning: Could not find any POIs for given area.\n",
      "  gdf = get_poi_data(\n"
     ]
    },
    {
     "name": "stdout",
     "output_type": "stream",
     "text": [
      "WHITTLESEA, 'NoneType' object is not subscriptable\n",
      "HEATHCOTE JUNCTION, index 0 is out of bounds for axis 0 with size 0\n",
      "WANDONG, index 0 is out of bounds for axis 0 with size 0\n"
     ]
    },
    {
     "name": "stderr",
     "output_type": "stream",
     "text": [
      "/Users/matthewrush/virtualenv/lib/python3.10/site-packages/pyrosm/pyrosm.py:576: UserWarning: Could not find any POIs for given area.\n",
      "  gdf = get_poi_data(\n"
     ]
    },
    {
     "name": "stdout",
     "output_type": "stream",
     "text": [
      "PANTON HILL, 'NoneType' object is not subscriptable\n",
      "BYLANDS, index 0 is out of bounds for axis 0 with size 0\n",
      "FORBES, index 0 is out of bounds for axis 0 with size 0\n",
      "GLENAROUA, index 0 is out of bounds for axis 0 with size 0\n",
      "HIGH CAMP, index 0 is out of bounds for axis 0 with size 0\n",
      "KILMORE, index 0 is out of bounds for axis 0 with size 0\n",
      "KILMORE EAST, index 0 is out of bounds for axis 0 with size 0\n",
      "MORANDING, index 0 is out of bounds for axis 0 with size 0\n",
      "TANTARABOO, index 0 is out of bounds for axis 0 with size 0\n",
      "WILLOWMAVIN, index 0 is out of bounds for axis 0 with size 0\n",
      "MONTROSE, index 0 is out of bounds for axis 0 with size 0\n",
      "MOUNT DANDENONG, index 0 is out of bounds for axis 0 with size 0\n"
     ]
    },
    {
     "name": "stderr",
     "output_type": "stream",
     "text": [
      "/Users/matthewrush/virtualenv/lib/python3.10/site-packages/pyrosm/pyrosm.py:576: UserWarning: Could not find any POIs for given area.\n",
      "  gdf = get_poi_data(\n"
     ]
    },
    {
     "name": "stdout",
     "output_type": "stream",
     "text": [
      "CHRISTMAS HILLS, 'NoneType' object is not subscriptable\n",
      "DIXONS CREEK, index 0 is out of bounds for axis 0 with size 0\n",
      "STEELS CREEK, index 0 is out of bounds for axis 0 with size 0\n",
      "TARRAWARRA, index 0 is out of bounds for axis 0 with size 0\n",
      "YARRA GLEN, index 0 is out of bounds for axis 0 with size 0\n",
      "BADGER CREEK, index 0 is out of bounds for axis 0 with size 0\n",
      "CASTELLA, index 0 is out of bounds for axis 0 with size 0\n",
      "CHUM CREEK, index 0 is out of bounds for axis 0 with size 0\n",
      "HEALESVILLE, index 0 is out of bounds for axis 0 with size 0\n",
      "HEALESVILLE MAIN STREET, index 0 is out of bounds for axis 0 with size 0\n",
      "HEALESVILLE POST SHOP, index 0 is out of bounds for axis 0 with size 0\n",
      "MOUNT TOOLEBEWONG, index 0 is out of bounds for axis 0 with size 0\n",
      "TOOLANGI, index 0 is out of bounds for axis 0 with size 0\n",
      "CAMBARVILLE, index 0 is out of bounds for axis 0 with size 0\n",
      "MARYSVILLE, index 0 is out of bounds for axis 0 with size 0\n",
      "GEMBROOK, index 0 is out of bounds for axis 0 with size 0\n",
      "OLINDA, index 0 is out of bounds for axis 0 with size 0\n",
      "KALLISTA, index 0 is out of bounds for axis 0 with size 0\n",
      "SILVAN, index 0 is out of bounds for axis 0 with size 0\n",
      "MOUNT EVELYN, index 0 is out of bounds for axis 0 with size 0\n",
      "GILDEROY, index 0 is out of bounds for axis 0 with size 0\n",
      "GLADYSDALE, index 0 is out of bounds for axis 0 with size 0\n",
      "POWELLTOWN, index 0 is out of bounds for axis 0 with size 0\n",
      "THREE BRIDGES, index 0 is out of bounds for axis 0 with size 0\n",
      "YARRA JUNCTION, index 0 is out of bounds for axis 0 with size 0\n",
      "BIG PATS CREEK, index 0 is out of bounds for axis 0 with size 0\n",
      "EAST WARBURTON, index 0 is out of bounds for axis 0 with size 0\n",
      "MCMAHONS CREEK, index 0 is out of bounds for axis 0 with size 0\n",
      "MILLGROVE, index 0 is out of bounds for axis 0 with size 0\n",
      "REEFTON, index 0 is out of bounds for axis 0 with size 0\n",
      "WARBURTON, index 0 is out of bounds for axis 0 with size 0\n",
      "WESBURN, index 0 is out of bounds for axis 0 with size 0\n"
     ]
    },
    {
     "name": "stderr",
     "output_type": "stream",
     "text": [
      "/Users/matthewrush/virtualenv/lib/python3.10/site-packages/pyrosm/pyrosm.py:576: ShapelyDeprecationWarning: The array interface is deprecated and will no longer work in Shapely 2.0. Convert the '.coords' to a numpy array instead.\n",
      "  gdf = get_poi_data(\n",
      "/Users/matthewrush/virtualenv/lib/python3.10/site-packages/pyrosm/pyrosm.py:576: UserWarning: Could not find any POIs for given area.\n",
      "  gdf = get_poi_data(\n"
     ]
    },
    {
     "name": "stdout",
     "output_type": "stream",
     "text": [
      "HALLAM, 'NoneType' object is not subscriptable\n",
      "NARRE WARREN EAST, index 0 is out of bounds for axis 0 with size 0\n"
     ]
    },
    {
     "name": "stderr",
     "output_type": "stream",
     "text": [
      "/Users/matthewrush/virtualenv/lib/python3.10/site-packages/pyrosm/pyrosm.py:576: UserWarning: Could not find any POIs for given area.\n",
      "  gdf = get_poi_data(\n"
     ]
    },
    {
     "name": "stdout",
     "output_type": "stream",
     "text": [
      "NARRE WARREN NORTH, 'NoneType' object is not subscriptable\n",
      "FOUNTAIN GATE, index 0 is out of bounds for axis 0 with size 0\n"
     ]
    },
    {
     "name": "stderr",
     "output_type": "stream",
     "text": [
      "/Users/matthewrush/virtualenv/lib/python3.10/site-packages/pyrosm/pyrosm.py:576: UserWarning: Could not find any POIs for given area.\n",
      "  gdf = get_poi_data(\n"
     ]
    },
    {
     "name": "stdout",
     "output_type": "stream",
     "text": [
      "NARRE WARREN, 'NoneType' object is not subscriptable\n",
      "NARRE WARREN SOUTH, index 0 is out of bounds for axis 0 with size 0\n",
      "BERWICK, index 0 is out of bounds for axis 0 with size 0\n",
      "HARKAWAY, index 0 is out of bounds for axis 0 with size 0\n",
      "BEACONSFIELD, index 0 is out of bounds for axis 0 with size 0\n",
      "GUYS HILL, index 0 is out of bounds for axis 0 with size 0\n",
      "BEACONSFIELD UPPER, index 0 is out of bounds for axis 0 with size 0\n",
      "DEWHURST, index 0 is out of bounds for axis 0 with size 0\n",
      "OFFICER, index 0 is out of bounds for axis 0 with size 0\n",
      "OFFICER SOUTH, index 0 is out of bounds for axis 0 with size 0\n",
      "PAKENHAM, index 0 is out of bounds for axis 0 with size 0\n",
      "PAKENHAM SOUTH, index 0 is out of bounds for axis 0 with size 0\n",
      "PAKENHAM UPPER, index 0 is out of bounds for axis 0 with size 0\n",
      "RYTHDALE, index 0 is out of bounds for axis 0 with size 0\n",
      "CORA LYNN, index 0 is out of bounds for axis 0 with size 0\n",
      "GARFIELD, index 0 is out of bounds for axis 0 with size 0\n",
      "GARFIELD NORTH, index 0 is out of bounds for axis 0 with size 0\n",
      "VERVALE, index 0 is out of bounds for axis 0 with size 0\n",
      "BUNYIP, index 0 is out of bounds for axis 0 with size 0\n",
      "BUNYIP NORTH, index 0 is out of bounds for axis 0 with size 0\n",
      "IONA, index 0 is out of bounds for axis 0 with size 0\n",
      "TONIMBUK, index 0 is out of bounds for axis 0 with size 0\n",
      "LABERTOUCHE, index 0 is out of bounds for axis 0 with size 0\n",
      "LONGWARRY, index 0 is out of bounds for axis 0 with size 0\n",
      "LONGWARRY NORTH, index 0 is out of bounds for axis 0 with size 0\n",
      "MODELLA, index 0 is out of bounds for axis 0 with size 0\n",
      "ATHLONE, index 0 is out of bounds for axis 0 with size 0\n",
      "DROUIN, index 0 is out of bounds for axis 0 with size 0\n",
      "DROUIN EAST, index 0 is out of bounds for axis 0 with size 0\n",
      "DROUIN SOUTH, index 0 is out of bounds for axis 0 with size 0\n",
      "DROUIN WEST, index 0 is out of bounds for axis 0 with size 0\n",
      "HALLORA, index 0 is out of bounds for axis 0 with size 0\n",
      "JINDIVICK, index 0 is out of bounds for axis 0 with size 0\n",
      "RIPPLEBROOK, index 0 is out of bounds for axis 0 with size 0\n",
      "TARAGO, index 0 is out of bounds for axis 0 with size 0\n",
      "BONA VISTA, index 0 is out of bounds for axis 0 with size 0\n",
      "LILLICO, index 0 is out of bounds for axis 0 with size 0\n",
      "WARRAGUL, index 0 is out of bounds for axis 0 with size 0\n",
      "CHILDERS, index 0 is out of bounds for axis 0 with size 0\n",
      "NARRACAN, index 0 is out of bounds for axis 0 with size 0\n",
      "THORPDALE SOUTH, index 0 is out of bounds for axis 0 with size 0\n",
      "TRAFALGAR, index 0 is out of bounds for axis 0 with size 0\n",
      "TRAFALGAR EAST, index 0 is out of bounds for axis 0 with size 0\n",
      "TRAFALGAR SOUTH, index 0 is out of bounds for axis 0 with size 0\n",
      "ABERFELDY, index 0 is out of bounds for axis 0 with size 0\n",
      "AMOR, index 0 is out of bounds for axis 0 with size 0\n",
      "BOOLA, index 0 is out of bounds for axis 0 with size 0\n",
      "CARINGAL, index 0 is out of bounds for axis 0 with size 0\n",
      "COALVILLE, index 0 is out of bounds for axis 0 with size 0\n",
      "COOPERS CREEK, index 0 is out of bounds for axis 0 with size 0\n",
      "ERICA, index 0 is out of bounds for axis 0 with size 0\n",
      "FUMINA, index 0 is out of bounds for axis 0 with size 0\n",
      "FUMINA SOUTH, index 0 is out of bounds for axis 0 with size 0\n",
      "HERNES OAK, index 0 is out of bounds for axis 0 with size 0\n",
      "HILL END, index 0 is out of bounds for axis 0 with size 0\n",
      "JACOB CREEK, index 0 is out of bounds for axis 0 with size 0\n",
      "JERICHO, index 0 is out of bounds for axis 0 with size 0\n",
      "MOE, index 0 is out of bounds for axis 0 with size 0\n",
      "MOE SOUTH, index 0 is out of bounds for axis 0 with size 0\n",
      "MOONDARRA, index 0 is out of bounds for axis 0 with size 0\n",
      "NEWBOROUGH, index 0 is out of bounds for axis 0 with size 0\n",
      "NEWBOROUGH EAST, index 0 is out of bounds for axis 0 with size 0\n",
      "RAWSON, index 0 is out of bounds for axis 0 with size 0\n",
      "TANJIL, index 0 is out of bounds for axis 0 with size 0\n",
      "TANJIL SOUTH, index 0 is out of bounds for axis 0 with size 0\n",
      "THALLOO, index 0 is out of bounds for axis 0 with size 0\n",
      "THALOO, index 0 is out of bounds for axis 0 with size 0\n",
      "THOMSON, index 0 is out of bounds for axis 0 with size 0\n",
      "TOOMBON, index 0 is out of bounds for axis 0 with size 0\n",
      "WALHALLA, index 0 is out of bounds for axis 0 with size 0\n",
      "WALHALLA EAST, index 0 is out of bounds for axis 0 with size 0\n",
      "WESTBURY, index 0 is out of bounds for axis 0 with size 0\n",
      "WILLOW GROVE, index 0 is out of bounds for axis 0 with size 0\n",
      "YALLOURN, index 0 is out of bounds for axis 0 with size 0\n",
      "YALLOURN NORTH, index 0 is out of bounds for axis 0 with size 0\n",
      "DRIFFIELD, index 0 is out of bounds for axis 0 with size 0\n",
      "HAZELWOOD, index 0 is out of bounds for axis 0 with size 0\n",
      "HAZELWOOD NORTH, index 0 is out of bounds for axis 0 with size 0\n",
      "HAZELWOOD SOUTH, index 0 is out of bounds for axis 0 with size 0\n",
      "JEERALANG, index 0 is out of bounds for axis 0 with size 0\n",
      "JEERALANG JUNCTION, index 0 is out of bounds for axis 0 with size 0\n",
      "MARYVALE, index 0 is out of bounds for axis 0 with size 0\n",
      "MID VALLEY, index 0 is out of bounds for axis 0 with size 0\n",
      "MORWELL, index 0 is out of bounds for axis 0 with size 0\n",
      "MORWELL EAST, index 0 is out of bounds for axis 0 with size 0\n",
      "MORWELL UPPER, index 0 is out of bounds for axis 0 with size 0\n",
      "CHURCHILL, index 0 is out of bounds for axis 0 with size 0\n",
      "BLACKWARRY, index 0 is out of bounds for axis 0 with size 0\n",
      "CALLIGNEE, index 0 is out of bounds for axis 0 with size 0\n",
      "CALLIGNEE NORTH, index 0 is out of bounds for axis 0 with size 0\n",
      "CALLIGNEE SOUTH, index 0 is out of bounds for axis 0 with size 0\n",
      "CARRAJUNG, index 0 is out of bounds for axis 0 with size 0\n",
      "CARRAJUNG LOWER, index 0 is out of bounds for axis 0 with size 0\n",
      "CARRAJUNG SOUTH, index 0 is out of bounds for axis 0 with size 0\n",
      "FLYNN, index 0 is out of bounds for axis 0 with size 0\n",
      "FLYNNS CREEK, index 0 is out of bounds for axis 0 with size 0\n",
      "KOORNALLA, index 0 is out of bounds for axis 0 with size 0\n",
      "LOY YANG, index 0 is out of bounds for axis 0 with size 0\n",
      "MOUNT TASSIE, index 0 is out of bounds for axis 0 with size 0\n",
      "TRARALGON, index 0 is out of bounds for axis 0 with size 0\n",
      "TRARALGON EAST, index 0 is out of bounds for axis 0 with size 0\n",
      "TRARALGON SOUTH, index 0 is out of bounds for axis 0 with size 0\n",
      "TYERS, index 0 is out of bounds for axis 0 with size 0\n",
      "WILLUNG SOUTH, index 0 is out of bounds for axis 0 with size 0\n",
      "GIFFARD, index 0 is out of bounds for axis 0 with size 0\n",
      "GUTHRIDGE, index 0 is out of bounds for axis 0 with size 0\n",
      "SALE, index 0 is out of bounds for axis 0 with size 0\n",
      "SALE NORTH, index 0 is out of bounds for axis 0 with size 0\n",
      "WURRUK, index 0 is out of bounds for axis 0 with size 0\n",
      "AIRLY, index 0 is out of bounds for axis 0 with size 0\n",
      "BUNDALAGUAH, index 0 is out of bounds for axis 0 with size 0\n",
      "CLYDEBANK, index 0 is out of bounds for axis 0 with size 0\n",
      "COBAINS, index 0 is out of bounds for axis 0 with size 0\n",
      "DARRIMAN, index 0 is out of bounds for axis 0 with size 0\n",
      "DUTSON, index 0 is out of bounds for axis 0 with size 0\n",
      "DUTSON DOWNS, index 0 is out of bounds for axis 0 with size 0\n",
      "FLAMINGO BEACH, index 0 is out of bounds for axis 0 with size 0\n",
      "FULHAM, index 0 is out of bounds for axis 0 with size 0\n",
      "GIFFARD, index 0 is out of bounds for axis 0 with size 0\n",
      "GIFFARD WEST, index 0 is out of bounds for axis 0 with size 0\n",
      "GLOMAR BEACH, index 0 is out of bounds for axis 0 with size 0\n",
      "GOLDEN BEACH, index 0 is out of bounds for axis 0 with size 0\n",
      "KILMANY, index 0 is out of bounds for axis 0 with size 0\n",
      "LAKE WELLINGTON, index 0 is out of bounds for axis 0 with size 0\n",
      "LOCH SPORT, index 0 is out of bounds for axis 0 with size 0\n",
      "LONGFORD, index 0 is out of bounds for axis 0 with size 0\n",
      "MONTGOMERY, index 0 is out of bounds for axis 0 with size 0\n",
      "MYRTLEBANK, index 0 is out of bounds for axis 0 with size 0\n",
      "PARADISE BEACH, index 0 is out of bounds for axis 0 with size 0\n",
      "PEARSONDALE, index 0 is out of bounds for axis 0 with size 0\n",
      "SEACOMBE, index 0 is out of bounds for axis 0 with size 0\n",
      "SEASPRAY, index 0 is out of bounds for axis 0 with size 0\n",
      "SOMERTON PARK, index 0 is out of bounds for axis 0 with size 0\n",
      "STRADBROKE, index 0 is out of bounds for axis 0 with size 0\n",
      "THE HEART, index 0 is out of bounds for axis 0 with size 0\n",
      "THE HONEYSUCKLES, index 0 is out of bounds for axis 0 with size 0\n",
      "TOONGABBIE, index 0 is out of bounds for axis 0 with size 0\n",
      "ARBUCKLE, index 0 is out of bounds for axis 0 with size 0\n",
      "BILLABONG, index 0 is out of bounds for axis 0 with size 0\n",
      "BURAGWONDUC, index 0 is out of bounds for axis 0 with size 0\n",
      "CROOKAYAN, index 0 is out of bounds for axis 0 with size 0\n",
      "DAWSON, index 0 is out of bounds for axis 0 with size 0\n",
      "DENISON, index 0 is out of bounds for axis 0 with size 0\n",
      "GILLUM, index 0 is out of bounds for axis 0 with size 0\n",
      "GLEN FALLOCH, index 0 is out of bounds for axis 0 with size 0\n",
      "GLENFALLOCH, index 0 is out of bounds for axis 0 with size 0\n",
      "GLENMAGGIE, index 0 is out of bounds for axis 0 with size 0\n",
      "HEYFIELD, index 0 is out of bounds for axis 0 with size 0\n",
      "HOWITT PLAINS, index 0 is out of bounds for axis 0 with size 0\n",
      "LICOLA, index 0 is out of bounds for axis 0 with size 0\n",
      "LICOLA NORTH, index 0 is out of bounds for axis 0 with size 0\n",
      "REYNARD, index 0 is out of bounds for axis 0 with size 0\n",
      "SARGOOD, index 0 is out of bounds for axis 0 with size 0\n",
      "SEATON, index 0 is out of bounds for axis 0 with size 0\n",
      "TAMBORITHA, index 0 is out of bounds for axis 0 with size 0\n",
      "WINNINDOO, index 0 is out of bounds for axis 0 with size 0\n",
      "WORROWING, index 0 is out of bounds for axis 0 with size 0\n",
      "YANGOURA, index 0 is out of bounds for axis 0 with size 0\n",
      "BOISDALE, index 0 is out of bounds for axis 0 with size 0\n",
      "BRIAGOLONG, index 0 is out of bounds for axis 0 with size 0\n",
      "BUSHY PARK, index 0 is out of bounds for axis 0 with size 0\n",
      "COONGULLA, index 0 is out of bounds for axis 0 with size 0\n",
      "KOOROOL, index 0 is out of bounds for axis 0 with size 0\n",
      "MAFFRA, index 0 is out of bounds for axis 0 with size 0\n",
      "MONOMAK, index 0 is out of bounds for axis 0 with size 0\n",
      "MOROKA, index 0 is out of bounds for axis 0 with size 0\n",
      "NAP NAP MARRA, index 0 is out of bounds for axis 0 with size 0\n",
      "NUNTIN, index 0 is out of bounds for axis 0 with size 0\n",
      "RIVERSLEA, index 0 is out of bounds for axis 0 with size 0\n",
      "TOOLOME, index 0 is out of bounds for axis 0 with size 0\n",
      "VALENCIA CREEK, index 0 is out of bounds for axis 0 with size 0\n",
      "WOOLENOOK, index 0 is out of bounds for axis 0 with size 0\n",
      "WRATHUNG, index 0 is out of bounds for axis 0 with size 0\n",
      "WRIXON, index 0 is out of bounds for axis 0 with size 0\n",
      "BUDGEE BUDGEE, index 0 is out of bounds for axis 0 with size 0\n",
      "CASTLEBURN, index 0 is out of bounds for axis 0 with size 0\n",
      "COBBANNAH, index 0 is out of bounds for axis 0 with size 0\n",
      "COWA, index 0 is out of bounds for axis 0 with size 0\n",
      "CROOKED RIVER, index 0 is out of bounds for axis 0 with size 0\n",
      "DARGO, index 0 is out of bounds for axis 0 with size 0\n",
      "HAWKHURST, index 0 is out of bounds for axis 0 with size 0\n",
      "HOLLANDS LANDING, index 0 is out of bounds for axis 0 with size 0\n",
      "LLOWALONG, index 0 is out of bounds for axis 0 with size 0\n",
      "MEERLIEU, index 0 is out of bounds for axis 0 with size 0\n",
      "MIOWERA, index 0 is out of bounds for axis 0 with size 0\n",
      "MOORNAPA, index 0 is out of bounds for axis 0 with size 0\n",
      "MUNRO, index 0 is out of bounds for axis 0 with size 0\n",
      "PERRY BRIDGE, index 0 is out of bounds for axis 0 with size 0\n",
      "STOCKDALE, index 0 is out of bounds for axis 0 with size 0\n",
      "STRATFORD, index 0 is out of bounds for axis 0 with size 0\n",
      "WATERFORD, index 0 is out of bounds for axis 0 with size 0\n",
      "WONGUNGARRA, index 0 is out of bounds for axis 0 with size 0\n",
      "LINDENOW, index 0 is out of bounds for axis 0 with size 0\n",
      "JUMBUK, index 0 is out of bounds for axis 0 with size 0\n",
      "YINNAR, index 0 is out of bounds for axis 0 with size 0\n",
      "YINNAR SOUTH, index 0 is out of bounds for axis 0 with size 0\n",
      "ALLAMBEE RESERVE, index 0 is out of bounds for axis 0 with size 0\n",
      "ALLAMBEE SOUTH, index 0 is out of bounds for axis 0 with size 0\n",
      "BAROMI, index 0 is out of bounds for axis 0 with size 0\n",
      "DARLIMURLA, index 0 is out of bounds for axis 0 with size 0\n",
      "DELBURN, index 0 is out of bounds for axis 0 with size 0\n",
      "DOLLAR, index 0 is out of bounds for axis 0 with size 0\n",
      "LIMONITE, index 0 is out of bounds for axis 0 with size 0\n",
      "MIRBOO, index 0 is out of bounds for axis 0 with size 0\n",
      "MIRBOO NORTH, index 0 is out of bounds for axis 0 with size 0\n",
      "TARWIN EAST, index 0 is out of bounds for axis 0 with size 0\n",
      "BAIRNSDALE, index 0 is out of bounds for axis 0 with size 0\n",
      "BANKSIA PENINSULA, index 0 is out of bounds for axis 0 with size 0\n",
      "BENGWORDEN, index 0 is out of bounds for axis 0 with size 0\n",
      "BROADLANDS, index 0 is out of bounds for axis 0 with size 0\n",
      "BULLUMWAAL, index 0 is out of bounds for axis 0 with size 0\n",
      "CALULU, index 0 is out of bounds for axis 0 with size 0\n",
      "CLIFTON CREEK, index 0 is out of bounds for axis 0 with size 0\n",
      "DEPTFORD, index 0 is out of bounds for axis 0 with size 0\n",
      "EAST BAIRNSDALE, index 0 is out of bounds for axis 0 with size 0\n",
      "EASTWOOD, index 0 is out of bounds for axis 0 with size 0\n",
      "ELLASWOOD, index 0 is out of bounds for axis 0 with size 0\n",
      "FAIRY DELL, index 0 is out of bounds for axis 0 with size 0\n",
      "FLAGGY CREEK, index 0 is out of bounds for axis 0 with size 0\n",
      "FORGE CREEK, index 0 is out of bounds for axis 0 with size 0\n",
      "GOON NURE, index 0 is out of bounds for axis 0 with size 0\n",
      "GRANITE ROCK, index 0 is out of bounds for axis 0 with size 0\n"
     ]
    },
    {
     "name": "stderr",
     "output_type": "stream",
     "text": [
      "/Users/matthewrush/virtualenv/lib/python3.10/site-packages/pyrosm/pyrosm.py:576: UserWarning: Could not find any POIs for given area.\n",
      "  gdf = get_poi_data(\n"
     ]
    },
    {
     "name": "stdout",
     "output_type": "stream",
     "text": [
      "HILLSIDE, 'NoneType' object is not subscriptable\n",
      "HOLLANDS LANDING, index 0 is out of bounds for axis 0 with size 0\n",
      "IGUANA CREEK, index 0 is out of bounds for axis 0 with size 0\n",
      "LINDENOW SOUTH, index 0 is out of bounds for axis 0 with size 0\n",
      "LUCKNOW, index 0 is out of bounds for axis 0 with size 0\n",
      "MARTHAVALE, index 0 is out of bounds for axis 0 with size 0\n",
      "MELWOOD, index 0 is out of bounds for axis 0 with size 0\n",
      "MERRIJIG, index 0 is out of bounds for axis 0 with size 0\n",
      "MOUNT TAYLOR, index 0 is out of bounds for axis 0 with size 0\n",
      "NEWLANDS ARM, index 0 is out of bounds for axis 0 with size 0\n",
      "RYANS, index 0 is out of bounds for axis 0 with size 0\n",
      "SARSFIELD, index 0 is out of bounds for axis 0 with size 0\n",
      "TABBERABBERA, index 0 is out of bounds for axis 0 with size 0\n",
      "WALPA, index 0 is out of bounds for axis 0 with size 0\n",
      "WATERHOLES, index 0 is out of bounds for axis 0 with size 0\n",
      "WENTWORTH, index 0 is out of bounds for axis 0 with size 0\n",
      "WOODGLEN, index 0 is out of bounds for axis 0 with size 0\n",
      "WUK WUK, index 0 is out of bounds for axis 0 with size 0\n",
      "WY YUNG, index 0 is out of bounds for axis 0 with size 0\n",
      "BOOLE POOLE, index 0 is out of bounds for axis 0 with size 0\n",
      "OCEAN GRANGE, index 0 is out of bounds for axis 0 with size 0\n",
      "PAYNESVILLE, index 0 is out of bounds for axis 0 with size 0\n",
      "RAYMOND ISLAND, index 0 is out of bounds for axis 0 with size 0\n",
      "NICHOLSON, index 0 is out of bounds for axis 0 with size 0\n",
      "NEWMERELLA, index 0 is out of bounds for axis 0 with size 0\n",
      "BENDOC, index 0 is out of bounds for axis 0 with size 0\n",
      "BETE BOLONG, index 0 is out of bounds for axis 0 with size 0\n",
      "BETE BOLONG NORTH, index 0 is out of bounds for axis 0 with size 0\n",
      "BONANG, index 0 is out of bounds for axis 0 with size 0\n",
      "BRODRIBB RIVER, index 0 is out of bounds for axis 0 with size 0\n",
      "CABANANDRA, index 0 is out of bounds for axis 0 with size 0\n",
      "CAPE CONRAN, index 0 is out of bounds for axis 0 with size 0\n",
      "CORRINGLE, index 0 is out of bounds for axis 0 with size 0\n",
      "DEDDICK VALLEY, index 0 is out of bounds for axis 0 with size 0\n",
      "DELEGATE RIVER, index 0 is out of bounds for axis 0 with size 0\n",
      "DELEGATE RIVER EAST, index 0 is out of bounds for axis 0 with size 0\n",
      "DELLICKNORA, index 0 is out of bounds for axis 0 with size 0\n",
      "GOONGERAH, index 0 is out of bounds for axis 0 with size 0\n",
      "HAYDENS BOG, index 0 is out of bounds for axis 0 with size 0\n",
      "JARRAHMOND, index 0 is out of bounds for axis 0 with size 0\n",
      "LOCHEND, index 0 is out of bounds for axis 0 with size 0\n",
      "MARLO, index 0 is out of bounds for axis 0 with size 0\n",
      "MARTINS CREEK, index 0 is out of bounds for axis 0 with size 0\n",
      "NURRAN, index 0 is out of bounds for axis 0 with size 0\n",
      "OMEO VALLEY, index 0 is out of bounds for axis 0 with size 0\n",
      "ORBOST, index 0 is out of bounds for axis 0 with size 0\n",
      "SIMPSONS CREEK, index 0 is out of bounds for axis 0 with size 0\n",
      "TOSTAREE, index 0 is out of bounds for axis 0 with size 0\n",
      "TUBBUT, index 0 is out of bounds for axis 0 with size 0\n",
      "WAYGARA, index 0 is out of bounds for axis 0 with size 0\n",
      "WOMBAT CREEK, index 0 is out of bounds for axis 0 with size 0\n",
      "MALLACOOTA, index 0 is out of bounds for axis 0 with size 0\n",
      "ANGLERS REST, index 0 is out of bounds for axis 0 with size 0\n",
      "BINGO, index 0 is out of bounds for axis 0 with size 0\n",
      "BINGO MUNJIE, index 0 is out of bounds for axis 0 with size 0\n",
      "BUNDARA, index 0 is out of bounds for axis 0 with size 0\n",
      "CASSILIS, index 0 is out of bounds for axis 0 with size 0\n",
      "COBUNGRA, index 0 is out of bounds for axis 0 with size 0\n",
      "DINNER PLAIN, index 0 is out of bounds for axis 0 with size 0\n",
      "GLEN VALLEY, index 0 is out of bounds for axis 0 with size 0\n",
      "GLEN WILLS, index 0 is out of bounds for axis 0 with size 0\n",
      "HINNOMUNJIE, index 0 is out of bounds for axis 0 with size 0\n",
      "OMEO, index 0 is out of bounds for axis 0 with size 0\n",
      "OMEO VALLEY, index 0 is out of bounds for axis 0 with size 0\n",
      "SHANNONVALE, index 0 is out of bounds for axis 0 with size 0\n",
      "SWAN REACH, index 0 is out of bounds for axis 0 with size 0\n",
      "METUNG, index 0 is out of bounds for axis 0 with size 0\n",
      "KALIMNA, index 0 is out of bounds for axis 0 with size 0\n",
      "KALIMNA WEST, index 0 is out of bounds for axis 0 with size 0\n",
      "LAKE BUNGA, index 0 is out of bounds for axis 0 with size 0\n",
      "LAKE TYERS BEACH, index 0 is out of bounds for axis 0 with size 0\n",
      "LAKES ENTRANCE, index 0 is out of bounds for axis 0 with size 0\n",
      "NUNGURNER, index 0 is out of bounds for axis 0 with size 0\n",
      "NYERIMILANG, index 0 is out of bounds for axis 0 with size 0\n",
      "TOORLOO ARM, index 0 is out of bounds for axis 0 with size 0\n",
      "LANGWARRIN, index 0 is out of bounds for axis 0 with size 0\n",
      "BAXTER, index 0 is out of bounds for axis 0 with size 0\n",
      "LANGWARRIN SOUTH, index 0 is out of bounds for axis 0 with size 0\n",
      "PEARCEDALE, index 0 is out of bounds for axis 0 with size 0\n",
      "SOMERVILLE, index 0 is out of bounds for axis 0 with size 0\n",
      "TYABB, index 0 is out of bounds for axis 0 with size 0\n",
      "HASTINGS, index 0 is out of bounds for axis 0 with size 0\n",
      "TUERONG, index 0 is out of bounds for axis 0 with size 0\n",
      "BITTERN, index 0 is out of bounds for axis 0 with size 0\n",
      "CRIB POINT, index 0 is out of bounds for axis 0 with size 0\n",
      "COWES, index 0 is out of bounds for axis 0 with size 0\n",
      "SILVERLEAVES, index 0 is out of bounds for axis 0 with size 0\n",
      "SMITHS BEACH, index 0 is out of bounds for axis 0 with size 0\n",
      "SUMMERLANDS, index 0 is out of bounds for axis 0 with size 0\n",
      "SUNDERLAND BAY, index 0 is out of bounds for axis 0 with size 0\n",
      "SUNSET STRIP, index 0 is out of bounds for axis 0 with size 0\n",
      "SURF BEACH, index 0 is out of bounds for axis 0 with size 0\n",
      "VENTNOR, index 0 is out of bounds for axis 0 with size 0\n",
      "WIMBLEDON HEIGHTS, index 0 is out of bounds for axis 0 with size 0\n",
      "CAPE WOOLAMAI, index 0 is out of bounds for axis 0 with size 0\n",
      "CHURCHILL ISLAND, index 0 is out of bounds for axis 0 with size 0\n",
      "NEWHAVEN, index 0 is out of bounds for axis 0 with size 0\n",
      "SAN REMO, index 0 is out of bounds for axis 0 with size 0\n",
      "BALNARRING, index 0 is out of bounds for axis 0 with size 0\n",
      "BALNARRING BEACH, index 0 is out of bounds for axis 0 with size 0\n",
      "MERRICKS BEACH, index 0 is out of bounds for axis 0 with size 0\n",
      "MERRICKS NORTH, index 0 is out of bounds for axis 0 with size 0\n",
      "FLINDERS, index 0 is out of bounds for axis 0 with size 0\n",
      "KUNYUNG, index 0 is out of bounds for axis 0 with size 0\n",
      "MOUNT ELIZA, index 0 is out of bounds for axis 0 with size 0\n",
      "MORNINGTON, index 0 is out of bounds for axis 0 with size 0\n",
      "MOUNT MARTHA, index 0 is out of bounds for axis 0 with size 0\n",
      "ARTHURS SEAT, index 0 is out of bounds for axis 0 with size 0\n",
      "DROMANA, index 0 is out of bounds for axis 0 with size 0\n",
      "SAFETY BEACH, index 0 is out of bounds for axis 0 with size 0\n",
      "RED HILL, index 0 is out of bounds for axis 0 with size 0\n",
      "RED HILL SOUTH, index 0 is out of bounds for axis 0 with size 0\n",
      "MCCRAE, index 0 is out of bounds for axis 0 with size 0\n",
      "BONEO, index 0 is out of bounds for axis 0 with size 0\n",
      "CAPE SCHANCK, index 0 is out of bounds for axis 0 with size 0\n",
      "FINGAL, index 0 is out of bounds for axis 0 with size 0\n",
      "ROSEBUD, index 0 is out of bounds for axis 0 with size 0\n",
      "ROSEBUD PLAZA, index 0 is out of bounds for axis 0 with size 0\n",
      "CAPEL SOUND, index 0 is out of bounds for axis 0 with size 0\n",
      "ROSEBUD WEST, index 0 is out of bounds for axis 0 with size 0\n",
      "RYE, index 0 is out of bounds for axis 0 with size 0\n",
      "ST ANDREWS BEACH, index 0 is out of bounds for axis 0 with size 0\n",
      "TOOTGAROOK, index 0 is out of bounds for axis 0 with size 0\n",
      "BLAIRGOWRIE, index 0 is out of bounds for axis 0 with size 0\n",
      "SORRENTO, index 0 is out of bounds for axis 0 with size 0\n",
      "PORTSEA, index 0 is out of bounds for axis 0 with size 0\n",
      "BENA, index 0 is out of bounds for axis 0 with size 0\n",
      "KARDELLA SOUTH, index 0 is out of bounds for axis 0 with size 0\n",
      "KORUMBURRA, index 0 is out of bounds for axis 0 with size 0\n",
      "KORUMBURRA SOUTH, index 0 is out of bounds for axis 0 with size 0\n",
      "STRZELECKI, index 0 is out of bounds for axis 0 with size 0\n",
      "WHITELAW, index 0 is out of bounds for axis 0 with size 0\n",
      "BERRYS CREEK, index 0 is out of bounds for axis 0 with size 0\n",
      "BOOROOL, index 0 is out of bounds for axis 0 with size 0\n",
      "HALLSTON, index 0 is out of bounds for axis 0 with size 0\n",
      "KOOROOMAN, index 0 is out of bounds for axis 0 with size 0\n",
      "LEONGATHA, index 0 is out of bounds for axis 0 with size 0\n",
      "LEONGATHA NORTH, index 0 is out of bounds for axis 0 with size 0\n",
      "LEONGATHA SOUTH, index 0 is out of bounds for axis 0 with size 0\n",
      "MARDAN, index 0 is out of bounds for axis 0 with size 0\n",
      "MOUNT ECCLES, index 0 is out of bounds for axis 0 with size 0\n",
      "MOUNT ECCLES SOUTH, index 0 is out of bounds for axis 0 with size 0\n",
      "NERRENA, index 0 is out of bounds for axis 0 with size 0\n",
      "RUBY, index 0 is out of bounds for axis 0 with size 0\n",
      "TRIDA, index 0 is out of bounds for axis 0 with size 0\n",
      "WILD DOG VALLEY, index 0 is out of bounds for axis 0 with size 0\n",
      "WOOREEN, index 0 is out of bounds for axis 0 with size 0\n",
      "DUMBALK, index 0 is out of bounds for axis 0 with size 0\n",
      "DUMBALK NORTH, index 0 is out of bounds for axis 0 with size 0\n",
      "MEENIYAN, index 0 is out of bounds for axis 0 with size 0\n",
      "MIDDLE TARWIN, index 0 is out of bounds for axis 0 with size 0\n",
      "MIRBOO SOUTH, index 0 is out of bounds for axis 0 with size 0\n",
      "TARWIN, index 0 is out of bounds for axis 0 with size 0\n",
      "TARWIN LOWER, index 0 is out of bounds for axis 0 with size 0\n",
      "VENUS BAY, index 0 is out of bounds for axis 0 with size 0\n",
      "WALKERVILLE, index 0 is out of bounds for axis 0 with size 0\n",
      "WALKERVILLE NORTH, index 0 is out of bounds for axis 0 with size 0\n",
      "WALKERVILLE SOUTH, index 0 is out of bounds for axis 0 with size 0\n",
      "BENNISON, index 0 is out of bounds for axis 0 with size 0\n",
      "BOOLARONG, index 0 is out of bounds for axis 0 with size 0\n",
      "FOSTER, index 0 is out of bounds for axis 0 with size 0\n",
      "FOSTER NORTH, index 0 is out of bounds for axis 0 with size 0\n",
      "GUNYAH, index 0 is out of bounds for axis 0 with size 0\n",
      "MOUNT BEST, index 0 is out of bounds for axis 0 with size 0\n",
      "RUMBUG, index 0 is out of bounds for axis 0 with size 0\n",
      "SHALLOW INLET, index 0 is out of bounds for axis 0 with size 0\n",
      "TIDAL RIVER, index 0 is out of bounds for axis 0 with size 0\n",
      "TURTONS CREEK, index 0 is out of bounds for axis 0 with size 0\n",
      "WILSONS PROMONTORY, index 0 is out of bounds for axis 0 with size 0\n",
      "WOORARRA WEST, index 0 is out of bounds for axis 0 with size 0\n",
      "YANAKIE, index 0 is out of bounds for axis 0 with size 0\n",
      "ALBERTON, index 0 is out of bounds for axis 0 with size 0\n",
      "ALBERTON WEST, index 0 is out of bounds for axis 0 with size 0\n",
      "BALOOK, index 0 is out of bounds for axis 0 with size 0\n",
      "BAROMI, index 0 is out of bounds for axis 0 with size 0\n",
      "CALROSSIE, index 0 is out of bounds for axis 0 with size 0\n",
      "DEVON NORTH, index 0 is out of bounds for axis 0 with size 0\n",
      "GELLIONDALE, index 0 is out of bounds for axis 0 with size 0\n",
      "HIAWATHA, index 0 is out of bounds for axis 0 with size 0\n",
      "HUNTERSTON, index 0 is out of bounds for axis 0 with size 0\n",
      "JACK RIVER, index 0 is out of bounds for axis 0 with size 0\n",
      "LANGSBOROUGH, index 0 is out of bounds for axis 0 with size 0\n",
      "MACKS CREEK, index 0 is out of bounds for axis 0 with size 0\n",
      "MADALYA, index 0 is out of bounds for axis 0 with size 0\n",
      "MANNS BEACH, index 0 is out of bounds for axis 0 with size 0\n",
      "PORT ALBERT, index 0 is out of bounds for axis 0 with size 0\n",
      "ROBERTSONS BEACH, index 0 is out of bounds for axis 0 with size 0\n",
      "SNAKE ISLAND, index 0 is out of bounds for axis 0 with size 0\n",
      "STACEYS BRIDGE, index 0 is out of bounds for axis 0 with size 0\n",
      "TARRA VALLEY, index 0 is out of bounds for axis 0 with size 0\n",
      "TARRAVILLE, index 0 is out of bounds for axis 0 with size 0\n",
      "WON WRON, index 0 is out of bounds for axis 0 with size 0\n"
     ]
    },
    {
     "name": "stderr",
     "output_type": "stream",
     "text": [
      "/Users/matthewrush/virtualenv/lib/python3.10/site-packages/pyrosm/pyrosm.py:576: UserWarning: Could not find any POIs for given area.\n",
      "  gdf = get_poi_data(\n"
     ]
    },
    {
     "name": "stdout",
     "output_type": "stream",
     "text": [
      "YARRAM, 'NoneType' object is not subscriptable\n",
      "LYNBROOK, index 0 is out of bounds for axis 0 with size 0\n",
      "LYNDHURST, index 0 is out of bounds for axis 0 with size 0\n"
     ]
    },
    {
     "name": "stderr",
     "output_type": "stream",
     "text": [
      "/Users/matthewrush/virtualenv/lib/python3.10/site-packages/pyrosm/pyrosm.py:576: UserWarning: Could not find any POIs for given area.\n",
      "  gdf = get_poi_data(\n"
     ]
    },
    {
     "name": "stdout",
     "output_type": "stream",
     "text": [
      "HAMPTON PARK, 'NoneType' object is not subscriptable\n",
      "BOTANIC RIDGE, index 0 is out of bounds for axis 0 with size 0\n",
      "CANNONS CREEK, index 0 is out of bounds for axis 0 with size 0\n",
      "CRANBOURNE, index 0 is out of bounds for axis 0 with size 0\n",
      "CRANBOURNE EAST, index 0 is out of bounds for axis 0 with size 0\n",
      "CRANBOURNE NORTH, index 0 is out of bounds for axis 0 with size 0\n",
      "CRANBOURNE SOUTH, index 0 is out of bounds for axis 0 with size 0\n",
      "CRANBOURNE WEST, index 0 is out of bounds for axis 0 with size 0\n",
      "DEVON MEADOWS, index 0 is out of bounds for axis 0 with size 0\n",
      "FIVE WAYS, index 0 is out of bounds for axis 0 with size 0\n",
      "JUNCTION VILLAGE, index 0 is out of bounds for axis 0 with size 0\n",
      "SANDHURST, index 0 is out of bounds for axis 0 with size 0\n",
      "SKYE, index 0 is out of bounds for axis 0 with size 0\n",
      "CARDINIA, index 0 is out of bounds for axis 0 with size 0\n",
      "CLYDE, index 0 is out of bounds for axis 0 with size 0\n",
      "CLYDE NORTH, index 0 is out of bounds for axis 0 with size 0\n",
      "BLIND BIGHT, index 0 is out of bounds for axis 0 with size 0\n",
      "TOORADIN, index 0 is out of bounds for axis 0 with size 0\n",
      "WARNEET, index 0 is out of bounds for axis 0 with size 0\n",
      "BAYLES, index 0 is out of bounds for axis 0 with size 0\n",
      "CATANI, index 0 is out of bounds for axis 0 with size 0\n",
      "DALMORE, index 0 is out of bounds for axis 0 with size 0\n",
      "HEATH HILL, index 0 is out of bounds for axis 0 with size 0\n",
      "KOO WEE RUP, index 0 is out of bounds for axis 0 with size 0\n",
      "KOO WEE RUP NORTH, index 0 is out of bounds for axis 0 with size 0\n",
      "YANNATHAN, index 0 is out of bounds for axis 0 with size 0\n",
      "ADAMS ESTATE, index 0 is out of bounds for axis 0 with size 0\n",
      "CALDERMEADE, index 0 is out of bounds for axis 0 with size 0\n",
      "CORINELLA, index 0 is out of bounds for axis 0 with size 0\n",
      "CORONET BAY, index 0 is out of bounds for axis 0 with size 0\n",
      "GRANTVILLE, index 0 is out of bounds for axis 0 with size 0\n",
      "JAM JERRUP, index 0 is out of bounds for axis 0 with size 0\n",
      "LANG LANG, index 0 is out of bounds for axis 0 with size 0\n",
      "LANG LANG EAST, index 0 is out of bounds for axis 0 with size 0\n",
      "MONOMEITH, index 0 is out of bounds for axis 0 with size 0\n",
      "PIONEER BAY, index 0 is out of bounds for axis 0 with size 0\n",
      "QUEENSFERRY, index 0 is out of bounds for axis 0 with size 0\n",
      "TENBY POINT, index 0 is out of bounds for axis 0 with size 0\n",
      "THE GURDIES, index 0 is out of bounds for axis 0 with size 0\n",
      "NYORA, index 0 is out of bounds for axis 0 with size 0\n",
      "BLACKWOOD FOREST, index 0 is out of bounds for axis 0 with size 0\n",
      "DALYSTON, index 0 is out of bounds for axis 0 with size 0\n",
      "RYANSTON, index 0 is out of bounds for axis 0 with size 0\n",
      "WEST CREEK, index 0 is out of bounds for axis 0 with size 0\n",
      "ANDERSON, index 0 is out of bounds for axis 0 with size 0\n",
      "ARCHIES CREEK, index 0 is out of bounds for axis 0 with size 0\n",
      "CAPE PATERSON, index 0 is out of bounds for axis 0 with size 0\n",
      "HARMERS HAVEN, index 0 is out of bounds for axis 0 with size 0\n",
      "HICKSBOROUGH, index 0 is out of bounds for axis 0 with size 0\n",
      "KILCUNDA, index 0 is out of bounds for axis 0 with size 0\n",
      "LANCE CREEK, index 0 is out of bounds for axis 0 with size 0\n",
      "NORTH WONTHAGGI, index 0 is out of bounds for axis 0 with size 0\n",
      "POWLETT RIVER, index 0 is out of bounds for axis 0 with size 0\n",
      "SOUTH DUDLEY, index 0 is out of bounds for axis 0 with size 0\n",
      "ST CLAIR, index 0 is out of bounds for axis 0 with size 0\n",
      "WATTLE BANK, index 0 is out of bounds for axis 0 with size 0\n",
      "WONTHAGGI, index 0 is out of bounds for axis 0 with size 0\n",
      "WOOLAMAI, index 0 is out of bounds for axis 0 with size 0\n",
      "INVERLOCH, index 0 is out of bounds for axis 0 with size 0\n",
      "POUND CREEK, index 0 is out of bounds for axis 0 with size 0\n"
     ]
    }
   ],
   "source": [
    "property_df['shop_count'] = property_df.apply(lambda x: shop_count(osm, fp, x['postcode'], postcode_df), axis=1)"
   ]
  },
  {
   "cell_type": "code",
   "execution_count": 50,
   "metadata": {},
   "outputs": [],
   "source": [
    "def score(\n",
    "    property_df,\n",
    "    school_duration,\n",
    "    school_distance,\n",
    "    park_duration,\n",
    "    park_distance,\n",
    "    shop_duration,\n",
    "    shop_distance,\n",
    "):\n",
    "\n",
    "    if school_duration == 0:\n",
    "        school_duration_score = 100\n",
    "    else:\n",
    "        school_duration_score = percentileofscore(\n",
    "            property_df.school_duration, school_duration\n",
    "        )\n",
    "    if school_distance == 0:\n",
    "        school_distance_score = 100\n",
    "    else:\n",
    "        school_distance_score = percentileofscore(\n",
    "            property_df.school_distance, school_distance\n",
    "        )\n",
    "    if park_duration == 0:\n",
    "        park_duration_score = 100\n",
    "    else:\n",
    "        park_duration_score = percentileofscore(\n",
    "            property_df.park_duration, park_duration\n",
    "        )\n",
    "    if park_distance == 0:\n",
    "        park_distace_score = 100\n",
    "    else:\n",
    "        park_distace_score = percentileofscore(property_df.park_distance, park_distance)\n",
    "    if shop_duration == 0:\n",
    "        shop_duration_score = 100\n",
    "    else:\n",
    "        shop_duration_score = percentileofscore(\n",
    "            property_df.shop_duration, shop_duration\n",
    "        )\n",
    "    if shop_distance == 0:\n",
    "        shop_distance_score = 100\n",
    "    else:\n",
    "        shop_distance_score = percentileofscore(\n",
    "            property_df.shop_distance, shop_distance\n",
    "        )\n",
    "\n",
    "    score = (\n",
    "        school_distance_score\n",
    "        + park_duration_score\n",
    "        + park_distace_score\n",
    "        + shop_duration_score\n",
    "        + shop_distance_score\n",
    "        + shop_distance_score\n",
    "    )\n",
    "    return score\n"
   ]
  },
  {
   "cell_type": "code",
   "execution_count": 51,
   "metadata": {},
   "outputs": [],
   "source": [
    "property_df[\"score\"] = property_df.apply(\n",
    "    lambda x: score(\n",
    "        property_df,\n",
    "        x[\"school_duration\"],\n",
    "        x[\"school_distance\"],\n",
    "        x[\"park_duration\"],\n",
    "        x[\"park_distance\"],\n",
    "        x[\"shop_duration\"],\n",
    "        x[\"shop_distance\"],\n",
    "    ),\n",
    "    axis=1,\n",
    ")\n"
   ]
  },
  {
   "cell_type": "code",
   "execution_count": 52,
   "metadata": {},
   "outputs": [],
   "source": [
    "# property_df = pd.read_csv(\"../data/curated/test.csv\")\n",
    "property_df = property_df.sort_values('score')"
   ]
  },
  {
   "cell_type": "code",
   "execution_count": 55,
   "metadata": {},
   "outputs": [
    {
     "data": {
      "text/plain": [
       "114    3141.0\n",
       "2      3003.0\n",
       "4      3006.0\n",
       "46     3056.0\n",
       "48     3058.0\n",
       "Name: postcode, dtype: float64"
      ]
     },
     "execution_count": 55,
     "metadata": {},
     "output_type": "execute_result"
    }
   ],
   "source": [
    "property_df['postcode'].head()"
   ]
  }
 ],
 "metadata": {
  "kernelspec": {
   "display_name": "Python 3.10.0 64-bit ('virtualenv': venv)",
   "language": "python",
   "name": "python3"
  },
  "language_info": {
   "codemirror_mode": {
    "name": "ipython",
    "version": 3
   },
   "file_extension": ".py",
   "mimetype": "text/x-python",
   "name": "python",
   "nbconvert_exporter": "python",
   "pygments_lexer": "ipython3",
   "version": "3.10.0"
  },
  "orig_nbformat": 4,
  "vscode": {
   "interpreter": {
    "hash": "9d67bc8a98929733bfed30279eba52948d85bd0c999fdfd91dc6ab54ef3e87c5"
   }
  }
 },
 "nbformat": 4,
 "nbformat_minor": 2
}
