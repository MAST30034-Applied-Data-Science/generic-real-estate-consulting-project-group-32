{
 "cells": [
  {
   "cell_type": "code",
   "execution_count": 14,
   "id": "0a4a783f-f732-4962-84df-c9d1a7af581d",
   "metadata": {},
   "outputs": [],
   "source": [
    "from IPython.display import display\n",
    "import pandas as pd\n",
    "import re\n",
    "import numpy as np\n",
    "\n",
    "\n",
    "DIR_RAW = \"../data/raw/\"\n",
    "DIR_CUR = \"../data/curated/\"\n",
    "\n",
    "\n",
    "df_raw = pd.read_csv(f\"{DIR_CUR}historical_sales.csv\")\n",
    "df_cur = pd.DataFrame()\n",
    "\n",
    "\n",
    "PATTERN_BED = r\"^(\\d+) beds?\"\n",
    "PATTERN_PERCENTAGE = r\"(\\d+\\.?\\d*)\"\n",
    "PATTERN_PERFOMANCE_PRICE = r\"(\\d+\\.?\\d*[mk]?)\"\n",
    "PATTERN_INT = r\"([\\d,]+)\"\n",
    "PATTERN_RANGE = r\"(\\d+ to \\d+)|(\\d+\\+)\"\n",
    "PATTERN_PROPERTY_TYPE = r\"(?<=_)[a-z]+\"\n",
    "\n",
    "FUNC_NONE = lambda x: x\n",
    "FUNC_STR_TO_NUM = lambda x: float(x.replace(\",\", \"\"))\n",
    "FUNC_PRICE_CONVERT = lambda x: (float(x[0:-1])*1000000 if x[-1] in \"mM\"\n",
    "                                else float(x[0:-1])*1000 if x[-1] in \"kK\"\n",
    "                                else float(x))\n",
    "FUNC_PERCENTAGE = lambda x:float(x) / 100\n",
    "\n",
    "\n",
    "# show all attributes when displayed and don't truncate values\n",
    "pd.options.display.max_columns = None\n",
    "pd.set_option('display.max_colwidth', None)\n",
    "\n",
    "\n",
    "def pattern_match(df, feature, pattern, function=FUNC_NONE):\n",
    "    instances = df[feature]\n",
    "\n",
    "    values = []\n",
    "    for instance in instances:\n",
    "        instance = str(instance).lower()\n",
    "        match = re.search(pattern, instance, flags=re.IGNORECASE)\n",
    "        if match:\n",
    "            values.append(function(match.group()))\n",
    "        else:\n",
    "            values.append(None)\n",
    "    \n",
    "    return values"
   ]
  },
  {
   "cell_type": "code",
   "execution_count": 15,
   "id": "22e40eac-6b34-449b-b594-d0de9f78a486",
   "metadata": {},
   "outputs": [],
   "source": [
    "df_cur[\"suburb\"] = df_raw[\"suburb\"]\n",
    "df_cur[\"postcode\"] = df_raw[\"postcode\"]\n",
    "df_cur[\"num_beds\"] = pattern_match(df_raw, \"p_type\", PATTERN_INT)\n",
    "df_cur[\"property_type\"] = pattern_match(df_raw, \"p_type\", PATTERN_PROPERTY_TYPE)\n",
    "df_cur[\"avg_days_on_market\"] = df_raw[\"avg_days_on_market\"].apply(lambda x: x.split()[0])\n",
    "df_cur[\"clearance\"] = pattern_match(df_raw, \"clearance\", PATTERN_PERCENTAGE, FUNC_PERCENTAGE)\n",
    "df_cur[\"2022_median\"] = pattern_match(df_raw, \"2022_median\", PATTERN_PERFOMANCE_PRICE, FUNC_PRICE_CONVERT)\n",
    "df_cur[\"2022_growth\"] = pattern_match(df_raw, \"2022_growth\", PATTERN_PERCENTAGE, FUNC_PERCENTAGE)\n",
    "df_cur[\"2022_n_sold\"] = df_raw[\"2022_n_sold\"]\n",
    "df_cur[\"2021_median\"] = pattern_match(df_raw, \"2021_median\", PATTERN_PERFOMANCE_PRICE, FUNC_PRICE_CONVERT)\n",
    "df_cur[\"2021_growth\"] = pattern_match(df_raw, \"2021_growth\", PATTERN_PERCENTAGE, FUNC_PERCENTAGE)\n",
    "df_cur[\"2021_n_sold\"] = df_raw[\"2021_n_sold\"]\n",
    "df_cur[\"2020_median\"] = pattern_match(df_raw, \"2020_median\", PATTERN_PERFOMANCE_PRICE, FUNC_PRICE_CONVERT)\n",
    "df_cur[\"2020_growth\"] = pattern_match(df_raw, \"2020_growth\", PATTERN_PERCENTAGE, FUNC_PERCENTAGE)\n",
    "df_cur[\"2020_n_sold\"] = df_raw[\"2020_n_sold\"]\n",
    "df_cur[\"2019_median\"] = pattern_match(df_raw, \"2019_median\", PATTERN_PERFOMANCE_PRICE, FUNC_PRICE_CONVERT)\n",
    "df_cur[\"2019_growth\"] = pattern_match(df_raw, \"2019_growth\", PATTERN_PERCENTAGE, FUNC_PERCENTAGE)\n",
    "df_cur[\"2019_n_sold\"] = df_raw[\"2019_n_sold\"]\n",
    "df_cur[\"2018_median\"] = pattern_match(df_raw, \"2018_median\", PATTERN_PERFOMANCE_PRICE, FUNC_PRICE_CONVERT)\n",
    "df_cur[\"2018_growth\"] = pattern_match(df_raw, \"2018_growth\", PATTERN_PERCENTAGE, FUNC_PERCENTAGE)\n",
    "df_cur[\"2018_n_sold\"] = df_raw[\"2018_n_sold\"]"
   ]
  },
  {
   "cell_type": "code",
   "execution_count": 17,
   "id": "389728e1-92eb-4399-a91b-ac8963952ca8",
   "metadata": {},
   "outputs": [],
   "source": [
    "df_cur.to_csv(f\"{DIR_CUR}historical_sales_clean.csv\")"
   ]
  }
 ],
 "metadata": {
  "kernelspec": {
   "display_name": "Python 3 (ipykernel)",
   "language": "python",
   "name": "python3"
  },
  "language_info": {
   "codemirror_mode": {
    "name": "ipython",
    "version": 3
   },
   "file_extension": ".py",
   "mimetype": "text/x-python",
   "name": "python",
   "nbconvert_exporter": "python",
   "pygments_lexer": "ipython3",
   "version": "3.8.13"
  }
 },
 "nbformat": 4,
 "nbformat_minor": 5
}
