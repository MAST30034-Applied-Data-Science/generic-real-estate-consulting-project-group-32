{
 "cells": [
  {
   "cell_type": "markdown",
   "id": "e0125b53-e7f2-41db-a4e0-2a68dd9ce47f",
   "metadata": {},
   "source": [
    "## Imports"
   ]
  },
  {
   "cell_type": "code",
   "execution_count": 2,
   "id": "db02d6fd-7e1c-495c-885b-6a78d82e6026",
   "metadata": {},
   "outputs": [],
   "source": [
    "import sys\n",
    "import os\n",
    "repo_path = os.path.abspath('../')\n",
    "sys.path.append(repo_path)\n",
    "import scripts.addSA2 as addSA2\n",
    "import matplotlib.pyplot as plt\n",
    "from matplotlib.pyplot import figure\n",
    "import geoplot.crs as gcrs\n",
    "import geopandas as gpd\n",
    "import geoplot as gplt\n",
    "import pandas as pd\n",
    "\n",
    "from sklearn.neural_network import MLPRegressor\n",
    "from sklearn.model_selection import train_test_split\n",
    "from sklearn.preprocessing import OneHotEncoder, StandardScaler\n",
    "from sklearn.compose import ColumnTransformer\n",
    "from sklearn.linear_model import LinearRegression\n",
    "from sklearn.model_selection import train_test_split\n",
    "\n",
    "from sklearn.feature_selection import f_regression, SelectKBest\n",
    "\n",
    "\n",
    "from sklearn.linear_model import LinearRegression\n",
    "from sklearn.compose import ColumnTransformer\n",
    "from sklearn.preprocessing import StandardScaler\n",
    "\n",
    "import statistics as stat\n",
    "from sklearn.model_selection import cross_val_score"
   ]
  },
  {
   "cell_type": "markdown",
   "id": "d7b0991c-b92e-476f-a320-2693e95d2f11",
   "metadata": {},
   "source": [
    "## Data Download\n",
    "\n",
    "The first thing we need to do is download the datasources needed for our analysis.\n",
    "\n",
    "(see data_download.py in the script folder for details)\n",
    "\n",
    "(Run this script if data download not previously run)"
   ]
  },
  {
   "cell_type": "code",
   "execution_count": 3,
   "id": "3d36c0b0-f38e-4cd9-9e0e-1c50bd963da4",
   "metadata": {},
   "outputs": [
    {
     "name": "stderr",
     "output_type": "stream",
     "text": [
      "INFO:root:Beginning zone download\n",
      "INFO:root:Finished zone download\n",
      "replace ../data/raw/abs_data/zone_data/SA2_2021_AUST_GDA2020.dbf? [y]es, [n]o, [A]ll, [N]one, [r]ename:  NULL\n",
      "(EOF or read error, treating as \"[N]one\" ...)\n",
      "INFO:root:Beginning population download\n"
     ]
    },
    {
     "name": "stdout",
     "output_type": "stream",
     "text": [
      "Archive:  ../data/raw/abs_data/zone_data/zones.zip\n"
     ]
    },
    {
     "name": "stderr",
     "output_type": "stream",
     "text": [
      "INFO:root:Finished population download\n",
      "INFO:root:Beginning income download\n",
      "INFO:root:Finished population download\n",
      "INFO:root:Beginning population projection download\n",
      "INFO:root:Finished population projection download\n",
      "INFO:root:Beginning school download\n",
      "INFO:root:Finished school download\n",
      "INFO:root:Beginning postcode download\n",
      "INFO:root:Finished postcode download\n"
     ]
    }
   ],
   "source": [
    "%run ../scripts/data_download.py"
   ]
  },
  {
   "cell_type": "markdown",
   "id": "53895a17-0db7-48b0-ad72-4dc19dcf74c0",
   "metadata": {},
   "source": [
    "## Scraping"
   ]
  },
  {
   "cell_type": "markdown",
   "id": "2127d91d-2527-447f-9f4e-240e3aad1a36",
   "metadata": {},
   "source": [
    "For this project we decided to scrape rental data from domain.com.au.\n",
    "This website has a huge number of listings, and by searching by postcode we collected a large number of metrics from each listed property.\n",
    "\n",
    "This process is done in scrape.ipynb, and the results are saved in the raw data folder. as scraped_properties.csv as seen below.\n",
    "(This will not be run in this notebook as it takes an extremely long time)"
   ]
  },
  {
   "cell_type": "code",
   "execution_count": 4,
   "id": "5b53f274-7d11-45c6-80aa-ba941d03746a",
   "metadata": {},
   "outputs": [
    {
     "data": {
      "text/html": [
       "<div>\n",
       "<style scoped>\n",
       "    .dataframe tbody tr th:only-of-type {\n",
       "        vertical-align: middle;\n",
       "    }\n",
       "\n",
       "    .dataframe tbody tr th {\n",
       "        vertical-align: top;\n",
       "    }\n",
       "\n",
       "    .dataframe thead th {\n",
       "        text-align: right;\n",
       "    }\n",
       "</style>\n",
       "<table border=\"1\" class=\"dataframe\">\n",
       "  <thead>\n",
       "    <tr style=\"text-align: right;\">\n",
       "      <th></th>\n",
       "      <th>url</th>\n",
       "      <th>price</th>\n",
       "      <th>address</th>\n",
       "      <th>num_beds</th>\n",
       "      <th>num_bath</th>\n",
       "      <th>num_car</th>\n",
       "      <th>property_type</th>\n",
       "      <th>agent</th>\n",
       "      <th>bond</th>\n",
       "      <th>internal_area</th>\n",
       "      <th>...</th>\n",
       "      <th>performance_sold_this_year</th>\n",
       "      <th>performance_avg_days_on_market</th>\n",
       "      <th>demographic_population</th>\n",
       "      <th>demographic_average_age</th>\n",
       "      <th>demographic_owner</th>\n",
       "      <th>demographic_renter</th>\n",
       "      <th>demographic_family</th>\n",
       "      <th>demographic_single</th>\n",
       "      <th>latitude</th>\n",
       "      <th>longitude</th>\n",
       "    </tr>\n",
       "  </thead>\n",
       "  <tbody>\n",
       "    <tr>\n",
       "      <th>0</th>\n",
       "      <td>https://www.domain.com.au/40-esmond-street-ard...</td>\n",
       "      <td>$400</td>\n",
       "      <td>40 Esmond Street Ardeer VIC 3022</td>\n",
       "      <td>3 Beds</td>\n",
       "      <td>2 Baths</td>\n",
       "      <td>1 Parking</td>\n",
       "      <td>House</td>\n",
       "      <td>Create Vic Real Estate</td>\n",
       "      <td>Bond $1738</td>\n",
       "      <td>NaN</td>\n",
       "      <td>...</td>\n",
       "      <td>Sold this year: 37</td>\n",
       "      <td>Avg days on market: 44</td>\n",
       "      <td>Population: 3,099</td>\n",
       "      <td>Average age: 20 to 39</td>\n",
       "      <td>67%</td>\n",
       "      <td>33%</td>\n",
       "      <td>41%</td>\n",
       "      <td>59%</td>\n",
       "      <td>-37.775134</td>\n",
       "      <td>144.797067</td>\n",
       "    </tr>\n",
       "    <tr>\n",
       "      <th>1</th>\n",
       "      <td>https://www.domain.com.au/11-grant-avenue-gisb...</td>\n",
       "      <td>$600.00</td>\n",
       "      <td>11 Grant Avenue Gisborne VIC 3437</td>\n",
       "      <td>4 Beds</td>\n",
       "      <td>2 Baths</td>\n",
       "      <td>1 Parking</td>\n",
       "      <td>House</td>\n",
       "      <td>Brad Teal Woodards Gisborne</td>\n",
       "      <td>Bond $2608</td>\n",
       "      <td>NaN</td>\n",
       "      <td>...</td>\n",
       "      <td>Sold this year: 92</td>\n",
       "      <td>Avg days on market: 41</td>\n",
       "      <td>Population: 9,000</td>\n",
       "      <td>Average age: 40 to 59</td>\n",
       "      <td>83%</td>\n",
       "      <td>17%</td>\n",
       "      <td>58%</td>\n",
       "      <td>42%</td>\n",
       "      <td>-37.493363</td>\n",
       "      <td>144.595569</td>\n",
       "    </tr>\n",
       "    <tr>\n",
       "      <th>2</th>\n",
       "      <td>https://www.domain.com.au/15-balmoral-avenue-b...</td>\n",
       "      <td>$575</td>\n",
       "      <td>15 Balmoral Avenue Bundoora VIC 3083</td>\n",
       "      <td>3 Beds</td>\n",
       "      <td>1 Bath</td>\n",
       "      <td>3 Parking</td>\n",
       "      <td>House</td>\n",
       "      <td>Thomas Quixley Fairfield Pty Ltd</td>\n",
       "      <td>Bond $2499</td>\n",
       "      <td>NaN</td>\n",
       "      <td>...</td>\n",
       "      <td>Sold this year: 229</td>\n",
       "      <td>Avg days on market: 52</td>\n",
       "      <td>Population: 28,681</td>\n",
       "      <td>Average age: 20 to 39</td>\n",
       "      <td>72%</td>\n",
       "      <td>28%</td>\n",
       "      <td>47%</td>\n",
       "      <td>53%</td>\n",
       "      <td>-37.707414</td>\n",
       "      <td>145.065424</td>\n",
       "    </tr>\n",
       "  </tbody>\n",
       "</table>\n",
       "<p>3 rows × 33 columns</p>\n",
       "</div>"
      ],
      "text/plain": [
       "                                                 url    price  \\\n",
       "0  https://www.domain.com.au/40-esmond-street-ard...     $400   \n",
       "1  https://www.domain.com.au/11-grant-avenue-gisb...  $600.00   \n",
       "2  https://www.domain.com.au/15-balmoral-avenue-b...     $575   \n",
       "\n",
       "                                address num_beds num_bath    num_car  \\\n",
       "0      40 Esmond Street Ardeer VIC 3022   3 Beds  2 Baths  1 Parking   \n",
       "1     11 Grant Avenue Gisborne VIC 3437   4 Beds  2 Baths  1 Parking   \n",
       "2  15 Balmoral Avenue Bundoora VIC 3083   3 Beds   1 Bath  3 Parking   \n",
       "\n",
       "  property_type                             agent        bond internal_area  \\\n",
       "0         House            Create Vic Real Estate  Bond $1738           NaN   \n",
       "1         House       Brad Teal Woodards Gisborne  Bond $2608           NaN   \n",
       "2         House  Thomas Quixley Fairfield Pty Ltd  Bond $2499           NaN   \n",
       "\n",
       "   ... performance_sold_this_year performance_avg_days_on_market  \\\n",
       "0  ...         Sold this year: 37         Avg days on market: 44   \n",
       "1  ...         Sold this year: 92         Avg days on market: 41   \n",
       "2  ...        Sold this year: 229         Avg days on market: 52   \n",
       "\n",
       "  demographic_population demographic_average_age demographic_owner  \\\n",
       "0      Population: 3,099   Average age: 20 to 39               67%   \n",
       "1      Population: 9,000   Average age: 40 to 59               83%   \n",
       "2     Population: 28,681   Average age: 20 to 39               72%   \n",
       "\n",
       "  demographic_renter demographic_family demographic_single   latitude  \\\n",
       "0                33%                41%                59% -37.775134   \n",
       "1                17%                58%                42% -37.493363   \n",
       "2                28%                47%                53% -37.707414   \n",
       "\n",
       "    longitude  \n",
       "0  144.797067  \n",
       "1  144.595569  \n",
       "2  145.065424  \n",
       "\n",
       "[3 rows x 33 columns]"
      ]
     },
     "execution_count": 4,
     "metadata": {},
     "output_type": "execute_result"
    }
   ],
   "source": [
    "scraped = pd.read_csv(f\"../data/raw/scraped_properties.csv\")"
   ]
  },
  {
   "cell_type": "markdown",
   "id": "16f44445-54e7-41e6-a71c-a9503ff71eab",
   "metadata": {},
   "source": [
    "## API Data\n",
    "\n",
    "Now we get a bunch of distance data for various properties that we can merge into our other data\n",
    "\n",
    "This is done with the school_proximities.ipynb notebook. But is quite an involved process, so that data is saved inside the git repository instead of being run here."
   ]
  },
  {
   "cell_type": "markdown",
   "id": "20b51427-74b1-499b-8fec-d2d4141f2417",
   "metadata": {},
   "source": [
    "## Pre-Processing"
   ]
  },
  {
   "cell_type": "markdown",
   "id": "3b2a545b-c28d-4a98-aee9-e0aff70578fb",
   "metadata": {},
   "source": [
    "While this gives us a lot of raw data, it needs to be put into a useable format first. This is done in pre_processing.py. By using a variety of regex rules to extract the relevant numbers from the data. We also need to remove a specific NSW town that was caught in the scrape for some reason. We also remove carspaces as they are not relevant to the problems.\n",
    "\n",
    "From there we merge with the API distance data that has been gathered, and remove outliers based on cook's distance in a linear regression model.\n",
    "\n",
    "(run this script if pre-processing notebook not run)"
   ]
  },
  {
   "cell_type": "code",
   "execution_count": null,
   "id": "a3048120-4941-4fe4-bc66-9d61616f7ce1",
   "metadata": {
    "tags": []
   },
   "outputs": [],
   "source": [
    "%run ../scripts/pre_processing.py"
   ]
  },
  {
   "cell_type": "markdown",
   "id": "13755519-1d92-4843-82cf-63221fd62e78",
   "metadata": {},
   "source": [
    "Now our data looks like this:"
   ]
  },
  {
   "cell_type": "code",
   "execution_count": 3,
   "id": "2757c345-3a47-4ad1-8708-c1ba5d9c1aed",
   "metadata": {},
   "outputs": [
    {
     "data": {
      "text/html": [
       "<div>\n",
       "<style scoped>\n",
       "    .dataframe tbody tr th:only-of-type {\n",
       "        vertical-align: middle;\n",
       "    }\n",
       "\n",
       "    .dataframe tbody tr th {\n",
       "        vertical-align: top;\n",
       "    }\n",
       "\n",
       "    .dataframe thead th {\n",
       "        text-align: right;\n",
       "    }\n",
       "</style>\n",
       "<table border=\"1\" class=\"dataframe\">\n",
       "  <thead>\n",
       "    <tr style=\"text-align: right;\">\n",
       "      <th></th>\n",
       "      <th>url</th>\n",
       "      <th>postcode</th>\n",
       "      <th>suburb</th>\n",
       "      <th>state</th>\n",
       "      <th>weekly_rent</th>\n",
       "      <th>bond</th>\n",
       "      <th>num_beds</th>\n",
       "      <th>num_baths</th>\n",
       "      <th>num_parking</th>\n",
       "      <th>property_type</th>\n",
       "      <th>...</th>\n",
       "      <th>park_distance</th>\n",
       "      <th>shop_duration</th>\n",
       "      <th>shop_distance</th>\n",
       "      <th>train_duration</th>\n",
       "      <th>train_distance</th>\n",
       "      <th>stop_duration</th>\n",
       "      <th>stop_distance</th>\n",
       "      <th>SA2</th>\n",
       "      <th>population</th>\n",
       "      <th>median_weekly_income</th>\n",
       "    </tr>\n",
       "  </thead>\n",
       "  <tbody>\n",
       "    <tr>\n",
       "      <th>0</th>\n",
       "      <td>https://www.domain.com.au/4-12-maylands-street...</td>\n",
       "      <td>3020</td>\n",
       "      <td>albion</td>\n",
       "      <td>vic</td>\n",
       "      <td>400.0</td>\n",
       "      <td>1738.0</td>\n",
       "      <td>2.0</td>\n",
       "      <td>2.0</td>\n",
       "      <td>1.0</td>\n",
       "      <td>Apartment / Unit / Flat</td>\n",
       "      <td>...</td>\n",
       "      <td>717.5</td>\n",
       "      <td>2.571667</td>\n",
       "      <td>1577.0</td>\n",
       "      <td>2.106667</td>\n",
       "      <td>1215.7</td>\n",
       "      <td>0.71</td>\n",
       "      <td>532.1</td>\n",
       "      <td>213011328.0</td>\n",
       "      <td>7595</td>\n",
       "      <td>704</td>\n",
       "    </tr>\n",
       "    <tr>\n",
       "      <th>1</th>\n",
       "      <td>https://www.domain.com.au/5-44-adelaide-street...</td>\n",
       "      <td>3020</td>\n",
       "      <td>albion</td>\n",
       "      <td>vic</td>\n",
       "      <td>280.0</td>\n",
       "      <td>1218.0</td>\n",
       "      <td>2.0</td>\n",
       "      <td>1.0</td>\n",
       "      <td>1.0</td>\n",
       "      <td>Townhouse</td>\n",
       "      <td>...</td>\n",
       "      <td>301.2</td>\n",
       "      <td>2.756667</td>\n",
       "      <td>1371.8</td>\n",
       "      <td>2.225000</td>\n",
       "      <td>846.1</td>\n",
       "      <td>0.68</td>\n",
       "      <td>308.6</td>\n",
       "      <td>213011328.0</td>\n",
       "      <td>7595</td>\n",
       "      <td>704</td>\n",
       "    </tr>\n",
       "    <tr>\n",
       "      <th>2</th>\n",
       "      <td>https://www.domain.com.au/10-84-rockbank-rd-ar...</td>\n",
       "      <td>3022</td>\n",
       "      <td>rockbank</td>\n",
       "      <td>vic</td>\n",
       "      <td>375.0</td>\n",
       "      <td>1630.0</td>\n",
       "      <td>2.0</td>\n",
       "      <td>1.0</td>\n",
       "      <td>1.0</td>\n",
       "      <td>House</td>\n",
       "      <td>...</td>\n",
       "      <td>246.1</td>\n",
       "      <td>8.535000</td>\n",
       "      <td>5810.5</td>\n",
       "      <td>5.161667</td>\n",
       "      <td>2717.6</td>\n",
       "      <td>1.26</td>\n",
       "      <td>539.5</td>\n",
       "      <td>213011328.0</td>\n",
       "      <td>7595</td>\n",
       "      <td>704</td>\n",
       "    </tr>\n",
       "  </tbody>\n",
       "</table>\n",
       "<p>3 rows × 48 columns</p>\n",
       "</div>"
      ],
      "text/plain": [
       "                                                 url  postcode    suburb  \\\n",
       "0  https://www.domain.com.au/4-12-maylands-street...      3020    albion   \n",
       "1  https://www.domain.com.au/5-44-adelaide-street...      3020    albion   \n",
       "2  https://www.domain.com.au/10-84-rockbank-rd-ar...      3022  rockbank   \n",
       "\n",
       "  state  weekly_rent    bond  num_beds  num_baths  num_parking  \\\n",
       "0   vic        400.0  1738.0       2.0        2.0          1.0   \n",
       "1   vic        280.0  1218.0       2.0        1.0          1.0   \n",
       "2   vic        375.0  1630.0       2.0        1.0          1.0   \n",
       "\n",
       "             property_type  ...  park_distance  shop_duration  shop_distance  \\\n",
       "0  Apartment / Unit / Flat  ...          717.5       2.571667         1577.0   \n",
       "1                Townhouse  ...          301.2       2.756667         1371.8   \n",
       "2                    House  ...          246.1       8.535000         5810.5   \n",
       "\n",
       "   train_duration  train_distance  stop_duration  stop_distance          SA2  \\\n",
       "0        2.106667          1215.7           0.71          532.1  213011328.0   \n",
       "1        2.225000           846.1           0.68          308.6  213011328.0   \n",
       "2        5.161667          2717.6           1.26          539.5  213011328.0   \n",
       "\n",
       "   population  median_weekly_income  \n",
       "0        7595                   704  \n",
       "1        7595                   704  \n",
       "2        7595                   704  \n",
       "\n",
       "[3 rows x 48 columns]"
      ]
     },
     "metadata": {},
     "output_type": "display_data"
    }
   ],
   "source": [
    "pre_processed = pd.read_csv(f\"../data/curated/pre_processed_data.csv\")\n",
    "display(pre_processed.head(3))"
   ]
  },
  {
   "cell_type": "markdown",
   "id": "8311aa86-92be-4d0c-8e4a-d6e1087d3c7d",
   "metadata": {},
   "source": [
    "We can also add in the SA2 zone and corresponding geometry for each of these listings. This allows us to visualise the data in various ways."
   ]
  },
  {
   "cell_type": "code",
   "execution_count": 4,
   "id": "e94575fe-85e0-4647-be0b-4d4226657867",
   "metadata": {},
   "outputs": [],
   "source": [
    "sa2_grouped = addSA2.addSA2(pre_processed, use_postcode=False)\n",
    "sa2_grouped = sa2_grouped.groupby(\"SA2\").mean().reset_index()\n",
    "\n",
    "shape = gpd.read_file('../data/raw/ShapeFile/SA2_2021_AUST_GDA2020.shp')\n",
    "shape = shape.loc[shape.STE_NAME21 == \"Victoria\"]\n",
    "shape = shape.loc[shape.geometry != None]\n",
    "shape[\"SA2_CODE21\"] = pd.to_numeric(shape[\"SA2_CODE21\"], errors='ignore')\n",
    "sa2_grouped = gpd.GeoDataFrame(sa2_grouped.join(shape.set_index(\"SA2_CODE21\")[\"geometry\"], on=\"SA2\"))\n",
    "sa2_grouped = sa2_grouped[sa2_grouped[\"geometry\"] != None]"
   ]
  },
  {
   "cell_type": "markdown",
   "id": "60cee9f4-9c53-4bc6-9231-57545acfea84",
   "metadata": {},
   "source": [
    "If you want to see a plot of any feature, simply type the feature into the \"FEATURE HERE\" section below:"
   ]
  },
  {
   "cell_type": "code",
   "execution_count": 8,
   "id": "f88b8212-9a6f-4d67-9e18-562ff3552d98",
   "metadata": {},
   "outputs": [
    {
     "data": {
      "text/plain": [
       "<AxesSubplot:>"
      ]
     },
     "execution_count": 8,
     "metadata": {},
     "output_type": "execute_result"
    },
    {
     "data": {
      "image/png": "[encoded data removed]",
      "text/plain": [
       "<Figure size 2160x720 with 2 Axes>"
      ]
     },
     "metadata": {
      "needs_background": "light"
     },
     "output_type": "display_data"
    }
   ],
   "source": [
    "# Plot the lines for the visualisation\n",
    "ax = gplt.polyplot(sa2_grouped, figsize=(30, 10))\n",
    "# create a heatmap based on a particular feature\n",
    "gplt.choropleth(\n",
    "  sa2_grouped,\n",
    "  hue=\"FEATURE HERE\",\n",
    "  edgecolor=\"black\",\n",
    "  linewidth=0.1,\n",
    "  cmap=\"Greens\",\n",
    "  legend=True,\n",
    "  ax=ax\n",
    ")"
   ]
  },
  {
   "cell_type": "markdown",
   "id": "e797d17a-0173-47b8-b035-3618f481e3b1",
   "metadata": {},
   "source": [
    "## Question 1\n",
    "Using the grouped suburb data we try to predict suburb's rent based on features previously gathered"
   ]
  },
  {
   "cell_type": "markdown",
   "id": "87dcf02b-0e8f-4a99-bacb-37d2dc9ff7f5",
   "metadata": {},
   "source": [
    "### Read in data"
   ]
  },
  {
   "cell_type": "code",
   "execution_count": null,
   "id": "669afba7-c65d-4086-93e7-8911f48799cd",
   "metadata": {},
   "outputs": [],
   "source": [
    "pd.options.display.max_columns = None\n",
    "pd.set_option('display.max_colwidth', None)\n",
    "\n",
    "DIR_CUR = \"../data/curated/\"\n",
    "DIR_PLT = \"../plots/\""
   ]
  },
  {
   "cell_type": "code",
   "execution_count": null,
   "id": "53c0d222-c774-4dd3-8cd1-186edb7b63cd",
   "metadata": {},
   "outputs": [],
   "source": [
    "# read in suburb level version of data\n",
    "df = pd.read_csv(f\"{DIR_CUR}suburb_data.csv\")\n",
    "display(df.head(3))"
   ]
  },
  {
   "cell_type": "markdown",
   "id": "e05c10f2-ac59-43b1-b658-5f8a0f5541cc",
   "metadata": {},
   "source": [
    "## Finding Most important features in predicting Rent\n",
    "Using the F-score we find the 3 features of the suburb data to have the strongest predictive power to the median rent."
   ]
  },
  {
   "cell_type": "code",
   "execution_count": null,
   "id": "cbb6eb13-c6c2-46b1-be2e-5fbfab30a8e8",
   "metadata": {},
   "outputs": [],
   "source": [
    "df_clean = df.drop([\"suburb\", \"bond\", \"internal_area\", \"land_area\"], axis=1)\n",
    "df_clean = df_clean.dropna().reset_index(drop=True)\n",
    "\n",
    "K_BEST = 3\n",
    "\n",
    "X = df_clean.drop([\"weekly_rent\"], axis=1)\n",
    "y = df_clean[\"weekly_rent\"]\n",
    "\n",
    "selector = SelectKBest(f_regression, k=K_BEST)\n",
    "selector.fit_transform(X, y)\n",
    "features_index = selector.get_support(indices=True)\n",
    "predictors = list(X.iloc[:,features_index].columns)\n",
    "\n",
    "print(\"The most important features are:\")\n",
    "for predictor in predictors:\n",
    "    print(f\"* {predictor}\")"
   ]
  },
  {
   "cell_type": "markdown",
   "id": "02beccac-90ee-40a2-a75c-76e8aca9a687",
   "metadata": {},
   "source": [
    "## Plots VS the weekly rent"
   ]
  },
  {
   "cell_type": "code",
   "execution_count": null,
   "id": "3c1e4608-9b1f-4055-a79b-f84ab79ff64a",
   "metadata": {},
   "outputs": [],
   "source": [
    "def vs(x, y, x_lab, y_lab, title, x_trans=lambda x: x, y_trans=lambda x: x):\n",
    "    \"\"\"creates a scatter plot between x and y\"\"\"\n",
    "    plt.scatter(x_trans(x), y_trans(y), color=\"#fad051\")\n",
    "    plt.title(title, size=20)\n",
    "    plt.xlabel(x_lab, size=16)\n",
    "    plt.ylabel(y_lab, size=16)\n",
    "    plt.show()\n",
    "\n",
    "vs(df[\"school_distance\"], df[\"weekly_rent\"], \"School Distance (m)\", \"Weekly Rent (AUS)\", \"Weekly Rent vs School Distance\")\n",
    "vs(df[\"median_weekly_income\"], df[\"weekly_rent\"], \"Weekly Income (AUS)\", \"Weekly Rent (AUS)\", \"Weekly Rent vs Weekly Income\")\n",
    "vs(df[\"performance_median_price\"], df[\"weekly_rent\"], \"Price (AUS)\", \"Weekly Rent (AUS)\", \"Weekly Rent vs Price\")"
   ]
  },
  {
   "cell_type": "markdown",
   "id": "29ebec85-2c7a-45a0-9bd0-95052561c899",
   "metadata": {},
   "source": [
    "### Modeling using the 3 most important features\n",
    "A Linear Regression and Multi-Layer Perceptron Regressor are fitted between rent and the 3 best features identified above "
   ]
  },
  {
   "cell_type": "code",
   "execution_count": null,
   "id": "f84f6b2e-ea1b-450c-bc01-4fdb254e3051",
   "metadata": {},
   "outputs": [],
   "source": [
    "response = \"weekly_rent\"\n",
    "scoring = \"r2\"\n",
    "\n",
    "FOLDS = 8\n",
    "\n",
    "def test_model(model, X, y):\n",
    "    \"\"\"Applys an 8-cross fold validation finding the R^2 for each fold\"\"\"\n",
    "    scores = cross_val_score(model, X, y, scoring=scoring, cv=FOLDS)\n",
    "    print(f\"Min R^2:    {min(scores):.3f}\")\n",
    "    print(f\"Max R^2:    {max(scores):.3f}\")\n",
    "    print(f\"Median R^2: {stat.median(scores):.3f}\")\n",
    "    print(f\"Mean R^2:   {stat.mean(scores):.3f}\")\n",
    "\n",
    "response = \"weekly_rent\"\n",
    "predictors = [\"median_weekly_income\", \"performance_median_price\"] \n",
    "\n",
    "df_na_out = df.dropna(subset=predictors)\n",
    "\n",
    "df_na_out = df.dropna(subset=predictors + [response]).reset_index(drop=True)\n",
    "\n",
    "trans = ColumnTransformer(transformers=[(\"scale\", StandardScaler(), predictors)]) \n",
    "X = trans.fit_transform(df_na_out[predictors])\n",
    "y = df_na_out[\"weekly_rent\"]\n",
    "\n",
    "print(\"Linear Regression:\")\n",
    "test_model(LinearRegression(), X, y)\n",
    "\n",
    "print(\"\\nMulti-Layer Perceptron Regressor:\")\n",
    "test_model(MLPRegressor(random_state=30027, max_iter=1000000, n_iter_no_change=15), X, y)"
   ]
  },
  {
   "cell_type": "markdown",
   "id": "0b5e00d0-1867-4e8f-bfe8-2d5a41fa21d2",
   "metadata": {},
   "source": [
    "## Question 2"
   ]
  },
  {
   "cell_type": "markdown",
   "id": "49a40e74-2fe3-48c5-b7e9-b966bab0c1a0",
   "metadata": {},
   "source": [
    "For this question we need historical data instead of current, data. This has been scraped from domain.com.au, and is pre-processed seperately. (See predict_future_preprocess.ipynb for details)\n",
    "\n",
    "(run this script if predict_future_preprocessing.ipynb notebook not run)"
   ]
  },
  {
   "cell_type": "code",
   "execution_count": null,
   "id": "485ff32b-b555-4b9b-b85c-f8814c362d9d",
   "metadata": {},
   "outputs": [],
   "source": [
    "%run ../scripts/predict_future_preprocessing.py"
   ]
  },
  {
   "cell_type": "markdown",
   "id": "14b390bd-d681-4464-90f2-7eb86c63d56e",
   "metadata": {},
   "source": [
    "We originally tried fitting a linear regression model, but this gave poor performance, so we used an approach using predictor metrics instead."
   ]
  },
  {
   "cell_type": "markdown",
   "id": "7a139ea3-c6b8-4232-83d1-7d4f7594c9d8",
   "metadata": {},
   "source": [
    "## Predictor Metrics:\n",
    "\n",
    "* Historical 3-year-growth: While a regression to the mean is fairly likely in many cases, a suburb having a high growth rate in previous years should still indicate that that is more likely to continue.\n",
    "\n",
    "* Current growth rate: Extrapolating the 2022 growth rate to a 3 year prediction is unlikely to be accurate, but it is once again a decent indicator.\n",
    "\n",
    "* New dwellings / population: If there is a high number of new dwellings relative to the population, then in theory the increased supply will lead to decreased house value.\n",
    "\n",
    "* non residential value: The theory behind using this metric, is that non-residential housing indicates an increase in local business. This should in theory increase the value of the area. This may be incorrect, as it might indicate a non-residential area, but not sure.\n",
    "\n",
    "* Clearance: A high clearance rate should indicate a high demand in the area, so in theory an increase in future prices.\n",
    "\n",
    "* Average days on market: A low number of days on the market, should indicate (like clearance), a high demand for houses in the area.\n",
    "\n",
    "* sold / population: If there are a high number of sales relative to the population it indicates market interest.\n",
    "\n",
    "* Unfortunately due to a lack of historical data for many areas, and many of these metrics, we will have to decide aribtrarily on the importance of each feature. I will then create a ranking of each feature and use this as the input for the algorithm.\n",
    "\n",
    "https://propertyupdate.com.au/property-investment-melbourne/#is-it-the-right-time-to-get-into-the-melbourne-property-market\n",
    "\n",
    "https://www.trilogyfunding.com.au/blog/7-key-market-indicators-every-property-investor-should-understand-april-2015/\n",
    "\n",
    "\n",
    "https://www.mmj.com.au/resources/blog/5-key-market-indicators-every-property-investor-should-know/"
   ]
  },
  {
   "cell_type": "code",
   "execution_count": 10,
   "id": "0bfdb737-ae78-4ba0-b57a-8d0ba97f035a",
   "metadata": {},
   "outputs": [
    {
     "name": "stderr",
     "output_type": "stream",
     "text": [
      "/tmp/ipykernel_78/3970158553.py:13: FutureWarning: Dropping of nuisance columns in DataFrame reductions (with 'numeric_only=None') is deprecated; in a future version this will raise TypeError.  Select only valid columns before calling the reduction.\n",
      "  predict_df[\"sum\"] = predict_df.sum(axis=1)\n"
     ]
    }
   ],
   "source": [
    "df = pd.read_csv(f\"../data/curated/future_prediction_data.csv\")\n",
    "\n",
    "# Get rankings for each feature\n",
    "predict_df = pd.DataFrame()\n",
    "predict_df[\"suburb\"] = df[\"suburb\"]\n",
    "predict_df[\"avg_days_on_market\"] = df[\"avg_days_on_market\"].rank(ascending = False) # low is better\n",
    "predict_df[\"3_year_growth\"] = df[\"3_year_growth\"].rank(ascending = True) # high is better\n",
    "predict_df[\"2022_growth\"] = df[\"2022_growth\"].rank(ascending = True) # high is better\n",
    "predict_df[\"sold/pop\"] = (df[\"2022_n_sold\"]/df[\"suburb_population\"]).rank(ascending = True).fillna(0) # high is better\n",
    "predict_df[\"dwellings/pop\"] = (df[\"new_dwellings_2021\"]/df[\"suburb_population\"]).rank(ascending = False).fillna(0) # low is better\n",
    "predict_df[\"non_residential_value\"] = df[\"non_residential_value_2021\"].rank(ascending = True) # higher is better\n",
    "predict_df[\"clearance\"] = df[\"clearance\"].rank(ascending = True) # higher is better\n",
    "predict_df[\"sum\"] = predict_df.sum(axis=1)\n",
    "predict_df[\"SA2\"] = df[\"SA2\"]"
   ]
  },
  {
   "cell_type": "code",
   "execution_count": 11,
   "id": "4979b361-3273-425b-aab3-b1e82e869d29",
   "metadata": {},
   "outputs": [],
   "source": [
    "predict_df = predict_df.sort_values(by=\"sum\", ascending=False)\n",
    "predict_df.to_csv(f\"../data/curated/prediction_results.csv\")"
   ]
  },
  {
   "cell_type": "code",
   "execution_count": 12,
   "id": "61fd1c92-c981-4cbc-82a0-936a7143f022",
   "metadata": {},
   "outputs": [
    {
     "data": {
      "text/html": [
       "<div>\n",
       "<style scoped>\n",
       "    .dataframe tbody tr th:only-of-type {\n",
       "        vertical-align: middle;\n",
       "    }\n",
       "\n",
       "    .dataframe tbody tr th {\n",
       "        vertical-align: top;\n",
       "    }\n",
       "\n",
       "    .dataframe thead th {\n",
       "        text-align: right;\n",
       "    }\n",
       "</style>\n",
       "<table border=\"1\" class=\"dataframe\">\n",
       "  <thead>\n",
       "    <tr style=\"text-align: right;\">\n",
       "      <th></th>\n",
       "      <th>suburb</th>\n",
       "      <th>avg_days_on_market</th>\n",
       "      <th>3_year_growth</th>\n",
       "      <th>2022_growth</th>\n",
       "      <th>sold/pop</th>\n",
       "      <th>dwellings/pop</th>\n",
       "      <th>non_residential_value</th>\n",
       "      <th>clearance</th>\n",
       "      <th>sum</th>\n",
       "      <th>SA2</th>\n",
       "    </tr>\n",
       "  </thead>\n",
       "  <tbody>\n",
       "    <tr>\n",
       "      <th>402</th>\n",
       "      <td>flinders</td>\n",
       "      <td>907.0</td>\n",
       "      <td>1172.0</td>\n",
       "      <td>1175.0</td>\n",
       "      <td>132.0</td>\n",
       "      <td>262.0</td>\n",
       "      <td>1190.0</td>\n",
       "      <td>1188.5</td>\n",
       "      <td>6026.5</td>\n",
       "      <td>203021043.0</td>\n",
       "    </tr>\n",
       "    <tr>\n",
       "      <th>119</th>\n",
       "      <td>blairgowrie</td>\n",
       "      <td>452.0</td>\n",
       "      <td>1176.0</td>\n",
       "      <td>1116.0</td>\n",
       "      <td>450.0</td>\n",
       "      <td>162.5</td>\n",
       "      <td>1031.0</td>\n",
       "      <td>1154.0</td>\n",
       "      <td>5541.5</td>\n",
       "      <td>214021383.0</td>\n",
       "    </tr>\n",
       "    <tr>\n",
       "      <th>1068</th>\n",
       "      <td>tootgarook</td>\n",
       "      <td>489.0</td>\n",
       "      <td>1097.0</td>\n",
       "      <td>1142.0</td>\n",
       "      <td>453.0</td>\n",
       "      <td>162.5</td>\n",
       "      <td>958.0</td>\n",
       "      <td>1060.5</td>\n",
       "      <td>5362.0</td>\n",
       "      <td>214021383.0</td>\n",
       "    </tr>\n",
       "    <tr>\n",
       "      <th>681</th>\n",
       "      <td>mccrae</td>\n",
       "      <td>402.0</td>\n",
       "      <td>1170.0</td>\n",
       "      <td>997.0</td>\n",
       "      <td>333.0</td>\n",
       "      <td>205.0</td>\n",
       "      <td>1052.0</td>\n",
       "      <td>1181.0</td>\n",
       "      <td>5340.0</td>\n",
       "      <td>202011018.0</td>\n",
       "    </tr>\n",
       "    <tr>\n",
       "      <th>729</th>\n",
       "      <td>mornington</td>\n",
       "      <td>435.0</td>\n",
       "      <td>1042.0</td>\n",
       "      <td>889.0</td>\n",
       "      <td>399.0</td>\n",
       "      <td>289.0</td>\n",
       "      <td>1115.0</td>\n",
       "      <td>1161.0</td>\n",
       "      <td>5330.0</td>\n",
       "      <td>213051582.0</td>\n",
       "    </tr>\n",
       "    <tr>\n",
       "      <th>...</th>\n",
       "      <td>...</td>\n",
       "      <td>...</td>\n",
       "      <td>...</td>\n",
       "      <td>...</td>\n",
       "      <td>...</td>\n",
       "      <td>...</td>\n",
       "      <td>...</td>\n",
       "      <td>...</td>\n",
       "      <td>...</td>\n",
       "      <td>...</td>\n",
       "    </tr>\n",
       "    <tr>\n",
       "      <th>815</th>\n",
       "      <td>nungurner</td>\n",
       "      <td>907.0</td>\n",
       "      <td>322.5</td>\n",
       "      <td>280.0</td>\n",
       "      <td>0.0</td>\n",
       "      <td>0.0</td>\n",
       "      <td>363.0</td>\n",
       "      <td>436.5</td>\n",
       "      <td>2309.0</td>\n",
       "      <td>NaN</td>\n",
       "    </tr>\n",
       "    <tr>\n",
       "      <th>1195</th>\n",
       "      <td>yuroke</td>\n",
       "      <td>907.0</td>\n",
       "      <td>322.5</td>\n",
       "      <td>280.0</td>\n",
       "      <td>0.0</td>\n",
       "      <td>0.0</td>\n",
       "      <td>363.0</td>\n",
       "      <td>436.5</td>\n",
       "      <td>2309.0</td>\n",
       "      <td>NaN</td>\n",
       "    </tr>\n",
       "    <tr>\n",
       "      <th>367</th>\n",
       "      <td>elmore</td>\n",
       "      <td>7.0</td>\n",
       "      <td>322.5</td>\n",
       "      <td>280.0</td>\n",
       "      <td>151.0</td>\n",
       "      <td>81.0</td>\n",
       "      <td>894.0</td>\n",
       "      <td>436.5</td>\n",
       "      <td>2172.0</td>\n",
       "      <td>207011147.0</td>\n",
       "    </tr>\n",
       "    <tr>\n",
       "      <th>1188</th>\n",
       "      <td>yarrambat</td>\n",
       "      <td>9.0</td>\n",
       "      <td>322.5</td>\n",
       "      <td>280.0</td>\n",
       "      <td>637.5</td>\n",
       "      <td>0.0</td>\n",
       "      <td>363.0</td>\n",
       "      <td>436.5</td>\n",
       "      <td>2048.5</td>\n",
       "      <td>NaN</td>\n",
       "    </tr>\n",
       "    <tr>\n",
       "      <th>1019</th>\n",
       "      <td>swan-reach</td>\n",
       "      <td>1.0</td>\n",
       "      <td>322.5</td>\n",
       "      <td>280.0</td>\n",
       "      <td>637.5</td>\n",
       "      <td>0.0</td>\n",
       "      <td>363.0</td>\n",
       "      <td>436.5</td>\n",
       "      <td>2040.5</td>\n",
       "      <td>NaN</td>\n",
       "    </tr>\n",
       "  </tbody>\n",
       "</table>\n",
       "<p>1196 rows × 10 columns</p>\n",
       "</div>"
      ],
      "text/plain": [
       "           suburb  avg_days_on_market  3_year_growth  2022_growth  sold/pop  \\\n",
       "402      flinders               907.0         1172.0       1175.0     132.0   \n",
       "119   blairgowrie               452.0         1176.0       1116.0     450.0   \n",
       "1068   tootgarook               489.0         1097.0       1142.0     453.0   \n",
       "681        mccrae               402.0         1170.0        997.0     333.0   \n",
       "729    mornington               435.0         1042.0        889.0     399.0   \n",
       "...           ...                 ...            ...          ...       ...   \n",
       "815     nungurner               907.0          322.5        280.0       0.0   \n",
       "1195       yuroke               907.0          322.5        280.0       0.0   \n",
       "367        elmore                 7.0          322.5        280.0     151.0   \n",
       "1188    yarrambat                 9.0          322.5        280.0     637.5   \n",
       "1019   swan-reach                 1.0          322.5        280.0     637.5   \n",
       "\n",
       "      dwellings/pop  non_residential_value  clearance     sum          SA2  \n",
       "402           262.0                 1190.0     1188.5  6026.5  203021043.0  \n",
       "119           162.5                 1031.0     1154.0  5541.5  214021383.0  \n",
       "1068          162.5                  958.0     1060.5  5362.0  214021383.0  \n",
       "681           205.0                 1052.0     1181.0  5340.0  202011018.0  \n",
       "729           289.0                 1115.0     1161.0  5330.0  213051582.0  \n",
       "...             ...                    ...        ...     ...          ...  \n",
       "815             0.0                  363.0      436.5  2309.0          NaN  \n",
       "1195            0.0                  363.0      436.5  2309.0          NaN  \n",
       "367            81.0                  894.0      436.5  2172.0  207011147.0  \n",
       "1188            0.0                  363.0      436.5  2048.5          NaN  \n",
       "1019            0.0                  363.0      436.5  2040.5          NaN  \n",
       "\n",
       "[1196 rows x 10 columns]"
      ]
     },
     "metadata": {},
     "output_type": "display_data"
    }
   ],
   "source": [
    "display(predict_df)"
   ]
  },
  {
   "cell_type": "markdown",
   "id": "187bb0ff-5c3b-4b2c-b1c5-4b1430430b3f",
   "metadata": {},
   "source": [
    "We can then see the ranking of suburbs. Flinders, Blairgowrie, tootgarook, mccrae, and mornington take the top spots."
   ]
  },
  {
   "cell_type": "code",
   "execution_count": 16,
   "id": "b0015769-c17c-47bd-b5fd-e78d0c61cc7e",
   "metadata": {},
   "outputs": [],
   "source": [
    "shape = gpd.read_file('../data/raw/ShapeFile/SA2_2021_AUST_GDA2020.shp')\n",
    "shape = shape.loc[shape.STE_NAME21 == \"Victoria\"]\n",
    "shape = shape.loc[shape.geometry != None]\n",
    "shape[\"SA2_CODE21\"] = pd.to_numeric(shape[\"SA2_CODE21\"], errors='ignore')\n",
    "plot_df = predict_df.join(shape[[\"SA2_CODE21\", \"geometry\"]].set_index(\"SA2_CODE21\"), on=\"SA2\")\n",
    "plot_df = plot_df[plot_df[\"geometry\"] != None]"
   ]
  },
  {
   "cell_type": "code",
   "execution_count": null,
   "id": "122dab92-2986-4bfb-a446-b951a8fe9edd",
   "metadata": {},
   "outputs": [],
   "source": [
    "from matplotlib.pyplot import figure\n",
    "import geoplot.crs as gcrs\n",
    "\n",
    "\n",
    "ax = gplt.polyplot(shape, figsize=(100, 50))#, projection=gcrs.AlbersEqualArea())\n",
    "\n",
    "gplt.choropleth(\n",
    "  gpd.GeoDataFrame(plot_df),\n",
    "  hue=\"sum\",\n",
    "  edgecolor=\"black\",\n",
    "  linewidth=0.1,\n",
    "  cmap=\"Greens\",\n",
    "  legend=True,\n",
    "  ax=ax\n",
    ")"
   ]
  },
  {
   "cell_type": "markdown",
   "id": "4bf9f153-4b6f-4739-aa3c-8a543a89f0af",
   "metadata": {},
   "source": [
    "This graphic shows the results per SA2 zone, but because they don't line up with the suburbs very well, so we get a lot of missing values."
   ]
  },
  {
   "cell_type": "markdown",
   "id": "e0d9d229-11b9-461b-abdc-6e2e39e2204b",
   "metadata": {},
   "source": [
    "## Question 3"
   ]
  },
  {
   "cell_type": "markdown",
   "id": "9945d6e5",
   "metadata": {},
   "source": [
    "We start off by reading the data. We'll be using the processed dataset with *ptv*, *parks*, *schools*, and *shopping centres* proximity addded. Note that we'll be using the average proximity here"
   ]
  },
  {
   "cell_type": "code",
   "execution_count": 4,
   "id": "f5beeaed",
   "metadata": {},
   "outputs": [],
   "source": [
    "import pandas as pd\n",
    "from pyrosm import OSM, get_data\n",
    "import ssl\n",
    "from scipy.stats import percentileofscore\n",
    "import numpy as np\n",
    "import geopandas as gpd\n",
    "import folium\n",
    "import sys\n",
    "sys.path.append(\"../scripts\")\n",
    "from liveability_helper import median_rent, score\n",
    "\n",
    "property_df = pd.read_csv(\n",
    "    \"/Users/matthewrush/Documents/generic-real-estate-consulting-project-group-32/data/curated/pre_processed_data.csv\",\n",
    "    usecols=[\n",
    "        \"url\",\n",
    "        \"postcode\",\n",
    "        \"school_duration\",\n",
    "        \"school_distance\",\n",
    "        \"park_duration\",\n",
    "        \"park_distance\",\n",
    "        \"shop_duration\",\n",
    "        \"shop_distance\",\n",
    "    ],\n",
    ")\n",
    "\n",
    "postcode_df = pd.read_csv(\n",
    "    \"../data/raw/postcode.csv\",\n",
    "    usecols=[\"postcode\", \"locality\"],\n",
    ")\n",
    "\n",
    "api_df = pd.read_csv(\n",
    "    \"../data/curated/api_data.csv\",\n",
    "    usecols=[\n",
    "        \"url\",\n",
    "        \"train_duration\",\n",
    "        \"train_distance\",\n",
    "        \"stop_duration\",\n",
    "        \"stop_distance\",\n",
    "    ],\n",
    ")\n",
    "\n",
    "historical_df = pd.read_csv(\n",
    "    \"../data/curated/historical_sales.csv\",\n",
    "    usecols=[\"postcode\", \"n_sold\", \"median_rent\"],\n",
    ")\n",
    "\n",
    "property_df = pd.merge(property_df, api_df)\n",
    "property_df = property_df.groupby(\"postcode\").mean().reset_index()\n"
   ]
  },
  {
   "cell_type": "markdown",
   "id": "73b392de",
   "metadata": {},
   "source": [
    "Now we find the median rent of each suburb using the scraped data"
   ]
  },
  {
   "cell_type": "code",
   "execution_count": 5,
   "id": "cc2f093a",
   "metadata": {},
   "outputs": [
    {
     "name": "stderr",
     "output_type": "stream",
     "text": [
      "/Users/matthewrush/Documents/generic-real-estate-consulting-project-group-32/notebooks/../scripts/liveability_helper.py:12: RuntimeWarning: invalid value encountered in double_scalars\n",
      "  weighted_ave = np.nansum([x * y for x, y in zip(n_sold, median)]) / np.nansum(\n"
     ]
    }
   ],
   "source": [
    "property_df[\"median_rent\"] = property_df.apply(\n",
    "    lambda x: median_rent(historical_df, x[\"postcode\"]), axis=1\n",
    ")\n",
    "property_df = property_df.where(pd.notnull(property_df[\"median_rent\"]), 0)\n",
    "\n",
    "property_df = property_df[property_df[\"median_rent\"] != 0]\n"
   ]
  },
  {
   "cell_type": "markdown",
   "id": "5e71507d",
   "metadata": {},
   "source": [
    "Now we find the liveability scores of each suburb.\n",
    "\n",
    "The score is calculated by retrieving the percentile value of each factors of each suburb relative to other suburbs. \n",
    "\n",
    "This means the lower the score, the better. We're giving each factors equal weights here since we don't have evidence that suggest we should weight it otherwise\n",
    "\n",
    "The code is hidden since it is quite long and doesn't do anything too complicated. If interested, please view \n",
    "\n",
    "```\n",
    "/scripts/liveability_helper.py\n",
    "```"
   ]
  },
  {
   "cell_type": "code",
   "execution_count": 6,
   "id": "a29c0200",
   "metadata": {},
   "outputs": [],
   "source": [
    "property_df[\"score\"] = property_df.apply(\n",
    "    lambda x: score(\n",
    "        property_df,\n",
    "        x[\"school_duration\"],\n",
    "        x[\"school_distance\"],\n",
    "        x[\"park_duration\"],\n",
    "        x[\"park_distance\"],\n",
    "        x[\"shop_duration\"],\n",
    "        x[\"shop_distance\"],\n",
    "        x[\"train_duration\"],\n",
    "        x[\"train_distance\"],\n",
    "        x[\"stop_duration\"],\n",
    "        x[\"stop_distance\"],\n",
    "        x[\"median_rent\"],\n",
    "    ),\n",
    "    axis=1,\n",
    ")\n",
    "\n",
    "property_df = property_df.sort_values(\"score\")\n",
    "# property_df.to_csv(\"../data/curated/q3_live.csv\")\n"
   ]
  },
  {
   "cell_type": "markdown",
   "id": "44709fc3",
   "metadata": {},
   "source": [
    "And here we are, the top 5 most liveable suburbs:\n"
   ]
  },
  {
   "cell_type": "code",
   "execution_count": 8,
   "id": "708f5c46",
   "metadata": {},
   "outputs": [
    {
     "data": {
      "text/html": [
       "<div>\n",
       "<style scoped>\n",
       "    .dataframe tbody tr th:only-of-type {\n",
       "        vertical-align: middle;\n",
       "    }\n",
       "\n",
       "    .dataframe tbody tr th {\n",
       "        vertical-align: top;\n",
       "    }\n",
       "\n",
       "    .dataframe thead th {\n",
       "        text-align: right;\n",
       "    }\n",
       "</style>\n",
       "<table border=\"1\" class=\"dataframe\">\n",
       "  <thead>\n",
       "    <tr style=\"text-align: right;\">\n",
       "      <th></th>\n",
       "      <th>postcode</th>\n",
       "      <th>median_rent</th>\n",
       "    </tr>\n",
       "  </thead>\n",
       "  <tbody>\n",
       "    <tr>\n",
       "      <th>2</th>\n",
       "      <td>3003.0</td>\n",
       "      <td>453.409091</td>\n",
       "    </tr>\n",
       "    <tr>\n",
       "      <th>46</th>\n",
       "      <td>3056.0</td>\n",
       "      <td>529.145234</td>\n",
       "    </tr>\n",
       "    <tr>\n",
       "      <th>114</th>\n",
       "      <td>3141.0</td>\n",
       "      <td>555.925926</td>\n",
       "    </tr>\n",
       "    <tr>\n",
       "      <th>48</th>\n",
       "      <td>3058.0</td>\n",
       "      <td>495.157431</td>\n",
       "    </tr>\n",
       "    <tr>\n",
       "      <th>58</th>\n",
       "      <td>3070.0</td>\n",
       "      <td>582.108062</td>\n",
       "    </tr>\n",
       "  </tbody>\n",
       "</table>\n",
       "</div>"
      ],
      "text/plain": [
       "     postcode  median_rent\n",
       "2      3003.0   453.409091\n",
       "46     3056.0   529.145234\n",
       "114    3141.0   555.925926\n",
       "48     3058.0   495.157431\n",
       "58     3070.0   582.108062"
      ]
     },
     "execution_count": 8,
     "metadata": {},
     "output_type": "execute_result"
    }
   ],
   "source": [
    "property_df[[\"postcode\", \"median_rent\"]].head()\n"
   ]
  },
  {
   "cell_type": "markdown",
   "id": "462bb433",
   "metadata": {},
   "source": [
    "Let's do some visualisation now. We can see that the top 5 suburbs fall mostly in inner sububs with good PTV, schools and park areas."
   ]
  },
  {
   "cell_type": "code",
   "execution_count": null,
   "id": "84258fdd",
   "metadata": {},
   "outputs": [],
   "source": [
    "shape = gpd.read_file(\"../data/raw/abs_data/zone_data/SA2_2021_AUST_GDA2020.shp\")\n",
    "shape = shape.loc[shape.STE_NAME21 == \"Victoria\"]\n",
    "shape = shape.loc[shape.geometry != None]\n",
    "shape[\"SA2_CODE21\"] = pd.to_numeric(shape[\"SA2_CODE21\"], errors=\"ignore\")\n",
    "\n",
    "map_data = pd.DataFrame(shape[\"SA2_NAME21\"])\n",
    "map_data[\"liveable\"] = 0\n",
    "\n",
    "map_data.loc[\n",
    "    map_data[\"SA2_NAME21\"].isin(\n",
    "        [\n",
    "            \"Brunswick - South\",\n",
    "            \"West Melbourne - Residential\",\n",
    "            \"South Yarra - North\",\n",
    "            \"Northcote\",\n",
    "            \"Armadale\",\n",
    "        ]\n",
    "    ),\n",
    "    \"liveable\",\n",
    "] = 1\n",
    "\n",
    "\n",
    "gdf = gpd.GeoDataFrame(\n",
    "    shape\n",
    ")\n",
    "\n",
    "geoJSON = gdf[['SA2_NAME21', 'geometry']].set_index('SA2_NAME21').to_json()\n",
    "# geoJSON = gdf[['LocationID', 'geometry', 'zone_x']].drop_duplicates(\n",
    "#     'LocationID').set_index('zone_x').to_json()\n",
    "\n",
    "_map = folium.Map(location=[-37.840935,144.946457],\n",
    "                  tiles=\"cartodbpositron\", zoom_start=11)\n",
    "# refer to the folium documentations on how to plot aggregated data.\n",
    "_map.add_child(folium.Choropleth(\n",
    "    geo_data=geoJSON,\n",
    "    name=\"choropleth\",\n",
    "    data=map_data,\n",
    "    columns=[\"SA2_NAME21\", \"liveable\"],\n",
    "    key_on=\"feature.id\",\n",
    "    fill_opacity=0.7,\n",
    "    line_opacity=.1,\n",
    "    fill_color='Blues',))\n",
    "_map\n",
    "\n",
    "\n",
    "\n"
   ]
  },
  {
   "cell_type": "markdown",
   "id": "cabe189e",
   "metadata": {},
   "source": [
    "To find the most liveable **AND** affordable suburbs, we have to add in a penalising factor in mediant rent. We also add a constant multiplier in the penalising factor as well. This factor is tuned such that a (what we deem) sufficient amount of top suburbs fall around Melbourne median rent.\n",
    "\n",
    "Note that the multiplier should deduct a more expensive suburb's score more than a cheaper suburb's score.\n",
    "\n",
    "Also note that the median rent we're working with is:"
   ]
  },
  {
   "cell_type": "code",
   "execution_count": 12,
   "id": "0e4dd8b2",
   "metadata": {},
   "outputs": [
    {
     "data": {
      "text/plain": [
       "411.3474613273453"
      ]
     },
     "execution_count": 12,
     "metadata": {},
     "output_type": "execute_result"
    }
   ],
   "source": [
    "property_df.median_rent.median()"
   ]
  },
  {
   "cell_type": "code",
   "execution_count": 11,
   "id": "fef2f492",
   "metadata": {},
   "outputs": [
    {
     "data": {
      "text/html": [
       "<div>\n",
       "<style scoped>\n",
       "    .dataframe tbody tr th:only-of-type {\n",
       "        vertical-align: middle;\n",
       "    }\n",
       "\n",
       "    .dataframe tbody tr th {\n",
       "        vertical-align: top;\n",
       "    }\n",
       "\n",
       "    .dataframe thead th {\n",
       "        text-align: right;\n",
       "    }\n",
       "</style>\n",
       "<table border=\"1\" class=\"dataframe\">\n",
       "  <thead>\n",
       "    <tr style=\"text-align: right;\">\n",
       "      <th></th>\n",
       "      <th>postcode</th>\n",
       "      <th>median_rent</th>\n",
       "    </tr>\n",
       "  </thead>\n",
       "  <tbody>\n",
       "    <tr>\n",
       "      <th>2</th>\n",
       "      <td>3003.0</td>\n",
       "      <td>453.409091</td>\n",
       "    </tr>\n",
       "    <tr>\n",
       "      <th>0</th>\n",
       "      <td>3000.0</td>\n",
       "      <td>429.475164</td>\n",
       "    </tr>\n",
       "    <tr>\n",
       "      <th>145</th>\n",
       "      <td>3174.0</td>\n",
       "      <td>369.279346</td>\n",
       "    </tr>\n",
       "    <tr>\n",
       "      <th>6</th>\n",
       "      <td>3011.0</td>\n",
       "      <td>433.937785</td>\n",
       "    </tr>\n",
       "    <tr>\n",
       "      <th>14</th>\n",
       "      <td>3021.0</td>\n",
       "      <td>340.828125</td>\n",
       "    </tr>\n",
       "  </tbody>\n",
       "</table>\n",
       "</div>"
      ],
      "text/plain": [
       "     postcode  median_rent\n",
       "2      3003.0   453.409091\n",
       "0      3000.0   429.475164\n",
       "145    3174.0   369.279346\n",
       "6      3011.0   433.937785\n",
       "14     3021.0   340.828125"
      ]
     },
     "execution_count": 11,
     "metadata": {},
     "output_type": "execute_result"
    }
   ],
   "source": [
    "property_df[\"affordability_score\"] = property_df.apply(\n",
    "    lambda x: score(\n",
    "        property_df,\n",
    "        x[\"school_duration\"],\n",
    "        x[\"school_distance\"],\n",
    "        x[\"park_duration\"],\n",
    "        x[\"park_distance\"],\n",
    "        x[\"shop_duration\"],\n",
    "        x[\"shop_distance\"],\n",
    "        x[\"train_duration\"],\n",
    "        x[\"train_distance\"],\n",
    "        x[\"stop_duration\"],\n",
    "        x[\"stop_distance\"],\n",
    "        x[\"median_rent\"],\n",
    "        affordable=True,\n",
    "    ),\n",
    "    axis=1,\n",
    ")\n",
    "\n",
    "property_df = property_df.sort_values(\"affordability_score\")\n",
    "property_df[[\"postcode\", \"median_rent\"]].head()\n",
    "# property_df.to_csv(\"../data/curated/q3_live_afford.csv\")\n"
   ]
  },
  {
   "cell_type": "markdown",
   "id": "a9f40475",
   "metadata": {},
   "source": [
    "The top 5 median rent is noticably lower across the top 5, besides **West Melbourne** which tops the list. The suburb just does so well with all of our criterias.\n",
    "\n",
    "Let's do some visualisation again"
   ]
  },
  {
   "cell_type": "code",
   "execution_count": null,
   "id": "a1dcdac4",
   "metadata": {},
   "outputs": [],
   "source": [
    "map_data = pd.DataFrame(shape[\"SA2_NAME21\"])\n",
    "map_data[\"liveable\"] = 0\n",
    "map_data.loc[\n",
    "    map_data[\"SA2_NAME21\"].isin(\n",
    "        [\n",
    "            \"Melbourne CBD - West\",\n",
    "            \"Melbourne CBD - East\",\n",
    "            \"West Melbourne - Residential\",\n",
    "            \"Noble Park - East\",\n",
    "            \"Footscray\",\n",
    "            \"St Albans - South\",\n",
    "        ]\n",
    "    ),\n",
    "    \"liveable\",\n",
    "] = 1\n",
    "\n",
    "_map = folium.Map(location=[-37.840935,144.946457],\n",
    "                  tiles=\"cartodbpositron\", zoom_start=11)\n",
    "# refer to the folium documentations on how to plot aggregated data.\n",
    "_map.add_child(folium.Choropleth(\n",
    "    geo_data=geoJSON,\n",
    "    name=\"choropleth\",\n",
    "    data=map_data,\n",
    "    columns=[\"SA2_NAME21\", \"liveable\"],\n",
    "    key_on=\"feature.id\",\n",
    "    fill_opacity=0.7,\n",
    "    line_opacity=.1,\n",
    "    fill_color='Blues',))\n",
    "_map"
   ]
  },
  {
   "cell_type": "markdown",
   "id": "ed2008e9",
   "metadata": {},
   "source": [
    "Noticably some pressure outwards to the outer suburbs. This is the penalising factor in play here.\n",
    "\n",
    "This is a good starting point. We recommend adding more factors - for example crime rates, amenities/nightlife, and potentially traffic data to improve this ranking system. \n",
    "\n",
    "The proximity scores are also based on available properties for rent on domain. To get a better picture of a suburb's profile - consider calculating proximity potentually on a grid-based pattern. This may allow you to get a better understanding of the suburb without having to calculate proximity for every single property (though that is also an option)\n"
   ]
  }
 ],
 "metadata": {
  "kernelspec": {
   "display_name": "Python 3 (ipykernel)",
   "language": "python",
   "name": "python3"
  },
  "language_info": {
   "codemirror_mode": {
    "name": "ipython",
    "version": 3
   },
   "file_extension": ".py",
   "mimetype": "text/x-python",
   "name": "python",
   "nbconvert_exporter": "python",
   "pygments_lexer": "ipython3",
   "version": "3.8.13"
  },
  "vscode": {
   "interpreter": {
    "hash": "9d67bc8a98929733bfed30279eba52948d85bd0c999fdfd91dc6ab54ef3e87c5"
   }
  }
 },
 "nbformat": 4,
 "nbformat_minor": 5
}
