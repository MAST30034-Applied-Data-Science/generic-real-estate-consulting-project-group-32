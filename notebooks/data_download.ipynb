{
 "cells": [
  {
   "cell_type": "markdown",
   "id": "8386bc36-3e4d-4368-84ae-553330373525",
   "metadata": {},
   "source": [
    "# Data Download\n",
    "All datasets that can be downloaded are listed here"
   ]
  },
  {
   "cell_type": "code",
   "execution_count": 1,
   "id": "9dcbd68c-cbd6-4a31-98cb-da48ff800923",
   "metadata": {},
   "outputs": [],
   "source": [
    "import requests\n",
    "\n",
    "DIR_OUTPUT = \"../data/raw/\"\n",
    "\n",
    "POSTCODES = \"https://www.matthewproctor.com/Content/postcodes/australian_postcodes.csv\"\n",
    "\n",
    "\n",
    "def download(url, save_name):\n",
    "    request = requests.get(url)\n",
    "    \n",
    "    with open(f\"{DIR_OUTPUT}{save_name}\", \"wb\") as file:\n",
    "        file.write(request.content)"
   ]
  },
  {
   "cell_type": "code",
   "execution_count": 2,
   "id": "07399aba-ae95-42b0-a7c0-029ee0e0c1f9",
   "metadata": {},
   "outputs": [],
   "source": [
    "download(POSTCODES, \"postcodes.csv\")"
   ]
  },
  {
   "cell_type": "code",
   "execution_count": null,
   "id": "c4252410-ea15-483e-9048-03cc5713a5f4",
   "metadata": {},
   "outputs": [],
   "source": []
  }
 ],
 "metadata": {
  "kernelspec": {
   "display_name": "Python 3 (ipykernel)",
   "language": "python",
   "name": "python3"
  },
  "language_info": {
   "codemirror_mode": {
    "name": "ipython",
    "version": 3
   },
   "file_extension": ".py",
   "mimetype": "text/x-python",
   "name": "python",
   "nbconvert_exporter": "python",
   "pygments_lexer": "ipython3",
   "version": "3.8.13"
  }
 },
 "nbformat": 4,
 "nbformat_minor": 5
}
