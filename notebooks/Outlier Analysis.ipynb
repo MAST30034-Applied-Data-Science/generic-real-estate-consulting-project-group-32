{
 "cells": [
  {
   "cell_type": "code",
   "execution_count": null,
   "id": "8fd1a9fe-f018-41a2-8060-da1f847404e2",
   "metadata": {},
   "outputs": [],
   "source": [
    "import seaborn as sns\n",
    "\n",
    "raw_df = raw_df = pd.read_json(\"../data/raw/scrape_2022-08-31_07-50-15-714711.json\")\n"
   ]
  }
 ],
 "metadata": {
  "kernelspec": {
   "display_name": "Python 3 (ipykernel)",
   "language": "python",
   "name": "python3"
  },
  "language_info": {
   "codemirror_mode": {
    "name": "ipython",
    "version": 3
   },
   "file_extension": ".py",
   "mimetype": "text/x-python",
   "name": "python",
   "nbconvert_exporter": "python",
   "pygments_lexer": "ipython3",
   "version": "3.8.13"
  }
 },
 "nbformat": 4,
 "nbformat_minor": 5
}
